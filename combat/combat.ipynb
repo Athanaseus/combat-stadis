{
 "cells": [
  {
   "cell_type": "markdown",
   "metadata": {
    "extensions": {
     "jupyter_dashboards": {
      "version": 1,
      "views": {
       "grid_default": {},
       "report_default": {
        "hidden": false
       }
      }
     }
    }
   },
   "source": [
    "<img src='https://user-images.githubusercontent.com/16665629/36117115-329c6220-1041-11e8-98d3-7cd1ce05503c.jpeg'\n",
    "style=\"float:right;margin:0 10px 0px 0;width: 150px;\">\n",
    "\n",
    "# Compare observed and theoretical statistical distributions"
   ]
  },
  {
   "cell_type": "code",
   "execution_count": null,
   "metadata": {
    "extensions": {
     "jupyter_dashboards": {
      "version": 1,
      "views": {
       "grid_default": {},
       "report_default": {
        "hidden": true
       }
      }
     }
    }
   },
   "outputs": [],
   "source": [
    "models_compare = {\n",
    "                    'skymodel1.txt': 'pybdsm-meerkat_SourceRecovery-casa.lsm.html',\n",
    "                    'skymodel2.txt': 'pybdsm-meerkat_SourceRecovery-ddfacet.lsm.html',\n",
    "                    'skymodel3.txt': 'pybdsm-meerkat_SourceRecovery-lwimager.lsm.html',\n",
    "                    'skymodel4.txt': 'pybdsm-meerkat_SourceRecovery-tclean.lsm.html',\n",
    "                    'skymodel5.txt': 'pybdsm-meerkat_SourceRecovery-wsclean.lsm.html',\n",
    "                 }\n",
    "models_dr = {\n",
    "            'pybdsm-meerkat_SourceRecovery-lwimager.lsm.html': 'meerkat_SourceRecovery_lwimager-cube.residual.fits',\n",
    "            'pybdsm-meerkat_SourceRecovery-wsclean.lsm.html': 'meerkat_SourceRecovery_wsclean-cube.residual.fits',\n",
    "            'pybdsm-meerkat_SourceRecovery-ddfacet.lsm.html': 'meerkat_SourceRecovery_ddfacet-cube.residual.fits',\n",
    "            'pybdsm-meerkat_SourceRecovery-tclean.lsm.html': 'meerkat_SourceRecovery_tclean-cube.residual.fits',\n",
    "            'pybdsm-meerkat_SourceRecovery-casa.lsm.html': 'meerkat_SourceRecovery_casa-cube.residual.fits',\n",
    "            }\n",
    "RESIDUALS = [\n",
    "             'meerkat_SourceRecovery_lwimager-cube.residual.fits',\n",
    "             'meerkat_SourceRecovery_wsclean-cube.residual.fits',\n",
    "             'meerkat_SourceRecovery_ddfacet-cube.residual.fits',\n",
    "             'meerkat_SourceRecovery_tclean-cube.residual.fits',\n",
    "             'meerkat_SourceRecovery_casa-cube.residual.fits',\n",
    "            ]\n",
    "res_noise_images = {'model': 'skymodel1.txt',\n",
    "                    'meerkat_SourceRecovery_lwimager-cube.residual.fits': 'lwimager_noise.dirty.fits',\n",
    "                    'meerkat_SourceRecovery_wsclean-cube.residual.fits': 'wsclean_noise-MFS-image.fits',\n",
    "                    'meerkat_SourceRecovery_ddfacet-cube.residual.fits': 'ddfacet_noise.app.restored.fits',\n",
    "                    'meerkat_SourceRecovery_tclean-cube.residual.fits': 'tclean_noise.image.dirty.fits',\n",
    "                    'meerkat_SourceRecovery_casa-cube.residual.fits': 'casa_noise.dirty.fits',\n",
    "                    }\n",
    "#tolerance = 0.00002 # area factor around the source\n",
    "#tolerance = 0.0001 # extended\n",
    "tolerance = 0.00001 # point"
   ]
  },
  {
   "cell_type": "code",
   "execution_count": null,
   "metadata": {
    "extensions": {
     "jupyter_dashboards": {
      "version": 1,
      "views": {
       "grid_default": {},
       "report_default": {
        "hidden": false
       }
      }
     }
    },
    "format": "row"
   },
   "outputs": [],
   "source": [
    "from ipywidgets import widgets, interact\n",
    "from IPython.display import Javascript, display\n",
    "from IPython.display import HTML\n",
    "\n",
    "def run_all(ev):\n",
    "    # Runn all cells\n",
    "    display(Javascript('IPython.notebook.execute_cell_range(IPython.notebook.get_selected_index()+1,'\n",
    "                       'IPython.notebook.get_selected_index()+5)'))\n",
    "\n",
    "directory = widgets.Text(\n",
    "    value='input',\n",
    "    placeholder='input',\n",
    "    description='Input directory:',\n",
    "    disabled=False\n",
    ")\n",
    "\n",
    "button = widgets.Button(description=\"Configure\")\n",
    "button.on_click(run_all)\n",
    "display(button)\n",
    "display(directory)\n",
    "\n",
    "HTML('''<script>\n",
    "code_show=true; \n",
    "function code_toggle() {\n",
    " if (code_show){\n",
    " $('div.input').hide();\n",
    " } else {\n",
    " $('div.input').show();\n",
    " }\n",
    " code_show = !code_show\n",
    "} $( document ).ready(code_toggle);\n",
    "</script>\n",
    "<form action=\"javascript:code_toggle()\"><input type=\"submit\"\n",
    "value=\"Click here to toggle on/off the raw code.\"></form>''')"
   ]
  },
  {
   "cell_type": "code",
   "execution_count": null,
   "metadata": {
    "extensions": {
     "jupyter_dashboards": {
      "version": 1,
      "views": {
       "grid_default": {},
       "report_default": {
        "hidden": false
       }
      }
     }
    }
   },
   "outputs": [],
   "source": [
    "import glob\n",
    "import combat\n",
    "import matplotlib\n",
    "import numpy as np\n",
    "from plotly import tools\n",
    "from tabletext import to_text\n",
    "import plotly.graph_objs as go\n",
    "from plotly import offline as py\n",
    "from collections import OrderedDict\n",
    "from scipy.stats import norm, linregress\n",
    "from sklearn.metrics import r2_score, mean_squared_error\n",
    "from plotly.graph_objs import Layout, Figure, XAxis, YAxis\n",
    "from aimfast.aimfast import residual_image_stats, image_dynamic_range, model_dynamic_range#, get_json_dict\n",
    "py.init_notebook_mode(connected=True)"
   ]
  },
  {
   "cell_type": "code",
   "execution_count": null,
   "metadata": {
    "extensions": {
     "jupyter_dashboards": {
      "version": 1,
      "views": {
       "grid_default": {},
       "report_default": {
        "hidden": false
       }
      }
     }
    }
   },
   "outputs": [],
   "source": [
    "reload(combat)\n",
    "unit_scaler = 1000\n",
    "ARCSEC_DEG = 1.0/(60*60)\n",
    "results = combat.property_results(models=models_compare, tolerance=tolerance, input=directory.value)\n",
    "PLOTS = len(models_compare)\n",
    "PLOT_NUM = { 'colorbar': \n",
    "            {   #num of plots: [colorbar spacing, colorbar y, colorbar len]\n",
    "                1: [0.90, 0, 0],\n",
    "                2: [0.59, 0.78, 0.4],\n",
    "                3: [0.41, 0.81, 0.34],\n",
    "                4: [0.28, 0.86, 0.31],\n",
    "                5: [0.207, 0.93, 0.2]\n",
    "            }\n",
    "           }"
   ]
  },
  {
   "cell_type": "code",
   "execution_count": null,
   "metadata": {
    "extensions": {
     "jupyter_dashboards": {
      "version": 1,
      "views": {
       "grid_default": {},
       "report_default": {
        "hidden": true
       }
      }
     }
    }
   },
   "outputs": [],
   "source": [
    "def run_all(ev):\n",
    "    # Runn all cells\n",
    "    display(Javascript('IPython.notebook.execute_cell_range(IPython.notebook.get_selected_index()+1,'\n",
    "                       'IPython.notebook.get_selected_index()+31)'))\n",
    "\n",
    "button = widgets.Button(\n",
    "    description=\"PLOT\"\n",
    ")\n",
    "button.on_click(run_all)\n",
    "_scaley = widgets.Checkbox(\n",
    "    value=False,\n",
    "    description='Same Y-scale',\n",
    "    disabled=False\n",
    ")\n",
    "_scalex = widgets.Checkbox(\n",
    "    value=False,\n",
    "    description='Same X-scale',\n",
    "    disabled=False\n",
    ")\n",
    "data_range = widgets.IntSlider(\n",
    "    value=100,\n",
    "    min=1,\n",
    "    max=100,\n",
    "    step=1,\n",
    "    description='Bin by flux(%):',\n",
    "    disabled=False,\n",
    "    continuous_update=False,\n",
    "    orientation='horizontal',\n",
    "    readout=True,\n",
    "    readout_format='d'\n",
    ")"
   ]
  },
  {
   "cell_type": "code",
   "execution_count": null,
   "metadata": {
    "extensions": {
     "jupyter_dashboards": {
      "version": 1,
      "views": {
       "grid_default": {},
       "report_default": {
        "hidden": false
       }
      }
     }
    }
   },
   "outputs": [],
   "source": [
    "display(button)\n",
    "display(_scaley)\n",
    "display(_scalex)\n",
    "display(data_range)"
   ]
  },
  {
   "cell_type": "code",
   "execution_count": null,
   "metadata": {},
   "outputs": [],
   "source": [
    "display(HTML(\n",
    "    '<script>'\n",
    "        'var waitForPlotly = setInterval( function() {'\n",
    "            'if( typeof(window.Plotly) !== \"undefined\" ){'\n",
    "                'MathJax.Hub.Config({ SVG: { font: \"STIX-Web\" }, displayAlign: \"center\" });'\n",
    "                'MathJax.Hub.Queue([\"setRenderer\", MathJax.Hub, \"SVG\"]);'\n",
    "                'clearInterval(waitForPlotly);'\n",
    "            '}}, 250 );'\n",
    "    '</script>'\n",
    "))"
   ]
  },
  {
   "cell_type": "markdown",
   "metadata": {
    "extensions": {
     "jupyter_dashboards": {
      "version": 1,
      "views": {
       "grid_default": {},
       "report_default": {
        "hidden": false
       }
      }
     }
    }
   },
   "source": [
    "## Photometric Measurements"
   ]
  },
  {
   "cell_type": "code",
   "execution_count": null,
   "metadata": {
    "extensions": {
     "jupyter_dashboards": {
      "version": 1,
      "views": {
       "grid_default": {},
       "report_default": {
        "hidden": false
       }
      }
     }
    }
   },
   "outputs": [],
   "source": [
    "table_data = [[\"Imager\", \"Slope\", \"R2-score\", \"RMS Error (mJy)\", \"Intercept (mJy)\"]]\n",
    "bg_color = 'rgb(229,229,229)'\n",
    "bg_color = ''\n",
    "counter = 0\n",
    "flux_im = dict()\n",
    "I_min_max = []\n",
    "err_I_min_max = []\n",
    "for input_model, output_model in sorted(models_compare.items()):\n",
    "    counter+=1\n",
    "    name_labels = []\n",
    "    flux_in_data = []\n",
    "    flux_out_data = []\n",
    "    source_scale = []\n",
    "    phase_center_dist = []\n",
    "    flux_out_err_data = []\n",
    "    heading = output_model[:-9]\n",
    "    for n in range(len(results[heading]['flux'])):\n",
    "        flux_out_data.append(results[heading]['flux'][n][0])\n",
    "        flux_out_err_data.append(results[heading]['flux'][n][1])\n",
    "        flux_in_data.append(results[heading]['flux'][n][2])\n",
    "        name_labels.append(results[heading]['flux'][n][3])\n",
    "        phase_center_dist.append(results[heading]['position'][n][-3])\n",
    "        source_scale.append(results[heading]['shape'][n][3])\n",
    "    zipped_props = zip(flux_out_data, flux_out_err_data, flux_in_data, name_labels, phase_center_dist, source_scale)\n",
    "    flux_out_data, flux_out_err_data, flux_in_data, name_labels, phase_center_dist, source_scale = zip(\n",
    "        *sorted(zipped_props, key=lambda x: x[0]))\n",
    "    I_min_max += flux_out_data\n",
    "    err_I_min_max += flux_out_err_data\n",
    "    flux_MSE = mean_squared_error(flux_in_data, flux_out_data)\n",
    "    reg = linregress(flux_in_data, flux_out_data)\n",
    "    flux_R_score = reg.rvalue\n",
    "    I_out_in = [float(I_out)/I_in for I_out,I_in in zip(flux_out_data,flux_in_data)]\n",
    "    table_data.append([heading.split('-')[-1].upper(), \"{:.4f}\".format(reg.slope),\n",
    "                       \"{:.4f}\".format(flux_R_score),\n",
    "                       \" {:.4f}\".format(np.sqrt(flux_MSE)*unit_scaler),\n",
    "                       \"{:.4f}\".format(reg.intercept*unit_scaler)])\n",
    "    counter += 1\n",
    "print(to_text(table_data))\n",
    "matplotlib.pylab.close()"
   ]
  },
  {
   "cell_type": "code",
   "execution_count": null,
   "metadata": {
    "extensions": {
     "jupyter_dashboards": {
      "version": 1,
      "views": {
       "grid_default": {},
       "report_default": {
        "hidden": false
       }
      }
     }
    },
    "scrolled": false
   },
   "outputs": [],
   "source": [
    "data = []\n",
    "im_titles =[]\n",
    "flux_im = dict()\n",
    "for input_model, output_model in sorted(models_compare.items()):\n",
    "    header = output_model[:-9]\n",
    "    #im_titles.append('<b>{:s} flux density</b>'.format(header.upper()))\n",
    "\n",
    "fig = tools.make_subplots(rows=len(models_compare.keys()), cols=1, shared_yaxes=False, print_grid=False,\n",
    "                          vertical_spacing=0.06, subplot_titles=sorted(im_titles))\n",
    "j = 0\n",
    "i = -1\n",
    "counter = 0\n",
    "flux_im = dict()\n",
    "I_min_max = []\n",
    "err_I_min_max = []\n",
    "annotate = []\n",
    "for input_model, output_model in sorted(models_compare.items()):\n",
    "    i += 1\n",
    "    counter += 1\n",
    "    name_labels = []\n",
    "    flux_in_data = []\n",
    "    flux_out_data = []\n",
    "    source_scale = []\n",
    "    phase_center_dist = []\n",
    "    flux_out_err_data = []\n",
    "    heading = output_model[:-9]\n",
    "    for n in range(len(results[heading]['flux'])):\n",
    "        flux_out_data.append(results[heading]['flux'][n][0])\n",
    "        flux_out_err_data.append(results[heading]['flux'][n][1])\n",
    "        flux_in_data.append(results[heading]['flux'][n][2])\n",
    "        name_labels.append(results[heading]['flux'][n][3])\n",
    "        phase_center_dist.append(results[heading]['position'][n][-3])\n",
    "        source_scale.append(results[heading]['shape'][n][3])\n",
    "    zipped_props = zip(flux_out_data, flux_out_err_data, flux_in_data, name_labels, phase_center_dist, source_scale)\n",
    "    flux_out_data, flux_out_err_data, flux_in_data, name_labels, phase_center_dist, source_scale = zip(\n",
    "        *sorted(zipped_props, key=lambda x: x[0]))\n",
    "    flux_MSE = mean_squared_error(flux_in_data, flux_out_data)\n",
    "    reg = linregress(flux_in_data, flux_out_data)\n",
    "    flux_R_score = reg.rvalue\n",
    "    I_out_in = [float(I_out)/I_in for I_out,I_in in zip(flux_out_data,flux_in_data)]\n",
    "    annotate.append(go.Annotation(\n",
    "            x=0.0012*unit_scaler,\n",
    "            y=flux_in_data[-1]*unit_scaler + 0.0005*unit_scaler,\n",
    "            xref='x{:d}'.format(counter),\n",
    "            yref='y{:d}'.format(counter),\n",
    "            text=\"Slope: {:.4f} | Intercept: {:.4f} | RMS Error: {:.4f} | R2: {:.4f} \".format(\n",
    "                reg.slope, reg.intercept*unit_scaler, np.sqrt(flux_MSE)*unit_scaler, flux_R_score),\n",
    "            ax=0,\n",
    "            ay=-40,\n",
    "            showarrow=False,\n",
    "            bordercolor='#c7c7c7',\n",
    "            borderwidth=2,\n",
    "            font=dict(color=\"black\", size=12.5),\n",
    "        ))\n",
    "    fig.append_trace(go.Scatter(x=np.array([sorted(flux_in_data)[0], sorted(flux_in_data)[-1]])*unit_scaler,\n",
    "                                showlegend=False,\n",
    "                                marker = dict(color = 'rgb(0,0,255)'),\n",
    "                                y=np.array([sorted(flux_in_data)[0], sorted(flux_in_data)[-1]])*unit_scaler,\n",
    "                                mode = 'line'), i+1, 1)\n",
    "    fig.append_trace(go.Scatter(x=np.array(flux_in_data)*unit_scaler, y=np.array(flux_out_data)*unit_scaler,\n",
    "                                mode = 'markers', showlegend=False,\n",
    "                                text = name_labels, name = '%s flux_ratio' % heading,\n",
    "                                marker = dict(color = phase_center_dist, showscale=True, colorscale='Jet',\n",
    "                                              reversescale=False,\n",
    "                                              colorbar = dict(title='Distance from phase center (arcsec)',\n",
    "                                                              titleside ='right', titlefont=dict(size=16.5),\n",
    "                                                              len=0.15, y=0.91-j)\n",
    "                                             ),\n",
    "                                error_y=dict(type='data', array=np.array(flux_out_err_data)*unit_scaler,\n",
    "                                             color = 'rgb(158, 63, 221)', visible=True)), i+1, 1)\n",
    "    fig['layout'].update(title='', height=2000, width=600,\n",
    "                     #    paper_bgcolor='rgb(255,255,255)', plot_bgcolor=bg_color,\n",
    "                         legend=dict(x=0.8,y=1.0),)\n",
    "    fig['layout'].update(\n",
    "        {'yaxis{}'.format(counter):YAxis(title=u'$I_{out} (mJy)$',gridcolor='rgb(255,255,255)',\n",
    "        #range=[1,10],\n",
    "        tickfont=dict(size=15),\n",
    "        titlefont=dict(size=19),\n",
    "        showgrid=True,\n",
    "        showline=True,\n",
    "        showticklabels=True,\n",
    "        tickcolor='rgb(51,153,225)',\n",
    "        ticks='outside',\n",
    "        zeroline=False)})\n",
    "    fig['layout'].update({'xaxis{}'.format(counter):XAxis(title=u'$I_{in} (mJy)$', #position=0.5,\n",
    "                                                            titlefont=dict(size=19),\n",
    "                                                            showgrid=True,\n",
    "                                                            showline=True,\n",
    "                                                            overlaying='x')})\n",
    "    if counter == len(models_compare.keys()):\n",
    "        fig['layout']['annotations'].extend(annotate)\n",
    "    j+=PLOT_NUM['colorbar'][PLOTS][0]\n",
    "py.iplot(fig, filename='make-subplots-multiple-with-titles')"
   ]
  },
  {
   "cell_type": "markdown",
   "metadata": {
    "extensions": {
     "jupyter_dashboards": {
      "version": 1,
      "views": {
       "grid_default": {},
       "report_default": {
        "hidden": false
       }
      }
     }
    }
   },
   "source": [
    "## Astrometric Measurements"
   ]
  },
  {
   "cell_type": "code",
   "execution_count": null,
   "metadata": {
    "extensions": {
     "jupyter_dashboards": {
      "version": 1,
      "views": {
       "grid_default": {},
       "report_default": {
        "hidden": false
       }
      }
     }
    }
   },
   "outputs": [],
   "source": [
    "table_data = [[\"Imager\", \"RA mean\", \"DEC mean\", \"RA sigma\", \"DEC sigma\", \"Sources\",\n",
    "               \"1-sigma\", \"2-sigma\", \"3-sigma\", \"Outliers\"]]\n",
    "counter = 0\n",
    "pos_min_max = []\n",
    "DEC_off_min_max = []\n",
    "RA_off_min_max = []\n",
    "for input_model, output_model in sorted(models_compare.items()):\n",
    "    counter+=1\n",
    "    RA_offset = []\n",
    "    DEC_offset = []\n",
    "    DELTA_PHASE0 = []\n",
    "    source_labels = []\n",
    "    flux_in_data = []\n",
    "    delta_pos_data = []\n",
    "    recovered_sources = 0\n",
    "    one_sigma_sources = 0\n",
    "    two_sigma_sources = 0\n",
    "    three_sigma_sources = 0\n",
    "    rest_of_sources = 0\n",
    "    heading = output_model[:-9]\n",
    "    for n in range(len(results[heading]['flux'])):\n",
    "        delta_pos_data.append(results[heading]['position'][n][0])\n",
    "        RA_offset.append(results[heading]['position'][n][1])\n",
    "        DEC_offset.append(results[heading]['position'][n][2])\n",
    "        DELTA_PHASE0.append(results[heading]['position'][n][3])\n",
    "        flux_in_data.append(results[heading]['position'][n][4])\n",
    "        source_labels.append(results[heading]['position'][n][5])\n",
    "    zipped_props = zip(delta_pos_data, RA_offset, DEC_offset, DELTA_PHASE0, flux_in_data, source_labels)\n",
    "    delta_pos_data, RA_offset, DEC_offset, DELTA_PHASE0, flux_in_data, source_labels = zip(\n",
    "        *sorted(zipped_props, key=lambda x: x[0]))\n",
    "   \n",
    "    RA_mean = np.mean(RA_offset)\n",
    "    DEC_mean = np.mean(DEC_offset)\n",
    "    r1, r2 = np.array(RA_offset).std(), np.array(DEC_offset).std()\n",
    "    pi, cos, sin = np.pi, np.cos, np.sin\n",
    "    theta = np.linspace(0,2*pi,len(DEC_offset))\n",
    "    x1 = RA_mean+(r1*cos(theta))\n",
    "    y1 = DEC_mean+(r2*sin(theta))\n",
    "    x2 = RA_mean+(2*r1*cos(theta))\n",
    "    y2 = DEC_mean+(2*r2*sin(theta))\n",
    "    x3 = RA_mean+(3*r1*cos(theta))\n",
    "    y3 = DEC_mean+(3*r2*sin(theta))\n",
    "#    x2 = 2*RA_mean+(2*r1*cos(theta))\n",
    "#    y2 = 2*DEC_mean+(2*r2*sin(theta))\n",
    "#    x3 = 3*RA_mean+(3*r1*cos(theta))\n",
    "#    y3 = 3*DEC_mean+(3*r2*sin(theta))\n",
    "    recovered_sources = len(DEC_offset)\n",
    "    one_sigma_sources = len([(ra_off, dec_off) for ra_off, dec_off in zip(RA_offset, DEC_offset)\n",
    "                          if abs(ra_off) <= max(abs(x1)) and abs(dec_off) <= max(abs(y1))])\n",
    "    two_sigma_sources = len([(ra_off, dec_off) for ra_off, dec_off in zip(RA_offset, DEC_offset)\n",
    "                             if abs(ra_off) <= max(abs(x2)) and abs(dec_off) <= max(abs(y2))])\n",
    "    two_sigma_sources = two_sigma_sources - one_sigma_sources\n",
    "    three_sigma_sources = len([(ra_off, dec_off) for ra_off, dec_off in zip(RA_offset, DEC_offset)\n",
    "                               if abs(ra_off) <= max(abs(x3)) and abs(dec_off) <= max(abs(y3))])\n",
    "    three_sigma_sources = three_sigma_sources - (two_sigma_sources + one_sigma_sources)\n",
    "    rest_of_sources = len([(ra_off, dec_off) for ra_off, dec_off in zip(RA_offset, DEC_offset)\n",
    "                           if abs(ra_off) > max(abs(x3)) or abs(dec_off) > max(abs(y3))])\n",
    "                      #     if all(abs(ra_off) > abs(x) for x in x3) or all(abs(dec_off) > abs(y) for y in y3)])\n",
    "    table_data.append([heading.split('-')[-1].upper(), \"{:.4f}\".format(RA_mean), \"{:.4f}\".format(DEC_mean),\n",
    "                       \"{:.4f}\".format(r1), \"{:.4f}\".format(r2), recovered_sources,\n",
    "                       one_sigma_sources, two_sigma_sources, three_sigma_sources, rest_of_sources])\n",
    "print(to_text(table_data))"
   ]
  },
  {
   "cell_type": "code",
   "execution_count": null,
   "metadata": {
    "extensions": {
     "jupyter_dashboards": {
      "version": 1,
      "views": {
       "grid_default": {},
       "report_default": {
        "hidden": false
       }
      }
     }
    },
    "scrolled": false
   },
   "outputs": [],
   "source": [
    "data = []\n",
    "im_titles =[]\n",
    "for input_model, output_model in sorted(models_compare.items()):\n",
    "    header = output_model[:-9]\n",
    " #   im_titles.append('<b>{:s} Position</b>'.format(header.upper()))\n",
    " #   im_titles.append('<b>{:s} Position</b>'.format(header.upper()))\n",
    "\n",
    "fig = tools.make_subplots(rows=len(models_compare.keys()), cols=2, shared_yaxes=False, print_grid=False,\n",
    "                          horizontal_spacing = 0.25,\n",
    "                          vertical_spacing = 0.05,\n",
    "                          subplot_titles=sorted(im_titles))\n",
    "j = 0\n",
    "i = -1\n",
    "counter = 0\n",
    "for input_model, output_model in sorted(models_compare.items()):\n",
    "    i += 1\n",
    "    counter+=1\n",
    "    RA_offset = []\n",
    "    DEC_offset = []\n",
    "    DELTA_PHASE0 = []\n",
    "    source_labels = []\n",
    "    flux_in_data = []\n",
    "    delta_pos_data = []\n",
    "    heading = output_model[:-9]\n",
    "    for n in range(len(results[heading]['flux'])):\n",
    "        delta_pos_data.append(results[heading]['position'][n][0])\n",
    "        RA_offset.append(results[heading]['position'][n][1])\n",
    "        DEC_offset.append(results[heading]['position'][n][2])\n",
    "        DELTA_PHASE0.append(results[heading]['position'][n][3])\n",
    "        flux_in_data.append(results[heading]['position'][n][4])\n",
    "        source_labels.append(results[heading]['position'][n][5])\n",
    "    zipped_props = zip(delta_pos_data, RA_offset, DEC_offset, DELTA_PHASE0, flux_in_data, source_labels)\n",
    "    delta_pos_data, RA_offset, DEC_offset, DELTA_PHASE0, flux_in_data, source_labels = zip(\n",
    "        *sorted(zipped_props, key=lambda x: x[-2]))\n",
    "    fig.append_trace(go.Scatter(x=np.array(flux_in_data)*unit_scaler, y=np.array(delta_pos_data),\n",
    "                                mode = 'markers', showlegend=False,\n",
    "                                text = source_labels, name = '{:s} flux_ratio'.format(header),\n",
    "                                marker = dict(color = DELTA_PHASE0, showscale=True,\n",
    "                                              colorscale='Jet', reversescale=True,\n",
    "                                              colorbar = dict(title='Phase center dist (arcsec)',\n",
    "                                                              titleside ='right',\n",
    "                                                              len=PLOT_NUM['colorbar'][PLOTS][2],\n",
    "                                                              y=PLOT_NUM['colorbar'][PLOTS][1]-j,\n",
    "                                                              x=0.39)\n",
    "                                             ),\n",
    "                                error_y=dict(type='data', #array=flux_out_err_data,\n",
    "                                             color = 'rgb(158, 63, 221)', visible=True)), i+1, 1)\n",
    "    fig.append_trace(go.Scatter(x=np.array(RA_offset), y=np.array(DEC_offset),\n",
    "                                mode = 'markers', showlegend=False,\n",
    "                                text = source_labels, name = '{:s} flux_ratio'.format(heading),\n",
    "                                marker = dict(color = np.array(flux_out_data)*unit_scaler, showscale=True,\n",
    "                                              colorscale='Viridis',\n",
    "                                              reversescale=True,\n",
    "                                              colorbar = dict(title='Output flux (mJy)',\n",
    "                                                              titleside ='right',\n",
    "                                                              len=PLOT_NUM['colorbar'][PLOTS][2],\n",
    "                                                              y=PLOT_NUM['colorbar'][PLOTS][1]-j)\n",
    "                                             ),\n",
    "                                error_y=dict(type='data',\n",
    "                                             color = 'rgb(158, 63, 221)', visible=True)), i+1, 2)\n",
    "    RA_mean = np.mean(RA_offset)\n",
    "    DEC_mean = np.mean(DEC_offset)\n",
    "    r1, r2 = np.array(RA_offset).std(), np.array(DEC_offset).std()\n",
    "    pi, cos, sin = np.pi, np.cos, np.sin\n",
    "    theta = np.linspace(0,2*pi,len(DEC_offset))\n",
    "    x1 = RA_mean+(r1*cos(theta))\n",
    "    y1 = DEC_mean+(r2*sin(theta))\n",
    "    x2 = RA_mean+(2*r1*cos(theta))\n",
    "    y2 = DEC_mean+(2*r2*sin(theta))\n",
    "    x3 = RA_mean+(3*r1*cos(theta))\n",
    "    y3 = DEC_mean+(3*r2*sin(theta))\n",
    "    fig.append_trace(go.Scatter(x=x1, y=y1,\n",
    "                                mode = 'lines', showlegend=False,#True if i == 0 else False,\n",
    "                                name = '1σ',\n",
    "                                text = '1σ ~ {:f}'.format(np.sqrt(r1*r2)),\n",
    "                                marker = dict(color = 'rgb(0, 0, 255)')), i+1, 2)\n",
    "#    fig.append_trace(go.Scatter(x=x2, y=y2,\n",
    "#                                mode = 'lines', showlegend=True if i == 0 else False,\n",
    "#                                name = '2σ',\n",
    "#                                text = '2σ ~ {:f}'.format(2*np.sqrt(r1*r2)),\n",
    "#                                marker = dict(color = 'rgb(255, 0, 0)')), i+1, 2)\n",
    "#    fig.append_trace(go.Scatter(x=x3, y=y3,\n",
    "#                                mode = 'lines', showlegend=True if i == 0 else False,\n",
    "#                                name = '3σ',\n",
    "#                                text = '3σ ~ {:f}'.format(3*np.sqrt(r1*r2)),\n",
    "#                                marker = dict(color = 'rgb(255, 255, 0)')), i+1, 2)\n",
    "    fig['layout'].update(title='', height=1700, width=800,\n",
    "                         paper_bgcolor='rgb(255,255,255)', plot_bgcolor=bg_color,\n",
    "                         legend=dict(xanchor=True, x=1.2,y=1)\n",
    "                        )\n",
    "    fig['layout'].update(\n",
    "        {'yaxis{}'.format(counter+i):YAxis(title=u'Delta position [arcsec]',gridcolor='rgb(255,255,255)',\n",
    "                                           color='rgb(0,0,0)',\n",
    "        #                                   range=axis_min_max if _scaley.value else [],\n",
    "        # range=[-0.1,3.7], # extended\n",
    "        range=[-0.1,0.73], # point\n",
    "        tickfont=dict(size=14, color='rgb(0,0,0)'),\n",
    "        titlefont=dict(size=15),\n",
    "        showgrid=True,\n",
    "        showline=True,\n",
    "        showticklabels=True,\n",
    "        tickcolor='rgb(51,153,225)',\n",
    "        ticks='outside',\n",
    "        zeroline=True)})\n",
    "    fig['layout'].update(\n",
    "        {'yaxis{}'.format(counter+i+1):YAxis(title='Dec offset [arcsec]',gridcolor='rgb(255,255,255)',\n",
    "                                             color='rgb(0,0,0)',\n",
    "        #                                     range=dec_min_max if _scaley.value else [],\n",
    "        #  # range=[-0.1,3.7], # extended\n",
    "        range=[-0.1,0.7], # point\n",
    "        tickfont=dict(size=10, color='rgb(0,0,0)'),\n",
    "        titlefont=dict(size=17),\n",
    "        showgrid=True,\n",
    "        showline=True,\n",
    "        showticklabels=True,\n",
    "        tickcolor='rgb(51,153,225)',\n",
    "        ticks='outside',\n",
    "        zeroline=True)})\n",
    "    fig['layout'].update({'xaxis{}'.format(counter+i):XAxis(title=u'$I_{in}$ (mJy)',\n",
    "                                                            titlefont=dict(size=17),\n",
    "                                                            zeroline=True, position=0.0, overlaying='x',)})\n",
    "    fig['layout'].update({'xaxis{}'.format(counter+i+1):XAxis(title='RA offset [arcsec]',\n",
    "                                                              titlefont=dict(size=17),\n",
    "                                                              #range=ra_min_max if _scalex.value else [],\n",
    "                                                              #range=[-1.5, 3.2],\n",
    "                                                              range=[-0.1, 0.4],\n",
    "                                                              zeroline=False)})#domain=[0.505, 0.8])})\n",
    "    fig['layout']['annotations'].update({ 'font':{'size': 10}})\n",
    "    j+=PLOT_NUM['colorbar'][PLOTS][0]\n",
    "py.iplot(fig, filename='make-subplots-multiple-with-titles')"
   ]
  },
  {
   "cell_type": "markdown",
   "metadata": {
    "extensions": {
     "jupyter_dashboards": {
      "version": 1,
      "views": {
       "grid_default": {},
       "report_default": {
        "hidden": false
       }
      }
     }
    }
   },
   "source": [
    "## Morphological Measurements"
   ]
  },
  {
   "cell_type": "code",
   "execution_count": null,
   "metadata": {},
   "outputs": [],
   "source": [
    "maj_table_data = [[\"Major-Axis / Imager\", \"Gradient\", \"R-sqaured\", \"RMS Error (arcsec)\", \"Intercept (arcsec)\", \"Unresolved\"]]\n",
    "min_table_data = [[\"Minor-Axis / Imager\", \"Gradient\", \"R-sqaured\", \"RMS Error (arcsec)\", \"Intercept (arcsec)\", \"Unresolved\"]]\n",
    "j = 0\n",
    "i = -1\n",
    "counter = 0\n",
    "for input_model, output_model in sorted(models_compare.items()):\n",
    "    i += 1\n",
    "    counter+=1\n",
    "    SCALE = []\n",
    "    SCALE_ERR = []\n",
    "    flux_in_data = []\n",
    "    DELTA_PHASE0 = []\n",
    "    source_labels = []\n",
    "    MAJ_MIN_angle_in = []\n",
    "    MAJ_MIN_angle_out = []\n",
    "    unresolved = []\n",
    "    heading = output_model[:-9]\n",
    "    for n in range(len(results[heading]['flux'])):\n",
    "        if results[heading]['shape'][n][0][0] != 0.0:\n",
    "            MAJ_MIN_angle_out.append(results[heading]['shape'][n][0])\n",
    "            MAJ_MIN_angle_in.append(results[heading]['shape'][n][2])\n",
    "            SCALE.append(results[heading]['shape'][n][3])\n",
    "            SCALE_ERR.append(results[heading]['shape'][n][4])\n",
    "            flux_in_data.append(results[heading]['shape'][n][5])\n",
    "            source_labels.append(results[heading]['shape'][n][6])\n",
    "            DELTA_PHASE0.append(results[heading]['position'][n][-3])\n",
    "        else:\n",
    "            unresolved.append(results[heading]['shape'][n][0][0])\n",
    "    if MAJ_MIN_angle_out:\n",
    "        zipped_props = zip(MAJ_MIN_angle_out, MAJ_MIN_angle_in, DELTA_PHASE0, SCALE, SCALE_ERR)\n",
    "        MAJ_MIN_angle_out, MAJ_MIN_angle_in, DELTA_PHASE0, SCALE, SCALE_ERR = zip(\n",
    "            *sorted(zipped_props, key=lambda x: x[0]))\n",
    "        maj_in = [maj_min_angle_in[0] for maj_min_angle_in in MAJ_MIN_angle_in]\n",
    "        maj_out = [maj_min_angle_out[0] for maj_min_angle_out in MAJ_MIN_angle_out]\n",
    "        min_in = [maj_min_angle_in[1] for maj_min_angle_in in MAJ_MIN_angle_in]\n",
    "        min_out = [maj_min_angle_out[1] for maj_min_angle_out in MAJ_MIN_angle_out]\n",
    "        angle_offset = [(maj_min_angle_out[2] - maj_min_angle_in[2]) for maj_min_angle_out, maj_min_angle_in in zip(\n",
    "            MAJ_MIN_angle_out, MAJ_MIN_angle_in)]\n",
    "        maj_MSE = mean_squared_error(maj_in, maj_out)\n",
    "        reg = linregress(maj_in, maj_out)\n",
    "        maj_R_score = reg.rvalue\n",
    "        maj_table_data.append([heading.split('-')[-1].upper(), \"{:.4f}\".format(reg.slope),\n",
    "                       \"{:.4f}\".format(maj_R_score),\n",
    "                       \" {:.4f}\".format(np.sqrt(maj_MSE)),\n",
    "                       \"{:.4f}\".format(reg.intercept),\n",
    "                        len(unresolved)])\n",
    "        min_MSE = mean_squared_error(min_in, min_out)\n",
    "        reg = linregress(min_in, min_out)\n",
    "        min_R_score = reg.rvalue\n",
    "        min_table_data.append([heading.split('-')[-1].upper(), \"{:.4f}\".format(reg.slope),\n",
    "                       \"{:.4f}\".format(min_R_score),\n",
    "                       \" {:.4f}\".format(np.sqrt(min_MSE)),\n",
    "                       \"{:.4f}\".format(reg.intercept),\n",
    "                        len(unresolved)])\n",
    "print(to_text(maj_table_data))\n",
    "print(to_text(min_table_data))"
   ]
  },
  {
   "cell_type": "code",
   "execution_count": null,
   "metadata": {
    "extensions": {
     "jupyter_dashboards": {
      "version": 1,
      "views": {
       "grid_default": {},
       "report_default": {
        "hidden": false
       }
      }
     }
    },
    "scrolled": false
   },
   "outputs": [],
   "source": [
    "data = []\n",
    "im_titles =[]\n",
    "for input_model, output_model in sorted(models_compare.items()):\n",
    "    header = output_model[:-9]\n",
    "#    im_titles.append('<b>{:s} Source shape</b>'.format(header.upper()))\n",
    "#    im_titles.append('<b>{:s} Source shape</b>'.format(header.upper()))\n",
    "\n",
    "fig = tools.make_subplots(rows=len(models_compare.keys()), cols=2, shared_yaxes=False, print_grid=False,\n",
    "                          horizontal_spacing = 0.25,\n",
    "                          vertical_spacing = 0.05,\n",
    "                          subplot_titles=sorted(im_titles))\n",
    "j = 0\n",
    "i = -1\n",
    "counter = 0\n",
    "for input_model, output_model in sorted(models_compare.items()):\n",
    "    table_data = []\n",
    "    i += 1\n",
    "    counter+=1\n",
    "    SCALE = []\n",
    "    SCALE_ERR = []\n",
    "    flux_in_data = []\n",
    "    DELTA_PHASE0 = []\n",
    "    source_labels = []\n",
    "    MAJ_MIN_angle_in = []\n",
    "    MAJ_MIN_angle_out = []\n",
    "    unresolved = []\n",
    "    heading = output_model[:-9]\n",
    "    for n in range(len(results[heading]['flux'])):\n",
    "        MAJ_MIN_angle_out.append(results[heading]['shape'][n][0])\n",
    "        MAJ_MIN_angle_in.append(results[heading]['shape'][n][2])\n",
    "        SCALE.append(results[heading]['shape'][n][3])\n",
    "        SCALE_ERR.append(results[heading]['shape'][n][4])\n",
    "        flux_in_data.append(results[heading]['shape'][n][5])\n",
    "        source_labels.append(results[heading]['shape'][n][6])\n",
    "        DELTA_PHASE0.append(results[heading]['position'][n][-3])\n",
    "    try:\n",
    "        zipped_props = zip(MAJ_MIN_angle_out, MAJ_MIN_angle_in, DELTA_PHASE0, SCALE, SCALE_ERR)\n",
    "        MAJ_MIN_angle_out, MAJ_MIN_angle_in, DELTA_PHASE0, SCALE, SCALE_ERR = zip(\n",
    "            *sorted(zipped_props, key=lambda x: x[0]))\n",
    "        maj_in = [maj_min_angle_in[0] for maj_min_angle_in in MAJ_MIN_angle_in]\n",
    "        maj_out = [maj_min_angle_out[0] for maj_min_angle_out in MAJ_MIN_angle_out]\n",
    "        min_in = [maj_min_angle_in[1] for maj_min_angle_in in MAJ_MIN_angle_in]\n",
    "        min_out = [maj_min_angle_out[1] for maj_min_angle_out in MAJ_MIN_angle_out]\n",
    "        angle_offset = [(maj_min_angle_out[2] - maj_min_angle_in[2]) for maj_min_angle_out, maj_min_angle_in in zip(\n",
    "            MAJ_MIN_angle_out, MAJ_MIN_angle_in)]\n",
    "        flux_MSE = mean_squared_error(maj_in, maj_out)\n",
    "        reg = linregress(maj_in, maj_out)\n",
    "        flux_R_score = reg.rvalue\n",
    "        fig.append_trace(go.Scatter(x=np.array([sorted(maj_in)[0], sorted(maj_in)[-1]]),\n",
    "                                    showlegend=False,\n",
    "                                    marker = dict(color = 'rgb(0,0,255)'),\n",
    "                                    y=np.array([sorted(maj_in)[0], sorted(maj_in)[-1]]),\n",
    "                                    mode = 'line'), i+1, 1)\n",
    "        fig.append_trace(go.Scatter(x=np.array([sorted(min_in)[0], sorted(min_in)[-1]]),\n",
    "                                    showlegend=False,\n",
    "                                    marker = dict(color = 'rgb(0,0,255)'),\n",
    "                                    y=np.array([sorted(min_in)[0], sorted(min_in)[-1]]),\n",
    "                                    mode = 'line'), i+1, 2)\n",
    "    except ValueError:\n",
    "        pass\n",
    "    fig.append_trace(go.Scatter(x=maj_in, y=maj_out, mode = 'markers', showlegend=False,\n",
    "                                text = name_labels, name = '{:s} flux_ratio'.format(header),\n",
    "                                marker = dict(color = np.array(flux_out_data)*unit_scaler, showscale=True, colorscale='Jet',\n",
    "                                              reversescale=True,\n",
    "                                              colorbar = dict(title='Output flux (mJy)',\n",
    "                                                              titleside ='right',\n",
    "                                                              len=PLOT_NUM['colorbar'][PLOTS][2],\n",
    "                                                              y=PLOT_NUM['colorbar'][PLOTS][1]-j,\n",
    "                                                              x=0.39)\n",
    "                                             ),\n",
    "                                error_y=dict(type='data',\n",
    "                                             color = 'rgb(158, 63, 221)', visible=True)), i+1, 1)\n",
    "    fig.append_trace(go.Scatter(x=min_in, y=min_out,\n",
    "                                mode = 'markers', showlegend=False,\n",
    "                                text = name_labels, name = '{:s} flux_ratio'.format(header),\n",
    "                                marker = dict(color = np.array(flux_out_data)*unit_scaler, showscale=True,\n",
    "                                              colorscale='Jet', reversescale=True,\n",
    "                                                  colorbar = dict(title='Output flux (mJy)',\n",
    "                                                              titleside ='right',\n",
    "                                                              len=PLOT_NUM['colorbar'][PLOTS][2],\n",
    "                                                              y=PLOT_NUM['colorbar'][PLOTS][1]-j)\n",
    "                                             ),\n",
    "                                error_y=dict(type='data',\n",
    "                                             color = 'rgb(158, 63, 221)', visible=True)), i+1, 2)\n",
    "    pi,sin,cos = np.pi,np.sin,np.cos\n",
    "    fig['layout'].update(title='', height=1700, width=900,\n",
    "                         paper_bgcolor='rgb(255,255,255)', plot_bgcolor=bg_color,\n",
    "                         legend=dict(xanchor=True)\n",
    "                        )\n",
    "    fig['layout'].update(\n",
    "        {'yaxis{}'.format(counter+i):YAxis(title=u'Output maj axis[arcsec]',gridcolor='rgb(255,255,255)',\n",
    "                                           color='rgb(0,0,0)',\n",
    "        range=[-1,13],\n",
    "        tickfont=dict(size=10, color='rgb(0,0,0)'),\n",
    "        titlefont=dict(size=15),\n",
    "        showgrid=True,\n",
    "        showline=True,\n",
    "        showticklabels=True,\n",
    "        tickcolor='rgb(51,153,225)',\n",
    "        ticks='outside',\n",
    "        zeroline=True)})\n",
    "    fig['layout'].update(\n",
    "        {'yaxis{}'.format(counter+i+1):YAxis(title='Ouput min axis[arcsec]',gridcolor='rgb(255,255,255)',\n",
    "                                             color='rgb(0,0,0)',\n",
    "        range=[-1,13],\n",
    "        tickfont=dict(size=10, color='rgb(0,0,0)'),\n",
    "        titlefont=dict(size=15),\n",
    "        showgrid=True,\n",
    "        showline=True,\n",
    "        showticklabels=True,\n",
    "        tickcolor='rgb(51,153,225)',\n",
    "        ticks='outside',\n",
    "        zeroline=True)})\n",
    "    fig['layout'].update({'xaxis{}'.format(counter+i):XAxis(title='Input maj axis[arcsec]',\n",
    "                                                            titlefont=dict(size=17),\n",
    "                                                            zeroline=False, position=0.0, overlaying='x',)})\n",
    "    fig['layout'].update({'xaxis{}'.format(counter+i+1):XAxis(title='Input min axis[arcsec]',\n",
    "                                                              titlefont=dict(size=17),\n",
    "                                                              zeroline=False)})# domain=[0.505, 0.8])}\n",
    "    fig['layout']['annotations'].update({'font':{'size': 12}})\n",
    "    j+=PLOT_NUM['colorbar'][PLOTS][0]\n",
    "py.iplot(fig, filename='make-subplots-multiple-with-titles')"
   ]
  },
  {
   "cell_type": "markdown",
   "metadata": {},
   "source": [
    "## Spectral Index Measurements"
   ]
  },
  {
   "cell_type": "code",
   "execution_count": null,
   "metadata": {},
   "outputs": [],
   "source": [
    "bin_colors = {1: '#f0f8ff',\n",
    "              2: '#dcdcdc',\n",
    "              3: '#ffe4c4',\n",
    "              4: '#ff7f50',\n",
    "              5: '#7fffd4'\n",
    "             }\n",
    "flux_bins = widgets.IntSlider(\n",
    "    value=5,\n",
    "    min=1,\n",
    "    max=100,\n",
    "    step=1,\n",
    "    description='Bin by flux:',\n",
    "    disabled=False,\n",
    "    continuous_update=False,\n",
    "    orientation='horizontal',\n",
    "    readout=True,\n",
    "    readout_format='d'\n",
    ")\n",
    "spi_bins = widgets.IntSlider(\n",
    "    value=5,\n",
    "    min=1,\n",
    "    max=100,\n",
    "    step=1,\n",
    "    description='Bin by spi:',\n",
    "    disabled=False,\n",
    "    continuous_update=False,\n",
    "    orientation='horizontal',\n",
    "    readout=True,\n",
    "    readout_format='d'\n",
    ")\n",
    "y_axis_range = widgets.IntRangeSlider(\n",
    "    value=[-80, 80],\n",
    "    min=-150,\n",
    "    max=150,\n",
    "    step=1,\n",
    "    description='Y-axis limit',\n",
    "    disabled=False,\n",
    "    units= 'arcsec',\n",
    "    continuous_update=False,\n",
    "    orientation='horizontal',\n",
    "    readout=True,\n",
    "    readout_format='d',\n",
    ")\n",
    "display(flux_bins)\n",
    "display(spi_bins)\n",
    "display(y_axis_range)"
   ]
  },
  {
   "cell_type": "code",
   "execution_count": null,
   "metadata": {
    "scrolled": false
   },
   "outputs": [],
   "source": [
    "import matplotlib\n",
    "import pylab as plt\n",
    "from scipy.stats import norm\n",
    "fig = plt.figure()\n",
    "num_bins = flux_bins.value\n",
    "i = -1\n",
    "j = 0\n",
    "counter = 0\n",
    "flux_im = dict()\n",
    "I_min_max = []\n",
    "err_I_min_max = []\n",
    "#========================\n",
    "#MEAN = \" Mean\"\n",
    "#MEDIAN = \" Median\"\n",
    "#MODE = \" Mode\"\n",
    "#STD = \" Standard deviation\"\n",
    "#========================\n",
    "global_table_data = [[\"Global\", \"Mean\", \"Median\", \"Mode\", \"Standard Deviation\"]]\n",
    "if results[models_compare.values()[0][:-9]]['spi']:\n",
    "    for input_model, output_model in sorted(models_compare.items()):\n",
    "        header = output_model[:-9]\n",
    "        bin_table_data = [[header.split('-')[-1].upper(), \"Mean\", \"Median\", \"Mode\", \"Standard Deviation\"]]\n",
    "        i += 1\n",
    "        counter+=1\n",
    "        I_in = []\n",
    "        name_labels = []\n",
    "        spi_in_data = []\n",
    "        spi_out_data = []\n",
    "        spi_err_data = []\n",
    "        dist_from_phase = []\n",
    "        num_data_points = len(results[header]['spi'])\n",
    "        for n in range(num_data_points):\n",
    "            spi_out_data.append(results[header]['spi'][n][0])\n",
    "            spi_err_data.append(results[header]['spi'][n][1])\n",
    "            spi_in_data.append(results[header]['spi'][n][2])\n",
    "            dist_from_phase.append(results[header]['spi'][n][3])\n",
    "            I_in.append(results[header]['spi'][n][4])\n",
    "            name_labels.append(results[header]['spi'][n][5])\n",
    "        zipped_props = zip(I_in, spi_out_data, spi_err_data, spi_in_data, dist_from_phase, name_labels)\n",
    "        (I_in, spi_out_data, spi_err_data, spi_in_data, dist_from_phase, name_labels) = zip(\n",
    "            *sorted(zipped_props, key=lambda x: x[0]))\n",
    "        spi_R_score = r2_score(spi_in_data, spi_out_data)\n",
    "        spi_MSE = mean_squared_error(spi_in_data, spi_out_data)\n",
    "        spi_out_in = [float(spi_out)/spi_in for spi_out,spi_in in zip(spi_out_data,spi_in_data)]\n",
    "        ranger = num_data_points/num_bins\n",
    "        start, end = [-ranger, 0]\n",
    "        if num_bins > 1:\n",
    "            for b in range(num_bins):\n",
    "                end += ranger\n",
    "                start += ranger\n",
    "                spi_out_data_range = spi_out_data[start:num_data_points if (b + 1) == num_bins else end],\n",
    "                n, bins, patches = matplotlib.pyplot.hist(spi_out_data_range,\n",
    "                                                          spi_bins.value, normed=False, facecolor='blue',\n",
    "                                                          orientation='horizontal', alpha=0.5)\n",
    "                (mu, sigma) = norm.fit(spi_out_data_range)\n",
    "                median = np.median(spi_out_data_range)\n",
    "                peak = [bins[i] for i,v in enumerate(n) if v == n.max()][0]\n",
    "                bin_table_data.append([\"BIN-{:d}\".format(b+1), \"{:4f}\".format(mu), \"{:4f}\".format(median),\n",
    "                                      \"{:4f}\".format(peak), \"{:4f}\".format(sigma)])\n",
    "                \n",
    "                \n",
    "                #IM = header.split('-')[-1].upper()\n",
    "                #if b == 4:\n",
    "                #    MEAN += \" & {:.4f}\".format(mu)\n",
    "                #    MEDIAN += \" & {:.4f}\".format(median)\n",
    "                #    MODE += \" & {:.4f}\".format(peak)\n",
    "                #    STD += \" & {:.4f}\".format(sigma)\n",
    "                \n",
    "                \n",
    "        print(to_text(bin_table_data))\n",
    "        n, bins, patches = matplotlib.pyplot.hist(spi_out_data_range,\n",
    "                                                  spi_bins.value, normed=False, facecolor='blue',\n",
    "                                                  orientation='horizontal', alpha=0.5)\n",
    "        (mu, sigma) = norm.fit(spi_out_data)\n",
    "        median = np.median(spi_out_data)\n",
    "        peak = [bins[i] for i,v in enumerate(n) if v == n.max()][0]\n",
    "        global_table_data.append([header.split('-')[-1].upper(), \"{:4f}\".format(mu), \"{:4f}\".format(median),\n",
    "                                \"{:4f}\".format(peak), \"{:4f}\".format(sigma)])\n",
    "        counter += 1\n",
    "        \n",
    "        \n",
    "#        MEAN += \" & {:.4f}\".format(mu)\n",
    "#        MEDIAN += \" & {:.4f}\".format(median)\n",
    "#        MODE += \" & {:.4f}\".format(peak)\n",
    "#        STD += \" & {:.4f}\".format(sigma)\n",
    "        \n",
    "    plt.close(fig)\n",
    "print(to_text(global_table_data))\n",
    "\n",
    "\n",
    "#print MEAN + r\"\\\\\"\n",
    "#print \" \\hline\"\n",
    "#print MEDIAN + r\"\\\\\"\n",
    "#print \" \\hline\"\n",
    "#print MODE + r\"\\\\\"\n",
    "#print \" \\hline\"\n",
    "#print STD + r\"\\\\\"\n",
    "#print \" \\hline\\hline\""
   ]
  },
  {
   "cell_type": "code",
   "execution_count": null,
   "metadata": {
    "scrolled": false
   },
   "outputs": [],
   "source": [
    "data = []\n",
    "im_titles =[]\n",
    "y_min_max = y_axis_range.value\n",
    "y_ran_pos = [y_min_max[-1], y_min_max[-1]]\n",
    "y_ran_neg = [y_min_max[0], y_min_max[0]]\n",
    "flux_im = dict()\n",
    "num_bins = flux_bins.value\n",
    "for input_model, output_model in sorted(models_compare.items()):\n",
    "    header = output_model[:-9]\n",
    "    #im_titles.append('<b>{:s} spi measure</b>'.format(header.upper()))\n",
    "\n",
    "fig = tools.make_subplots(rows=len(models_compare.keys()), cols=1, shared_yaxes=False, print_grid=False,\n",
    "                          horizontal_spacing = 0.005, vertical_spacing = 0.05,\n",
    "                          subplot_titles=sorted(im_titles))\n",
    "i = -1\n",
    "j = 0\n",
    "counter = 0\n",
    "flux_im = dict()\n",
    "I_min_max = []\n",
    "err_I_min_max = []\n",
    "if results[header]['spi']:\n",
    "#    for input_model, output_model in {'skymodel1.txt': 'pybdsm-meerkat_SourceRecovery-casa.lsm.html'}.items():\n",
    "    for input_model, output_model in sorted(models_compare.items()):\n",
    "        header = output_model[:-9]\n",
    "        i += 1\n",
    "        counter+=1\n",
    "        I_in = []\n",
    "        name_labels = []\n",
    "        spi_in_data = []\n",
    "        spi_out_data = []\n",
    "        spi_err_data = []\n",
    "        dist_from_phase = []\n",
    "        num_data_points = len(results[header]['spi'])\n",
    "        for n in range(num_data_points):\n",
    "            spi_out_data.append(results[header]['spi'][n][0])\n",
    "            spi_err_data.append(results[header]['spi'][n][1])\n",
    "            spi_in_data.append(results[header]['spi'][n][2])\n",
    "            dist_from_phase.append(results[header]['spi'][n][3])\n",
    "            I_in.append(results[header]['spi'][n][4])\n",
    "            name_labels.append(results[header]['spi'][n][5])\n",
    "        zipped_props = zip(I_in, spi_out_data, spi_err_data, spi_in_data, dist_from_phase, name_labels)\n",
    "        (I_in, spi_out_data, spi_err_data, spi_in_data, dist_from_phase, name_labels) = zip(\n",
    "            *sorted(zipped_props, key=lambda x: x[0]))\n",
    "        spi_R_score = r2_score(spi_in_data, spi_out_data)\n",
    "        spi_MSE = mean_squared_error(spi_in_data, spi_out_data)\n",
    "        spi_out_in = [float(spi_out)/spi_in for spi_out,spi_in in zip(spi_out_data,spi_in_data)]\n",
    "#===========================================================================================================\n",
    "        ranger = num_data_points/num_bins\n",
    "        start, end = [-ranger, 0]\n",
    "        for b in range(num_bins):\n",
    "            end += ranger\n",
    "            start += ranger\n",
    "            fig.append_trace(go.Scatter(\n",
    "                             x=[sorted(np.array(I_in)[start:num_data_points\n",
    "                                                      if (b + 1) == num_bins else end]*unit_scaler)[0],\n",
    "                                sorted(np.array(I_in)[start:num_data_points\n",
    "                                                      if (b + 1) == num_bins else end]*unit_scaler)[-1]],\n",
    "                             y=y_ran_pos,\n",
    "                             showlegend=False,\n",
    "                             mode= 'none',\n",
    "                             fillcolor = bin_colors[b+1],\n",
    "                             fill='tozeroy'), i+1, 1)\n",
    "            fig.append_trace(go.Scatter(\n",
    "                             x=[sorted(np.array(I_in)[start:num_data_points\n",
    "                                                      if (b + 1) == num_bins else end]*unit_scaler)[0],\n",
    "                                sorted(np.array(I_in)[start:num_data_points\n",
    "                                                      if (b + 1) == num_bins else end]*unit_scaler)[-1]],\n",
    "                             y=y_ran_neg,\n",
    "                             showlegend=False,\n",
    "                             mode= 'none',\n",
    "                             fillcolor = bin_colors[b+1],\n",
    "                             fill='tozeroy'), i+1, 1)\n",
    "#===========================================================================================================\n",
    "        fig.append_trace(go.Scatter(x=np.array([sorted(I_in)[0], sorted(I_in)[-1]])*1000, showlegend=False,\n",
    "                                    marker = dict(color = 'rgb(0,0,255)'),\n",
    "                                    y=np.array([-.7,-.7]), mode = 'line'), i+1, 1)\n",
    "        fig.append_trace(go.Scatter(x=np.array(I_in)*1000, y=np.array(spi_out_data),\n",
    "                                    mode = 'markers', showlegend=False,\n",
    "                                    text = name_labels, name = '%s flux_ratio' % heading,\n",
    "                                    marker = dict(color = phase_center_dist, showscale=True, colorscale='Jet',\n",
    "                                                  reversescale=False,\n",
    "                                                  colorbar = dict(title='PTC distance (arcsec)',\n",
    "                                                                   titleside ='right',\n",
    "                                                              len=PLOT_NUM['colorbar'][PLOTS][2],\n",
    "                                                              y=PLOT_NUM['colorbar'][PLOTS][1]-j)\n",
    "                                                 ),\n",
    "                                    error_y=dict(type='data', array=spi_err_data,\n",
    "                                                 color = 'rgb(158, 63, 221)', visible=True)), i+1, 1)\n",
    "        fig['layout'].update(title='', height=1800, width=700,\n",
    "                             paper_bgcolor='rgb(255,255,255)', plot_bgcolor=bg_color,\n",
    "                             legend=dict(x=0.8,y=1.0),)\n",
    "        fig['layout'].update(\n",
    "            {'yaxis{}'.format(counter):YAxis(title=u'$SPI_{out}$',gridcolor='rgb(255,255,255)',\n",
    "            range=y_min_max,\n",
    "            tickfont=dict(size=15),\n",
    "            titlefont=dict(size=17),\n",
    "            showgrid=True,\n",
    "            showline=True,\n",
    "            showticklabels=True,\n",
    "            tickcolor='rgb(51,153,225)',\n",
    "            ticks='outside',\n",
    "            zeroline=True)})\n",
    "        fig['layout'].update({'xaxis{}'.format(counter):XAxis(title='$I_{in} (mJy)$', position=0.0,\n",
    "                                                                titlefont=dict(size=17),\n",
    "                                                                overlaying='x')})\n",
    "        fig['layout']['annotations'].update({ 'font':{'size': 10}})\n",
    "        j+=PLOT_NUM['colorbar'][PLOTS][0]\n",
    "    py.iplot(fig, filename='make-subplots-multiple-with-titles')"
   ]
  },
  {
   "cell_type": "markdown",
   "metadata": {
    "extensions": {
     "jupyter_dashboards": {
      "version": 1,
      "views": {
       "grid_default": {},
       "report_default": {
        "hidden": false
       }
      }
     }
    }
   },
   "source": [
    "## Dynamic Ranges"
   ]
  },
  {
   "cell_type": "code",
   "execution_count": null,
   "metadata": {
    "extensions": {
     "jupyter_dashboards": {
      "version": 1,
      "views": {
       "grid_default": {},
       "report_default": {
        "hidden": false
       }
      }
     }
    },
    "scrolled": false
   },
   "outputs": [],
   "source": [
    "beam_factor = 4\n",
    "DRs = OrderedDict()\n",
    "im_titles = []\n",
    "dir = directory.value\n",
    "for m, r in models_dr.items():\n",
    "    DRs[r[23:-19].upper()] = model_dynamic_range('{:s}/{:s}'.format(dir, m),'{:s}/{:s}'.format(dir, r), 6, beam_factor)\n",
    "#    DRs[r[:-19]] = model_dynamic_range('{:s}/{:s}'.format(dir, m),'{:s}/{:s}'.format(dir, r), 94, beam_factor)\n",
    "zipped_props = zip(DRs.keys(), DRs.values())\n",
    "ims, values = zip(*sorted(zipped_props, key=lambda x: x[0]))\n",
    "drs, names = [], []\n",
    "for val in values:\n",
    "    drs.append(val['global_rms'])\n",
    "    #names.append(\"DR=({:f},{:f})\".format(val[1], val[-1]))\n",
    "    names.append(\"global_rms_DR={:f}\".format(val['global_rms']))\n",
    "fig = tools.make_subplots(rows=1, cols=1, shared_yaxes=False, print_grid=False,\n",
    "                          horizontal_spacing = 0.005, vertical_spacing = 0.15)\n",
    "fig.append_trace(go.Scatter(x=ims, showlegend=False, text = names,\n",
    "                            y=np.array(drs), mode = 'markers', marker=dict(size='30')), 1, 1)\n",
    "#fig['layout'].update(title='<b>SNR with self-cal iterations</b>', height=900, width=900,\n",
    "fig['layout'].update(title='', height=900, width=900,\n",
    "                     paper_bgcolor='rgb(255,255,255)', #plot_bgcolor='rgb(229,229,229)',\n",
    "                     legend=dict(x=0.8,y=1.0))\n",
    "fig['layout'].update(\n",
    "    {'yaxis{}'.format(1):YAxis(title=u'Dynamic Range',gridcolor='rgb(255,255,255)',\n",
    "        tickfont=dict(size=25),\n",
    "        titlefont=dict(size=30),\n",
    "        showgrid=True,\n",
    "        showline=True,\n",
    "        showticklabels=True,\n",
    "        tickcolor='rgb(51,153,225)',\n",
    "        ticks='outside',\n",
    "        zeroline=False)})\n",
    "fig['layout'].update({'xaxis{}'.format(1):XAxis(title='Images', position=0.0,\n",
    "                                                        tickfont=dict(size=20),\n",
    "                                                        titlefont=dict(size=30),\n",
    "                                                        showline=True,\n",
    "                                                        overlaying='x')})\n",
    "fig['layout']['titlefont'].update({'size':20})\n",
    "py.iplot(fig, filename='make-subplots-multiple-with-titles')"
   ]
  },
  {
   "cell_type": "markdown",
   "metadata": {
    "extensions": {
     "jupyter_dashboards": {
      "version": 1,
      "views": {
       "grid_default": {},
       "report_default": {
        "hidden": false
       }
      }
     }
    }
   },
   "source": [
    "## Residual Statistics"
   ]
  },
  {
   "cell_type": "code",
   "execution_count": null,
   "metadata": {},
   "outputs": [],
   "source": [
    "Res = OrderedDict()\n",
    "for res in RESIDUALS:\n",
    "    Res[res] = residual_image_stats('{:s}/{:s}'.format(directory.value, res), test_normality='normaltest')"
   ]
  },
  {
   "cell_type": "code",
   "execution_count": null,
   "metadata": {
    "extensions": {
     "jupyter_dashboards": {
      "version": 1,
      "views": {
       "grid_default": {},
       "report_default": {
        "hidden": false
       }
      }
     }
    }
   },
   "outputs": [],
   "source": [
    "im_titles = [\n",
    "               'MEAN',\n",
    "               'STANDARD DEVIATION',\n",
    "               'SKEWNESS',\n",
    "               'KURTOSIS',\n",
    "               'NORMALITY'\n",
    "            ]\n",
    "    \n",
    "fig = tools.make_subplots(rows=4, cols=1, shared_yaxes=False, print_grid=False,\n",
    "                          horizontal_spacing = 0.005, vertical_spacing = 0.15,)\n",
    "                    #      subplot_titles=im_titles)\n",
    "\n",
    "x_axis_title = 'Residual Images'\n",
    "#x_axis_title = 'Iterations'\n",
    "fig.append_trace(go.Scatter(x=names, showlegend=False,\n",
    "                            y=np.array(mean), mode = 'marker'), 1, 1)\n",
    "fig['layout'].update(title='', height=900, width=900,\n",
    "                     paper_bgcolor='rgb(255,255,255)', #plot_bgcolor='rgb(229,229,229)',\n",
    "                         legend=dict(x=0.8,y=1.0),)\n",
    "fig['layout'].update(\n",
    "    {'yaxis{}'.format(1):YAxis(title=u'Residual mean (Jy)',gridcolor='rgb(255,255,255)',\n",
    "            tickfont=dict(size=15),\n",
    "            titlefont=dict(size=20),\n",
    "            showgrid=True,\n",
    "            showline=True,\n",
    "            showticklabels=True,\n",
    "            tickcolor='rgb(51,153,225)',\n",
    "            ticks='outside',\n",
    "            zeroline=False)})\n",
    "fig['layout'].update({'xaxis{}'.format(1):XAxis(title='', position=0.0,\n",
    "                                                tickfont=dict(size=17),\n",
    "                                                titlefont=dict(size=17),\n",
    "                                                showline=True,\n",
    "                                                overlaying='x')})\n",
    "fig.append_trace(go.Scatter(x=names, showlegend=False,\n",
    "                            y=np.array(std), mode = 'marker'), 2, 1)\n",
    "fig['layout'].update(\n",
    "    {'yaxis{}'.format(2):YAxis(title=u'Residual sigma (Jy)',gridcolor='rgb(255,255,255)',\n",
    "            tickfont=dict(size=15),\n",
    "            titlefont=dict(size=20),\n",
    "            showgrid=True,\n",
    "            showline=True,\n",
    "            showticklabels=True,\n",
    "            tickcolor='rgb(51,153,225)',\n",
    "            ticks='outside',\n",
    "            zeroline=False)})\n",
    "fig['layout'].update({'xaxis{}'.format(2):XAxis(title='', position=0.0,\n",
    "                                                tickfont=dict(size=17),\n",
    "                                                titlefont=dict(size=17),\n",
    "                                                showline=True,\n",
    "                                                overlaying='x')})\n",
    "fig.append_trace(go.Scatter(x=names, showlegend=False,\n",
    "                            y=np.array(skew)*unit_scaler, mode = 'marker'), 3, 1)\n",
    "fig['layout'].update(\n",
    "    {'yaxis{}'.format(3):YAxis(title=u'Residual skewness (mJy)',gridcolor='rgb(255,255,255)',\n",
    "            tickfont=dict(size=15),\n",
    "            titlefont=dict(size=20),\n",
    "            showgrid=True,\n",
    "            showline=True,\n",
    "            showticklabels=True,\n",
    "            tickcolor='rgb(51,153,225)',\n",
    "            ticks='outside',\n",
    "            dtick='',\n",
    "            tickformat='',\n",
    "            zeroline=False)})\n",
    "fig['layout'].update({'xaxis{}'.format(3):XAxis(title='', position=0.0,\n",
    "                                                tickfont=dict(size=17),\n",
    "                                                titlefont=dict(size=17),\n",
    "                                                showline=True,\n",
    "                                                overlaying='x')})\n",
    "fig.append_trace(go.Scatter(x=names, showlegend=False,\n",
    "                            y=np.array(kurt), mode = 'marker'), 4, 1)\n",
    "fig['layout'].update(\n",
    "    {'yaxis{}'.format(4):YAxis(title=u'Residual kurtosis',gridcolor='rgb(255,255,255)',\n",
    "            tickfont=dict(size=15),\n",
    "            titlefont=dict(size=20),\n",
    "            showgrid=True,\n",
    "            showline=True,\n",
    "            showticklabels=True,\n",
    "            tickcolor='rgb(51,153,225)',\n",
    "            ticks='outside',\n",
    "            zeroline=False)})\n",
    "fig['layout'].update({'xaxis{}'.format(4):XAxis(title=x_axis_title, position=0.0,\n",
    "                                                tickfont=dict(size=17),\n",
    "                                                titlefont=dict(size=20),\n",
    "                                                showline=True,\n",
    "                                                overlaying='x')})\n",
    "#fig.append_trace(go.Scatter(x=names, showlegend=False,\n",
    "#                            y=np.array(normtest), mode = 'marker'), 5, 1)\n",
    "#fig['layout'].update(\n",
    "#    {'yaxis{}'.format(5):YAxis(title=u'Residual normality',gridcolor='rgb(255,255,255)',\n",
    "#            tickfont=dict(size=15),\n",
    "#            titlefont=dict(size=17),\n",
    "#            showgrid=True,\n",
    "#            showline=True,\n",
    "#            showticklabels=True,\n",
    "#            tickcolor='rgb(51,153,225)',\n",
    "#            ticks='outside',\n",
    "#            zeroline=False)})\n",
    "#fig['layout'].update({'xaxis{}'.format(5):XAxis(title=x_axis_title, position=0.0,\n",
    "#                                                titlefont=dict(size=17),\n",
    "#                                                showline=True,\n",
    "#                                                overlaying='x')})\n",
    "py.iplot(fig, filename='make-subplots-multiple-with-titles')"
   ]
  },
  {
   "cell_type": "markdown",
   "metadata": {},
   "source": [
    "#### Source residual-to-noise ration measurements"
   ]
  },
  {
   "cell_type": "code",
   "execution_count": null,
   "metadata": {},
   "outputs": [],
   "source": [
    "reload(combat)\n",
    "from aimfast import aimfast\n",
    "try:\n",
    "    skymodel = res_noise_images.pop('model')\n",
    "except KeyError:\n",
    "    pass\n",
    "res = combat.res_noise_ratio(skymodel, res_noise_images, directory=directory.value)"
   ]
  },
  {
   "cell_type": "code",
   "execution_count": null,
   "metadata": {},
   "outputs": [],
   "source": [
    "data = []\n",
    "im_titles =[]\n",
    "TO_MICRO = 1E6\n",
    "\n",
    "for residual_image, noise_image in res_noise_images.items():\n",
    "    header1 = residual_image[:-5][23:]\n",
    "    header2 = noise_image[:-17][:]\n",
    "    #im_titles.append('<b>{:s} RMS</b>'.format(header1.upper()))\n",
    "    #im_titles.append('<b>{:s} residual-noise</b>'.format(header2.upper()))\n",
    "\n",
    "fig = tools.make_subplots(rows=len(res_noise_images), cols=2, shared_yaxes=False, print_grid=False,\n",
    "                          #horizontal_spacing = 0.25,\n",
    "                          vertical_spacing = 0.15,\n",
    "                          subplot_titles=im_titles)\n",
    "counter = 0\n",
    "i=0\n",
    "j=0\n",
    "for residual_image, noise_image in res_noise_images.items():\n",
    "    counter+=1\n",
    "    SNR = []\n",
    "    dist_from_phase = []\n",
    "    src_list = []\n",
    "    rmss = []\n",
    "    residuals = []\n",
    "    res_noise_ratio = []\n",
    "    res_mean_noise_rms_ratio = []\n",
    "    imager = header = residual_image\n",
    "    k = 0\n",
    "    for res_src in res[imager]:\n",
    "        src_list.append(res_src[0])\n",
    "        residuals.append(res_src[2])\n",
    "        rmss.append(res_src[3])\n",
    "        res_noise_ratio.append(res_src[4])\n",
    "        res_mean_noise_rms_ratio.append(res_src[8])\n",
    "        dist_from_phase.append(res_src[-1])\n",
    "        k += 1\n",
    "#    for n in range(len(results[imager]['spi'])):\n",
    "#        SCALE.append(results[imager]['shape'][n][4])\n",
    "    fig.append_trace(go.Scatter(x=range(len(src_list)), y=np.array(rmss)*TO_MICRO, mode = 'lines',\n",
    "                                showlegend=True if i == 0 else False,\n",
    "                                text = name_labels, name = 'noise',\n",
    "                                marker = dict(color = 'rgb(255,0,0)'),\n",
    "                                error_y=dict(type='data', #array=SCALE_ERR,\n",
    "                                             color = 'rgb(158, 63, 221)', visible=True)), i+1, 1)\n",
    "    fig.append_trace(go.Scatter(x=range(len(src_list)), y=np.array(residuals)*TO_MICRO, mode = 'lines',\n",
    "                                showlegend=True if i == 0 else False,\n",
    "                                text = name_labels, name = 'residual',\n",
    "                                marker = dict(color = 'rgb(0,0,255)'),\n",
    "                                error_y=dict(type='data', #array=SCALE_ERR,\n",
    "                                             color = 'rgb(158, 63, 221)', visible=True)), i+1, 1)\n",
    "    fig.append_trace(go.Scatter(x=range(len(src_list)), y=np.array(res_noise_ratio),\n",
    "                                mode = 'markers', showlegend=False,\n",
    "                                text = name_labels,# name = '%s flux_ratio' % imager,\n",
    "                                marker = dict(color = dist_from_phase, showscale=True, colorscale='Jet',\n",
    "                                              reversescale=False,\n",
    "                                              colorbar = dict(title='Phase center dist (arcsec)',\n",
    "                                                              titleside ='right',\n",
    "                                                              len=PLOT_NUM['colorbar'][PLOTS][2],\n",
    "                                                              y=PLOT_NUM['colorbar'][PLOTS][1]-j)\n",
    "                                             ),\n",
    "                                error_y=dict(type='data',\n",
    "                                             color = 'rgb(158, 63, 221)', visible=True)), i+1, 2)\n",
    "    pi,sin,cos = np.pi,np.sin,np.cos\n",
    "    fig['layout'].update(title='', height=900, width=900,\n",
    "                         paper_bgcolor='rgb(255,255,255)', #plot_bgcolor='rgb(229,229,229)',\n",
    "                         legend=dict(xanchor=True, x=1.15,y=1)\n",
    "                        )\n",
    "    fig['layout'].update(\n",
    "        {'yaxis{}'.format(counter+i):YAxis(title=u'rms [μJy]',gridcolor='rgb(255,255,255)',\n",
    "                                           color='rgb(0,0,0)',\n",
    "        #range=[1,10],\n",
    "        tickfont=dict(size=14, color='rgb(0,0,0)'),\n",
    "        titlefont=dict(size=17),\n",
    "        showgrid=True,\n",
    "        showline=True,\n",
    "        showticklabels=True,\n",
    "        tickcolor='rgb(51,153,225)',\n",
    "        ticks='outside',\n",
    "        zeroline=False)})\n",
    "    fig['layout'].update(\n",
    "        {'yaxis{}'.format(counter+i+1):YAxis(title=u'$I_{res}/I_{noise}$',gridcolor='rgb(255,255,255)',\n",
    "                                             color='rgb(0,0,0)',\n",
    "                                             range=res_axis_min_max if _scaley.value else [],\n",
    "        #range=[1,10],\n",
    "        tickfont=dict(size=10, color='rgb(0,0,0)'),\n",
    "        titlefont=dict(size=17),\n",
    "        showgrid=True,\n",
    "        showline=True,\n",
    "        showticklabels=True,\n",
    "        tickcolor='rgb(51,153,225)',\n",
    "        ticks='outside',\n",
    "        zeroline=False)})\n",
    "    fig['layout'].update({'xaxis{}'.format(counter+i):XAxis(title='Sources',\n",
    "                                                            titlefont=dict(size=17),\n",
    "                                                            showline=True,\n",
    "                                                            zeroline=False, position=0.0, overlaying='x',)})\n",
    "    fig['layout'].update({'xaxis{}'.format(counter+i+1):XAxis(title='Sources',\n",
    "                                                              titlefont=dict(size=17),\n",
    "                                                              showline=True,\n",
    "                                                              zeroline=False)}# domain=[0.505, 0.8])}\n",
    "        )\n",
    "    i+=1\n",
    "    j+=PLOT_NUM['colorbar'][PLOTS][0]\n",
    "py.iplot(fig, filename='make-subplots-multiple-with-titles')"
   ]
  },
  {
   "cell_type": "markdown",
   "metadata": {},
   "source": [
    "#### Random source residual-to-noise ration measurements"
   ]
  },
  {
   "cell_type": "code",
   "execution_count": null,
   "metadata": {},
   "outputs": [],
   "source": [
    "reload(combat)\n",
    "try:\n",
    "    skymodel = res_noise_images.pop('model')\n",
    "except KeyError:\n",
    "    pass\n",
    "res = combat.random_res_noise_ratio(res_noise_images, directory=directory.value,\n",
    "                                    num_pix=4096, pix_size=1.0, num_areas=200)"
   ]
  },
  {
   "cell_type": "code",
   "execution_count": null,
   "metadata": {},
   "outputs": [],
   "source": [
    "data = []\n",
    "im_titles =[]\n",
    "TO_MICRO = 1E6\n",
    "\n",
    "for residual_image, noise_image in res_noise_images.items():\n",
    "    header1 = residual_image[:-5][23:]\n",
    "    header2 = noise_image[:-17][:]\n",
    "   # im_titles.append('<b>{:s} RMS</b>'.format(header1.upper()))\n",
    "    #im_titles.append('<b>{:s} residual-noise</b>'.format(header2.upper()))\n",
    "\n",
    "fig = tools.make_subplots(rows=len(res_noise_images), cols=2, shared_yaxes=False, print_grid=False,\n",
    "                          #horizontal_spacing = 0.25,\n",
    "                          vertical_spacing = 0.15,\n",
    "                          subplot_titles=im_titles)\n",
    "i=0\n",
    "j=0\n",
    "counter = 0\n",
    "for residual_image, noise_image in res_noise_images.items():\n",
    "    counter+=1\n",
    "    rmss = []\n",
    "    residuals = []\n",
    "    res_noise_ratio = []\n",
    "    imager = residual_image\n",
    "    k = 0\n",
    "    for res_src in res[imager]:\n",
    "        residuals.append(res_src[0])\n",
    "        rmss.append(res_src[1])\n",
    "        res_noise_ratio.append(res_src[2])\n",
    "        k += 1\n",
    "    fig.append_trace(go.Scatter(x=range(len(rmss)), y=np.array(rmss)*TO_MICRO, mode = 'lines',\n",
    "                                showlegend=True if i == 0 else False,\n",
    "                                text = name_labels, name = 'noise',\n",
    "                                marker = dict(color = 'rgb(255,0,0)'),\n",
    "                                error_y=dict(type='data', #array=SCALE_ERR,\n",
    "                                             color='rgb(158, 63, 221)', visible=True)), i+1, 1)\n",
    "    fig.append_trace(go.Scatter(x=range(len(rmss)), y=np.array(residuals)*TO_MICRO, mode = 'lines',\n",
    "                                showlegend=True if i == 0 else False,\n",
    "                                text = name_labels, name = 'residual',\n",
    "                                marker = dict(color='rgb(0,0,255)'),\n",
    "                                error_y=dict(type='data', #array=SCALE_ERR,\n",
    "                                             color='rgb(158, 63, 221)', visible=True)), i+1, 1)\n",
    "    fig.append_trace(go.Scatter(x=range(len(rmss)), y=np.array(res_noise_ratio),\n",
    "                                mode = 'markers', showlegend=False,\n",
    "                                text = name_labels,# name = '%s flux_ratio' % imager,\n",
    "                                 marker = dict(color='rgb(158, 63, 221)'),\n",
    "                                error_y=dict(type='data',\n",
    "                                             color='rgb(158, 63, 221)', visible=True)), i+1, 2)\n",
    "    pi,sin,cos = np.pi,np.sin,np.cos\n",
    "    fig['layout'].update(title='', height=900, width=900,\n",
    "                         paper_bgcolor='rgb(255,255,255)', #plot_bgcolor='rgb(229,229,229)',\n",
    "                         legend=dict(xanchor=True, x=1.0,y=1.05)\n",
    "                        )\n",
    "    fig['layout'].update(\n",
    "        {'yaxis{}'.format(counter+i):YAxis(title=u'rms [μJy]',gridcolor='rgb(255,255,255)',\n",
    "                                           color='rgb(0,0,0)',\n",
    "        #range=[1,10],\n",
    "        tickfont=dict(size=14, color='rgb(0,0,0)'),\n",
    "        titlefont=dict(size=17),\n",
    "        showgrid=True,\n",
    "        showline=True,\n",
    "        showticklabels=True,\n",
    "        tickcolor='rgb(51,153,225)',\n",
    "        ticks='outside',\n",
    "        zeroline=False)})\n",
    "    fig['layout'].update(\n",
    "        {'yaxis{}'.format(counter+i+1):YAxis(title=u'$I_{res}/I_{noise}$',gridcolor='rgb(255,255,255)',\n",
    "                                             color='rgb(0,0,0)',\n",
    "                                             range=res_axis_min_max if _scaley.value else [],\n",
    "        #range=[1,10],\n",
    "        tickfont=dict(size=10, color='rgb(0,0,0)'),\n",
    "        titlefont=dict(size=15),\n",
    "        showgrid=True,\n",
    "        showline=True,\n",
    "        showticklabels=True,\n",
    "        tickcolor='rgb(51,153,225)',\n",
    "        ticks='outside',\n",
    "        zeroline=False)})\n",
    "    fig['layout'].update({'xaxis{}'.format(counter+i):XAxis(title='Sources',\n",
    "                                                            titlefont=dict(size=17),\n",
    "                                                            showline=True,\n",
    "                                                            zeroline=False, position=0.0, overlaying='x',)})\n",
    "    fig['layout'].update({'xaxis{}'.format(counter+i+1):XAxis(title='Sources',\n",
    "                                                              titlefont=dict(size=17),\n",
    "                                                              showline=True,\n",
    "                                                              zeroline=False)}# domain=[0.505, 0.8])}\n",
    "        )\n",
    "    i+=1\n",
    "    j+=0.285\n",
    "py.iplot(fig, filename='make-subplots-multiple-with-titles')"
   ]
  },
  {
   "cell_type": "markdown",
   "metadata": {},
   "source": [
    "## Profiling of Algorithms"
   ]
  },
  {
   "cell_type": "code",
   "execution_count": null,
   "metadata": {},
   "outputs": [],
   "source": [
    "path = directory.value\n",
    "######################################\n",
    "import json\n",
    "path = '/home/athanaseus/Desktop'\n",
    "def get_json_dict(filename):\n",
    "    with open(filename) as data_file:\n",
    "        data  = json.load(data_file)\n",
    "        return data\n",
    "#######################################\n",
    "time_data, proc_names, trace_data = [], [], []\n",
    "prof_files = [\n",
    "#   'profiler.json',\n",
    "#    'profiler_6h_extended.json',\n",
    "   'profiler_6h_point.json'\n",
    "]\n",
    "colour = ['rgb(0,0,225)', 'rgb(225,0,0)']\n",
    "plot_order = {\n",
    "              0:'casa_clean',\n",
    "              1:'ddfacet',\n",
    "              2:'lwimager',\n",
    "              3:'tclean',\n",
    "              4:'wsclean'\n",
    "             }\n",
    "for c, prof_file in enumerate(prof_files):\n",
    "    time_data, proc_names = [], []\n",
    "    for i, proc in plot_order.items():\n",
    "        t = prof_file.split('_')[1].split('.')[0]\n",
    "        #prof_data = helper_module.get_json_dict('%s/%s' % (path, prof_file))\n",
    "        prof_data = get_json_dict('%s/%s' % (path, prof_file))\n",
    "        for proc_d, time_d in prof_data.items():\n",
    "            if proc in proc_d:\n",
    "                proc_names.append(proc_d.split('_%s_32MHz' % t)[0].split('image_')[-1].upper())\n",
    "                time_data.append(time_d)\n",
    "                \n",
    "    trace = go.Scatter(x = proc_names, y = np.array(time_data), mode = 'lines+markers', showlegend=False,\n",
    "                       marker=dict(color=colour[c]))\n",
    "    trace_data.append(trace)\n",
    "layout = go.Layout(\n",
    "#    title='Radio Interferometry Algorithm Profiling',\n",
    "    titlefont=dict(size=16),\n",
    "    yaxis=dict(\n",
    "        title='Time (s)',\n",
    "        titlefont=dict(\n",
    "            size=18,\n",
    "            color='rgb(107, 107, 107)'\n",
    "        ),\n",
    "        tickfont=dict(\n",
    "            size=14,\n",
    "            color='rgb(107, 107, 107)'\n",
    "        )\n",
    "    ),\n",
    "    xaxis=dict(\n",
    "        title='Imagers',\n",
    "        titlefont=dict(size=18)\n",
    "    ),\n",
    "   # plot_bgcolor='rgb(229,229,229)'\n",
    ")\n",
    "\n",
    "fig = go.Figure(data=trace_data, layout=layout)#, layout=layout)\n",
    "py.iplot(fig, filename='basic-scatters')"
   ]
  },
  {
   "cell_type": "markdown",
   "metadata": {},
   "source": [
    "## View Reconstructed Maps"
   ]
  },
  {
   "cell_type": "code",
   "execution_count": null,
   "metadata": {
    "scrolled": false
   },
   "outputs": [],
   "source": [
    "%%html\n",
    "<iframe src=\"http://js9.si.edu\" width=990 height=740></iframe>"
   ]
  },
  {
   "cell_type": "markdown",
   "metadata": {
    "extensions": {
     "jupyter_dashboards": {
      "version": 1,
      "views": {
       "grid_default": {},
       "report_default": {
        "hidden": false
       }
      }
     }
    }
   },
   "source": [
    "## Source meta-data"
   ]
  },
  {
   "cell_type": "code",
   "execution_count": null,
   "metadata": {
    "extensions": {
     "jupyter_dashboards": {
      "version": 1,
      "views": {
       "grid_default": {},
       "report_default": {
        "hidden": false
       }
      }
     }
    }
   },
   "outputs": [],
   "source": [
    "src_nm = widgets.Text(\n",
    "    value='',\n",
    "    placeholder='ay040',\n",
    "    description='Source Name:',\n",
    "    disabled=False\n",
    ")\n",
    "display(src_nm)"
   ]
  },
  {
   "cell_type": "code",
   "execution_count": null,
   "metadata": {
    "extensions": {
     "jupyter_dashboards": {
      "version": 1,
      "views": {
       "grid_default": {},
       "report_default": {
        "hidden": false
       }
      }
     }
    }
   },
   "outputs": [],
   "source": [
    "def run_all(ev):\n",
    "    display(Javascript('IPython.notebook.execute_cell_range(IPython.notebook.get_selected_index()+1,'\n",
    "                       'IPython.notebook.get_selected_index()+2)'))\n",
    "\n",
    "button = widgets.Button(description=\"Search\")\n",
    "button.on_click(run_all)\n",
    "display(button)"
   ]
  },
  {
   "cell_type": "code",
   "execution_count": null,
   "metadata": {},
   "outputs": [],
   "source": []
  }
 ],
 "metadata": {
  "celltoolbar": "Slideshow",
  "extensions": {
   "jupyter_dashboards": {
    "activeView": "report_default",
    "version": 1,
    "views": {
     "grid_default": {
      "name": "grid",
      "type": "grid"
     },
     "report_default": {
      "name": "report",
      "type": "report"
     }
    }
   }
  },
  "kernelspec": {
   "display_name": "Python 2",
   "language": "python",
   "name": "python2"
  },
  "language_info": {
   "codemirror_mode": {
    "name": "ipython",
    "version": 2
   },
   "file_extension": ".py",
   "mimetype": "text/x-python",
   "name": "python",
   "nbconvert_exporter": "python",
   "pygments_lexer": "ipython2",
   "version": "2.7.6"
  },
  "widgets": {
   "application/vnd.jupyter.widget-state+json": {
    "state": {
     "13deb65bdeb0470aa7c72829d9da16f5": {
      "model_module": "@jupyter-widgets/base",
      "model_module_version": "1.1.0",
      "model_name": "LayoutModel",
      "state": {}
     },
     "16c94afb37f6412aaa729588d3273169": {
      "model_module": "@jupyter-widgets/controls",
      "model_module_version": "1.4.0",
      "model_name": "TextModel",
      "state": {
       "description": "Input directory:",
       "layout": "IPY_MODEL_613bc503857a4e0384092ec9864f61f9",
       "placeholder": "input",
       "style": "IPY_MODEL_86cba39e1c3147d289493c1d7ed9e247",
       "value": "/media/athanaseus/JaaVaaS/WIP/run1/run_sim1/output"
      }
     },
     "288035d1842343729368404df2630109": {
      "model_module": "@jupyter-widgets/base",
      "model_module_version": "1.1.0",
      "model_name": "LayoutModel",
      "state": {}
     },
     "2a62e8f726454da5a72e0a65d7d16f10": {
      "model_module": "@jupyter-widgets/controls",
      "model_module_version": "1.4.0",
      "model_name": "ButtonStyleModel",
      "state": {}
     },
     "37f2026fb1754be98b4408f0ec87049c": {
      "model_module": "@jupyter-widgets/controls",
      "model_module_version": "1.4.0",
      "model_name": "IntSliderModel",
      "state": {
       "continuous_update": false,
       "description": "Bin by spi:",
       "layout": "IPY_MODEL_af951d76c6a74d5894207e259390472f",
       "min": 1,
       "style": "IPY_MODEL_f4e6109e45f24a93a0543d0fe26d1932",
       "value": 5
      }
     },
     "4124c5db9bb843abb4eedc8262bae61a": {
      "model_module": "@jupyter-widgets/controls",
      "model_module_version": "1.4.0",
      "model_name": "ButtonModel",
      "state": {
       "description": "Configure",
       "layout": "IPY_MODEL_13deb65bdeb0470aa7c72829d9da16f5",
       "style": "IPY_MODEL_dffaca690ce34dbc9c38cbf114a209d5"
      }
     },
     "4f9b6b72d78849d5b5c3829f49eeef36": {
      "model_module": "@jupyter-widgets/controls",
      "model_module_version": "1.4.0",
      "model_name": "ButtonStyleModel",
      "state": {}
     },
     "588cc60b3b824659a660f5b45ffde503": {
      "model_module": "@jupyter-widgets/base",
      "model_module_version": "1.1.0",
      "model_name": "LayoutModel",
      "state": {}
     },
     "613bc503857a4e0384092ec9864f61f9": {
      "model_module": "@jupyter-widgets/base",
      "model_module_version": "1.1.0",
      "model_name": "LayoutModel",
      "state": {}
     },
     "6d65f0049e3c4996ba8e81421b6458f3": {
      "model_module": "@jupyter-widgets/controls",
      "model_module_version": "1.4.0",
      "model_name": "CheckboxModel",
      "state": {
       "description": "Same Y-scale",
       "disabled": false,
       "layout": "IPY_MODEL_f0cde3ebb3cd436a86174b8bf0b04032",
       "style": "IPY_MODEL_f3c770abc7c244608329b326e1c1807d",
       "value": false
      }
     },
     "6e20f2ebb5cc4ec9b440afaeb89ed4c7": {
      "model_module": "@jupyter-widgets/controls",
      "model_module_version": "1.4.0",
      "model_name": "IntSliderModel",
      "state": {
       "continuous_update": false,
       "description": "Bin by flux(%):",
       "layout": "IPY_MODEL_588cc60b3b824659a660f5b45ffde503",
       "min": 1,
       "style": "IPY_MODEL_97dfbacdc9b24393bf2db5220eaffb15",
       "value": 100
      }
     },
     "7499c1ac3c424a4096750b8383946f02": {
      "model_module": "@jupyter-widgets/controls",
      "model_module_version": "1.4.0",
      "model_name": "TextModel",
      "state": {
       "description": "Input directory:",
       "layout": "IPY_MODEL_288035d1842343729368404df2630109",
       "placeholder": "input",
       "style": "IPY_MODEL_cbd19f2d30f24ae0b4617d43f7951778",
       "value": "input"
      }
     },
     "8016304a821b495381acac10d28e4fb9": {
      "model_module": "@jupyter-widgets/base",
      "model_module_version": "1.1.0",
      "model_name": "LayoutModel",
      "state": {}
     },
     "86cba39e1c3147d289493c1d7ed9e247": {
      "model_module": "@jupyter-widgets/controls",
      "model_module_version": "1.4.0",
      "model_name": "DescriptionStyleModel",
      "state": {
       "description_width": ""
      }
     },
     "8c163ff4b2324784a7afe43ce79d7a11": {
      "model_module": "@jupyter-widgets/base",
      "model_module_version": "1.1.0",
      "model_name": "LayoutModel",
      "state": {}
     },
     "97dfbacdc9b24393bf2db5220eaffb15": {
      "model_module": "@jupyter-widgets/controls",
      "model_module_version": "1.4.0",
      "model_name": "SliderStyleModel",
      "state": {
       "description_width": ""
      }
     },
     "9b7b95267e0d4196a35fb8c96842ee32": {
      "model_module": "@jupyter-widgets/controls",
      "model_module_version": "1.4.0",
      "model_name": "SliderStyleModel",
      "state": {
       "description_width": ""
      }
     },
     "a36964be3c064016998792763690d2f1": {
      "model_module": "@jupyter-widgets/base",
      "model_module_version": "1.1.0",
      "model_name": "LayoutModel",
      "state": {}
     },
     "af951d76c6a74d5894207e259390472f": {
      "model_module": "@jupyter-widgets/base",
      "model_module_version": "1.1.0",
      "model_name": "LayoutModel",
      "state": {}
     },
     "b9002d900bab4ab18be9062ab84be749": {
      "model_module": "@jupyter-widgets/controls",
      "model_module_version": "1.4.0",
      "model_name": "ButtonModel",
      "state": {
       "description": "Configure",
       "layout": "IPY_MODEL_8016304a821b495381acac10d28e4fb9",
       "style": "IPY_MODEL_4f9b6b72d78849d5b5c3829f49eeef36"
      }
     },
     "bd8029b421b4491ca76fef4d5937d31f": {
      "model_module": "@jupyter-widgets/controls",
      "model_module_version": "1.4.0",
      "model_name": "CheckboxModel",
      "state": {
       "description": "Same X-scale",
       "disabled": false,
       "layout": "IPY_MODEL_a36964be3c064016998792763690d2f1",
       "style": "IPY_MODEL_eeedbc3eb58741b29e7cf02a61f798ef",
       "value": false
      }
     },
     "c53cfbea11ea45e3acdbfbdd93257cb2": {
      "model_module": "@jupyter-widgets/base",
      "model_module_version": "1.1.0",
      "model_name": "LayoutModel",
      "state": {}
     },
     "cbd19f2d30f24ae0b4617d43f7951778": {
      "model_module": "@jupyter-widgets/controls",
      "model_module_version": "1.4.0",
      "model_name": "DescriptionStyleModel",
      "state": {
       "description_width": ""
      }
     },
     "cfa2bc71222d485dbf277d1ad889f20a": {
      "model_module": "@jupyter-widgets/controls",
      "model_module_version": "1.4.0",
      "model_name": "IntRangeSliderModel",
      "state": {
       "_model_name": "IntRangeSliderModel",
       "_view_name": "IntRangeSliderView",
       "continuous_update": false,
       "description": "Y-axis limit",
       "layout": "IPY_MODEL_f1e925c37bf84c879ff1b4f6db52a480",
       "max": 150,
       "min": -150,
       "style": "IPY_MODEL_9b7b95267e0d4196a35fb8c96842ee32",
       "value": [
        -80,
        80
       ]
      }
     },
     "dffaca690ce34dbc9c38cbf114a209d5": {
      "model_module": "@jupyter-widgets/controls",
      "model_module_version": "1.4.0",
      "model_name": "ButtonStyleModel",
      "state": {}
     },
     "eeedbc3eb58741b29e7cf02a61f798ef": {
      "model_module": "@jupyter-widgets/controls",
      "model_module_version": "1.4.0",
      "model_name": "DescriptionStyleModel",
      "state": {
       "description_width": ""
      }
     },
     "f0cde3ebb3cd436a86174b8bf0b04032": {
      "model_module": "@jupyter-widgets/base",
      "model_module_version": "1.1.0",
      "model_name": "LayoutModel",
      "state": {}
     },
     "f1e925c37bf84c879ff1b4f6db52a480": {
      "model_module": "@jupyter-widgets/base",
      "model_module_version": "1.1.0",
      "model_name": "LayoutModel",
      "state": {}
     },
     "f3c770abc7c244608329b326e1c1807d": {
      "model_module": "@jupyter-widgets/controls",
      "model_module_version": "1.4.0",
      "model_name": "DescriptionStyleModel",
      "state": {
       "description_width": ""
      }
     },
     "f4e6109e45f24a93a0543d0fe26d1932": {
      "model_module": "@jupyter-widgets/controls",
      "model_module_version": "1.4.0",
      "model_name": "SliderStyleModel",
      "state": {
       "description_width": ""
      }
     },
     "f76618b43fc749d49a5088efc3bd3316": {
      "model_module": "@jupyter-widgets/controls",
      "model_module_version": "1.4.0",
      "model_name": "SliderStyleModel",
      "state": {
       "description_width": ""
      }
     },
     "fb6a9c2e13dc416a95ed58b1dc7cea87": {
      "model_module": "@jupyter-widgets/controls",
      "model_module_version": "1.4.0",
      "model_name": "ButtonModel",
      "state": {
       "description": "PLOT",
       "layout": "IPY_MODEL_c53cfbea11ea45e3acdbfbdd93257cb2",
       "style": "IPY_MODEL_2a62e8f726454da5a72e0a65d7d16f10"
      }
     },
     "ffb3ba02b3e64d2d8a3c01e4d302c720": {
      "model_module": "@jupyter-widgets/controls",
      "model_module_version": "1.4.0",
      "model_name": "IntSliderModel",
      "state": {
       "continuous_update": false,
       "description": "Bin by flux:",
       "layout": "IPY_MODEL_8c163ff4b2324784a7afe43ce79d7a11",
       "min": 1,
       "style": "IPY_MODEL_f76618b43fc749d49a5088efc3bd3316",
       "value": 5
      }
     }
    },
    "version_major": 2,
    "version_minor": 0
   }
  }
 },
 "nbformat": 4,
 "nbformat_minor": 2
}
