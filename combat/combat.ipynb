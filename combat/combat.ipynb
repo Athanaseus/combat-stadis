{
 "cells": [
  {
   "cell_type": "markdown",
   "metadata": {
    "extensions": {
     "jupyter_dashboards": {
      "version": 1,
      "views": {
       "grid_default": {},
       "report_default": {
        "hidden": false
       }
      }
     }
    }
   },
   "source": [
    "<img src='https://user-images.githubusercontent.com/16665629/36117115-329c6220-1041-11e8-98d3-7cd1ce05503c.jpeg'\n",
    "style=\"float:right;margin:0 10px 0px 0;width: 150px;\">\n",
    "\n",
    "# Compare observed and theoretical statistical distributions"
   ]
  },
  {
   "cell_type": "code",
   "execution_count": 30,
   "metadata": {
    "extensions": {
     "jupyter_dashboards": {
      "version": 1,
      "views": {
       "grid_default": {},
       "report_default": {
        "hidden": true
       }
      }
     }
    }
   },
   "outputs": [],
   "source": [
    "models_compare = {\n",
    "            'meerkathi-pipeline_final-pybdsm.lsm.html': 'meerkathi-pipeline_1-pybdsm.lsm.html',\n",
    "            'meerkathi-pipeline_2-pybdsm.lsm.html': 'meerkathi-pipeline_1-pybdsm.lsm.html',\n",
    "            'meerkathi-pipeline_3-pybdsm-combined.lsm.html': 'meerkathi-pipeline_2-pybdsm.lsm.html',\n",
    "            'meerkathi-pipeline_4-pybdsm-combined.lsm.html': 'meerkathi-pipeline_3-pybdsm-combined.lsm.html',\n",
    "            'meerkathi-pipeline_final-pybdsm.lsm.html': 'meerkathi-pipeline_4-pybdsm-combined.lsm.html',\n",
    "         }\n",
    "models_dr = {\n",
    "                'meerkathi-pipeline_1-pybdsm.lsm.html': 'meerkathi-pipeline_2-MFS-residual.fits',\n",
    "                'meerkathi-pipeline_2-pybdsm.lsm.html':'meerkathi-pipeline_3-MFS-image.fits',\n",
    "                'meerkathi-pipeline_3-pybdsm-combined.lsm.html': 'meerkathi-pipeline_4-MFS-image.fits',\n",
    "                'meerkathi-pipeline_4-pybdsm-combined.lsm.html' : 'meerkathi-pipeline_5-MFS-image.fits',\n",
    "            }\n",
    "residuals2 = [\n",
    "             'meerkathi-pipeline_1-MFS-image.fits',\n",
    "             'meerkathi-pipeline_2-MFS-image.fits',\n",
    "             'meerkathi-pipeline_3-MFS-image.fits',\n",
    "             'meerkathi-pipeline_4-MFS-image.fits',\n",
    "             'meerkathi-pipeline_5-MFS-image.fits'\n",
    "            ]\n",
    "residuals1 = [\n",
    "             'meerkathi-pipeline_1-MFS-residual.fits',\n",
    "             'meerkathi-pipeline_2-MFS-residual.fits',\n",
    "             'meerkathi-pipeline_3-MFS-residual.fits',\n",
    "             'meerkathi-pipeline_4-MFS-residual.fits',\n",
    "             'meerkathi-pipeline_5-MFS-residual.fits'\n",
    "            ]\n",
    "tolerance = 0.0001 # area factor around the source"
   ]
  },
  {
   "cell_type": "code",
   "execution_count": 18,
   "metadata": {
    "extensions": {
     "jupyter_dashboards": {
      "version": 1,
      "views": {
       "grid_default": {},
       "report_default": {
        "hidden": false
       }
      }
     }
    },
    "format": "row"
   },
   "outputs": [
    {
     "data": {
      "application/vnd.jupyter.widget-view+json": {
       "model_id": "de5bb230b1314bb8b61adcf6db1b8ec8",
       "version_major": 2,
       "version_minor": 0
      },
      "text/html": [
       "<p>Failed to display Jupyter Widget of type <code>Button</code>.</p>\n",
       "<p>\n",
       "  If you're reading this message in the Jupyter Notebook or JupyterLab Notebook, it may mean\n",
       "  that the widgets JavaScript is still loading. If this message persists, it\n",
       "  likely means that the widgets JavaScript library is either not installed or\n",
       "  not enabled. See the <a href=\"https://ipywidgets.readthedocs.io/en/stable/user_install.html\">Jupyter\n",
       "  Widgets Documentation</a> for setup instructions.\n",
       "</p>\n",
       "<p>\n",
       "  If you're reading this message in another frontend (for example, a static\n",
       "  rendering on GitHub or <a href=\"https://nbviewer.jupyter.org/\">NBViewer</a>),\n",
       "  it may mean that your frontend doesn't currently support widgets.\n",
       "</p>\n"
      ],
      "text/plain": [
       "Button(description=u'Configure', style=ButtonStyle())"
      ]
     },
     "metadata": {},
     "output_type": "display_data"
    },
    {
     "data": {
      "text/html": [
       "<script>\n",
       "code_show=true; \n",
       "function code_toggle() {\n",
       " if (code_show){\n",
       " $('div.input').hide();\n",
       " } else {\n",
       " $('div.input').show();\n",
       " }\n",
       " code_show = !code_show\n",
       "} \n",
       "$( document ).ready(code_toggle);\n",
       "</script>\n",
       "<form action=\"javascript:code_toggle()\"><input type=\"submit\"\n",
       "value=\"Click here to toggle on/off the raw code.\"></form>"
      ],
      "text/plain": [
       "<IPython.core.display.HTML object>"
      ]
     },
     "execution_count": 18,
     "metadata": {},
     "output_type": "execute_result"
    }
   ],
   "source": [
    "from ipywidgets import widgets, interact\n",
    "from IPython.display import Javascript, display\n",
    "from IPython.display import HTML\n",
    "\n",
    "def run_all(ev):\n",
    "    # Runn all cells\n",
    "    #display(Javascript('IPython.notebook.execute_cells_below()'))\n",
    "    display(Javascript('IPython.notebook.execute_cell_range(IPython.notebook.get_selected_index()+1,'\n",
    "                       'IPython.notebook.get_selected_index()+5)'))\n",
    "\n",
    "button = widgets.Button(description=\"Configure\")\n",
    "button.on_click(run_all)\n",
    "display(button)\n",
    "\n",
    "HTML('''<script>\n",
    "code_show=true; \n",
    "function code_toggle() {\n",
    " if (code_show){\n",
    " $('div.input').hide();\n",
    " } else {\n",
    " $('div.input').show();\n",
    " }\n",
    " code_show = !code_show\n",
    "} \n",
    "$( document ).ready(code_toggle);\n",
    "</script>\n",
    "<form action=\"javascript:code_toggle()\"><input type=\"submit\"\n",
    "value=\"Click here to toggle on/off the raw code.\"></form>''')"
   ]
  },
  {
   "cell_type": "code",
   "execution_count": 3,
   "metadata": {
    "extensions": {
     "jupyter_dashboards": {
      "version": 1,
      "views": {
       "grid_default": {},
       "report_default": {
        "hidden": false
       }
      }
     }
    }
   },
   "outputs": [
    {
     "name": "stderr",
     "output_type": "stream",
     "text": [
      "/usr/local/lib/python2.7/dist-packages/pyfits/__init__.py:22: PyFITSDeprecationWarning: PyFITS is deprecated, please use astropy.io.fits\n",
      "  PyFITSDeprecationWarning)  # noqa\n"
     ]
    },
    {
     "data": {
      "text/html": [
       "<script>requirejs.config({paths: { 'plotly': ['https://cdn.plot.ly/plotly-latest.min']},});if(!window.Plotly) {{require(['plotly'],function(plotly) {window.Plotly=plotly;});}}</script>"
      ],
      "text/vnd.plotly.v1+html": [
       "<script>requirejs.config({paths: { 'plotly': ['https://cdn.plot.ly/plotly-latest.min']},});if(!window.Plotly) {{require(['plotly'],function(plotly) {window.Plotly=plotly;});}}</script>"
      ]
     },
     "metadata": {},
     "output_type": "display_data"
    },
    {
     "data": {
      "text/html": [
       "<script>requirejs.config({paths: { 'plotly': ['https://cdn.plot.ly/plotly-latest.min']},});if(!window.Plotly) {{require(['plotly'],function(plotly) {window.Plotly=plotly;});}}</script>"
      ],
      "text/vnd.plotly.v1+html": [
       "<script>requirejs.config({paths: { 'plotly': ['https://cdn.plot.ly/plotly-latest.min']},});if(!window.Plotly) {{require(['plotly'],function(plotly) {window.Plotly=plotly;});}}</script>"
      ]
     },
     "metadata": {},
     "output_type": "display_data"
    }
   ],
   "source": [
    "import glob\n",
    "import combat\n",
    "import matplotlib\n",
    "import numpy as np\n",
    "import pylab as plt\n",
    "from plotly import tools\n",
    "import plotly.graph_objs as go\n",
    "from plotly import offline as py\n",
    "from collections import OrderedDict\n",
    "from scipy.stats import norm, linregress\n",
    "from sklearn.metrics import r2_score, mean_squared_error\n",
    "from plotly.graph_objs import Layout, Figure, XAxis, YAxis\n",
    "from aimfast.aimfast import residual_image_stats, image_dynamic_range, model_dynamic_range\n",
    "py.init_notebook_mode(connected=True)"
   ]
  },
  {
   "cell_type": "code",
   "execution_count": 4,
   "metadata": {
    "extensions": {
     "jupyter_dashboards": {
      "version": 1,
      "views": {
       "grid_default": {},
       "report_default": {
        "hidden": false
       }
      }
     }
    }
   },
   "outputs": [
    {
     "name": "stdout",
     "output_type": "stream",
     "text": [
      "Loading input/meerkathi-pipeline_4-pybdsm-combined.lsm.html: Tigger sky model\n",
      "Loading input/meerkathi-pipeline_3-pybdsm-combined.lsm.html: Tigger sky model\n",
      "Number of sources recovered: 15\n",
      "Loading input/meerkathi-pipeline_3-pybdsm-combined.lsm.html: Tigger sky model\n",
      "Loading input/meerkathi-pipeline_2-pybdsm.lsm.html: Tigger sky model\n",
      "Number of sources recovered: 6\n",
      "Loading input/meerkathi-pipeline_2-pybdsm.lsm.html: Tigger sky model\n",
      "Loading input/meerkathi-pipeline_1-pybdsm.lsm.html: Tigger sky model\n",
      "Number of sources recovered: 6\n",
      "Loading input/meerkathi-pipeline_final-pybdsm.lsm.html: Tigger sky model\n",
      "Loading input/meerkathi-pipeline_4-pybdsm-combined.lsm.html: Tigger sky model\n",
      "Number of sources recovered: 15\n"
     ]
    }
   ],
   "source": [
    "reload(combat)\n",
    "ARCSEC_DEG = 1.0/(60*60)\n",
    "results = combat.property_results(models=models_compare, tolerance=tolerance, input='input')"
   ]
  },
  {
   "cell_type": "code",
   "execution_count": 5,
   "metadata": {
    "extensions": {
     "jupyter_dashboards": {
      "version": 1,
      "views": {
       "grid_default": {},
       "report_default": {
        "hidden": true
       }
      }
     }
    }
   },
   "outputs": [],
   "source": [
    "def run_all(ev):\n",
    "    # Runn all cells\n",
    "    #display(Javascript('IPython.notebook.execute_cells_below()'))\n",
    "    display(Javascript('IPython.notebook.execute_cell_range(IPython.notebook.get_selected_index()+1,'\n",
    "                       'IPython.notebook.get_selected_index()+17)'))\n",
    "\n",
    "button = widgets.Button(\n",
    "    description=\"PLOT\"\n",
    ")\n",
    "button.on_click(run_all)\n",
    "_scaley = widgets.Checkbox(\n",
    "    value=False,\n",
    "    description='Same Y-scale',\n",
    "    disabled=False\n",
    ")\n",
    "_scalex = widgets.Checkbox(\n",
    "    value=False,\n",
    "    description='Same X-scale',\n",
    "    disabled=False\n",
    ")\n",
    "_num_bins = widgets.IntSlider(\n",
    "    value=50,\n",
    "    min=0,\n",
    "    max=1000,\n",
    "    step=1,\n",
    "    description='Number of bins:',\n",
    "    disabled=False,\n",
    "    continuous_update=False,\n",
    "    orientation='horizontal',\n",
    "    readout=True,\n",
    "    readout_format='d'\n",
    ")"
   ]
  },
  {
   "cell_type": "code",
   "execution_count": 6,
   "metadata": {
    "extensions": {
     "jupyter_dashboards": {
      "version": 1,
      "views": {
       "grid_default": {},
       "report_default": {
        "hidden": false
       }
      }
     }
    }
   },
   "outputs": [
    {
     "data": {
      "application/vnd.jupyter.widget-view+json": {
       "model_id": "71050581c9cd4a5b9abfed45536ce009",
       "version_major": 2,
       "version_minor": 0
      },
      "text/html": [
       "<p>Failed to display Jupyter Widget of type <code>Button</code>.</p>\n",
       "<p>\n",
       "  If you're reading this message in the Jupyter Notebook or JupyterLab Notebook, it may mean\n",
       "  that the widgets JavaScript is still loading. If this message persists, it\n",
       "  likely means that the widgets JavaScript library is either not installed or\n",
       "  not enabled. See the <a href=\"https://ipywidgets.readthedocs.io/en/stable/user_install.html\">Jupyter\n",
       "  Widgets Documentation</a> for setup instructions.\n",
       "</p>\n",
       "<p>\n",
       "  If you're reading this message in another frontend (for example, a static\n",
       "  rendering on GitHub or <a href=\"https://nbviewer.jupyter.org/\">NBViewer</a>),\n",
       "  it may mean that your frontend doesn't currently support widgets.\n",
       "</p>\n"
      ],
      "text/plain": [
       "Button(description=u'PLOT', style=ButtonStyle())"
      ]
     },
     "metadata": {},
     "output_type": "display_data"
    },
    {
     "data": {
      "application/javascript": [
       "IPython.notebook.execute_cell_range(IPython.notebook.get_selected_index()+1,IPython.notebook.get_selected_index()+17)"
      ],
      "text/plain": [
       "<IPython.core.display.Javascript object>"
      ]
     },
     "metadata": {},
     "output_type": "display_data"
    },
    {
     "data": {
      "application/javascript": [
       "IPython.notebook.execute_cell_range(IPython.notebook.get_selected_index()+1,IPython.notebook.get_selected_index()+17)"
      ],
      "text/plain": [
       "<IPython.core.display.Javascript object>"
      ]
     },
     "metadata": {},
     "output_type": "display_data"
    }
   ],
   "source": [
    "display(button)\n",
    "#display(_num_bins)"
   ]
  },
  {
   "cell_type": "markdown",
   "metadata": {
    "extensions": {
     "jupyter_dashboards": {
      "version": 1,
      "views": {
       "grid_default": {},
       "report_default": {
        "hidden": false
       }
      }
     }
    }
   },
   "source": [
    "## Photometric Measurements"
   ]
  },
  {
   "cell_type": "code",
   "execution_count": 19,
   "metadata": {
    "extensions": {
     "jupyter_dashboards": {
      "version": 1,
      "views": {
       "grid_default": {},
       "report_default": {
        "hidden": false
       }
      }
     }
    }
   },
   "outputs": [
    {
     "name": "stdout",
     "output_type": "stream",
     "text": [
      "Model: meerkathi-pipeline_3-pybdsm-combined \n",
      "--------------------------------------------- \n",
      "Slope: 1.0000 | Mean Squared Error: 3.34E-33 | R2: 1.0000 Intercept: 0.0000\n",
      "===========================================================================\n",
      "Model: meerkathi-pipeline_2-pybdsm \n",
      "--------------------------------------------- \n",
      "Slope: 1.0000 | Mean Squared Error: 8.35E-33 | R2: 1.0000 Intercept: 0.0000\n",
      "===========================================================================\n",
      "Model: meerkathi-pipeline_1-pybdsm \n",
      "--------------------------------------------- \n",
      "Slope: 1.0000 | Mean Squared Error: 3.64E-06 | R2: 1.0000 Intercept: 0.0000\n",
      "===========================================================================\n",
      "Model: meerkathi-pipeline_4-pybdsm-combined \n",
      "--------------------------------------------- \n",
      "Slope: 1.0000 | Mean Squared Error: 3.34E-33 | R2: 1.0000 Intercept: 0.0000\n",
      "===========================================================================\n"
     ]
    }
   ],
   "source": [
    "fig = plt.figure()\n",
    "counter = 0\n",
    "flux_im = dict()\n",
    "I_min_max = []\n",
    "err_I_min_max = []\n",
    "for input_model, output_model in models_compare.items():\n",
    "    counter+=1\n",
    "    name_labels = []\n",
    "    flux_in_data = []\n",
    "    flux_out_data = []\n",
    "    source_scale = []\n",
    "    phase_center_dist = []\n",
    "    flux_out_err_data = []\n",
    "    heading = output_model[:-9]\n",
    "    for n in range(len(results[heading]['flux'])):\n",
    "        flux_out_data.append(results[heading]['flux'][n][0])\n",
    "        flux_out_err_data.append(results[heading]['flux'][n][1])\n",
    "        flux_in_data.append(results[heading]['flux'][n][2])\n",
    "        name_labels.append(results[heading]['flux'][n][3])\n",
    "        phase_center_dist.append(results[heading]['position'][n][-3])\n",
    "        source_scale.append(results[heading]['shape'][n][3])\n",
    "    LIMIT = 0\n",
    "    zipped_props = zip(flux_out_data, flux_out_err_data, flux_in_data, name_labels, phase_center_dist, source_scale)\n",
    "    flux_out_data, flux_out_err_data, flux_in_data, name_labels, phase_center_dist, source_scale = zip(\n",
    "        *sorted(zipped_props, key=lambda x: x[0]))\n",
    "    I_min_max += flux_out_data\n",
    "    err_I_min_max += flux_out_err_data\n",
    "    flux_R_score = r2_score(flux_in_data, flux_out_data)\n",
    "    flux_MSE = mean_squared_error(flux_in_data, flux_out_data)\n",
    "    reg = linregress(flux_in_data, flux_in_data)\n",
    "    I_out_in = [float(I_out)/I_in for I_out,I_in in zip(flux_out_data,flux_in_data)]\n",
    "    n, bins, patches = matplotlib.pyplot.hist(I_out_in, _num_bins.value, normed=False, facecolor='blue',\n",
    "                                           orientation='horizontal', alpha=0.5)\n",
    "    (mu, sigma) = norm.fit(I_out_in)\n",
    "    peak = [bins[i] for i,v in enumerate(n) if v == n.max()][0]\n",
    "    print  \"Model: %s \\n%s \\nSlope: %.4f | Mean Squared Error: %.2E | R2: %.4f Intercept: %.4f\\n%s\" % (\n",
    "        heading, '-'*45, reg.slope, flux_MSE, flux_R_score, reg.intercept, '='*75)\n",
    "    counter += 1\n",
    "plt.close(fig)"
   ]
  },
  {
   "cell_type": "code",
   "execution_count": 20,
   "metadata": {
    "extensions": {
     "jupyter_dashboards": {
      "version": 1,
      "views": {
       "grid_default": {},
       "report_default": {
        "hidden": false
       }
      }
     }
    },
    "scrolled": false
   },
   "outputs": [
    {
     "data": {
      "application/vnd.plotly.v1+json": {
       "data": [
        {
         "mode": "line",
         "showlegend": false,
         "type": "scatter",
         "x": [
          0.013094062946046578,
          1.1948322140914134
         ],
         "xaxis": "x1",
         "y": [
          0.013094062946046578,
          1.1948322140914134
         ],
         "yaxis": "y1"
        },
        {
         "error_y": {
          "array": [
           0.0018157565950652009,
           0.001736541240313368,
           0.002061708510492328,
           0.0021849555033350006,
           0.0021608312911947287,
           0.0018875327357053555,
           0.0017544416754654625,
           0.002018066988190107,
           0.0018207649349298773,
           0.005643446779480916,
           0.005154079098519268,
           0.00610107127105991,
           0.00808476357599383,
           0.007547138730886722,
           0.006526341974511744
          ],
          "color": "rgb(158, 63, 221)",
          "type": "data",
          "visible": true
         },
         "marker": {
          "color": [
           3221.22110161112,
           3443.888522462859,
           2459.1599968024816,
           1818.152075742431,
           1340.6754496697713,
           2882.0580143118127,
           2897.725329546359,
           1505.082124013398,
           2263.968656509504,
           641.8333586067981,
           1588.101150578869,
           1201.3983112535664,
           1024.453877025326,
           2041.204377053077,
           393.3460849083838
          ],
          "colorbar": {
           "title": "Distance from phase center (arcsec)",
           "titlefont": {
            "size": 16
           },
           "titleside": "right",
           "x": 1
          },
          "colorscale": "Jet",
          "reversescale": false,
          "showscale": true
         },
         "mode": "markers",
         "name": "meerkathi-pipeline_3-pybdsm-combined flux_ratio",
         "showlegend": false,
         "text": [
          "O305",
          "N315",
          "M304",
          "L053",
          "K182",
          "J344",
          "I014",
          "H002",
          "G013",
          "F131",
          "E122",
          "D282",
          "C331",
          "B033",
          "A030"
         ],
         "type": "scatter",
         "x": [
          0.013094062946046578,
          0.013171694151879701,
          0.013801988539849661,
          0.015333412150137598,
          0.015461767418665182,
          0.02066874854669746,
          0.02423550022480019,
          0.02634083823382786,
          0.03644764600191469,
          0.05041915094395033,
          0.05208323598247721,
          0.06146949230276085,
          0.09844961544090038,
          0.12543503608464196,
          1.1948322140914134
         ],
         "xaxis": "x1",
         "y": [
          0.013094062946046578,
          0.013171694151879701,
          0.013801988539849661,
          0.015333412150137598,
          0.015461767418665182,
          0.02066874854669746,
          0.02423550022480019,
          0.02634083823382786,
          0.03644764600191469,
          0.05041915094395033,
          0.05208323598247721,
          0.06146949230276085,
          0.09844961544090038,
          0.125435036084642,
          1.1948322140914136
         ],
         "yaxis": "y1"
        },
        {
         "mode": "line",
         "showlegend": false,
         "type": "scatter",
         "x": [
          0.05041915094395033,
          1.1948322140914134
         ],
         "xaxis": "x2",
         "y": [
          0.05041915094395033,
          1.1948322140914134
         ],
         "yaxis": "y2"
        },
        {
         "error_y": {
          "array": [
           0.005643446779480916,
           0.005154079098519268,
           0.00610107127105991,
           0.00808476357599383,
           0.007547138730886722,
           0.006526341974511744
          ],
          "color": "rgb(158, 63, 221)",
          "type": "data",
          "visible": true
         },
         "marker": {
          "color": [
           641.8333586067981,
           1588.101150578869,
           1201.3983112535664,
           1024.453877025326,
           2041.204377053077,
           393.3460849083838
          ],
          "colorscale": "Jet",
          "reversescale": false
         },
         "mode": "markers",
         "name": "meerkathi-pipeline_2-pybdsm flux_ratio",
         "showlegend": false,
         "text": [
          "F131",
          "E122",
          "D282",
          "C331",
          "B033",
          "A030"
         ],
         "type": "scatter",
         "x": [
          0.05041915094395033,
          0.05208323598247721,
          0.06146949230276085,
          0.09844961544090038,
          0.12543503608464196,
          1.1948322140914134
         ],
         "xaxis": "x2",
         "y": [
          0.05041915094395033,
          0.05208323598247721,
          0.06146949230276085,
          0.09844961544090038,
          0.125435036084642,
          1.1948322140914136
         ],
         "yaxis": "y2"
        },
        {
         "mode": "line",
         "showlegend": false,
         "type": "scatter",
         "x": [
          0.05041915094395033,
          1.1948322140914134
         ],
         "xaxis": "x3",
         "y": [
          0.05041915094395033,
          1.1948322140914134
         ],
         "yaxis": "y3"
        },
        {
         "error_y": {
          "array": [
           0.005766539786952249,
           0.005207001721220455,
           0.006152405217372038,
           0.008270554765968299,
           0.007533474291128609,
           0.006982347153515747
          ],
          "color": "rgb(158, 63, 221)",
          "type": "data",
          "visible": true
         },
         "marker": {
          "color": [
           642.7900462919683,
           1587.7052528072966,
           1201.2351086228118,
           1024.5188658399736,
           2040.7892025917813,
           393.2869470320204
          ],
          "colorscale": "Jet",
          "reversescale": false
         },
         "mode": "markers",
         "name": "meerkathi-pipeline_1-pybdsm flux_ratio",
         "showlegend": false,
         "text": [
          "F131",
          "E122",
          "D282",
          "C331",
          "B033",
          "A030"
         ],
         "type": "scatter",
         "x": [
          0.05041915094395033,
          0.05208323598247721,
          0.06146949230276085,
          0.09844961544090038,
          0.12543503608464196,
          1.1948322140914134
         ],
         "xaxis": "x3",
         "y": [
          0.05003310597449618,
          0.05379148953793456,
          0.06181088777986152,
          0.09591296975861444,
          0.12346797064456387,
          1.1919394714985592
         ],
         "yaxis": "y3"
        },
        {
         "mode": "line",
         "showlegend": false,
         "type": "scatter",
         "x": [
          0.013094062946046578,
          1.1948322140914134
         ],
         "xaxis": "x4",
         "y": [
          0.013094062946046578,
          1.1948322140914134
         ],
         "yaxis": "y4"
        },
        {
         "error_y": {
          "array": [
           0.0018157565950652009,
           0.001736541240313368,
           0.002061708510492328,
           0.0021849555033350006,
           0.0021608312911947287,
           0.0018875327357053555,
           0.0017544416754654625,
           0.002018066988190107,
           0.0018207649349298773,
           0.005643446779480916,
           0.005154079098519268,
           0.00610107127105991,
           0.00808476357599383,
           0.007547138730886722,
           0.006526341974511744
          ],
          "color": "rgb(158, 63, 221)",
          "type": "data",
          "visible": true
         },
         "marker": {
          "color": [
           3221.22110161112,
           3443.888522462859,
           2459.1599968024816,
           1818.152075742431,
           1340.6754496697713,
           2882.0580143118127,
           2897.725329546359,
           1505.082124013398,
           2263.968656509504,
           641.8333586067981,
           1588.101150578869,
           1201.3983112535664,
           1024.453877025326,
           2041.204377053077,
           393.3460849083838
          ],
          "colorscale": "Jet",
          "reversescale": false
         },
         "mode": "markers",
         "name": "meerkathi-pipeline_4-pybdsm-combined flux_ratio",
         "showlegend": false,
         "text": [
          "O305",
          "N315",
          "M304",
          "L053",
          "K182",
          "J344",
          "I014",
          "H002",
          "G013",
          "F131",
          "E122",
          "D282",
          "C331",
          "B033",
          "A030"
         ],
         "type": "scatter",
         "x": [
          0.013094062946046578,
          0.013171694151879701,
          0.013801988539849661,
          0.015333412150137598,
          0.015461767418665182,
          0.02066874854669746,
          0.02423550022480019,
          0.02634083823382786,
          0.03644764600191469,
          0.05041915094395033,
          0.05208323598247721,
          0.06146949230276085,
          0.09844961544090038,
          0.12543503608464196,
          1.1948322140914134
         ],
         "xaxis": "x4",
         "y": [
          0.013094062946046578,
          0.013171694151879701,
          0.013801988539849661,
          0.015333412150137598,
          0.015461767418665182,
          0.02066874854669746,
          0.02423550022480019,
          0.02634083823382786,
          0.03644764600191469,
          0.05041915094395033,
          0.05208323598247721,
          0.06146949230276085,
          0.09844961544090038,
          0.125435036084642,
          1.1948322140914136
         ],
         "yaxis": "y4"
        }
       ],
       "layout": {
        "annotations": [
         {
          "font": {
           "size": 10
          },
          "showarrow": false,
          "text": "<b>MEERKATHI-PIPELINE_3-PYBDSM-COMBINED flux density</b>",
          "x": 0.5,
          "xanchor": "center",
          "xref": "paper",
          "y": 1,
          "yanchor": "bottom",
          "yref": "paper"
         },
         {
          "font": {
           "size": 10
          },
          "showarrow": false,
          "text": "<b>MEERKATHI-PIPELINE_2-PYBDSM flux density</b>",
          "x": 0.5,
          "xanchor": "center",
          "xref": "paper",
          "y": 0.7124999999999999,
          "yanchor": "bottom",
          "yref": "paper"
         },
         {
          "font": {
           "size": 10
          },
          "showarrow": false,
          "text": "<b>MEERKATHI-PIPELINE_1-PYBDSM flux density</b>",
          "x": 0.5,
          "xanchor": "center",
          "xref": "paper",
          "y": 0.425,
          "yanchor": "bottom",
          "yref": "paper"
         },
         {
          "font": {
           "size": 10
          },
          "showarrow": false,
          "text": "<b>MEERKATHI-PIPELINE_4-PYBDSM-COMBINED flux density</b>",
          "x": 0.5,
          "xanchor": "center",
          "xref": "paper",
          "y": 0.1375,
          "yanchor": "bottom",
          "yref": "paper"
         }
        ],
        "height": 900,
        "legend": {
         "x": 0.8,
         "y": 1
        },
        "paper_bgcolor": "rgb(255,255,255)",
        "plot_bgcolor": "rgb(229,229,229)",
        "title": "",
        "width": 900,
        "xaxis1": {
         "anchor": "y1",
         "domain": [
          0,
          1
         ],
         "overlaying": "x",
         "position": 0,
         "title": "I_in (Jy)",
         "titlefont": {
          "size": 17
         }
        },
        "xaxis2": {
         "anchor": "y2",
         "domain": [
          0,
          1
         ],
         "overlaying": "x",
         "position": 0,
         "title": "I_in (Jy)",
         "titlefont": {
          "size": 17
         }
        },
        "xaxis3": {
         "anchor": "y3",
         "domain": [
          0,
          1
         ],
         "overlaying": "x",
         "position": 0,
         "title": "I_in (Jy)",
         "titlefont": {
          "size": 17
         }
        },
        "xaxis4": {
         "anchor": "y4",
         "domain": [
          0,
          1
         ],
         "overlaying": "x",
         "position": 0,
         "title": "I_in (Jy)",
         "titlefont": {
          "size": 17
         }
        },
        "yaxis1": {
         "anchor": "x1",
         "domain": [
          0.8625,
          1
         ],
         "gridcolor": "rgb(255,255,255)",
         "showgrid": true,
         "showline": false,
         "showticklabels": true,
         "tickcolor": "rgb(51,153,225)",
         "tickfont": {
          "size": 15
         },
         "ticks": "outside",
         "title": "I_out (Jy)",
         "titlefont": {
          "size": 17
         },
         "zeroline": false
        },
        "yaxis2": {
         "anchor": "x2",
         "domain": [
          0.575,
          0.7124999999999999
         ],
         "gridcolor": "rgb(255,255,255)",
         "showgrid": true,
         "showline": false,
         "showticklabels": true,
         "tickcolor": "rgb(51,153,225)",
         "tickfont": {
          "size": 15
         },
         "ticks": "outside",
         "title": "I_out (Jy)",
         "titlefont": {
          "size": 17
         },
         "zeroline": false
        },
        "yaxis3": {
         "anchor": "x3",
         "domain": [
          0.2875,
          0.425
         ],
         "gridcolor": "rgb(255,255,255)",
         "showgrid": true,
         "showline": false,
         "showticklabels": true,
         "tickcolor": "rgb(51,153,225)",
         "tickfont": {
          "size": 15
         },
         "ticks": "outside",
         "title": "I_out (Jy)",
         "titlefont": {
          "size": 17
         },
         "zeroline": false
        },
        "yaxis4": {
         "anchor": "x4",
         "domain": [
          0,
          0.1375
         ],
         "gridcolor": "rgb(255,255,255)",
         "showgrid": true,
         "showline": false,
         "showticklabels": true,
         "tickcolor": "rgb(51,153,225)",
         "tickfont": {
          "size": 15
         },
         "ticks": "outside",
         "title": "I_out (Jy)",
         "titlefont": {
          "size": 17
         },
         "zeroline": false
        }
       }
      },
      "text/html": [
       "<div id=\"b93a629d-ee17-47b3-bda8-07047df6e6cc\" style=\"height: 900px; width: 900px;\" class=\"plotly-graph-div\"></div><script type=\"text/javascript\">require([\"plotly\"], function(Plotly) { window.PLOTLYENV=window.PLOTLYENV || {};window.PLOTLYENV.BASE_URL=\"https://plot.ly\";Plotly.newPlot(\"b93a629d-ee17-47b3-bda8-07047df6e6cc\", [{\"showlegend\": false, \"yaxis\": \"y1\", \"mode\": \"line\", \"xaxis\": \"x1\", \"y\": [0.013094062946046578, 1.1948322140914134], \"x\": [0.013094062946046578, 1.1948322140914134], \"type\": \"scatter\"}, {\"showlegend\": false, \"error_y\": {\"color\": \"rgb(158, 63, 221)\", \"visible\": true, \"array\": [0.0018157565950652009, 0.001736541240313368, 0.002061708510492328, 0.0021849555033350006, 0.0021608312911947287, 0.0018875327357053555, 0.0017544416754654625, 0.002018066988190107, 0.0018207649349298773, 0.005643446779480916, 0.005154079098519268, 0.00610107127105991, 0.00808476357599383, 0.007547138730886722, 0.006526341974511744], \"type\": \"data\"}, \"yaxis\": \"y1\", \"text\": [\"O305\", \"N315\", \"M304\", \"L053\", \"K182\", \"J344\", \"I014\", \"H002\", \"G013\", \"F131\", \"E122\", \"D282\", \"C331\", \"B033\", \"A030\"], \"marker\": {\"colorbar\": {\"x\": 1.0, \"titlefont\": {\"size\": 16}, \"titleside\": \"right\", \"title\": \"Distance from phase center (arcsec)\"}, \"reversescale\": false, \"color\": [3221.22110161112, 3443.888522462859, 2459.1599968024816, 1818.152075742431, 1340.6754496697713, 2882.0580143118127, 2897.725329546359, 1505.082124013398, 2263.968656509504, 641.8333586067981, 1588.101150578869, 1201.3983112535664, 1024.453877025326, 2041.204377053077, 393.3460849083838], \"showscale\": true, \"colorscale\": \"Jet\"}, \"mode\": \"markers\", \"xaxis\": \"x1\", \"y\": [0.013094062946046578, 0.013171694151879701, 0.013801988539849661, 0.015333412150137598, 0.015461767418665182, 0.02066874854669746, 0.02423550022480019, 0.02634083823382786, 0.03644764600191469, 0.05041915094395033, 0.05208323598247721, 0.06146949230276085, 0.09844961544090038, 0.125435036084642, 1.1948322140914136], \"x\": [0.013094062946046578, 0.013171694151879701, 0.013801988539849661, 0.015333412150137598, 0.015461767418665182, 0.02066874854669746, 0.02423550022480019, 0.02634083823382786, 0.03644764600191469, 0.05041915094395033, 0.05208323598247721, 0.06146949230276085, 0.09844961544090038, 0.12543503608464196, 1.1948322140914134], \"type\": \"scatter\", \"name\": \"meerkathi-pipeline_3-pybdsm-combined flux_ratio\"}, {\"showlegend\": false, \"yaxis\": \"y2\", \"mode\": \"line\", \"xaxis\": \"x2\", \"y\": [0.05041915094395033, 1.1948322140914134], \"x\": [0.05041915094395033, 1.1948322140914134], \"type\": \"scatter\"}, {\"showlegend\": false, \"error_y\": {\"color\": \"rgb(158, 63, 221)\", \"visible\": true, \"array\": [0.005643446779480916, 0.005154079098519268, 0.00610107127105991, 0.00808476357599383, 0.007547138730886722, 0.006526341974511744], \"type\": \"data\"}, \"yaxis\": \"y2\", \"text\": [\"F131\", \"E122\", \"D282\", \"C331\", \"B033\", \"A030\"], \"marker\": {\"reversescale\": false, \"color\": [641.8333586067981, 1588.101150578869, 1201.3983112535664, 1024.453877025326, 2041.204377053077, 393.3460849083838], \"colorscale\": \"Jet\"}, \"mode\": \"markers\", \"xaxis\": \"x2\", \"y\": [0.05041915094395033, 0.05208323598247721, 0.06146949230276085, 0.09844961544090038, 0.125435036084642, 1.1948322140914136], \"x\": [0.05041915094395033, 0.05208323598247721, 0.06146949230276085, 0.09844961544090038, 0.12543503608464196, 1.1948322140914134], \"type\": \"scatter\", \"name\": \"meerkathi-pipeline_2-pybdsm flux_ratio\"}, {\"showlegend\": false, \"yaxis\": \"y3\", \"mode\": \"line\", \"xaxis\": \"x3\", \"y\": [0.05041915094395033, 1.1948322140914134], \"x\": [0.05041915094395033, 1.1948322140914134], \"type\": \"scatter\"}, {\"showlegend\": false, \"error_y\": {\"color\": \"rgb(158, 63, 221)\", \"visible\": true, \"array\": [0.005766539786952249, 0.005207001721220455, 0.006152405217372038, 0.008270554765968299, 0.007533474291128609, 0.006982347153515747], \"type\": \"data\"}, \"yaxis\": \"y3\", \"text\": [\"F131\", \"E122\", \"D282\", \"C331\", \"B033\", \"A030\"], \"marker\": {\"reversescale\": false, \"color\": [642.7900462919683, 1587.7052528072966, 1201.2351086228118, 1024.5188658399736, 2040.7892025917813, 393.2869470320204], \"colorscale\": \"Jet\"}, \"mode\": \"markers\", \"xaxis\": \"x3\", \"y\": [0.05003310597449618, 0.05379148953793456, 0.06181088777986152, 0.09591296975861444, 0.12346797064456387, 1.1919394714985592], \"x\": [0.05041915094395033, 0.05208323598247721, 0.06146949230276085, 0.09844961544090038, 0.12543503608464196, 1.1948322140914134], \"type\": \"scatter\", \"name\": \"meerkathi-pipeline_1-pybdsm flux_ratio\"}, {\"showlegend\": false, \"yaxis\": \"y4\", \"mode\": \"line\", \"xaxis\": \"x4\", \"y\": [0.013094062946046578, 1.1948322140914134], \"x\": [0.013094062946046578, 1.1948322140914134], \"type\": \"scatter\"}, {\"showlegend\": false, \"error_y\": {\"color\": \"rgb(158, 63, 221)\", \"visible\": true, \"array\": [0.0018157565950652009, 0.001736541240313368, 0.002061708510492328, 0.0021849555033350006, 0.0021608312911947287, 0.0018875327357053555, 0.0017544416754654625, 0.002018066988190107, 0.0018207649349298773, 0.005643446779480916, 0.005154079098519268, 0.00610107127105991, 0.00808476357599383, 0.007547138730886722, 0.006526341974511744], \"type\": \"data\"}, \"yaxis\": \"y4\", \"text\": [\"O305\", \"N315\", \"M304\", \"L053\", \"K182\", \"J344\", \"I014\", \"H002\", \"G013\", \"F131\", \"E122\", \"D282\", \"C331\", \"B033\", \"A030\"], \"marker\": {\"reversescale\": false, \"color\": [3221.22110161112, 3443.888522462859, 2459.1599968024816, 1818.152075742431, 1340.6754496697713, 2882.0580143118127, 2897.725329546359, 1505.082124013398, 2263.968656509504, 641.8333586067981, 1588.101150578869, 1201.3983112535664, 1024.453877025326, 2041.204377053077, 393.3460849083838], \"colorscale\": \"Jet\"}, \"mode\": \"markers\", \"xaxis\": \"x4\", \"y\": [0.013094062946046578, 0.013171694151879701, 0.013801988539849661, 0.015333412150137598, 0.015461767418665182, 0.02066874854669746, 0.02423550022480019, 0.02634083823382786, 0.03644764600191469, 0.05041915094395033, 0.05208323598247721, 0.06146949230276085, 0.09844961544090038, 0.125435036084642, 1.1948322140914136], \"x\": [0.013094062946046578, 0.013171694151879701, 0.013801988539849661, 0.015333412150137598, 0.015461767418665182, 0.02066874854669746, 0.02423550022480019, 0.02634083823382786, 0.03644764600191469, 0.05041915094395033, 0.05208323598247721, 0.06146949230276085, 0.09844961544090038, 0.12543503608464196, 1.1948322140914134], \"type\": \"scatter\", \"name\": \"meerkathi-pipeline_4-pybdsm-combined flux_ratio\"}], {\"title\": \"\", \"paper_bgcolor\": \"rgb(255,255,255)\", \"plot_bgcolor\": \"rgb(229,229,229)\", \"xaxis4\": {\"domain\": [0.0, 1.0], \"title\": \"I_in (Jy)\", \"overlaying\": \"x\", \"titlefont\": {\"size\": 17}, \"position\": 0.0, \"anchor\": \"y4\"}, \"xaxis3\": {\"domain\": [0.0, 1.0], \"title\": \"I_in (Jy)\", \"overlaying\": \"x\", \"titlefont\": {\"size\": 17}, \"position\": 0.0, \"anchor\": \"y3\"}, \"xaxis2\": {\"domain\": [0.0, 1.0], \"title\": \"I_in (Jy)\", \"overlaying\": \"x\", \"titlefont\": {\"size\": 17}, \"position\": 0.0, \"anchor\": \"y2\"}, \"xaxis1\": {\"domain\": [0.0, 1.0], \"title\": \"I_in (Jy)\", \"overlaying\": \"x\", \"titlefont\": {\"size\": 17}, \"position\": 0.0, \"anchor\": \"y1\"}, \"height\": 900, \"yaxis1\": {\"tickfont\": {\"size\": 15}, \"domain\": [0.8625, 1.0], \"showticklabels\": true, \"title\": \"I_out (Jy)\", \"ticks\": \"outside\", \"showgrid\": true, \"titlefont\": {\"size\": 17}, \"showline\": false, \"zeroline\": false, \"tickcolor\": \"rgb(51,153,225)\", \"gridcolor\": \"rgb(255,255,255)\", \"anchor\": \"x1\"}, \"yaxis2\": {\"tickfont\": {\"size\": 15}, \"domain\": [0.575, 0.7124999999999999], \"showticklabels\": true, \"title\": \"I_out (Jy)\", \"ticks\": \"outside\", \"showgrid\": true, \"titlefont\": {\"size\": 17}, \"showline\": false, \"zeroline\": false, \"tickcolor\": \"rgb(51,153,225)\", \"gridcolor\": \"rgb(255,255,255)\", \"anchor\": \"x2\"}, \"yaxis3\": {\"tickfont\": {\"size\": 15}, \"domain\": [0.2875, 0.425], \"showticklabels\": true, \"title\": \"I_out (Jy)\", \"ticks\": \"outside\", \"showgrid\": true, \"titlefont\": {\"size\": 17}, \"showline\": false, \"zeroline\": false, \"tickcolor\": \"rgb(51,153,225)\", \"gridcolor\": \"rgb(255,255,255)\", \"anchor\": \"x3\"}, \"yaxis4\": {\"tickfont\": {\"size\": 15}, \"domain\": [0.0, 0.1375], \"showticklabels\": true, \"title\": \"I_out (Jy)\", \"ticks\": \"outside\", \"showgrid\": true, \"titlefont\": {\"size\": 17}, \"showline\": false, \"zeroline\": false, \"tickcolor\": \"rgb(51,153,225)\", \"gridcolor\": \"rgb(255,255,255)\", \"anchor\": \"x4\"}, \"annotations\": [{\"yanchor\": \"bottom\", \"xref\": \"paper\", \"xanchor\": \"center\", \"yref\": \"paper\", \"text\": \"<b>MEERKATHI-PIPELINE_3-PYBDSM-COMBINED flux density</b>\", \"y\": 1.0, \"x\": 0.5, \"font\": {\"size\": 10}, \"showarrow\": false}, {\"yanchor\": \"bottom\", \"xref\": \"paper\", \"xanchor\": \"center\", \"yref\": \"paper\", \"text\": \"<b>MEERKATHI-PIPELINE_2-PYBDSM flux density</b>\", \"y\": 0.7124999999999999, \"x\": 0.5, \"font\": {\"size\": 10}, \"showarrow\": false}, {\"yanchor\": \"bottom\", \"xref\": \"paper\", \"xanchor\": \"center\", \"yref\": \"paper\", \"text\": \"<b>MEERKATHI-PIPELINE_1-PYBDSM flux density</b>\", \"y\": 0.425, \"x\": 0.5, \"font\": {\"size\": 10}, \"showarrow\": false}, {\"yanchor\": \"bottom\", \"xref\": \"paper\", \"xanchor\": \"center\", \"yref\": \"paper\", \"text\": \"<b>MEERKATHI-PIPELINE_4-PYBDSM-COMBINED flux density</b>\", \"y\": 0.1375, \"x\": 0.5, \"font\": {\"size\": 10}, \"showarrow\": false}], \"width\": 900, \"legend\": {\"y\": 1.0, \"x\": 0.8}}, {\"linkText\": \"Export to plot.ly\", \"showLink\": true})});</script>"
      ],
      "text/vnd.plotly.v1+html": [
       "<div id=\"b93a629d-ee17-47b3-bda8-07047df6e6cc\" style=\"height: 900px; width: 900px;\" class=\"plotly-graph-div\"></div><script type=\"text/javascript\">require([\"plotly\"], function(Plotly) { window.PLOTLYENV=window.PLOTLYENV || {};window.PLOTLYENV.BASE_URL=\"https://plot.ly\";Plotly.newPlot(\"b93a629d-ee17-47b3-bda8-07047df6e6cc\", [{\"showlegend\": false, \"yaxis\": \"y1\", \"mode\": \"line\", \"xaxis\": \"x1\", \"y\": [0.013094062946046578, 1.1948322140914134], \"x\": [0.013094062946046578, 1.1948322140914134], \"type\": \"scatter\"}, {\"showlegend\": false, \"error_y\": {\"color\": \"rgb(158, 63, 221)\", \"visible\": true, \"array\": [0.0018157565950652009, 0.001736541240313368, 0.002061708510492328, 0.0021849555033350006, 0.0021608312911947287, 0.0018875327357053555, 0.0017544416754654625, 0.002018066988190107, 0.0018207649349298773, 0.005643446779480916, 0.005154079098519268, 0.00610107127105991, 0.00808476357599383, 0.007547138730886722, 0.006526341974511744], \"type\": \"data\"}, \"yaxis\": \"y1\", \"text\": [\"O305\", \"N315\", \"M304\", \"L053\", \"K182\", \"J344\", \"I014\", \"H002\", \"G013\", \"F131\", \"E122\", \"D282\", \"C331\", \"B033\", \"A030\"], \"marker\": {\"colorbar\": {\"x\": 1.0, \"titlefont\": {\"size\": 16}, \"titleside\": \"right\", \"title\": \"Distance from phase center (arcsec)\"}, \"reversescale\": false, \"color\": [3221.22110161112, 3443.888522462859, 2459.1599968024816, 1818.152075742431, 1340.6754496697713, 2882.0580143118127, 2897.725329546359, 1505.082124013398, 2263.968656509504, 641.8333586067981, 1588.101150578869, 1201.3983112535664, 1024.453877025326, 2041.204377053077, 393.3460849083838], \"showscale\": true, \"colorscale\": \"Jet\"}, \"mode\": \"markers\", \"xaxis\": \"x1\", \"y\": [0.013094062946046578, 0.013171694151879701, 0.013801988539849661, 0.015333412150137598, 0.015461767418665182, 0.02066874854669746, 0.02423550022480019, 0.02634083823382786, 0.03644764600191469, 0.05041915094395033, 0.05208323598247721, 0.06146949230276085, 0.09844961544090038, 0.125435036084642, 1.1948322140914136], \"x\": [0.013094062946046578, 0.013171694151879701, 0.013801988539849661, 0.015333412150137598, 0.015461767418665182, 0.02066874854669746, 0.02423550022480019, 0.02634083823382786, 0.03644764600191469, 0.05041915094395033, 0.05208323598247721, 0.06146949230276085, 0.09844961544090038, 0.12543503608464196, 1.1948322140914134], \"type\": \"scatter\", \"name\": \"meerkathi-pipeline_3-pybdsm-combined flux_ratio\"}, {\"showlegend\": false, \"yaxis\": \"y2\", \"mode\": \"line\", \"xaxis\": \"x2\", \"y\": [0.05041915094395033, 1.1948322140914134], \"x\": [0.05041915094395033, 1.1948322140914134], \"type\": \"scatter\"}, {\"showlegend\": false, \"error_y\": {\"color\": \"rgb(158, 63, 221)\", \"visible\": true, \"array\": [0.005643446779480916, 0.005154079098519268, 0.00610107127105991, 0.00808476357599383, 0.007547138730886722, 0.006526341974511744], \"type\": \"data\"}, \"yaxis\": \"y2\", \"text\": [\"F131\", \"E122\", \"D282\", \"C331\", \"B033\", \"A030\"], \"marker\": {\"reversescale\": false, \"color\": [641.8333586067981, 1588.101150578869, 1201.3983112535664, 1024.453877025326, 2041.204377053077, 393.3460849083838], \"colorscale\": \"Jet\"}, \"mode\": \"markers\", \"xaxis\": \"x2\", \"y\": [0.05041915094395033, 0.05208323598247721, 0.06146949230276085, 0.09844961544090038, 0.125435036084642, 1.1948322140914136], \"x\": [0.05041915094395033, 0.05208323598247721, 0.06146949230276085, 0.09844961544090038, 0.12543503608464196, 1.1948322140914134], \"type\": \"scatter\", \"name\": \"meerkathi-pipeline_2-pybdsm flux_ratio\"}, {\"showlegend\": false, \"yaxis\": \"y3\", \"mode\": \"line\", \"xaxis\": \"x3\", \"y\": [0.05041915094395033, 1.1948322140914134], \"x\": [0.05041915094395033, 1.1948322140914134], \"type\": \"scatter\"}, {\"showlegend\": false, \"error_y\": {\"color\": \"rgb(158, 63, 221)\", \"visible\": true, \"array\": [0.005766539786952249, 0.005207001721220455, 0.006152405217372038, 0.008270554765968299, 0.007533474291128609, 0.006982347153515747], \"type\": \"data\"}, \"yaxis\": \"y3\", \"text\": [\"F131\", \"E122\", \"D282\", \"C331\", \"B033\", \"A030\"], \"marker\": {\"reversescale\": false, \"color\": [642.7900462919683, 1587.7052528072966, 1201.2351086228118, 1024.5188658399736, 2040.7892025917813, 393.2869470320204], \"colorscale\": \"Jet\"}, \"mode\": \"markers\", \"xaxis\": \"x3\", \"y\": [0.05003310597449618, 0.05379148953793456, 0.06181088777986152, 0.09591296975861444, 0.12346797064456387, 1.1919394714985592], \"x\": [0.05041915094395033, 0.05208323598247721, 0.06146949230276085, 0.09844961544090038, 0.12543503608464196, 1.1948322140914134], \"type\": \"scatter\", \"name\": \"meerkathi-pipeline_1-pybdsm flux_ratio\"}, {\"showlegend\": false, \"yaxis\": \"y4\", \"mode\": \"line\", \"xaxis\": \"x4\", \"y\": [0.013094062946046578, 1.1948322140914134], \"x\": [0.013094062946046578, 1.1948322140914134], \"type\": \"scatter\"}, {\"showlegend\": false, \"error_y\": {\"color\": \"rgb(158, 63, 221)\", \"visible\": true, \"array\": [0.0018157565950652009, 0.001736541240313368, 0.002061708510492328, 0.0021849555033350006, 0.0021608312911947287, 0.0018875327357053555, 0.0017544416754654625, 0.002018066988190107, 0.0018207649349298773, 0.005643446779480916, 0.005154079098519268, 0.00610107127105991, 0.00808476357599383, 0.007547138730886722, 0.006526341974511744], \"type\": \"data\"}, \"yaxis\": \"y4\", \"text\": [\"O305\", \"N315\", \"M304\", \"L053\", \"K182\", \"J344\", \"I014\", \"H002\", \"G013\", \"F131\", \"E122\", \"D282\", \"C331\", \"B033\", \"A030\"], \"marker\": {\"reversescale\": false, \"color\": [3221.22110161112, 3443.888522462859, 2459.1599968024816, 1818.152075742431, 1340.6754496697713, 2882.0580143118127, 2897.725329546359, 1505.082124013398, 2263.968656509504, 641.8333586067981, 1588.101150578869, 1201.3983112535664, 1024.453877025326, 2041.204377053077, 393.3460849083838], \"colorscale\": \"Jet\"}, \"mode\": \"markers\", \"xaxis\": \"x4\", \"y\": [0.013094062946046578, 0.013171694151879701, 0.013801988539849661, 0.015333412150137598, 0.015461767418665182, 0.02066874854669746, 0.02423550022480019, 0.02634083823382786, 0.03644764600191469, 0.05041915094395033, 0.05208323598247721, 0.06146949230276085, 0.09844961544090038, 0.125435036084642, 1.1948322140914136], \"x\": [0.013094062946046578, 0.013171694151879701, 0.013801988539849661, 0.015333412150137598, 0.015461767418665182, 0.02066874854669746, 0.02423550022480019, 0.02634083823382786, 0.03644764600191469, 0.05041915094395033, 0.05208323598247721, 0.06146949230276085, 0.09844961544090038, 0.12543503608464196, 1.1948322140914134], \"type\": \"scatter\", \"name\": \"meerkathi-pipeline_4-pybdsm-combined flux_ratio\"}], {\"title\": \"\", \"paper_bgcolor\": \"rgb(255,255,255)\", \"plot_bgcolor\": \"rgb(229,229,229)\", \"xaxis4\": {\"domain\": [0.0, 1.0], \"title\": \"I_in (Jy)\", \"overlaying\": \"x\", \"titlefont\": {\"size\": 17}, \"position\": 0.0, \"anchor\": \"y4\"}, \"xaxis3\": {\"domain\": [0.0, 1.0], \"title\": \"I_in (Jy)\", \"overlaying\": \"x\", \"titlefont\": {\"size\": 17}, \"position\": 0.0, \"anchor\": \"y3\"}, \"xaxis2\": {\"domain\": [0.0, 1.0], \"title\": \"I_in (Jy)\", \"overlaying\": \"x\", \"titlefont\": {\"size\": 17}, \"position\": 0.0, \"anchor\": \"y2\"}, \"xaxis1\": {\"domain\": [0.0, 1.0], \"title\": \"I_in (Jy)\", \"overlaying\": \"x\", \"titlefont\": {\"size\": 17}, \"position\": 0.0, \"anchor\": \"y1\"}, \"height\": 900, \"yaxis1\": {\"tickfont\": {\"size\": 15}, \"domain\": [0.8625, 1.0], \"showticklabels\": true, \"title\": \"I_out (Jy)\", \"ticks\": \"outside\", \"showgrid\": true, \"titlefont\": {\"size\": 17}, \"showline\": false, \"zeroline\": false, \"tickcolor\": \"rgb(51,153,225)\", \"gridcolor\": \"rgb(255,255,255)\", \"anchor\": \"x1\"}, \"yaxis2\": {\"tickfont\": {\"size\": 15}, \"domain\": [0.575, 0.7124999999999999], \"showticklabels\": true, \"title\": \"I_out (Jy)\", \"ticks\": \"outside\", \"showgrid\": true, \"titlefont\": {\"size\": 17}, \"showline\": false, \"zeroline\": false, \"tickcolor\": \"rgb(51,153,225)\", \"gridcolor\": \"rgb(255,255,255)\", \"anchor\": \"x2\"}, \"yaxis3\": {\"tickfont\": {\"size\": 15}, \"domain\": [0.2875, 0.425], \"showticklabels\": true, \"title\": \"I_out (Jy)\", \"ticks\": \"outside\", \"showgrid\": true, \"titlefont\": {\"size\": 17}, \"showline\": false, \"zeroline\": false, \"tickcolor\": \"rgb(51,153,225)\", \"gridcolor\": \"rgb(255,255,255)\", \"anchor\": \"x3\"}, \"yaxis4\": {\"tickfont\": {\"size\": 15}, \"domain\": [0.0, 0.1375], \"showticklabels\": true, \"title\": \"I_out (Jy)\", \"ticks\": \"outside\", \"showgrid\": true, \"titlefont\": {\"size\": 17}, \"showline\": false, \"zeroline\": false, \"tickcolor\": \"rgb(51,153,225)\", \"gridcolor\": \"rgb(255,255,255)\", \"anchor\": \"x4\"}, \"annotations\": [{\"yanchor\": \"bottom\", \"xref\": \"paper\", \"xanchor\": \"center\", \"yref\": \"paper\", \"text\": \"<b>MEERKATHI-PIPELINE_3-PYBDSM-COMBINED flux density</b>\", \"y\": 1.0, \"x\": 0.5, \"font\": {\"size\": 10}, \"showarrow\": false}, {\"yanchor\": \"bottom\", \"xref\": \"paper\", \"xanchor\": \"center\", \"yref\": \"paper\", \"text\": \"<b>MEERKATHI-PIPELINE_2-PYBDSM flux density</b>\", \"y\": 0.7124999999999999, \"x\": 0.5, \"font\": {\"size\": 10}, \"showarrow\": false}, {\"yanchor\": \"bottom\", \"xref\": \"paper\", \"xanchor\": \"center\", \"yref\": \"paper\", \"text\": \"<b>MEERKATHI-PIPELINE_1-PYBDSM flux density</b>\", \"y\": 0.425, \"x\": 0.5, \"font\": {\"size\": 10}, \"showarrow\": false}, {\"yanchor\": \"bottom\", \"xref\": \"paper\", \"xanchor\": \"center\", \"yref\": \"paper\", \"text\": \"<b>MEERKATHI-PIPELINE_4-PYBDSM-COMBINED flux density</b>\", \"y\": 0.1375, \"x\": 0.5, \"font\": {\"size\": 10}, \"showarrow\": false}], \"width\": 900, \"legend\": {\"y\": 1.0, \"x\": 0.8}}, {\"linkText\": \"Export to plot.ly\", \"showLink\": true})});</script>"
      ]
     },
     "metadata": {},
     "output_type": "display_data"
    }
   ],
   "source": [
    "data = []\n",
    "im_titles =[]\n",
    "flux_im = dict()\n",
    "BINS = _num_bins.value\n",
    "for input_model, output_model in models_compare.items():\n",
    "    header = output_model[:-9]\n",
    "    im_titles.append('<b>%s flux density</b>'%header.upper())\n",
    "#    im_titles.append('<b>%s flux density</b>                                        '%header.upper())\n",
    "\n",
    "fig = tools.make_subplots(rows=len(models_compare.keys()), cols=1, shared_yaxes=False, print_grid=False,\n",
    "                          horizontal_spacing = 0.005, vertical_spacing = 0.15,\n",
    "                          subplot_titles=im_titles)\n",
    "i = -1\n",
    "counter = 0\n",
    "flux_im = dict()\n",
    "I_min_max = []\n",
    "err_I_min_max = []\n",
    "for input_model, output_model in models_compare.items():\n",
    "    i += 1\n",
    "    counter += 1\n",
    "    name_labels = []\n",
    "    flux_in_data = []\n",
    "    flux_out_data = []\n",
    "    source_scale = []\n",
    "    phase_center_dist = []\n",
    "    flux_out_err_data = []\n",
    "    heading = output_model[:-9]\n",
    "    for n in range(len(results[heading]['flux'])):\n",
    "        flux_out_data.append(results[heading]['flux'][n][0])\n",
    "        flux_out_err_data.append(results[heading]['flux'][n][1])\n",
    "        flux_in_data.append(results[heading]['flux'][n][2])\n",
    "        name_labels.append(results[heading]['flux'][n][3])\n",
    "        phase_center_dist.append(results[heading]['position'][n][-3])\n",
    "        source_scale.append(results[heading]['shape'][n][3])\n",
    "    LIMIT = 0\n",
    "    zipped_props = zip(flux_out_data, flux_out_err_data, flux_in_data, name_labels, phase_center_dist, source_scale)\n",
    "    flux_out_data, flux_out_err_data, flux_in_data, name_labels, phase_center_dist, source_scale = zip(\n",
    "        *sorted(zipped_props, key=lambda x: x[0]))\n",
    "    flux_R_score = r2_score(flux_in_data, flux_out_data)\n",
    "    flux_MSE = mean_squared_error(flux_in_data, flux_out_data)\n",
    "    I_out_in = [float(I_out)/I_in for I_out,I_in in zip(flux_out_data,flux_in_data)]\n",
    " #   axis_min_max = combat.axis_min_max(I_min_max, error=err_I_min_max, tolerance=0.01)\n",
    "    fig.append_trace(go.Scatter(x=np.array([flux_in_data[0], flux_in_data[-1]]), showlegend=False,\n",
    "                                y=np.array([flux_in_data[0], flux_in_data[-1]]), mode = 'line'), i+1, 1)\n",
    "    fig.append_trace(go.Scatter(x=np.array(flux_in_data), y=np.array(flux_out_data),\n",
    "                                mode = 'markers', showlegend=False,\n",
    "                                text = name_labels, name = '%s flux_ratio' % heading,\n",
    "                                marker = dict(color = phase_center_dist, showscale=True, colorscale='Jet',\n",
    "                                              reversescale=False,\n",
    "                                              colorbar = dict(title='Distance from phase center (arcsec)',\n",
    "                                                              titleside ='right', titlefont=dict(size=16), x = 1.0)\n",
    "                                             ) if i == 0 else dict(color = phase_center_dist, colorscale='Jet',\n",
    "                                                                   reversescale=False),\n",
    "                                error_y=dict(type='data', array=flux_out_err_data,\n",
    "                                             color = 'rgb(158, 63, 221)', visible=True)), i+1, 1)\n",
    "#    fig.append_trace(go.Histogram(x=I_out_in, histnorm='count', nbinsx=BINS, name='%s' % heading,\n",
    "#                                  marker = dict(color = 'rgb(64, 98, 221)'), showlegend=False), i+1, 2)\n",
    "    fig['layout'].update(title='', height=900, width=900,\n",
    "                         paper_bgcolor='rgb(255,255,255)', plot_bgcolor='rgb(229,229,229)',\n",
    "                         legend=dict(x=0.8,y=1.0),)\n",
    "    fig['layout'].update(\n",
    "        {'yaxis{}'.format(counter):YAxis(title=u'I_out (Jy)',gridcolor='rgb(255,255,255)',\n",
    "                                        # titlefont=dict(size=18),\n",
    "        #range=[1,10],\n",
    "        tickfont=dict(size=15),\n",
    "        titlefont=dict(size=17),\n",
    "        showgrid=True,\n",
    "        showline=False,\n",
    "        showticklabels=True,\n",
    "        tickcolor='rgb(51,153,225)',\n",
    "        ticks='outside',\n",
    "        zeroline=False)})\n",
    "    fig['layout'].update({'xaxis{}'.format(counter):XAxis(title='I_in (Jy)', position=0.0,\n",
    "                                                            titlefont=dict(size=17),\n",
    "                                                            overlaying='x')})\n",
    "#    fig['layout'].update({'xaxis{}'.format(counter+i+1):XAxis(title='I_out_in',\n",
    "#                                                              titlefont=dict(size=17),\n",
    "#                                                              domain=[0.505, 0.8])})\n",
    "    fig['layout']['annotations'].update({ 'font':{'size': 10}})\n",
    "py.iplot(fig, filename='make-subplots-multiple-with-titles')"
   ]
  },
  {
   "cell_type": "markdown",
   "metadata": {
    "extensions": {
     "jupyter_dashboards": {
      "version": 1,
      "views": {
       "grid_default": {},
       "report_default": {
        "hidden": false
       }
      }
     }
    }
   },
   "source": [
    "## Astrometric Measurements"
   ]
  },
  {
   "cell_type": "code",
   "execution_count": 21,
   "metadata": {
    "extensions": {
     "jupyter_dashboards": {
      "version": 1,
      "views": {
       "grid_default": {},
       "report_default": {
        "hidden": false
       }
      }
     }
    }
   },
   "outputs": [
    {
     "name": "stdout",
     "output_type": "stream",
     "text": [
      "meerkathi-pipeline_3-pybdsm-combined\n",
      "1 sigma = 0.0\n",
      "=========================\n",
      "meerkathi-pipeline_2-pybdsm\n",
      "1 sigma = 0.0\n",
      "=========================\n",
      "meerkathi-pipeline_1-pybdsm\n",
      "1 sigma = 0.21199283720301093\n",
      "=========================\n",
      "meerkathi-pipeline_4-pybdsm-combined\n",
      "1 sigma = 0.0\n",
      "=========================\n"
     ]
    }
   ],
   "source": [
    "counter = 0\n",
    "pos_min_max = []\n",
    "DEC_off_min_max = []\n",
    "RA_off_min_max = []\n",
    "for input_model, output_model in models_compare.items():\n",
    "    counter+=1\n",
    "    RA_offset = []\n",
    "    DEC_offset = []\n",
    "    DELTA_PHASE0 = []\n",
    "    source_labels = []\n",
    "    flux_in_data = []\n",
    "    delta_pos_data = []\n",
    "    heading = output_model[:-9]\n",
    "    for n in range(len(results[heading]['flux'])):\n",
    "        delta_pos_data.append(results[heading]['position'][n][0])\n",
    "        RA_offset.append(results[heading]['position'][n][1])\n",
    "        DEC_offset.append(results[heading]['position'][n][2])\n",
    "        DELTA_PHASE0.append(results[heading]['position'][n][3])\n",
    "        flux_in_data.append(results[heading]['position'][n][4])\n",
    "        source_labels.append(results[heading]['position'][n][5])\n",
    "    zipped_props = zip(delta_pos_data, RA_offset, DEC_offset, DELTA_PHASE0, flux_in_data, source_labels)\n",
    "    delta_pos_data, RA_offset, DEC_offset, DELTA_PHASE0, flux_in_data, source_labels = zip(\n",
    "        *sorted(zipped_props, key=lambda x: x[0]))\n",
    "    pi,sin,cos = np.pi,np.sin,np.cos\n",
    "    r1, r2 = np.array(RA_offset).std(), np.array(DEC_offset).std()\n",
    "    theta = np.linspace(0,2*pi,45)\n",
    "    x1 = r1*cos(theta)\n",
    "    y1 = r2*sin(theta)\n",
    "    print \"%s\\n1 sigma = %s\\n%s\"%(heading, np.sqrt(r1*r2), 25*'=')"
   ]
  },
  {
   "cell_type": "code",
   "execution_count": 22,
   "metadata": {
    "extensions": {
     "jupyter_dashboards": {
      "version": 1,
      "views": {
       "grid_default": {},
       "report_default": {
        "hidden": false
       }
      }
     }
    },
    "scrolled": false
   },
   "outputs": [
    {
     "data": {
      "application/vnd.plotly.v1+json": {
       "data": [
        {
         "error_y": {
          "color": "rgb(158, 63, 221)",
          "type": "data",
          "visible": true
         },
         "marker": {
          "color": [
           2897.725329546359,
           1024.453877025326,
           2041.204377053077,
           2882.0580143118127,
           393.3460849083838,
           1818.152075742431,
           1588.101150578869,
           3221.22110161112,
           1201.3983112535664,
           1340.6754496697713,
           2459.1599968024816,
           1505.082124013398,
           641.8333586067981,
           3443.888522462859,
           2263.968656509504
          ],
          "colorbar": {
           "title": "Distance from phase centre (arcsec)",
           "titlefont": {
            "size": 16
           },
           "titleside": "right",
           "x": 0.4
          },
          "colorscale": "Jet",
          "reversescale": true,
          "showscale": true
         },
         "mode": "markers",
         "name": "meerkathi-pipeline_4-pybdsm-combined flux_ratio",
         "showlegend": false,
         "text": [
          "I014",
          "C331",
          "B033",
          "J344",
          "A030",
          "L053",
          "E122",
          "O305",
          "D282",
          "K182",
          "M304",
          "H002",
          "F131",
          "N315",
          "G013"
         ],
         "type": "scatter",
         "x": [
          0.02423550022480019,
          0.09844961544090038,
          0.12543503608464196,
          0.02066874854669746,
          1.1948322140914134,
          0.015333412150137598,
          0.05208323598247721,
          0.013094062946046578,
          0.06146949230276085,
          0.015461767418665182,
          0.013801988539849661,
          0.02634083823382786,
          0.05041915094395033,
          0.013171694151879701,
          0.03644764600191469
         ],
         "xaxis": "x1",
         "y": [
          0,
          0,
          0,
          0,
          0,
          0,
          0,
          0,
          0,
          0,
          0,
          0,
          0,
          0,
          0.003073585126505738
         ],
         "yaxis": "y1"
        },
        {
         "error_y": {
          "color": "rgb(158, 63, 221)",
          "type": "data",
          "visible": true
         },
         "marker": {
          "color": [
           0.013094062946046578,
           0.013171694151879701,
           0.013801988539849661,
           0.015333412150137598,
           0.015461767418665182,
           0.02066874854669746,
           0.02423550022480019,
           0.02634083823382786,
           0.03644764600191469,
           0.05041915094395033,
           0.05208323598247721,
           0.06146949230276085,
           0.09844961544090038,
           0.125435036084642,
           1.1948322140914136
          ],
          "colorbar": {
           "title": "Input Flux (Jy)",
           "titlefont": {
            "size": 16
           },
           "titleside": "right"
          },
          "colorscale": "Viridis",
          "reversescale": true,
          "showscale": true
         },
         "mode": "markers",
         "name": "meerkathi-pipeline_3-pybdsm-combined flux_ratio",
         "showlegend": false,
         "text": [
          "I014",
          "C331",
          "B033",
          "J344",
          "A030",
          "L053",
          "E122",
          "O305",
          "D282",
          "K182",
          "M304",
          "H002",
          "F131",
          "N315",
          "G013"
         ],
         "type": "scatter",
         "x": [
          0,
          0,
          0,
          0,
          0,
          0,
          0,
          0,
          0,
          0,
          0,
          0,
          0,
          0,
          0
         ],
         "xaxis": "x2",
         "y": [
          0,
          0,
          0,
          0,
          0,
          0,
          0,
          0,
          0,
          0,
          0,
          0,
          0,
          0,
          0
         ],
         "yaxis": "y2"
        },
        {
         "marker": {
          "color": "rgb(0, 0, 255)"
         },
         "mode": "lines",
         "name": "1σ",
         "showlegend": true,
         "text": "1σ ~ 0.000000",
         "type": "scatter",
         "x": [
          0,
          0,
          0,
          0,
          0,
          0,
          0,
          0,
          0,
          0,
          0,
          0,
          0,
          0,
          0,
          0,
          0,
          0,
          0,
          0,
          0,
          0,
          0,
          0,
          0,
          0,
          0,
          0,
          0,
          0,
          0,
          0,
          0,
          0,
          0,
          0,
          0,
          0,
          0,
          0,
          0,
          0,
          0,
          0,
          0
         ],
         "xaxis": "x2",
         "y": [
          0,
          0,
          0,
          0,
          0,
          0,
          0,
          0,
          0,
          0,
          0,
          0,
          0,
          0,
          0,
          0,
          0,
          0,
          0,
          0,
          0,
          0,
          0,
          0,
          0,
          0,
          0,
          0,
          0,
          0,
          0,
          0,
          0,
          0,
          0,
          0,
          0,
          0,
          0,
          0,
          0,
          0,
          0,
          0,
          0
         ],
         "yaxis": "y2"
        },
        {
         "marker": {
          "color": "rgb(255, 0, 0)"
         },
         "mode": "lines",
         "name": "2σ",
         "showlegend": true,
         "text": "2σ ~ 0.000000",
         "type": "scatter",
         "x": [
          0,
          0,
          0,
          0,
          0,
          0,
          0,
          0,
          0,
          0,
          0,
          0,
          0,
          0,
          0,
          0,
          0,
          0,
          0,
          0,
          0,
          0,
          0,
          0,
          0,
          0,
          0,
          0,
          0,
          0,
          0,
          0,
          0,
          0,
          0,
          0,
          0,
          0,
          0,
          0,
          0,
          0,
          0,
          0,
          0
         ],
         "xaxis": "x2",
         "y": [
          0,
          0,
          0,
          0,
          0,
          0,
          0,
          0,
          0,
          0,
          0,
          0,
          0,
          0,
          0,
          0,
          0,
          0,
          0,
          0,
          0,
          0,
          0,
          0,
          0,
          0,
          0,
          0,
          0,
          0,
          0,
          0,
          0,
          0,
          0,
          0,
          0,
          0,
          0,
          0,
          0,
          0,
          0,
          0,
          0
         ],
         "yaxis": "y2"
        },
        {
         "marker": {
          "color": "rgb(255, 255, 0)"
         },
         "mode": "lines",
         "name": "3σ",
         "showlegend": true,
         "text": "3σ ~ 0.000000",
         "type": "scatter",
         "x": [
          0,
          0,
          0,
          0,
          0,
          0,
          0,
          0,
          0,
          0,
          0,
          0,
          0,
          0,
          0,
          0,
          0,
          0,
          0,
          0,
          0,
          0,
          0,
          0,
          0,
          0,
          0,
          0,
          0,
          0,
          0,
          0,
          0,
          0,
          0,
          0,
          0,
          0,
          0,
          0,
          0,
          0,
          0,
          0,
          0
         ],
         "xaxis": "x2",
         "y": [
          0,
          0,
          0,
          0,
          0,
          0,
          0,
          0,
          0,
          0,
          0,
          0,
          0,
          0,
          0,
          0,
          0,
          0,
          0,
          0,
          0,
          0,
          0,
          0,
          0,
          0,
          0,
          0,
          0,
          0,
          0,
          0,
          0,
          0,
          0,
          0,
          0,
          0,
          0,
          0,
          0,
          0,
          0,
          0,
          0
         ],
         "yaxis": "y2"
        },
        {
         "error_y": {
          "color": "rgb(158, 63, 221)",
          "type": "data",
          "visible": true
         },
         "marker": {
          "color": [
           1024.453877025326,
           2041.204377053077,
           393.3460849083838,
           1588.101150578869,
           1201.3983112535664,
           641.8333586067981
          ],
          "colorscale": "Jet",
          "reversescale": true
         },
         "mode": "markers",
         "name": "meerkathi-pipeline_4-pybdsm-combined flux_ratio",
         "showlegend": false,
         "text": [
          "C331",
          "B033",
          "A030",
          "E122",
          "D282",
          "F131"
         ],
         "type": "scatter",
         "x": [
          0.09844961544090038,
          0.12543503608464196,
          1.1948322140914134,
          0.05208323598247721,
          0.06146949230276085,
          0.05041915094395033
         ],
         "xaxis": "x3",
         "y": [
          0,
          0,
          0,
          0,
          0,
          0
         ],
         "yaxis": "y3"
        },
        {
         "error_y": {
          "color": "rgb(158, 63, 221)",
          "type": "data",
          "visible": true
         },
         "marker": {
          "color": [
           0.013094062946046578,
           0.013171694151879701,
           0.013801988539849661,
           0.015333412150137598,
           0.015461767418665182,
           0.02066874854669746,
           0.02423550022480019,
           0.02634083823382786,
           0.03644764600191469,
           0.05041915094395033,
           0.05208323598247721,
           0.06146949230276085,
           0.09844961544090038,
           0.125435036084642,
           1.1948322140914136
          ],
          "colorscale": "Viridis",
          "reversescale": true
         },
         "mode": "markers",
         "name": "meerkathi-pipeline_2-pybdsm flux_ratio",
         "showlegend": false,
         "text": [
          "C331",
          "B033",
          "A030",
          "E122",
          "D282",
          "F131"
         ],
         "type": "scatter",
         "x": [
          0,
          0,
          0,
          0,
          0,
          0
         ],
         "xaxis": "x4",
         "y": [
          0,
          0,
          0,
          0,
          0,
          0
         ],
         "yaxis": "y4"
        },
        {
         "marker": {
          "color": "rgb(0, 0, 255)"
         },
         "mode": "lines",
         "name": "1σ",
         "showlegend": false,
         "text": "1σ ~ 0.000000",
         "type": "scatter",
         "x": [
          0,
          0,
          0,
          0,
          0,
          0,
          0,
          0,
          0,
          0,
          0,
          0,
          0,
          0,
          0,
          0,
          0,
          0,
          0,
          0,
          0,
          0,
          0,
          0,
          0,
          0,
          0,
          0,
          0,
          0,
          0,
          0,
          0,
          0,
          0,
          0,
          0,
          0,
          0,
          0,
          0,
          0,
          0,
          0,
          0
         ],
         "xaxis": "x4",
         "y": [
          0,
          0,
          0,
          0,
          0,
          0,
          0,
          0,
          0,
          0,
          0,
          0,
          0,
          0,
          0,
          0,
          0,
          0,
          0,
          0,
          0,
          0,
          0,
          0,
          0,
          0,
          0,
          0,
          0,
          0,
          0,
          0,
          0,
          0,
          0,
          0,
          0,
          0,
          0,
          0,
          0,
          0,
          0,
          0,
          0
         ],
         "yaxis": "y4"
        },
        {
         "marker": {
          "color": "rgb(255, 0, 0)"
         },
         "mode": "lines",
         "name": "2σ",
         "showlegend": false,
         "text": "2σ ~ 0.000000",
         "type": "scatter",
         "x": [
          0,
          0,
          0,
          0,
          0,
          0,
          0,
          0,
          0,
          0,
          0,
          0,
          0,
          0,
          0,
          0,
          0,
          0,
          0,
          0,
          0,
          0,
          0,
          0,
          0,
          0,
          0,
          0,
          0,
          0,
          0,
          0,
          0,
          0,
          0,
          0,
          0,
          0,
          0,
          0,
          0,
          0,
          0,
          0,
          0
         ],
         "xaxis": "x4",
         "y": [
          0,
          0,
          0,
          0,
          0,
          0,
          0,
          0,
          0,
          0,
          0,
          0,
          0,
          0,
          0,
          0,
          0,
          0,
          0,
          0,
          0,
          0,
          0,
          0,
          0,
          0,
          0,
          0,
          0,
          0,
          0,
          0,
          0,
          0,
          0,
          0,
          0,
          0,
          0,
          0,
          0,
          0,
          0,
          0,
          0
         ],
         "yaxis": "y4"
        },
        {
         "marker": {
          "color": "rgb(255, 255, 0)"
         },
         "mode": "lines",
         "name": "3σ",
         "showlegend": false,
         "text": "3σ ~ 0.000000",
         "type": "scatter",
         "x": [
          0,
          0,
          0,
          0,
          0,
          0,
          0,
          0,
          0,
          0,
          0,
          0,
          0,
          0,
          0,
          0,
          0,
          0,
          0,
          0,
          0,
          0,
          0,
          0,
          0,
          0,
          0,
          0,
          0,
          0,
          0,
          0,
          0,
          0,
          0,
          0,
          0,
          0,
          0,
          0,
          0,
          0,
          0,
          0,
          0
         ],
         "xaxis": "x4",
         "y": [
          0,
          0,
          0,
          0,
          0,
          0,
          0,
          0,
          0,
          0,
          0,
          0,
          0,
          0,
          0,
          0,
          0,
          0,
          0,
          0,
          0,
          0,
          0,
          0,
          0,
          0,
          0,
          0,
          0,
          0,
          0,
          0,
          0,
          0,
          0,
          0,
          0,
          0,
          0,
          0,
          0,
          0,
          0,
          0,
          0
         ],
         "yaxis": "y4"
        },
        {
         "error_y": {
          "color": "rgb(158, 63, 221)",
          "type": "data",
          "visible": true
         },
         "marker": {
          "color": [
           393.2869470320204,
           1024.5188658399736,
           2040.7892025917813,
           1201.2351086228118,
           1587.7052528072966,
           642.7900462919683
          ],
          "colorscale": "Jet",
          "reversescale": true
         },
         "mode": "markers",
         "name": "meerkathi-pipeline_4-pybdsm-combined flux_ratio",
         "showlegend": false,
         "text": [
          "A030",
          "C331",
          "B033",
          "D282",
          "E122",
          "F131"
         ],
         "type": "scatter",
         "x": [
          1.1948322140914134,
          0.09844961544090038,
          0.12543503608464196,
          0.06146949230276085,
          0.05208323598247721,
          0.05041915094395033
         ],
         "xaxis": "x5",
         "y": [
          0.12974752904869477,
          0.3655241001207575,
          0.4404566524433861,
          0.5853707225510507,
          0.9822304804199835,
          1.1751027834327636
         ],
         "yaxis": "y5"
        },
        {
         "error_y": {
          "color": "rgb(158, 63, 221)",
          "type": "data",
          "visible": true
         },
         "marker": {
          "color": [
           0.013094062946046578,
           0.013171694151879701,
           0.013801988539849661,
           0.015333412150137598,
           0.015461767418665182,
           0.02066874854669746,
           0.02423550022480019,
           0.02634083823382786,
           0.03644764600191469,
           0.05041915094395033,
           0.05208323598247721,
           0.06146949230276085,
           0.09844961544090038,
           0.125435036084642,
           1.1948322140914136
          ],
          "colorscale": "Viridis",
          "reversescale": true
         },
         "mode": "markers",
         "name": "meerkathi-pipeline_1-pybdsm flux_ratio",
         "showlegend": false,
         "text": [
          "A030",
          "C331",
          "B033",
          "D282",
          "E122",
          "F131"
         ],
         "type": "scatter",
         "x": [
          0.16061834226411112,
          0.36290123946836206,
          0.40395400543593596,
          0.09177496228845856,
          0.20250021583162658,
          0.2766962292984482
         ],
         "xaxis": "x6",
         "y": [
          0.01213647564380797,
          0.2192382993836033,
          0.29555593118940376,
          0.5807090515288472,
          0.9687498645056069,
          1.1539580430749963
         ],
         "yaxis": "y6"
        },
        {
         "marker": {
          "color": "rgb(0, 0, 255)"
         },
         "mode": "lines",
         "name": "1σ",
         "showlegend": false,
         "text": "1σ ~ 0.211993",
         "type": "scatter",
         "x": [
          0.10987969490122661,
          0.10876127804056909,
          0.10542879520063164,
          0.09995008612194846,
          0.09243668152206921,
          0.08304153265177777,
          0.07195589764870125,
          0.05940544807317082,
          0.045645674886036366,
          0.030956687389478786,
          0.015637511009385974,
          6.728190832603746e-18,
          -0.015637511009385964,
          -0.030956687389478776,
          -0.04564567488603635,
          -0.05940544807317082,
          -0.07195589764870125,
          -0.08304153265177776,
          -0.0924366815220692,
          -0.09995008612194846,
          -0.10542879520063164,
          -0.10876127804056909,
          -0.10987969490122661,
          -0.1087612780405691,
          -0.10542879520063166,
          -0.09995008612194846,
          -0.09243668152206921,
          -0.08304153265177779,
          -0.07195589764870126,
          -0.059405448073170795,
          -0.04564567488603636,
          -0.030956687389478783,
          -0.01563751100938599,
          -2.0184572497811236e-17,
          0.015637511009385947,
          0.030956687389478738,
          0.045645674886036325,
          0.05940544807317076,
          0.07195589764870128,
          0.08304153265177779,
          0.09243668152206921,
          0.09995008612194846,
          0.10542879520063164,
          0.10876127804056909,
          0.10987969490122661
         ],
         "xaxis": "x6",
         "y": [
          0,
          0.05820698620024628,
          0.11522904601654264,
          0.16990537474907091,
          0.22112292001834852,
          0.2678390403018969,
          0.30910273010890915,
          0.3440739797095696,
          0.3720408753107648,
          0.3924340915679215,
          0.4048384814072232,
          0.40900152722284827,
          0.4048384814072233,
          0.3924340915679215,
          0.37204087531076485,
          0.3440739797095696,
          0.30910273010890915,
          0.267839040301897,
          0.22112292001834863,
          0.1699053747490709,
          0.11522904601654264,
          0.058206986200246294,
          5.008824111598402e-17,
          -0.05820698620024619,
          -0.11522904601654253,
          -0.16990537474907094,
          -0.22112292001834852,
          -0.26783904030189687,
          -0.3091027301089091,
          -0.34407397970956966,
          -0.37204087531076485,
          -0.3924340915679215,
          -0.4048384814072232,
          -0.40900152722284827,
          -0.4048384814072233,
          -0.39243409156792153,
          -0.3720408753107649,
          -0.3440739797095697,
          -0.3091027301089091,
          -0.2678390403018968,
          -0.2211229200183485,
          -0.16990537474907091,
          -0.11522904601654269,
          -0.05820698620024635,
          -1.0017648223196804e-16
         ],
         "yaxis": "y6"
        },
        {
         "marker": {
          "color": "rgb(255, 0, 0)"
         },
         "mode": "lines",
         "name": "2σ",
         "showlegend": false,
         "text": "2σ ~ 0.423986",
         "type": "scatter",
         "x": [
          0.21975938980245321,
          0.21752255608113819,
          0.21085759040126328,
          0.19990017224389692,
          0.18487336304413843,
          0.16608306530355554,
          0.1439117952974025,
          0.11881089614634165,
          0.09129134977207273,
          0.06191337477895757,
          0.03127502201877195,
          1.3456381665207492e-17,
          -0.03127502201877193,
          -0.06191337477895755,
          -0.0912913497720727,
          -0.11881089614634165,
          -0.1439117952974025,
          -0.16608306530355552,
          -0.1848733630441384,
          -0.19990017224389692,
          -0.21085759040126328,
          -0.21752255608113819,
          -0.21975938980245321,
          -0.2175225560811382,
          -0.2108575904012633,
          -0.19990017224389692,
          -0.18487336304413843,
          -0.16608306530355557,
          -0.14391179529740253,
          -0.11881089614634159,
          -0.09129134977207272,
          -0.061913374778957565,
          -0.03127502201877198,
          -4.036914499562247e-17,
          0.03127502201877189,
          0.061913374778957475,
          0.09129134977207265,
          0.11881089614634152,
          0.14391179529740256,
          0.16608306530355557,
          0.18487336304413843,
          0.19990017224389692,
          0.21085759040126328,
          0.21752255608113819,
          0.21975938980245321
         ],
         "xaxis": "x6",
         "y": [
          0,
          0.11641397240049256,
          0.2304580920330853,
          0.33981074949814183,
          0.44224584003669704,
          0.5356780806037938,
          0.6182054602178183,
          0.6881479594191392,
          0.7440817506215296,
          0.784868183135843,
          0.8096769628144465,
          0.8180030544456965,
          0.8096769628144466,
          0.784868183135843,
          0.7440817506215297,
          0.6881479594191392,
          0.6182054602178183,
          0.535678080603794,
          0.44224584003669726,
          0.3398107494981418,
          0.2304580920330853,
          0.11641397240049259,
          1.0017648223196804e-16,
          -0.11641397240049238,
          -0.23045809203308507,
          -0.3398107494981419,
          -0.44224584003669704,
          -0.5356780806037937,
          -0.6182054602178182,
          -0.6881479594191393,
          -0.7440817506215297,
          -0.784868183135843,
          -0.8096769628144465,
          -0.8180030544456965,
          -0.8096769628144466,
          -0.7848681831358431,
          -0.7440817506215298,
          -0.6881479594191394,
          -0.6182054602178182,
          -0.5356780806037936,
          -0.442245840036697,
          -0.33981074949814183,
          -0.23045809203308537,
          -0.1164139724004927,
          -2.0035296446393608e-16
         ],
         "yaxis": "y6"
        },
        {
         "marker": {
          "color": "rgb(255, 255, 0)"
         },
         "mode": "lines",
         "name": "3σ",
         "showlegend": false,
         "text": "3σ ~ 0.635979",
         "type": "scatter",
         "x": [
          0.3296390847036798,
          0.32628383412170725,
          0.3162863856018949,
          0.2998502583658454,
          0.27731004456620767,
          0.24912459795533332,
          0.21586769294610375,
          0.17821634421951246,
          0.13693702465810909,
          0.09287006216843635,
          0.04691253302815793,
          2.0184572497811236e-17,
          -0.04691253302815789,
          -0.09287006216843632,
          -0.13693702465810906,
          -0.17821634421951246,
          -0.21586769294610375,
          -0.24912459795533326,
          -0.2773100445662076,
          -0.2998502583658454,
          -0.3162863856018949,
          -0.32628383412170725,
          -0.3296390847036798,
          -0.3262838341217073,
          -0.316286385601895,
          -0.2998502583658454,
          -0.27731004456620767,
          -0.24912459795533337,
          -0.2158676929461038,
          -0.17821634421951238,
          -0.13693702465810909,
          -0.09287006216843635,
          -0.04691253302815797,
          -6.055371749343371e-17,
          0.04691253302815784,
          0.09287006216843621,
          0.13693702465810897,
          0.17821634421951227,
          0.21586769294610383,
          0.24912459795533337,
          0.27731004456620767,
          0.2998502583658454,
          0.3162863856018949,
          0.32628383412170725,
          0.3296390847036798
         ],
         "xaxis": "x6",
         "y": [
          0,
          0.17462095860073884,
          0.3456871380496279,
          0.5097161242472128,
          0.6633687600550455,
          0.8035171209056908,
          0.9273081903267275,
          1.0322219391287089,
          1.1161226259322943,
          1.1773022747037645,
          1.2145154442216697,
          1.2270045816685449,
          1.21451544422167,
          1.1773022747037645,
          1.1161226259322945,
          1.0322219391287089,
          0.9273081903267275,
          0.8035171209056909,
          0.6633687600550459,
          0.5097161242472127,
          0.3456871380496279,
          0.1746209586007389,
          1.5026472334795205e-16,
          -0.17462095860073856,
          -0.3456871380496276,
          -0.5097161242472128,
          -0.6633687600550455,
          -0.8035171209056906,
          -0.9273081903267273,
          -1.0322219391287089,
          -1.1161226259322945,
          -1.1773022747037645,
          -1.2145154442216697,
          -1.2270045816685449,
          -1.21451544422167,
          -1.1773022747037647,
          -1.1161226259322947,
          -1.032221939128709,
          -0.9273081903267273,
          -0.8035171209056904,
          -0.6633687600550455,
          -0.5097161242472128,
          -0.34568713804962803,
          -0.17462095860073906,
          -3.005294466959041e-16
         ],
         "yaxis": "y6"
        },
        {
         "error_y": {
          "color": "rgb(158, 63, 221)",
          "type": "data",
          "visible": true
         },
         "marker": {
          "color": [
           2897.725329546359,
           1024.453877025326,
           2041.204377053077,
           2882.0580143118127,
           393.3460849083838,
           1818.152075742431,
           1588.101150578869,
           3221.22110161112,
           1201.3983112535664,
           1340.6754496697713,
           2459.1599968024816,
           1505.082124013398,
           641.8333586067981,
           3443.888522462859,
           2263.968656509504
          ],
          "colorscale": "Jet",
          "reversescale": true
         },
         "mode": "markers",
         "name": "meerkathi-pipeline_4-pybdsm-combined flux_ratio",
         "showlegend": false,
         "text": [
          "I014",
          "C331",
          "B033",
          "J344",
          "A030",
          "L053",
          "E122",
          "O305",
          "D282",
          "K182",
          "M304",
          "H002",
          "F131",
          "N315",
          "G013"
         ],
         "type": "scatter",
         "x": [
          0.02423550022480019,
          0.09844961544090038,
          0.12543503608464196,
          0.02066874854669746,
          1.1948322140914134,
          0.015333412150137598,
          0.05208323598247721,
          0.013094062946046578,
          0.06146949230276085,
          0.015461767418665182,
          0.013801988539849661,
          0.02634083823382786,
          0.05041915094395033,
          0.013171694151879701,
          0.03644764600191469
         ],
         "xaxis": "x7",
         "y": [
          0,
          0,
          0,
          0,
          0,
          0,
          0,
          0,
          0,
          0,
          0,
          0,
          0,
          0,
          0.003073585126505738
         ],
         "yaxis": "y7"
        },
        {
         "error_y": {
          "color": "rgb(158, 63, 221)",
          "type": "data",
          "visible": true
         },
         "marker": {
          "color": [
           0.013094062946046578,
           0.013171694151879701,
           0.013801988539849661,
           0.015333412150137598,
           0.015461767418665182,
           0.02066874854669746,
           0.02423550022480019,
           0.02634083823382786,
           0.03644764600191469,
           0.05041915094395033,
           0.05208323598247721,
           0.06146949230276085,
           0.09844961544090038,
           0.125435036084642,
           1.1948322140914136
          ],
          "colorscale": "Viridis",
          "reversescale": true
         },
         "mode": "markers",
         "name": "meerkathi-pipeline_4-pybdsm-combined flux_ratio",
         "showlegend": false,
         "text": [
          "I014",
          "C331",
          "B033",
          "J344",
          "A030",
          "L053",
          "E122",
          "O305",
          "D282",
          "K182",
          "M304",
          "H002",
          "F131",
          "N315",
          "G013"
         ],
         "type": "scatter",
         "x": [
          0,
          0,
          0,
          0,
          0,
          0,
          0,
          0,
          0,
          0,
          0,
          0,
          0,
          0,
          0
         ],
         "xaxis": "x8",
         "y": [
          0,
          0,
          0,
          0,
          0,
          0,
          0,
          0,
          0,
          0,
          0,
          0,
          0,
          0,
          0
         ],
         "yaxis": "y8"
        },
        {
         "marker": {
          "color": "rgb(0, 0, 255)"
         },
         "mode": "lines",
         "name": "1σ",
         "showlegend": false,
         "text": "1σ ~ 0.000000",
         "type": "scatter",
         "x": [
          0,
          0,
          0,
          0,
          0,
          0,
          0,
          0,
          0,
          0,
          0,
          0,
          0,
          0,
          0,
          0,
          0,
          0,
          0,
          0,
          0,
          0,
          0,
          0,
          0,
          0,
          0,
          0,
          0,
          0,
          0,
          0,
          0,
          0,
          0,
          0,
          0,
          0,
          0,
          0,
          0,
          0,
          0,
          0,
          0
         ],
         "xaxis": "x8",
         "y": [
          0,
          0,
          0,
          0,
          0,
          0,
          0,
          0,
          0,
          0,
          0,
          0,
          0,
          0,
          0,
          0,
          0,
          0,
          0,
          0,
          0,
          0,
          0,
          0,
          0,
          0,
          0,
          0,
          0,
          0,
          0,
          0,
          0,
          0,
          0,
          0,
          0,
          0,
          0,
          0,
          0,
          0,
          0,
          0,
          0
         ],
         "yaxis": "y8"
        },
        {
         "marker": {
          "color": "rgb(255, 0, 0)"
         },
         "mode": "lines",
         "name": "2σ",
         "showlegend": false,
         "text": "2σ ~ 0.000000",
         "type": "scatter",
         "x": [
          0,
          0,
          0,
          0,
          0,
          0,
          0,
          0,
          0,
          0,
          0,
          0,
          0,
          0,
          0,
          0,
          0,
          0,
          0,
          0,
          0,
          0,
          0,
          0,
          0,
          0,
          0,
          0,
          0,
          0,
          0,
          0,
          0,
          0,
          0,
          0,
          0,
          0,
          0,
          0,
          0,
          0,
          0,
          0,
          0
         ],
         "xaxis": "x8",
         "y": [
          0,
          0,
          0,
          0,
          0,
          0,
          0,
          0,
          0,
          0,
          0,
          0,
          0,
          0,
          0,
          0,
          0,
          0,
          0,
          0,
          0,
          0,
          0,
          0,
          0,
          0,
          0,
          0,
          0,
          0,
          0,
          0,
          0,
          0,
          0,
          0,
          0,
          0,
          0,
          0,
          0,
          0,
          0,
          0,
          0
         ],
         "yaxis": "y8"
        },
        {
         "marker": {
          "color": "rgb(255, 255, 0)"
         },
         "mode": "lines",
         "name": "3σ",
         "showlegend": false,
         "text": "3σ ~ 0.000000",
         "type": "scatter",
         "x": [
          0,
          0,
          0,
          0,
          0,
          0,
          0,
          0,
          0,
          0,
          0,
          0,
          0,
          0,
          0,
          0,
          0,
          0,
          0,
          0,
          0,
          0,
          0,
          0,
          0,
          0,
          0,
          0,
          0,
          0,
          0,
          0,
          0,
          0,
          0,
          0,
          0,
          0,
          0,
          0,
          0,
          0,
          0,
          0,
          0
         ],
         "xaxis": "x8",
         "y": [
          0,
          0,
          0,
          0,
          0,
          0,
          0,
          0,
          0,
          0,
          0,
          0,
          0,
          0,
          0,
          0,
          0,
          0,
          0,
          0,
          0,
          0,
          0,
          0,
          0,
          0,
          0,
          0,
          0,
          0,
          0,
          0,
          0,
          0,
          0,
          0,
          0,
          0,
          0,
          0,
          0,
          0,
          0,
          0,
          0
         ],
         "yaxis": "y8"
        }
       ],
       "layout": {
        "annotations": [
         {
          "font": {
           "size": 10
          },
          "showarrow": false,
          "text": "<b>MEERKATHI-PIPELINE_3-PYBDSM-COMBINED Position</b>",
          "x": 0.1875,
          "xanchor": "center",
          "xref": "paper",
          "y": 1,
          "yanchor": "bottom",
          "yref": "paper"
         },
         {
          "font": {
           "size": 10
          },
          "showarrow": false,
          "text": "<b>MEERKATHI-PIPELINE_3-PYBDSM-COMBINED Position</b>",
          "x": 0.8125,
          "xanchor": "center",
          "xref": "paper",
          "y": 1,
          "yanchor": "bottom",
          "yref": "paper"
         },
         {
          "font": {
           "size": 10
          },
          "showarrow": false,
          "text": "<b>MEERKATHI-PIPELINE_2-PYBDSM Position</b>",
          "x": 0.1875,
          "xanchor": "center",
          "xref": "paper",
          "y": 0.7124999999999999,
          "yanchor": "bottom",
          "yref": "paper"
         },
         {
          "font": {
           "size": 10
          },
          "showarrow": false,
          "text": "<b>MEERKATHI-PIPELINE_2-PYBDSM Position</b>",
          "x": 0.8125,
          "xanchor": "center",
          "xref": "paper",
          "y": 0.7124999999999999,
          "yanchor": "bottom",
          "yref": "paper"
         },
         {
          "font": {
           "size": 10
          },
          "showarrow": false,
          "text": "<b>MEERKATHI-PIPELINE_1-PYBDSM Position</b>",
          "x": 0.1875,
          "xanchor": "center",
          "xref": "paper",
          "y": 0.425,
          "yanchor": "bottom",
          "yref": "paper"
         },
         {
          "font": {
           "size": 10
          },
          "showarrow": false,
          "text": "<b>MEERKATHI-PIPELINE_1-PYBDSM Position</b>",
          "x": 0.8125,
          "xanchor": "center",
          "xref": "paper",
          "y": 0.425,
          "yanchor": "bottom",
          "yref": "paper"
         },
         {
          "font": {
           "size": 10
          },
          "showarrow": false,
          "text": "<b>MEERKATHI-PIPELINE_4-PYBDSM-COMBINED Position</b>",
          "x": 0.1875,
          "xanchor": "center",
          "xref": "paper",
          "y": 0.1375,
          "yanchor": "bottom",
          "yref": "paper"
         },
         {
          "font": {
           "size": 10
          },
          "showarrow": false,
          "text": "<b>MEERKATHI-PIPELINE_4-PYBDSM-COMBINED Position</b>",
          "x": 0.8125,
          "xanchor": "center",
          "xref": "paper",
          "y": 0.1375,
          "yanchor": "bottom",
          "yref": "paper"
         }
        ],
        "height": 900,
        "legend": {
         "x": 1.1,
         "xanchor": true,
         "y": 1
        },
        "paper_bgcolor": "rgb(255,255,255)",
        "plot_bgcolor": "rgb(229,229,229)",
        "title": "",
        "width": 900,
        "xaxis1": {
         "anchor": "y1",
         "domain": [
          0,
          0.375
         ],
         "overlaying": "x",
         "position": 0,
         "title": "Input Flux (Jy)",
         "titlefont": {
          "size": 17
         },
         "zeroline": false
        },
        "xaxis2": {
         "anchor": "y2",
         "domain": [
          0.625,
          1
         ],
         "range": [],
         "title": "Right Ascension offset [arcsec]",
         "titlefont": {
          "size": 17
         },
         "zeroline": false
        },
        "xaxis3": {
         "anchor": "y3",
         "domain": [
          0,
          0.375
         ],
         "overlaying": "x",
         "position": 0,
         "title": "Input Flux (Jy)",
         "titlefont": {
          "size": 17
         },
         "zeroline": false
        },
        "xaxis4": {
         "anchor": "y4",
         "domain": [
          0.625,
          1
         ],
         "range": [],
         "title": "Right Ascension offset [arcsec]",
         "titlefont": {
          "size": 17
         },
         "zeroline": false
        },
        "xaxis5": {
         "anchor": "y5",
         "domain": [
          0,
          0.375
         ],
         "overlaying": "x",
         "position": 0,
         "title": "Input Flux (Jy)",
         "titlefont": {
          "size": 17
         },
         "zeroline": false
        },
        "xaxis6": {
         "anchor": "y6",
         "domain": [
          0.625,
          1
         ],
         "range": [],
         "title": "Right Ascension offset [arcsec]",
         "titlefont": {
          "size": 17
         },
         "zeroline": false
        },
        "xaxis7": {
         "anchor": "y7",
         "domain": [
          0,
          0.375
         ],
         "overlaying": "x",
         "position": 0,
         "title": "Input Flux (Jy)",
         "titlefont": {
          "size": 17
         },
         "zeroline": false
        },
        "xaxis8": {
         "anchor": "y8",
         "domain": [
          0.625,
          1
         ],
         "range": [],
         "title": "Right Ascension offset [arcsec]",
         "titlefont": {
          "size": 17
         },
         "zeroline": false
        },
        "yaxis1": {
         "anchor": "x1",
         "color": "rgb(0,0,0)",
         "domain": [
          0.8625,
          1
         ],
         "gridcolor": "rgb(255,255,255)",
         "range": [],
         "showgrid": true,
         "showline": false,
         "showticklabels": true,
         "tickcolor": "rgb(51,153,225)",
         "tickfont": {
          "color": "rgb(0,0,0)",
          "size": 14
         },
         "ticks": "outside",
         "title": "Delta position [arcsec]",
         "titlefont": {
          "size": 15
         },
         "zeroline": false
        },
        "yaxis2": {
         "anchor": "x2",
         "color": "rgb(0,0,0)",
         "domain": [
          0.8625,
          1
         ],
         "gridcolor": "rgb(255,255,255)",
         "range": [],
         "showgrid": true,
         "showline": false,
         "showticklabels": true,
         "tickcolor": "rgb(51,153,225)",
         "tickfont": {
          "color": "rgb(0,0,0)",
          "size": 10
         },
         "ticks": "outside",
         "title": "Declination offset [arcsec]",
         "titlefont": {
          "size": 17
         },
         "zeroline": false
        },
        "yaxis3": {
         "anchor": "x3",
         "color": "rgb(0,0,0)",
         "domain": [
          0.575,
          0.7124999999999999
         ],
         "gridcolor": "rgb(255,255,255)",
         "range": [],
         "showgrid": true,
         "showline": false,
         "showticklabels": true,
         "tickcolor": "rgb(51,153,225)",
         "tickfont": {
          "color": "rgb(0,0,0)",
          "size": 14
         },
         "ticks": "outside",
         "title": "Delta position [arcsec]",
         "titlefont": {
          "size": 15
         },
         "zeroline": false
        },
        "yaxis4": {
         "anchor": "x4",
         "color": "rgb(0,0,0)",
         "domain": [
          0.575,
          0.7124999999999999
         ],
         "gridcolor": "rgb(255,255,255)",
         "range": [],
         "showgrid": true,
         "showline": false,
         "showticklabels": true,
         "tickcolor": "rgb(51,153,225)",
         "tickfont": {
          "color": "rgb(0,0,0)",
          "size": 10
         },
         "ticks": "outside",
         "title": "Declination offset [arcsec]",
         "titlefont": {
          "size": 17
         },
         "zeroline": false
        },
        "yaxis5": {
         "anchor": "x5",
         "color": "rgb(0,0,0)",
         "domain": [
          0.2875,
          0.425
         ],
         "gridcolor": "rgb(255,255,255)",
         "range": [],
         "showgrid": true,
         "showline": false,
         "showticklabels": true,
         "tickcolor": "rgb(51,153,225)",
         "tickfont": {
          "color": "rgb(0,0,0)",
          "size": 14
         },
         "ticks": "outside",
         "title": "Delta position [arcsec]",
         "titlefont": {
          "size": 15
         },
         "zeroline": false
        },
        "yaxis6": {
         "anchor": "x6",
         "color": "rgb(0,0,0)",
         "domain": [
          0.2875,
          0.425
         ],
         "gridcolor": "rgb(255,255,255)",
         "range": [],
         "showgrid": true,
         "showline": false,
         "showticklabels": true,
         "tickcolor": "rgb(51,153,225)",
         "tickfont": {
          "color": "rgb(0,0,0)",
          "size": 10
         },
         "ticks": "outside",
         "title": "Declination offset [arcsec]",
         "titlefont": {
          "size": 17
         },
         "zeroline": false
        },
        "yaxis7": {
         "anchor": "x7",
         "color": "rgb(0,0,0)",
         "domain": [
          0,
          0.1375
         ],
         "gridcolor": "rgb(255,255,255)",
         "range": [],
         "showgrid": true,
         "showline": false,
         "showticklabels": true,
         "tickcolor": "rgb(51,153,225)",
         "tickfont": {
          "color": "rgb(0,0,0)",
          "size": 14
         },
         "ticks": "outside",
         "title": "Delta position [arcsec]",
         "titlefont": {
          "size": 15
         },
         "zeroline": false
        },
        "yaxis8": {
         "anchor": "x8",
         "color": "rgb(0,0,0)",
         "domain": [
          0,
          0.1375
         ],
         "gridcolor": "rgb(255,255,255)",
         "range": [],
         "showgrid": true,
         "showline": false,
         "showticklabels": true,
         "tickcolor": "rgb(51,153,225)",
         "tickfont": {
          "color": "rgb(0,0,0)",
          "size": 10
         },
         "ticks": "outside",
         "title": "Declination offset [arcsec]",
         "titlefont": {
          "size": 17
         },
         "zeroline": false
        }
       }
      },
      "text/html": [
       "<div id=\"66a53f46-c918-4e8c-874e-02b8091d68d3\" style=\"height: 900px; width: 900px;\" class=\"plotly-graph-div\"></div><script type=\"text/javascript\">require([\"plotly\"], function(Plotly) { window.PLOTLYENV=window.PLOTLYENV || {};window.PLOTLYENV.BASE_URL=\"https://plot.ly\";Plotly.newPlot(\"66a53f46-c918-4e8c-874e-02b8091d68d3\", [{\"showlegend\": false, \"error_y\": {\"color\": \"rgb(158, 63, 221)\", \"visible\": true, \"type\": \"data\"}, \"yaxis\": \"y1\", \"text\": [\"I014\", \"C331\", \"B033\", \"J344\", \"A030\", \"L053\", \"E122\", \"O305\", \"D282\", \"K182\", \"M304\", \"H002\", \"F131\", \"N315\", \"G013\"], \"marker\": {\"colorbar\": {\"x\": 0.4, \"titlefont\": {\"size\": 16}, \"titleside\": \"right\", \"title\": \"Distance from phase centre (arcsec)\"}, \"reversescale\": true, \"color\": [2897.725329546359, 1024.453877025326, 2041.204377053077, 2882.0580143118127, 393.3460849083838, 1818.152075742431, 1588.101150578869, 3221.22110161112, 1201.3983112535664, 1340.6754496697713, 2459.1599968024816, 1505.082124013398, 641.8333586067981, 3443.888522462859, 2263.968656509504], \"showscale\": true, \"colorscale\": \"Jet\"}, \"mode\": \"markers\", \"xaxis\": \"x1\", \"y\": [0.0, 0.0, 0.0, 0.0, 0.0, 0.0, 0.0, 0.0, 0.0, 0.0, 0.0, 0.0, 0.0, 0.0, 0.003073585126505738], \"x\": [0.02423550022480019, 0.09844961544090038, 0.12543503608464196, 0.02066874854669746, 1.1948322140914134, 0.015333412150137598, 0.05208323598247721, 0.013094062946046578, 0.06146949230276085, 0.015461767418665182, 0.013801988539849661, 0.02634083823382786, 0.05041915094395033, 0.013171694151879701, 0.03644764600191469], \"type\": \"scatter\", \"name\": \"meerkathi-pipeline_4-pybdsm-combined flux_ratio\"}, {\"showlegend\": false, \"error_y\": {\"color\": \"rgb(158, 63, 221)\", \"visible\": true, \"type\": \"data\"}, \"yaxis\": \"y2\", \"text\": [\"I014\", \"C331\", \"B033\", \"J344\", \"A030\", \"L053\", \"E122\", \"O305\", \"D282\", \"K182\", \"M304\", \"H002\", \"F131\", \"N315\", \"G013\"], \"marker\": {\"colorbar\": {\"titlefont\": {\"size\": 16}, \"titleside\": \"right\", \"title\": \"Input Flux (Jy)\"}, \"reversescale\": true, \"color\": [0.013094062946046578, 0.013171694151879701, 0.013801988539849661, 0.015333412150137598, 0.015461767418665182, 0.02066874854669746, 0.02423550022480019, 0.02634083823382786, 0.03644764600191469, 0.05041915094395033, 0.05208323598247721, 0.06146949230276085, 0.09844961544090038, 0.125435036084642, 1.1948322140914136], \"showscale\": true, \"colorscale\": \"Viridis\"}, \"mode\": \"markers\", \"xaxis\": \"x2\", \"y\": [0.0, 0.0, 0.0, 0.0, 0.0, 0.0, 0.0, 0.0, 0.0, 0.0, 0.0, 0.0, 0.0, 0.0, 0.0], \"x\": [0.0, 0.0, 0.0, 0.0, 0.0, 0.0, 0.0, 0.0, 0.0, 0.0, 0.0, 0.0, 0.0, 0.0, 0.0], \"type\": \"scatter\", \"name\": \"meerkathi-pipeline_3-pybdsm-combined flux_ratio\"}, {\"showlegend\": true, \"name\": \"1\\u03c3\", \"yaxis\": \"y2\", \"text\": \"1\\u03c3 ~ 0.000000\", \"marker\": {\"color\": \"rgb(0, 0, 255)\"}, \"mode\": \"lines\", \"xaxis\": \"x2\", \"y\": [0.0, 0.0, 0.0, 0.0, 0.0, 0.0, 0.0, 0.0, 0.0, 0.0, 0.0, 0.0, 0.0, 0.0, 0.0, 0.0, 0.0, 0.0, 0.0, 0.0, 0.0, 0.0, 0.0, -0.0, -0.0, -0.0, -0.0, -0.0, -0.0, -0.0, -0.0, -0.0, -0.0, -0.0, -0.0, -0.0, -0.0, -0.0, -0.0, -0.0, -0.0, -0.0, -0.0, -0.0, -0.0], \"x\": [0.0, 0.0, 0.0, 0.0, 0.0, 0.0, 0.0, 0.0, 0.0, 0.0, 0.0, 0.0, -0.0, -0.0, -0.0, -0.0, -0.0, -0.0, -0.0, -0.0, -0.0, -0.0, -0.0, -0.0, -0.0, -0.0, -0.0, -0.0, -0.0, -0.0, -0.0, -0.0, -0.0, -0.0, 0.0, 0.0, 0.0, 0.0, 0.0, 0.0, 0.0, 0.0, 0.0, 0.0, 0.0], \"type\": \"scatter\"}, {\"showlegend\": true, \"name\": \"2\\u03c3\", \"yaxis\": \"y2\", \"text\": \"2\\u03c3 ~ 0.000000\", \"marker\": {\"color\": \"rgb(255, 0, 0)\"}, \"mode\": \"lines\", \"xaxis\": \"x2\", \"y\": [0.0, 0.0, 0.0, 0.0, 0.0, 0.0, 0.0, 0.0, 0.0, 0.0, 0.0, 0.0, 0.0, 0.0, 0.0, 0.0, 0.0, 0.0, 0.0, 0.0, 0.0, 0.0, 0.0, -0.0, -0.0, -0.0, -0.0, -0.0, -0.0, -0.0, -0.0, -0.0, -0.0, -0.0, -0.0, -0.0, -0.0, -0.0, -0.0, -0.0, -0.0, -0.0, -0.0, -0.0, -0.0], \"x\": [0.0, 0.0, 0.0, 0.0, 0.0, 0.0, 0.0, 0.0, 0.0, 0.0, 0.0, 0.0, -0.0, -0.0, -0.0, -0.0, -0.0, -0.0, -0.0, -0.0, -0.0, -0.0, -0.0, -0.0, -0.0, -0.0, -0.0, -0.0, -0.0, -0.0, -0.0, -0.0, -0.0, -0.0, 0.0, 0.0, 0.0, 0.0, 0.0, 0.0, 0.0, 0.0, 0.0, 0.0, 0.0], \"type\": \"scatter\"}, {\"showlegend\": true, \"name\": \"3\\u03c3\", \"yaxis\": \"y2\", \"text\": \"3\\u03c3 ~ 0.000000\", \"marker\": {\"color\": \"rgb(255, 255, 0)\"}, \"mode\": \"lines\", \"xaxis\": \"x2\", \"y\": [0.0, 0.0, 0.0, 0.0, 0.0, 0.0, 0.0, 0.0, 0.0, 0.0, 0.0, 0.0, 0.0, 0.0, 0.0, 0.0, 0.0, 0.0, 0.0, 0.0, 0.0, 0.0, 0.0, -0.0, -0.0, -0.0, -0.0, -0.0, -0.0, -0.0, -0.0, -0.0, -0.0, -0.0, -0.0, -0.0, -0.0, -0.0, -0.0, -0.0, -0.0, -0.0, -0.0, -0.0, -0.0], \"x\": [0.0, 0.0, 0.0, 0.0, 0.0, 0.0, 0.0, 0.0, 0.0, 0.0, 0.0, 0.0, -0.0, -0.0, -0.0, -0.0, -0.0, -0.0, -0.0, -0.0, -0.0, -0.0, -0.0, -0.0, -0.0, -0.0, -0.0, -0.0, -0.0, -0.0, -0.0, -0.0, -0.0, -0.0, 0.0, 0.0, 0.0, 0.0, 0.0, 0.0, 0.0, 0.0, 0.0, 0.0, 0.0], \"type\": \"scatter\"}, {\"showlegend\": false, \"error_y\": {\"color\": \"rgb(158, 63, 221)\", \"visible\": true, \"type\": \"data\"}, \"yaxis\": \"y3\", \"text\": [\"C331\", \"B033\", \"A030\", \"E122\", \"D282\", \"F131\"], \"marker\": {\"reversescale\": true, \"color\": [1024.453877025326, 2041.204377053077, 393.3460849083838, 1588.101150578869, 1201.3983112535664, 641.8333586067981], \"colorscale\": \"Jet\"}, \"mode\": \"markers\", \"xaxis\": \"x3\", \"y\": [0.0, 0.0, 0.0, 0.0, 0.0, 0.0], \"x\": [0.09844961544090038, 0.12543503608464196, 1.1948322140914134, 0.05208323598247721, 0.06146949230276085, 0.05041915094395033], \"type\": \"scatter\", \"name\": \"meerkathi-pipeline_4-pybdsm-combined flux_ratio\"}, {\"showlegend\": false, \"error_y\": {\"color\": \"rgb(158, 63, 221)\", \"visible\": true, \"type\": \"data\"}, \"yaxis\": \"y4\", \"text\": [\"C331\", \"B033\", \"A030\", \"E122\", \"D282\", \"F131\"], \"marker\": {\"reversescale\": true, \"color\": [0.013094062946046578, 0.013171694151879701, 0.013801988539849661, 0.015333412150137598, 0.015461767418665182, 0.02066874854669746, 0.02423550022480019, 0.02634083823382786, 0.03644764600191469, 0.05041915094395033, 0.05208323598247721, 0.06146949230276085, 0.09844961544090038, 0.125435036084642, 1.1948322140914136], \"colorscale\": \"Viridis\"}, \"mode\": \"markers\", \"xaxis\": \"x4\", \"y\": [0.0, 0.0, 0.0, 0.0, 0.0, 0.0], \"x\": [0.0, 0.0, 0.0, 0.0, 0.0, 0.0], \"type\": \"scatter\", \"name\": \"meerkathi-pipeline_2-pybdsm flux_ratio\"}, {\"showlegend\": false, \"name\": \"1\\u03c3\", \"yaxis\": \"y4\", \"text\": \"1\\u03c3 ~ 0.000000\", \"marker\": {\"color\": \"rgb(0, 0, 255)\"}, \"mode\": \"lines\", \"xaxis\": \"x4\", \"y\": [0.0, 0.0, 0.0, 0.0, 0.0, 0.0, 0.0, 0.0, 0.0, 0.0, 0.0, 0.0, 0.0, 0.0, 0.0, 0.0, 0.0, 0.0, 0.0, 0.0, 0.0, 0.0, 0.0, -0.0, -0.0, -0.0, -0.0, -0.0, -0.0, -0.0, -0.0, -0.0, -0.0, -0.0, -0.0, -0.0, -0.0, -0.0, -0.0, -0.0, -0.0, -0.0, -0.0, -0.0, -0.0], \"x\": [0.0, 0.0, 0.0, 0.0, 0.0, 0.0, 0.0, 0.0, 0.0, 0.0, 0.0, 0.0, -0.0, -0.0, -0.0, -0.0, -0.0, -0.0, -0.0, -0.0, -0.0, -0.0, -0.0, -0.0, -0.0, -0.0, -0.0, -0.0, -0.0, -0.0, -0.0, -0.0, -0.0, -0.0, 0.0, 0.0, 0.0, 0.0, 0.0, 0.0, 0.0, 0.0, 0.0, 0.0, 0.0], \"type\": \"scatter\"}, {\"showlegend\": false, \"name\": \"2\\u03c3\", \"yaxis\": \"y4\", \"text\": \"2\\u03c3 ~ 0.000000\", \"marker\": {\"color\": \"rgb(255, 0, 0)\"}, \"mode\": \"lines\", \"xaxis\": \"x4\", \"y\": [0.0, 0.0, 0.0, 0.0, 0.0, 0.0, 0.0, 0.0, 0.0, 0.0, 0.0, 0.0, 0.0, 0.0, 0.0, 0.0, 0.0, 0.0, 0.0, 0.0, 0.0, 0.0, 0.0, -0.0, -0.0, -0.0, -0.0, -0.0, -0.0, -0.0, -0.0, -0.0, -0.0, -0.0, -0.0, -0.0, -0.0, -0.0, -0.0, -0.0, -0.0, -0.0, -0.0, -0.0, -0.0], \"x\": [0.0, 0.0, 0.0, 0.0, 0.0, 0.0, 0.0, 0.0, 0.0, 0.0, 0.0, 0.0, -0.0, -0.0, -0.0, -0.0, -0.0, -0.0, -0.0, -0.0, -0.0, -0.0, -0.0, -0.0, -0.0, -0.0, -0.0, -0.0, -0.0, -0.0, -0.0, -0.0, -0.0, -0.0, 0.0, 0.0, 0.0, 0.0, 0.0, 0.0, 0.0, 0.0, 0.0, 0.0, 0.0], \"type\": \"scatter\"}, {\"showlegend\": false, \"name\": \"3\\u03c3\", \"yaxis\": \"y4\", \"text\": \"3\\u03c3 ~ 0.000000\", \"marker\": {\"color\": \"rgb(255, 255, 0)\"}, \"mode\": \"lines\", \"xaxis\": \"x4\", \"y\": [0.0, 0.0, 0.0, 0.0, 0.0, 0.0, 0.0, 0.0, 0.0, 0.0, 0.0, 0.0, 0.0, 0.0, 0.0, 0.0, 0.0, 0.0, 0.0, 0.0, 0.0, 0.0, 0.0, -0.0, -0.0, -0.0, -0.0, -0.0, -0.0, -0.0, -0.0, -0.0, -0.0, -0.0, -0.0, -0.0, -0.0, -0.0, -0.0, -0.0, -0.0, -0.0, -0.0, -0.0, -0.0], \"x\": [0.0, 0.0, 0.0, 0.0, 0.0, 0.0, 0.0, 0.0, 0.0, 0.0, 0.0, 0.0, -0.0, -0.0, -0.0, -0.0, -0.0, -0.0, -0.0, -0.0, -0.0, -0.0, -0.0, -0.0, -0.0, -0.0, -0.0, -0.0, -0.0, -0.0, -0.0, -0.0, -0.0, -0.0, 0.0, 0.0, 0.0, 0.0, 0.0, 0.0, 0.0, 0.0, 0.0, 0.0, 0.0], \"type\": \"scatter\"}, {\"showlegend\": false, \"error_y\": {\"color\": \"rgb(158, 63, 221)\", \"visible\": true, \"type\": \"data\"}, \"yaxis\": \"y5\", \"text\": [\"A030\", \"C331\", \"B033\", \"D282\", \"E122\", \"F131\"], \"marker\": {\"reversescale\": true, \"color\": [393.2869470320204, 1024.5188658399736, 2040.7892025917813, 1201.2351086228118, 1587.7052528072966, 642.7900462919683], \"colorscale\": \"Jet\"}, \"mode\": \"markers\", \"xaxis\": \"x5\", \"y\": [0.12974752904869477, 0.3655241001207575, 0.4404566524433861, 0.5853707225510507, 0.9822304804199835, 1.1751027834327636], \"x\": [1.1948322140914134, 0.09844961544090038, 0.12543503608464196, 0.06146949230276085, 0.05208323598247721, 0.05041915094395033], \"type\": \"scatter\", \"name\": \"meerkathi-pipeline_4-pybdsm-combined flux_ratio\"}, {\"showlegend\": false, \"error_y\": {\"color\": \"rgb(158, 63, 221)\", \"visible\": true, \"type\": \"data\"}, \"yaxis\": \"y6\", \"text\": [\"A030\", \"C331\", \"B033\", \"D282\", \"E122\", \"F131\"], \"marker\": {\"reversescale\": true, \"color\": [0.013094062946046578, 0.013171694151879701, 0.013801988539849661, 0.015333412150137598, 0.015461767418665182, 0.02066874854669746, 0.02423550022480019, 0.02634083823382786, 0.03644764600191469, 0.05041915094395033, 0.05208323598247721, 0.06146949230276085, 0.09844961544090038, 0.125435036084642, 1.1948322140914136], \"colorscale\": \"Viridis\"}, \"mode\": \"markers\", \"xaxis\": \"x6\", \"y\": [0.01213647564380797, 0.2192382993836033, 0.29555593118940376, 0.5807090515288472, 0.9687498645056069, 1.1539580430749963], \"x\": [0.16061834226411112, 0.36290123946836206, 0.40395400543593596, 0.09177496228845856, 0.20250021583162658, 0.2766962292984482], \"type\": \"scatter\", \"name\": \"meerkathi-pipeline_1-pybdsm flux_ratio\"}, {\"showlegend\": false, \"name\": \"1\\u03c3\", \"yaxis\": \"y6\", \"text\": \"1\\u03c3 ~ 0.211993\", \"marker\": {\"color\": \"rgb(0, 0, 255)\"}, \"mode\": \"lines\", \"xaxis\": \"x6\", \"y\": [0.0, 0.05820698620024628, 0.11522904601654264, 0.16990537474907091, 0.22112292001834852, 0.2678390403018969, 0.30910273010890915, 0.3440739797095696, 0.3720408753107648, 0.3924340915679215, 0.4048384814072232, 0.40900152722284827, 0.4048384814072233, 0.3924340915679215, 0.37204087531076485, 0.3440739797095696, 0.30910273010890915, 0.267839040301897, 0.22112292001834863, 0.1699053747490709, 0.11522904601654264, 0.058206986200246294, 5.008824111598402e-17, -0.05820698620024619, -0.11522904601654253, -0.16990537474907094, -0.22112292001834852, -0.26783904030189687, -0.3091027301089091, -0.34407397970956966, -0.37204087531076485, -0.3924340915679215, -0.4048384814072232, -0.40900152722284827, -0.4048384814072233, -0.39243409156792153, -0.3720408753107649, -0.3440739797095697, -0.3091027301089091, -0.2678390403018968, -0.2211229200183485, -0.16990537474907091, -0.11522904601654269, -0.05820698620024635, -1.0017648223196804e-16], \"x\": [0.10987969490122661, 0.10876127804056909, 0.10542879520063164, 0.09995008612194846, 0.09243668152206921, 0.08304153265177777, 0.07195589764870125, 0.05940544807317082, 0.045645674886036366, 0.030956687389478786, 0.015637511009385974, 6.728190832603746e-18, -0.015637511009385964, -0.030956687389478776, -0.04564567488603635, -0.05940544807317082, -0.07195589764870125, -0.08304153265177776, -0.0924366815220692, -0.09995008612194846, -0.10542879520063164, -0.10876127804056909, -0.10987969490122661, -0.1087612780405691, -0.10542879520063166, -0.09995008612194846, -0.09243668152206921, -0.08304153265177779, -0.07195589764870126, -0.059405448073170795, -0.04564567488603636, -0.030956687389478783, -0.01563751100938599, -2.0184572497811236e-17, 0.015637511009385947, 0.030956687389478738, 0.045645674886036325, 0.05940544807317076, 0.07195589764870128, 0.08304153265177779, 0.09243668152206921, 0.09995008612194846, 0.10542879520063164, 0.10876127804056909, 0.10987969490122661], \"type\": \"scatter\"}, {\"showlegend\": false, \"name\": \"2\\u03c3\", \"yaxis\": \"y6\", \"text\": \"2\\u03c3 ~ 0.423986\", \"marker\": {\"color\": \"rgb(255, 0, 0)\"}, \"mode\": \"lines\", \"xaxis\": \"x6\", \"y\": [0.0, 0.11641397240049256, 0.2304580920330853, 0.33981074949814183, 0.44224584003669704, 0.5356780806037938, 0.6182054602178183, 0.6881479594191392, 0.7440817506215296, 0.784868183135843, 0.8096769628144465, 0.8180030544456965, 0.8096769628144466, 0.784868183135843, 0.7440817506215297, 0.6881479594191392, 0.6182054602178183, 0.535678080603794, 0.44224584003669726, 0.3398107494981418, 0.2304580920330853, 0.11641397240049259, 1.0017648223196804e-16, -0.11641397240049238, -0.23045809203308507, -0.3398107494981419, -0.44224584003669704, -0.5356780806037937, -0.6182054602178182, -0.6881479594191393, -0.7440817506215297, -0.784868183135843, -0.8096769628144465, -0.8180030544456965, -0.8096769628144466, -0.7848681831358431, -0.7440817506215298, -0.6881479594191394, -0.6182054602178182, -0.5356780806037936, -0.442245840036697, -0.33981074949814183, -0.23045809203308537, -0.1164139724004927, -2.0035296446393608e-16], \"x\": [0.21975938980245321, 0.21752255608113819, 0.21085759040126328, 0.19990017224389692, 0.18487336304413843, 0.16608306530355554, 0.1439117952974025, 0.11881089614634165, 0.09129134977207273, 0.06191337477895757, 0.03127502201877195, 1.3456381665207492e-17, -0.03127502201877193, -0.06191337477895755, -0.0912913497720727, -0.11881089614634165, -0.1439117952974025, -0.16608306530355552, -0.1848733630441384, -0.19990017224389692, -0.21085759040126328, -0.21752255608113819, -0.21975938980245321, -0.2175225560811382, -0.2108575904012633, -0.19990017224389692, -0.18487336304413843, -0.16608306530355557, -0.14391179529740253, -0.11881089614634159, -0.09129134977207272, -0.061913374778957565, -0.03127502201877198, -4.036914499562247e-17, 0.03127502201877189, 0.061913374778957475, 0.09129134977207265, 0.11881089614634152, 0.14391179529740256, 0.16608306530355557, 0.18487336304413843, 0.19990017224389692, 0.21085759040126328, 0.21752255608113819, 0.21975938980245321], \"type\": \"scatter\"}, {\"showlegend\": false, \"name\": \"3\\u03c3\", \"yaxis\": \"y6\", \"text\": \"3\\u03c3 ~ 0.635979\", \"marker\": {\"color\": \"rgb(255, 255, 0)\"}, \"mode\": \"lines\", \"xaxis\": \"x6\", \"y\": [0.0, 0.17462095860073884, 0.3456871380496279, 0.5097161242472128, 0.6633687600550455, 0.8035171209056908, 0.9273081903267275, 1.0322219391287089, 1.1161226259322943, 1.1773022747037645, 1.2145154442216697, 1.2270045816685449, 1.21451544422167, 1.1773022747037645, 1.1161226259322945, 1.0322219391287089, 0.9273081903267275, 0.8035171209056909, 0.6633687600550459, 0.5097161242472127, 0.3456871380496279, 0.1746209586007389, 1.5026472334795205e-16, -0.17462095860073856, -0.3456871380496276, -0.5097161242472128, -0.6633687600550455, -0.8035171209056906, -0.9273081903267273, -1.0322219391287089, -1.1161226259322945, -1.1773022747037645, -1.2145154442216697, -1.2270045816685449, -1.21451544422167, -1.1773022747037647, -1.1161226259322947, -1.032221939128709, -0.9273081903267273, -0.8035171209056904, -0.6633687600550455, -0.5097161242472128, -0.34568713804962803, -0.17462095860073906, -3.005294466959041e-16], \"x\": [0.3296390847036798, 0.32628383412170725, 0.3162863856018949, 0.2998502583658454, 0.27731004456620767, 0.24912459795533332, 0.21586769294610375, 0.17821634421951246, 0.13693702465810909, 0.09287006216843635, 0.04691253302815793, 2.0184572497811236e-17, -0.04691253302815789, -0.09287006216843632, -0.13693702465810906, -0.17821634421951246, -0.21586769294610375, -0.24912459795533326, -0.2773100445662076, -0.2998502583658454, -0.3162863856018949, -0.32628383412170725, -0.3296390847036798, -0.3262838341217073, -0.316286385601895, -0.2998502583658454, -0.27731004456620767, -0.24912459795533337, -0.2158676929461038, -0.17821634421951238, -0.13693702465810909, -0.09287006216843635, -0.04691253302815797, -6.055371749343371e-17, 0.04691253302815784, 0.09287006216843621, 0.13693702465810897, 0.17821634421951227, 0.21586769294610383, 0.24912459795533337, 0.27731004456620767, 0.2998502583658454, 0.3162863856018949, 0.32628383412170725, 0.3296390847036798], \"type\": \"scatter\"}, {\"showlegend\": false, \"error_y\": {\"color\": \"rgb(158, 63, 221)\", \"visible\": true, \"type\": \"data\"}, \"yaxis\": \"y7\", \"text\": [\"I014\", \"C331\", \"B033\", \"J344\", \"A030\", \"L053\", \"E122\", \"O305\", \"D282\", \"K182\", \"M304\", \"H002\", \"F131\", \"N315\", \"G013\"], \"marker\": {\"reversescale\": true, \"color\": [2897.725329546359, 1024.453877025326, 2041.204377053077, 2882.0580143118127, 393.3460849083838, 1818.152075742431, 1588.101150578869, 3221.22110161112, 1201.3983112535664, 1340.6754496697713, 2459.1599968024816, 1505.082124013398, 641.8333586067981, 3443.888522462859, 2263.968656509504], \"colorscale\": \"Jet\"}, \"mode\": \"markers\", \"xaxis\": \"x7\", \"y\": [0.0, 0.0, 0.0, 0.0, 0.0, 0.0, 0.0, 0.0, 0.0, 0.0, 0.0, 0.0, 0.0, 0.0, 0.003073585126505738], \"x\": [0.02423550022480019, 0.09844961544090038, 0.12543503608464196, 0.02066874854669746, 1.1948322140914134, 0.015333412150137598, 0.05208323598247721, 0.013094062946046578, 0.06146949230276085, 0.015461767418665182, 0.013801988539849661, 0.02634083823382786, 0.05041915094395033, 0.013171694151879701, 0.03644764600191469], \"type\": \"scatter\", \"name\": \"meerkathi-pipeline_4-pybdsm-combined flux_ratio\"}, {\"showlegend\": false, \"error_y\": {\"color\": \"rgb(158, 63, 221)\", \"visible\": true, \"type\": \"data\"}, \"yaxis\": \"y8\", \"text\": [\"I014\", \"C331\", \"B033\", \"J344\", \"A030\", \"L053\", \"E122\", \"O305\", \"D282\", \"K182\", \"M304\", \"H002\", \"F131\", \"N315\", \"G013\"], \"marker\": {\"reversescale\": true, \"color\": [0.013094062946046578, 0.013171694151879701, 0.013801988539849661, 0.015333412150137598, 0.015461767418665182, 0.02066874854669746, 0.02423550022480019, 0.02634083823382786, 0.03644764600191469, 0.05041915094395033, 0.05208323598247721, 0.06146949230276085, 0.09844961544090038, 0.125435036084642, 1.1948322140914136], \"colorscale\": \"Viridis\"}, \"mode\": \"markers\", \"xaxis\": \"x8\", \"y\": [0.0, 0.0, 0.0, 0.0, 0.0, 0.0, 0.0, 0.0, 0.0, 0.0, 0.0, 0.0, 0.0, 0.0, 0.0], \"x\": [0.0, 0.0, 0.0, 0.0, 0.0, 0.0, 0.0, 0.0, 0.0, 0.0, 0.0, 0.0, 0.0, 0.0, 0.0], \"type\": \"scatter\", \"name\": \"meerkathi-pipeline_4-pybdsm-combined flux_ratio\"}, {\"showlegend\": false, \"name\": \"1\\u03c3\", \"yaxis\": \"y8\", \"text\": \"1\\u03c3 ~ 0.000000\", \"marker\": {\"color\": \"rgb(0, 0, 255)\"}, \"mode\": \"lines\", \"xaxis\": \"x8\", \"y\": [0.0, 0.0, 0.0, 0.0, 0.0, 0.0, 0.0, 0.0, 0.0, 0.0, 0.0, 0.0, 0.0, 0.0, 0.0, 0.0, 0.0, 0.0, 0.0, 0.0, 0.0, 0.0, 0.0, -0.0, -0.0, -0.0, -0.0, -0.0, -0.0, -0.0, -0.0, -0.0, -0.0, -0.0, -0.0, -0.0, -0.0, -0.0, -0.0, -0.0, -0.0, -0.0, -0.0, -0.0, -0.0], \"x\": [0.0, 0.0, 0.0, 0.0, 0.0, 0.0, 0.0, 0.0, 0.0, 0.0, 0.0, 0.0, -0.0, -0.0, -0.0, -0.0, -0.0, -0.0, -0.0, -0.0, -0.0, -0.0, -0.0, -0.0, -0.0, -0.0, -0.0, -0.0, -0.0, -0.0, -0.0, -0.0, -0.0, -0.0, 0.0, 0.0, 0.0, 0.0, 0.0, 0.0, 0.0, 0.0, 0.0, 0.0, 0.0], \"type\": \"scatter\"}, {\"showlegend\": false, \"name\": \"2\\u03c3\", \"yaxis\": \"y8\", \"text\": \"2\\u03c3 ~ 0.000000\", \"marker\": {\"color\": \"rgb(255, 0, 0)\"}, \"mode\": \"lines\", \"xaxis\": \"x8\", \"y\": [0.0, 0.0, 0.0, 0.0, 0.0, 0.0, 0.0, 0.0, 0.0, 0.0, 0.0, 0.0, 0.0, 0.0, 0.0, 0.0, 0.0, 0.0, 0.0, 0.0, 0.0, 0.0, 0.0, -0.0, -0.0, -0.0, -0.0, -0.0, -0.0, -0.0, -0.0, -0.0, -0.0, -0.0, -0.0, -0.0, -0.0, -0.0, -0.0, -0.0, -0.0, -0.0, -0.0, -0.0, -0.0], \"x\": [0.0, 0.0, 0.0, 0.0, 0.0, 0.0, 0.0, 0.0, 0.0, 0.0, 0.0, 0.0, -0.0, -0.0, -0.0, -0.0, -0.0, -0.0, -0.0, -0.0, -0.0, -0.0, -0.0, -0.0, -0.0, -0.0, -0.0, -0.0, -0.0, -0.0, -0.0, -0.0, -0.0, -0.0, 0.0, 0.0, 0.0, 0.0, 0.0, 0.0, 0.0, 0.0, 0.0, 0.0, 0.0], \"type\": \"scatter\"}, {\"showlegend\": false, \"name\": \"3\\u03c3\", \"yaxis\": \"y8\", \"text\": \"3\\u03c3 ~ 0.000000\", \"marker\": {\"color\": \"rgb(255, 255, 0)\"}, \"mode\": \"lines\", \"xaxis\": \"x8\", \"y\": [0.0, 0.0, 0.0, 0.0, 0.0, 0.0, 0.0, 0.0, 0.0, 0.0, 0.0, 0.0, 0.0, 0.0, 0.0, 0.0, 0.0, 0.0, 0.0, 0.0, 0.0, 0.0, 0.0, -0.0, -0.0, -0.0, -0.0, -0.0, -0.0, -0.0, -0.0, -0.0, -0.0, -0.0, -0.0, -0.0, -0.0, -0.0, -0.0, -0.0, -0.0, -0.0, -0.0, -0.0, -0.0], \"x\": [0.0, 0.0, 0.0, 0.0, 0.0, 0.0, 0.0, 0.0, 0.0, 0.0, 0.0, 0.0, -0.0, -0.0, -0.0, -0.0, -0.0, -0.0, -0.0, -0.0, -0.0, -0.0, -0.0, -0.0, -0.0, -0.0, -0.0, -0.0, -0.0, -0.0, -0.0, -0.0, -0.0, -0.0, 0.0, 0.0, 0.0, 0.0, 0.0, 0.0, 0.0, 0.0, 0.0, 0.0, 0.0], \"type\": \"scatter\"}], {\"paper_bgcolor\": \"rgb(255,255,255)\", \"height\": 900, \"yaxis1\": {\"tickfont\": {\"color\": \"rgb(0,0,0)\", \"size\": 14}, \"domain\": [0.8625, 1.0], \"showticklabels\": true, \"title\": \"Delta position [arcsec]\", \"color\": \"rgb(0,0,0)\", \"ticks\": \"outside\", \"showgrid\": true, \"range\": [], \"titlefont\": {\"size\": 15}, \"showline\": false, \"zeroline\": false, \"tickcolor\": \"rgb(51,153,225)\", \"gridcolor\": \"rgb(255,255,255)\", \"anchor\": \"x1\"}, \"yaxis2\": {\"tickfont\": {\"color\": \"rgb(0,0,0)\", \"size\": 10}, \"domain\": [0.8625, 1.0], \"showticklabels\": true, \"title\": \"Declination offset [arcsec]\", \"color\": \"rgb(0,0,0)\", \"ticks\": \"outside\", \"showgrid\": true, \"range\": [], \"titlefont\": {\"size\": 17}, \"showline\": false, \"zeroline\": false, \"tickcolor\": \"rgb(51,153,225)\", \"gridcolor\": \"rgb(255,255,255)\", \"anchor\": \"x2\"}, \"yaxis3\": {\"tickfont\": {\"color\": \"rgb(0,0,0)\", \"size\": 14}, \"domain\": [0.575, 0.7124999999999999], \"showticklabels\": true, \"title\": \"Delta position [arcsec]\", \"color\": \"rgb(0,0,0)\", \"ticks\": \"outside\", \"showgrid\": true, \"range\": [], \"titlefont\": {\"size\": 15}, \"showline\": false, \"zeroline\": false, \"tickcolor\": \"rgb(51,153,225)\", \"gridcolor\": \"rgb(255,255,255)\", \"anchor\": \"x3\"}, \"yaxis4\": {\"tickfont\": {\"color\": \"rgb(0,0,0)\", \"size\": 10}, \"domain\": [0.575, 0.7124999999999999], \"showticklabels\": true, \"title\": \"Declination offset [arcsec]\", \"color\": \"rgb(0,0,0)\", \"ticks\": \"outside\", \"showgrid\": true, \"range\": [], \"titlefont\": {\"size\": 17}, \"showline\": false, \"zeroline\": false, \"tickcolor\": \"rgb(51,153,225)\", \"gridcolor\": \"rgb(255,255,255)\", \"anchor\": \"x4\"}, \"yaxis5\": {\"tickfont\": {\"color\": \"rgb(0,0,0)\", \"size\": 14}, \"domain\": [0.2875, 0.425], \"showticklabels\": true, \"title\": \"Delta position [arcsec]\", \"color\": \"rgb(0,0,0)\", \"ticks\": \"outside\", \"showgrid\": true, \"range\": [], \"titlefont\": {\"size\": 15}, \"showline\": false, \"zeroline\": false, \"tickcolor\": \"rgb(51,153,225)\", \"gridcolor\": \"rgb(255,255,255)\", \"anchor\": \"x5\"}, \"yaxis6\": {\"tickfont\": {\"color\": \"rgb(0,0,0)\", \"size\": 10}, \"domain\": [0.2875, 0.425], \"showticklabels\": true, \"title\": \"Declination offset [arcsec]\", \"color\": \"rgb(0,0,0)\", \"ticks\": \"outside\", \"showgrid\": true, \"range\": [], \"titlefont\": {\"size\": 17}, \"showline\": false, \"zeroline\": false, \"tickcolor\": \"rgb(51,153,225)\", \"gridcolor\": \"rgb(255,255,255)\", \"anchor\": \"x6\"}, \"yaxis7\": {\"tickfont\": {\"color\": \"rgb(0,0,0)\", \"size\": 14}, \"domain\": [0.0, 0.1375], \"showticklabels\": true, \"title\": \"Delta position [arcsec]\", \"color\": \"rgb(0,0,0)\", \"ticks\": \"outside\", \"showgrid\": true, \"range\": [], \"titlefont\": {\"size\": 15}, \"showline\": false, \"zeroline\": false, \"tickcolor\": \"rgb(51,153,225)\", \"gridcolor\": \"rgb(255,255,255)\", \"anchor\": \"x7\"}, \"yaxis8\": {\"tickfont\": {\"color\": \"rgb(0,0,0)\", \"size\": 10}, \"domain\": [0.0, 0.1375], \"showticklabels\": true, \"title\": \"Declination offset [arcsec]\", \"color\": \"rgb(0,0,0)\", \"ticks\": \"outside\", \"showgrid\": true, \"range\": [], \"titlefont\": {\"size\": 17}, \"showline\": false, \"zeroline\": false, \"tickcolor\": \"rgb(51,153,225)\", \"gridcolor\": \"rgb(255,255,255)\", \"anchor\": \"x8\"}, \"title\": \"\", \"plot_bgcolor\": \"rgb(229,229,229)\", \"width\": 900, \"annotations\": [{\"yanchor\": \"bottom\", \"xref\": \"paper\", \"xanchor\": \"center\", \"yref\": \"paper\", \"text\": \"<b>MEERKATHI-PIPELINE_3-PYBDSM-COMBINED Position</b>\", \"y\": 1.0, \"x\": 0.1875, \"font\": {\"size\": 10}, \"showarrow\": false}, {\"yanchor\": \"bottom\", \"xref\": \"paper\", \"xanchor\": \"center\", \"yref\": \"paper\", \"text\": \"<b>MEERKATHI-PIPELINE_3-PYBDSM-COMBINED Position</b>\", \"y\": 1.0, \"x\": 0.8125, \"font\": {\"size\": 10}, \"showarrow\": false}, {\"yanchor\": \"bottom\", \"xref\": \"paper\", \"xanchor\": \"center\", \"yref\": \"paper\", \"text\": \"<b>MEERKATHI-PIPELINE_2-PYBDSM Position</b>\", \"y\": 0.7124999999999999, \"x\": 0.1875, \"font\": {\"size\": 10}, \"showarrow\": false}, {\"yanchor\": \"bottom\", \"xref\": \"paper\", \"xanchor\": \"center\", \"yref\": \"paper\", \"text\": \"<b>MEERKATHI-PIPELINE_2-PYBDSM Position</b>\", \"y\": 0.7124999999999999, \"x\": 0.8125, \"font\": {\"size\": 10}, \"showarrow\": false}, {\"yanchor\": \"bottom\", \"xref\": \"paper\", \"xanchor\": \"center\", \"yref\": \"paper\", \"text\": \"<b>MEERKATHI-PIPELINE_1-PYBDSM Position</b>\", \"y\": 0.425, \"x\": 0.1875, \"font\": {\"size\": 10}, \"showarrow\": false}, {\"yanchor\": \"bottom\", \"xref\": \"paper\", \"xanchor\": \"center\", \"yref\": \"paper\", \"text\": \"<b>MEERKATHI-PIPELINE_1-PYBDSM Position</b>\", \"y\": 0.425, \"x\": 0.8125, \"font\": {\"size\": 10}, \"showarrow\": false}, {\"yanchor\": \"bottom\", \"xref\": \"paper\", \"xanchor\": \"center\", \"yref\": \"paper\", \"text\": \"<b>MEERKATHI-PIPELINE_4-PYBDSM-COMBINED Position</b>\", \"y\": 0.1375, \"x\": 0.1875, \"font\": {\"size\": 10}, \"showarrow\": false}, {\"yanchor\": \"bottom\", \"xref\": \"paper\", \"xanchor\": \"center\", \"yref\": \"paper\", \"text\": \"<b>MEERKATHI-PIPELINE_4-PYBDSM-COMBINED Position</b>\", \"y\": 0.1375, \"x\": 0.8125, \"font\": {\"size\": 10}, \"showarrow\": false}], \"legend\": {\"y\": 1, \"x\": 1.1, \"xanchor\": true}, \"xaxis8\": {\"domain\": [0.625, 1.0], \"title\": \"Right Ascension offset [arcsec]\", \"range\": [], \"titlefont\": {\"size\": 17}, \"zeroline\": false, \"anchor\": \"y8\"}, \"xaxis7\": {\"domain\": [0.0, 0.375], \"title\": \"Input Flux (Jy)\", \"overlaying\": \"x\", \"titlefont\": {\"size\": 17}, \"zeroline\": false, \"position\": 0.0, \"anchor\": \"y7\"}, \"xaxis6\": {\"domain\": [0.625, 1.0], \"title\": \"Right Ascension offset [arcsec]\", \"range\": [], \"titlefont\": {\"size\": 17}, \"zeroline\": false, \"anchor\": \"y6\"}, \"xaxis5\": {\"domain\": [0.0, 0.375], \"title\": \"Input Flux (Jy)\", \"overlaying\": \"x\", \"titlefont\": {\"size\": 17}, \"zeroline\": false, \"position\": 0.0, \"anchor\": \"y5\"}, \"xaxis4\": {\"domain\": [0.625, 1.0], \"title\": \"Right Ascension offset [arcsec]\", \"range\": [], \"titlefont\": {\"size\": 17}, \"zeroline\": false, \"anchor\": \"y4\"}, \"xaxis3\": {\"domain\": [0.0, 0.375], \"title\": \"Input Flux (Jy)\", \"overlaying\": \"x\", \"titlefont\": {\"size\": 17}, \"zeroline\": false, \"position\": 0.0, \"anchor\": \"y3\"}, \"xaxis2\": {\"domain\": [0.625, 1.0], \"title\": \"Right Ascension offset [arcsec]\", \"range\": [], \"titlefont\": {\"size\": 17}, \"zeroline\": false, \"anchor\": \"y2\"}, \"xaxis1\": {\"domain\": [0.0, 0.375], \"title\": \"Input Flux (Jy)\", \"overlaying\": \"x\", \"titlefont\": {\"size\": 17}, \"zeroline\": false, \"position\": 0.0, \"anchor\": \"y1\"}}, {\"linkText\": \"Export to plot.ly\", \"showLink\": true})});</script>"
      ],
      "text/vnd.plotly.v1+html": [
       "<div id=\"66a53f46-c918-4e8c-874e-02b8091d68d3\" style=\"height: 900px; width: 900px;\" class=\"plotly-graph-div\"></div><script type=\"text/javascript\">require([\"plotly\"], function(Plotly) { window.PLOTLYENV=window.PLOTLYENV || {};window.PLOTLYENV.BASE_URL=\"https://plot.ly\";Plotly.newPlot(\"66a53f46-c918-4e8c-874e-02b8091d68d3\", [{\"showlegend\": false, \"error_y\": {\"color\": \"rgb(158, 63, 221)\", \"visible\": true, \"type\": \"data\"}, \"yaxis\": \"y1\", \"text\": [\"I014\", \"C331\", \"B033\", \"J344\", \"A030\", \"L053\", \"E122\", \"O305\", \"D282\", \"K182\", \"M304\", \"H002\", \"F131\", \"N315\", \"G013\"], \"marker\": {\"colorbar\": {\"x\": 0.4, \"titlefont\": {\"size\": 16}, \"titleside\": \"right\", \"title\": \"Distance from phase centre (arcsec)\"}, \"reversescale\": true, \"color\": [2897.725329546359, 1024.453877025326, 2041.204377053077, 2882.0580143118127, 393.3460849083838, 1818.152075742431, 1588.101150578869, 3221.22110161112, 1201.3983112535664, 1340.6754496697713, 2459.1599968024816, 1505.082124013398, 641.8333586067981, 3443.888522462859, 2263.968656509504], \"showscale\": true, \"colorscale\": \"Jet\"}, \"mode\": \"markers\", \"xaxis\": \"x1\", \"y\": [0.0, 0.0, 0.0, 0.0, 0.0, 0.0, 0.0, 0.0, 0.0, 0.0, 0.0, 0.0, 0.0, 0.0, 0.003073585126505738], \"x\": [0.02423550022480019, 0.09844961544090038, 0.12543503608464196, 0.02066874854669746, 1.1948322140914134, 0.015333412150137598, 0.05208323598247721, 0.013094062946046578, 0.06146949230276085, 0.015461767418665182, 0.013801988539849661, 0.02634083823382786, 0.05041915094395033, 0.013171694151879701, 0.03644764600191469], \"type\": \"scatter\", \"name\": \"meerkathi-pipeline_4-pybdsm-combined flux_ratio\"}, {\"showlegend\": false, \"error_y\": {\"color\": \"rgb(158, 63, 221)\", \"visible\": true, \"type\": \"data\"}, \"yaxis\": \"y2\", \"text\": [\"I014\", \"C331\", \"B033\", \"J344\", \"A030\", \"L053\", \"E122\", \"O305\", \"D282\", \"K182\", \"M304\", \"H002\", \"F131\", \"N315\", \"G013\"], \"marker\": {\"colorbar\": {\"titlefont\": {\"size\": 16}, \"titleside\": \"right\", \"title\": \"Input Flux (Jy)\"}, \"reversescale\": true, \"color\": [0.013094062946046578, 0.013171694151879701, 0.013801988539849661, 0.015333412150137598, 0.015461767418665182, 0.02066874854669746, 0.02423550022480019, 0.02634083823382786, 0.03644764600191469, 0.05041915094395033, 0.05208323598247721, 0.06146949230276085, 0.09844961544090038, 0.125435036084642, 1.1948322140914136], \"showscale\": true, \"colorscale\": \"Viridis\"}, \"mode\": \"markers\", \"xaxis\": \"x2\", \"y\": [0.0, 0.0, 0.0, 0.0, 0.0, 0.0, 0.0, 0.0, 0.0, 0.0, 0.0, 0.0, 0.0, 0.0, 0.0], \"x\": [0.0, 0.0, 0.0, 0.0, 0.0, 0.0, 0.0, 0.0, 0.0, 0.0, 0.0, 0.0, 0.0, 0.0, 0.0], \"type\": \"scatter\", \"name\": \"meerkathi-pipeline_3-pybdsm-combined flux_ratio\"}, {\"showlegend\": true, \"name\": \"1\\u03c3\", \"yaxis\": \"y2\", \"text\": \"1\\u03c3 ~ 0.000000\", \"marker\": {\"color\": \"rgb(0, 0, 255)\"}, \"mode\": \"lines\", \"xaxis\": \"x2\", \"y\": [0.0, 0.0, 0.0, 0.0, 0.0, 0.0, 0.0, 0.0, 0.0, 0.0, 0.0, 0.0, 0.0, 0.0, 0.0, 0.0, 0.0, 0.0, 0.0, 0.0, 0.0, 0.0, 0.0, -0.0, -0.0, -0.0, -0.0, -0.0, -0.0, -0.0, -0.0, -0.0, -0.0, -0.0, -0.0, -0.0, -0.0, -0.0, -0.0, -0.0, -0.0, -0.0, -0.0, -0.0, -0.0], \"x\": [0.0, 0.0, 0.0, 0.0, 0.0, 0.0, 0.0, 0.0, 0.0, 0.0, 0.0, 0.0, -0.0, -0.0, -0.0, -0.0, -0.0, -0.0, -0.0, -0.0, -0.0, -0.0, -0.0, -0.0, -0.0, -0.0, -0.0, -0.0, -0.0, -0.0, -0.0, -0.0, -0.0, -0.0, 0.0, 0.0, 0.0, 0.0, 0.0, 0.0, 0.0, 0.0, 0.0, 0.0, 0.0], \"type\": \"scatter\"}, {\"showlegend\": true, \"name\": \"2\\u03c3\", \"yaxis\": \"y2\", \"text\": \"2\\u03c3 ~ 0.000000\", \"marker\": {\"color\": \"rgb(255, 0, 0)\"}, \"mode\": \"lines\", \"xaxis\": \"x2\", \"y\": [0.0, 0.0, 0.0, 0.0, 0.0, 0.0, 0.0, 0.0, 0.0, 0.0, 0.0, 0.0, 0.0, 0.0, 0.0, 0.0, 0.0, 0.0, 0.0, 0.0, 0.0, 0.0, 0.0, -0.0, -0.0, -0.0, -0.0, -0.0, -0.0, -0.0, -0.0, -0.0, -0.0, -0.0, -0.0, -0.0, -0.0, -0.0, -0.0, -0.0, -0.0, -0.0, -0.0, -0.0, -0.0], \"x\": [0.0, 0.0, 0.0, 0.0, 0.0, 0.0, 0.0, 0.0, 0.0, 0.0, 0.0, 0.0, -0.0, -0.0, -0.0, -0.0, -0.0, -0.0, -0.0, -0.0, -0.0, -0.0, -0.0, -0.0, -0.0, -0.0, -0.0, -0.0, -0.0, -0.0, -0.0, -0.0, -0.0, -0.0, 0.0, 0.0, 0.0, 0.0, 0.0, 0.0, 0.0, 0.0, 0.0, 0.0, 0.0], \"type\": \"scatter\"}, {\"showlegend\": true, \"name\": \"3\\u03c3\", \"yaxis\": \"y2\", \"text\": \"3\\u03c3 ~ 0.000000\", \"marker\": {\"color\": \"rgb(255, 255, 0)\"}, \"mode\": \"lines\", \"xaxis\": \"x2\", \"y\": [0.0, 0.0, 0.0, 0.0, 0.0, 0.0, 0.0, 0.0, 0.0, 0.0, 0.0, 0.0, 0.0, 0.0, 0.0, 0.0, 0.0, 0.0, 0.0, 0.0, 0.0, 0.0, 0.0, -0.0, -0.0, -0.0, -0.0, -0.0, -0.0, -0.0, -0.0, -0.0, -0.0, -0.0, -0.0, -0.0, -0.0, -0.0, -0.0, -0.0, -0.0, -0.0, -0.0, -0.0, -0.0], \"x\": [0.0, 0.0, 0.0, 0.0, 0.0, 0.0, 0.0, 0.0, 0.0, 0.0, 0.0, 0.0, -0.0, -0.0, -0.0, -0.0, -0.0, -0.0, -0.0, -0.0, -0.0, -0.0, -0.0, -0.0, -0.0, -0.0, -0.0, -0.0, -0.0, -0.0, -0.0, -0.0, -0.0, -0.0, 0.0, 0.0, 0.0, 0.0, 0.0, 0.0, 0.0, 0.0, 0.0, 0.0, 0.0], \"type\": \"scatter\"}, {\"showlegend\": false, \"error_y\": {\"color\": \"rgb(158, 63, 221)\", \"visible\": true, \"type\": \"data\"}, \"yaxis\": \"y3\", \"text\": [\"C331\", \"B033\", \"A030\", \"E122\", \"D282\", \"F131\"], \"marker\": {\"reversescale\": true, \"color\": [1024.453877025326, 2041.204377053077, 393.3460849083838, 1588.101150578869, 1201.3983112535664, 641.8333586067981], \"colorscale\": \"Jet\"}, \"mode\": \"markers\", \"xaxis\": \"x3\", \"y\": [0.0, 0.0, 0.0, 0.0, 0.0, 0.0], \"x\": [0.09844961544090038, 0.12543503608464196, 1.1948322140914134, 0.05208323598247721, 0.06146949230276085, 0.05041915094395033], \"type\": \"scatter\", \"name\": \"meerkathi-pipeline_4-pybdsm-combined flux_ratio\"}, {\"showlegend\": false, \"error_y\": {\"color\": \"rgb(158, 63, 221)\", \"visible\": true, \"type\": \"data\"}, \"yaxis\": \"y4\", \"text\": [\"C331\", \"B033\", \"A030\", \"E122\", \"D282\", \"F131\"], \"marker\": {\"reversescale\": true, \"color\": [0.013094062946046578, 0.013171694151879701, 0.013801988539849661, 0.015333412150137598, 0.015461767418665182, 0.02066874854669746, 0.02423550022480019, 0.02634083823382786, 0.03644764600191469, 0.05041915094395033, 0.05208323598247721, 0.06146949230276085, 0.09844961544090038, 0.125435036084642, 1.1948322140914136], \"colorscale\": \"Viridis\"}, \"mode\": \"markers\", \"xaxis\": \"x4\", \"y\": [0.0, 0.0, 0.0, 0.0, 0.0, 0.0], \"x\": [0.0, 0.0, 0.0, 0.0, 0.0, 0.0], \"type\": \"scatter\", \"name\": \"meerkathi-pipeline_2-pybdsm flux_ratio\"}, {\"showlegend\": false, \"name\": \"1\\u03c3\", \"yaxis\": \"y4\", \"text\": \"1\\u03c3 ~ 0.000000\", \"marker\": {\"color\": \"rgb(0, 0, 255)\"}, \"mode\": \"lines\", \"xaxis\": \"x4\", \"y\": [0.0, 0.0, 0.0, 0.0, 0.0, 0.0, 0.0, 0.0, 0.0, 0.0, 0.0, 0.0, 0.0, 0.0, 0.0, 0.0, 0.0, 0.0, 0.0, 0.0, 0.0, 0.0, 0.0, -0.0, -0.0, -0.0, -0.0, -0.0, -0.0, -0.0, -0.0, -0.0, -0.0, -0.0, -0.0, -0.0, -0.0, -0.0, -0.0, -0.0, -0.0, -0.0, -0.0, -0.0, -0.0], \"x\": [0.0, 0.0, 0.0, 0.0, 0.0, 0.0, 0.0, 0.0, 0.0, 0.0, 0.0, 0.0, -0.0, -0.0, -0.0, -0.0, -0.0, -0.0, -0.0, -0.0, -0.0, -0.0, -0.0, -0.0, -0.0, -0.0, -0.0, -0.0, -0.0, -0.0, -0.0, -0.0, -0.0, -0.0, 0.0, 0.0, 0.0, 0.0, 0.0, 0.0, 0.0, 0.0, 0.0, 0.0, 0.0], \"type\": \"scatter\"}, {\"showlegend\": false, \"name\": \"2\\u03c3\", \"yaxis\": \"y4\", \"text\": \"2\\u03c3 ~ 0.000000\", \"marker\": {\"color\": \"rgb(255, 0, 0)\"}, \"mode\": \"lines\", \"xaxis\": \"x4\", \"y\": [0.0, 0.0, 0.0, 0.0, 0.0, 0.0, 0.0, 0.0, 0.0, 0.0, 0.0, 0.0, 0.0, 0.0, 0.0, 0.0, 0.0, 0.0, 0.0, 0.0, 0.0, 0.0, 0.0, -0.0, -0.0, -0.0, -0.0, -0.0, -0.0, -0.0, -0.0, -0.0, -0.0, -0.0, -0.0, -0.0, -0.0, -0.0, -0.0, -0.0, -0.0, -0.0, -0.0, -0.0, -0.0], \"x\": [0.0, 0.0, 0.0, 0.0, 0.0, 0.0, 0.0, 0.0, 0.0, 0.0, 0.0, 0.0, -0.0, -0.0, -0.0, -0.0, -0.0, -0.0, -0.0, -0.0, -0.0, -0.0, -0.0, -0.0, -0.0, -0.0, -0.0, -0.0, -0.0, -0.0, -0.0, -0.0, -0.0, -0.0, 0.0, 0.0, 0.0, 0.0, 0.0, 0.0, 0.0, 0.0, 0.0, 0.0, 0.0], \"type\": \"scatter\"}, {\"showlegend\": false, \"name\": \"3\\u03c3\", \"yaxis\": \"y4\", \"text\": \"3\\u03c3 ~ 0.000000\", \"marker\": {\"color\": \"rgb(255, 255, 0)\"}, \"mode\": \"lines\", \"xaxis\": \"x4\", \"y\": [0.0, 0.0, 0.0, 0.0, 0.0, 0.0, 0.0, 0.0, 0.0, 0.0, 0.0, 0.0, 0.0, 0.0, 0.0, 0.0, 0.0, 0.0, 0.0, 0.0, 0.0, 0.0, 0.0, -0.0, -0.0, -0.0, -0.0, -0.0, -0.0, -0.0, -0.0, -0.0, -0.0, -0.0, -0.0, -0.0, -0.0, -0.0, -0.0, -0.0, -0.0, -0.0, -0.0, -0.0, -0.0], \"x\": [0.0, 0.0, 0.0, 0.0, 0.0, 0.0, 0.0, 0.0, 0.0, 0.0, 0.0, 0.0, -0.0, -0.0, -0.0, -0.0, -0.0, -0.0, -0.0, -0.0, -0.0, -0.0, -0.0, -0.0, -0.0, -0.0, -0.0, -0.0, -0.0, -0.0, -0.0, -0.0, -0.0, -0.0, 0.0, 0.0, 0.0, 0.0, 0.0, 0.0, 0.0, 0.0, 0.0, 0.0, 0.0], \"type\": \"scatter\"}, {\"showlegend\": false, \"error_y\": {\"color\": \"rgb(158, 63, 221)\", \"visible\": true, \"type\": \"data\"}, \"yaxis\": \"y5\", \"text\": [\"A030\", \"C331\", \"B033\", \"D282\", \"E122\", \"F131\"], \"marker\": {\"reversescale\": true, \"color\": [393.2869470320204, 1024.5188658399736, 2040.7892025917813, 1201.2351086228118, 1587.7052528072966, 642.7900462919683], \"colorscale\": \"Jet\"}, \"mode\": \"markers\", \"xaxis\": \"x5\", \"y\": [0.12974752904869477, 0.3655241001207575, 0.4404566524433861, 0.5853707225510507, 0.9822304804199835, 1.1751027834327636], \"x\": [1.1948322140914134, 0.09844961544090038, 0.12543503608464196, 0.06146949230276085, 0.05208323598247721, 0.05041915094395033], \"type\": \"scatter\", \"name\": \"meerkathi-pipeline_4-pybdsm-combined flux_ratio\"}, {\"showlegend\": false, \"error_y\": {\"color\": \"rgb(158, 63, 221)\", \"visible\": true, \"type\": \"data\"}, \"yaxis\": \"y6\", \"text\": [\"A030\", \"C331\", \"B033\", \"D282\", \"E122\", \"F131\"], \"marker\": {\"reversescale\": true, \"color\": [0.013094062946046578, 0.013171694151879701, 0.013801988539849661, 0.015333412150137598, 0.015461767418665182, 0.02066874854669746, 0.02423550022480019, 0.02634083823382786, 0.03644764600191469, 0.05041915094395033, 0.05208323598247721, 0.06146949230276085, 0.09844961544090038, 0.125435036084642, 1.1948322140914136], \"colorscale\": \"Viridis\"}, \"mode\": \"markers\", \"xaxis\": \"x6\", \"y\": [0.01213647564380797, 0.2192382993836033, 0.29555593118940376, 0.5807090515288472, 0.9687498645056069, 1.1539580430749963], \"x\": [0.16061834226411112, 0.36290123946836206, 0.40395400543593596, 0.09177496228845856, 0.20250021583162658, 0.2766962292984482], \"type\": \"scatter\", \"name\": \"meerkathi-pipeline_1-pybdsm flux_ratio\"}, {\"showlegend\": false, \"name\": \"1\\u03c3\", \"yaxis\": \"y6\", \"text\": \"1\\u03c3 ~ 0.211993\", \"marker\": {\"color\": \"rgb(0, 0, 255)\"}, \"mode\": \"lines\", \"xaxis\": \"x6\", \"y\": [0.0, 0.05820698620024628, 0.11522904601654264, 0.16990537474907091, 0.22112292001834852, 0.2678390403018969, 0.30910273010890915, 0.3440739797095696, 0.3720408753107648, 0.3924340915679215, 0.4048384814072232, 0.40900152722284827, 0.4048384814072233, 0.3924340915679215, 0.37204087531076485, 0.3440739797095696, 0.30910273010890915, 0.267839040301897, 0.22112292001834863, 0.1699053747490709, 0.11522904601654264, 0.058206986200246294, 5.008824111598402e-17, -0.05820698620024619, -0.11522904601654253, -0.16990537474907094, -0.22112292001834852, -0.26783904030189687, -0.3091027301089091, -0.34407397970956966, -0.37204087531076485, -0.3924340915679215, -0.4048384814072232, -0.40900152722284827, -0.4048384814072233, -0.39243409156792153, -0.3720408753107649, -0.3440739797095697, -0.3091027301089091, -0.2678390403018968, -0.2211229200183485, -0.16990537474907091, -0.11522904601654269, -0.05820698620024635, -1.0017648223196804e-16], \"x\": [0.10987969490122661, 0.10876127804056909, 0.10542879520063164, 0.09995008612194846, 0.09243668152206921, 0.08304153265177777, 0.07195589764870125, 0.05940544807317082, 0.045645674886036366, 0.030956687389478786, 0.015637511009385974, 6.728190832603746e-18, -0.015637511009385964, -0.030956687389478776, -0.04564567488603635, -0.05940544807317082, -0.07195589764870125, -0.08304153265177776, -0.0924366815220692, -0.09995008612194846, -0.10542879520063164, -0.10876127804056909, -0.10987969490122661, -0.1087612780405691, -0.10542879520063166, -0.09995008612194846, -0.09243668152206921, -0.08304153265177779, -0.07195589764870126, -0.059405448073170795, -0.04564567488603636, -0.030956687389478783, -0.01563751100938599, -2.0184572497811236e-17, 0.015637511009385947, 0.030956687389478738, 0.045645674886036325, 0.05940544807317076, 0.07195589764870128, 0.08304153265177779, 0.09243668152206921, 0.09995008612194846, 0.10542879520063164, 0.10876127804056909, 0.10987969490122661], \"type\": \"scatter\"}, {\"showlegend\": false, \"name\": \"2\\u03c3\", \"yaxis\": \"y6\", \"text\": \"2\\u03c3 ~ 0.423986\", \"marker\": {\"color\": \"rgb(255, 0, 0)\"}, \"mode\": \"lines\", \"xaxis\": \"x6\", \"y\": [0.0, 0.11641397240049256, 0.2304580920330853, 0.33981074949814183, 0.44224584003669704, 0.5356780806037938, 0.6182054602178183, 0.6881479594191392, 0.7440817506215296, 0.784868183135843, 0.8096769628144465, 0.8180030544456965, 0.8096769628144466, 0.784868183135843, 0.7440817506215297, 0.6881479594191392, 0.6182054602178183, 0.535678080603794, 0.44224584003669726, 0.3398107494981418, 0.2304580920330853, 0.11641397240049259, 1.0017648223196804e-16, -0.11641397240049238, -0.23045809203308507, -0.3398107494981419, -0.44224584003669704, -0.5356780806037937, -0.6182054602178182, -0.6881479594191393, -0.7440817506215297, -0.784868183135843, -0.8096769628144465, -0.8180030544456965, -0.8096769628144466, -0.7848681831358431, -0.7440817506215298, -0.6881479594191394, -0.6182054602178182, -0.5356780806037936, -0.442245840036697, -0.33981074949814183, -0.23045809203308537, -0.1164139724004927, -2.0035296446393608e-16], \"x\": [0.21975938980245321, 0.21752255608113819, 0.21085759040126328, 0.19990017224389692, 0.18487336304413843, 0.16608306530355554, 0.1439117952974025, 0.11881089614634165, 0.09129134977207273, 0.06191337477895757, 0.03127502201877195, 1.3456381665207492e-17, -0.03127502201877193, -0.06191337477895755, -0.0912913497720727, -0.11881089614634165, -0.1439117952974025, -0.16608306530355552, -0.1848733630441384, -0.19990017224389692, -0.21085759040126328, -0.21752255608113819, -0.21975938980245321, -0.2175225560811382, -0.2108575904012633, -0.19990017224389692, -0.18487336304413843, -0.16608306530355557, -0.14391179529740253, -0.11881089614634159, -0.09129134977207272, -0.061913374778957565, -0.03127502201877198, -4.036914499562247e-17, 0.03127502201877189, 0.061913374778957475, 0.09129134977207265, 0.11881089614634152, 0.14391179529740256, 0.16608306530355557, 0.18487336304413843, 0.19990017224389692, 0.21085759040126328, 0.21752255608113819, 0.21975938980245321], \"type\": \"scatter\"}, {\"showlegend\": false, \"name\": \"3\\u03c3\", \"yaxis\": \"y6\", \"text\": \"3\\u03c3 ~ 0.635979\", \"marker\": {\"color\": \"rgb(255, 255, 0)\"}, \"mode\": \"lines\", \"xaxis\": \"x6\", \"y\": [0.0, 0.17462095860073884, 0.3456871380496279, 0.5097161242472128, 0.6633687600550455, 0.8035171209056908, 0.9273081903267275, 1.0322219391287089, 1.1161226259322943, 1.1773022747037645, 1.2145154442216697, 1.2270045816685449, 1.21451544422167, 1.1773022747037645, 1.1161226259322945, 1.0322219391287089, 0.9273081903267275, 0.8035171209056909, 0.6633687600550459, 0.5097161242472127, 0.3456871380496279, 0.1746209586007389, 1.5026472334795205e-16, -0.17462095860073856, -0.3456871380496276, -0.5097161242472128, -0.6633687600550455, -0.8035171209056906, -0.9273081903267273, -1.0322219391287089, -1.1161226259322945, -1.1773022747037645, -1.2145154442216697, -1.2270045816685449, -1.21451544422167, -1.1773022747037647, -1.1161226259322947, -1.032221939128709, -0.9273081903267273, -0.8035171209056904, -0.6633687600550455, -0.5097161242472128, -0.34568713804962803, -0.17462095860073906, -3.005294466959041e-16], \"x\": [0.3296390847036798, 0.32628383412170725, 0.3162863856018949, 0.2998502583658454, 0.27731004456620767, 0.24912459795533332, 0.21586769294610375, 0.17821634421951246, 0.13693702465810909, 0.09287006216843635, 0.04691253302815793, 2.0184572497811236e-17, -0.04691253302815789, -0.09287006216843632, -0.13693702465810906, -0.17821634421951246, -0.21586769294610375, -0.24912459795533326, -0.2773100445662076, -0.2998502583658454, -0.3162863856018949, -0.32628383412170725, -0.3296390847036798, -0.3262838341217073, -0.316286385601895, -0.2998502583658454, -0.27731004456620767, -0.24912459795533337, -0.2158676929461038, -0.17821634421951238, -0.13693702465810909, -0.09287006216843635, -0.04691253302815797, -6.055371749343371e-17, 0.04691253302815784, 0.09287006216843621, 0.13693702465810897, 0.17821634421951227, 0.21586769294610383, 0.24912459795533337, 0.27731004456620767, 0.2998502583658454, 0.3162863856018949, 0.32628383412170725, 0.3296390847036798], \"type\": \"scatter\"}, {\"showlegend\": false, \"error_y\": {\"color\": \"rgb(158, 63, 221)\", \"visible\": true, \"type\": \"data\"}, \"yaxis\": \"y7\", \"text\": [\"I014\", \"C331\", \"B033\", \"J344\", \"A030\", \"L053\", \"E122\", \"O305\", \"D282\", \"K182\", \"M304\", \"H002\", \"F131\", \"N315\", \"G013\"], \"marker\": {\"reversescale\": true, \"color\": [2897.725329546359, 1024.453877025326, 2041.204377053077, 2882.0580143118127, 393.3460849083838, 1818.152075742431, 1588.101150578869, 3221.22110161112, 1201.3983112535664, 1340.6754496697713, 2459.1599968024816, 1505.082124013398, 641.8333586067981, 3443.888522462859, 2263.968656509504], \"colorscale\": \"Jet\"}, \"mode\": \"markers\", \"xaxis\": \"x7\", \"y\": [0.0, 0.0, 0.0, 0.0, 0.0, 0.0, 0.0, 0.0, 0.0, 0.0, 0.0, 0.0, 0.0, 0.0, 0.003073585126505738], \"x\": [0.02423550022480019, 0.09844961544090038, 0.12543503608464196, 0.02066874854669746, 1.1948322140914134, 0.015333412150137598, 0.05208323598247721, 0.013094062946046578, 0.06146949230276085, 0.015461767418665182, 0.013801988539849661, 0.02634083823382786, 0.05041915094395033, 0.013171694151879701, 0.03644764600191469], \"type\": \"scatter\", \"name\": \"meerkathi-pipeline_4-pybdsm-combined flux_ratio\"}, {\"showlegend\": false, \"error_y\": {\"color\": \"rgb(158, 63, 221)\", \"visible\": true, \"type\": \"data\"}, \"yaxis\": \"y8\", \"text\": [\"I014\", \"C331\", \"B033\", \"J344\", \"A030\", \"L053\", \"E122\", \"O305\", \"D282\", \"K182\", \"M304\", \"H002\", \"F131\", \"N315\", \"G013\"], \"marker\": {\"reversescale\": true, \"color\": [0.013094062946046578, 0.013171694151879701, 0.013801988539849661, 0.015333412150137598, 0.015461767418665182, 0.02066874854669746, 0.02423550022480019, 0.02634083823382786, 0.03644764600191469, 0.05041915094395033, 0.05208323598247721, 0.06146949230276085, 0.09844961544090038, 0.125435036084642, 1.1948322140914136], \"colorscale\": \"Viridis\"}, \"mode\": \"markers\", \"xaxis\": \"x8\", \"y\": [0.0, 0.0, 0.0, 0.0, 0.0, 0.0, 0.0, 0.0, 0.0, 0.0, 0.0, 0.0, 0.0, 0.0, 0.0], \"x\": [0.0, 0.0, 0.0, 0.0, 0.0, 0.0, 0.0, 0.0, 0.0, 0.0, 0.0, 0.0, 0.0, 0.0, 0.0], \"type\": \"scatter\", \"name\": \"meerkathi-pipeline_4-pybdsm-combined flux_ratio\"}, {\"showlegend\": false, \"name\": \"1\\u03c3\", \"yaxis\": \"y8\", \"text\": \"1\\u03c3 ~ 0.000000\", \"marker\": {\"color\": \"rgb(0, 0, 255)\"}, \"mode\": \"lines\", \"xaxis\": \"x8\", \"y\": [0.0, 0.0, 0.0, 0.0, 0.0, 0.0, 0.0, 0.0, 0.0, 0.0, 0.0, 0.0, 0.0, 0.0, 0.0, 0.0, 0.0, 0.0, 0.0, 0.0, 0.0, 0.0, 0.0, -0.0, -0.0, -0.0, -0.0, -0.0, -0.0, -0.0, -0.0, -0.0, -0.0, -0.0, -0.0, -0.0, -0.0, -0.0, -0.0, -0.0, -0.0, -0.0, -0.0, -0.0, -0.0], \"x\": [0.0, 0.0, 0.0, 0.0, 0.0, 0.0, 0.0, 0.0, 0.0, 0.0, 0.0, 0.0, -0.0, -0.0, -0.0, -0.0, -0.0, -0.0, -0.0, -0.0, -0.0, -0.0, -0.0, -0.0, -0.0, -0.0, -0.0, -0.0, -0.0, -0.0, -0.0, -0.0, -0.0, -0.0, 0.0, 0.0, 0.0, 0.0, 0.0, 0.0, 0.0, 0.0, 0.0, 0.0, 0.0], \"type\": \"scatter\"}, {\"showlegend\": false, \"name\": \"2\\u03c3\", \"yaxis\": \"y8\", \"text\": \"2\\u03c3 ~ 0.000000\", \"marker\": {\"color\": \"rgb(255, 0, 0)\"}, \"mode\": \"lines\", \"xaxis\": \"x8\", \"y\": [0.0, 0.0, 0.0, 0.0, 0.0, 0.0, 0.0, 0.0, 0.0, 0.0, 0.0, 0.0, 0.0, 0.0, 0.0, 0.0, 0.0, 0.0, 0.0, 0.0, 0.0, 0.0, 0.0, -0.0, -0.0, -0.0, -0.0, -0.0, -0.0, -0.0, -0.0, -0.0, -0.0, -0.0, -0.0, -0.0, -0.0, -0.0, -0.0, -0.0, -0.0, -0.0, -0.0, -0.0, -0.0], \"x\": [0.0, 0.0, 0.0, 0.0, 0.0, 0.0, 0.0, 0.0, 0.0, 0.0, 0.0, 0.0, -0.0, -0.0, -0.0, -0.0, -0.0, -0.0, -0.0, -0.0, -0.0, -0.0, -0.0, -0.0, -0.0, -0.0, -0.0, -0.0, -0.0, -0.0, -0.0, -0.0, -0.0, -0.0, 0.0, 0.0, 0.0, 0.0, 0.0, 0.0, 0.0, 0.0, 0.0, 0.0, 0.0], \"type\": \"scatter\"}, {\"showlegend\": false, \"name\": \"3\\u03c3\", \"yaxis\": \"y8\", \"text\": \"3\\u03c3 ~ 0.000000\", \"marker\": {\"color\": \"rgb(255, 255, 0)\"}, \"mode\": \"lines\", \"xaxis\": \"x8\", \"y\": [0.0, 0.0, 0.0, 0.0, 0.0, 0.0, 0.0, 0.0, 0.0, 0.0, 0.0, 0.0, 0.0, 0.0, 0.0, 0.0, 0.0, 0.0, 0.0, 0.0, 0.0, 0.0, 0.0, -0.0, -0.0, -0.0, -0.0, -0.0, -0.0, -0.0, -0.0, -0.0, -0.0, -0.0, -0.0, -0.0, -0.0, -0.0, -0.0, -0.0, -0.0, -0.0, -0.0, -0.0, -0.0], \"x\": [0.0, 0.0, 0.0, 0.0, 0.0, 0.0, 0.0, 0.0, 0.0, 0.0, 0.0, 0.0, -0.0, -0.0, -0.0, -0.0, -0.0, -0.0, -0.0, -0.0, -0.0, -0.0, -0.0, -0.0, -0.0, -0.0, -0.0, -0.0, -0.0, -0.0, -0.0, -0.0, -0.0, -0.0, 0.0, 0.0, 0.0, 0.0, 0.0, 0.0, 0.0, 0.0, 0.0, 0.0, 0.0], \"type\": \"scatter\"}], {\"paper_bgcolor\": \"rgb(255,255,255)\", \"height\": 900, \"yaxis1\": {\"tickfont\": {\"color\": \"rgb(0,0,0)\", \"size\": 14}, \"domain\": [0.8625, 1.0], \"showticklabels\": true, \"title\": \"Delta position [arcsec]\", \"color\": \"rgb(0,0,0)\", \"ticks\": \"outside\", \"showgrid\": true, \"range\": [], \"titlefont\": {\"size\": 15}, \"showline\": false, \"zeroline\": false, \"tickcolor\": \"rgb(51,153,225)\", \"gridcolor\": \"rgb(255,255,255)\", \"anchor\": \"x1\"}, \"yaxis2\": {\"tickfont\": {\"color\": \"rgb(0,0,0)\", \"size\": 10}, \"domain\": [0.8625, 1.0], \"showticklabels\": true, \"title\": \"Declination offset [arcsec]\", \"color\": \"rgb(0,0,0)\", \"ticks\": \"outside\", \"showgrid\": true, \"range\": [], \"titlefont\": {\"size\": 17}, \"showline\": false, \"zeroline\": false, \"tickcolor\": \"rgb(51,153,225)\", \"gridcolor\": \"rgb(255,255,255)\", \"anchor\": \"x2\"}, \"yaxis3\": {\"tickfont\": {\"color\": \"rgb(0,0,0)\", \"size\": 14}, \"domain\": [0.575, 0.7124999999999999], \"showticklabels\": true, \"title\": \"Delta position [arcsec]\", \"color\": \"rgb(0,0,0)\", \"ticks\": \"outside\", \"showgrid\": true, \"range\": [], \"titlefont\": {\"size\": 15}, \"showline\": false, \"zeroline\": false, \"tickcolor\": \"rgb(51,153,225)\", \"gridcolor\": \"rgb(255,255,255)\", \"anchor\": \"x3\"}, \"yaxis4\": {\"tickfont\": {\"color\": \"rgb(0,0,0)\", \"size\": 10}, \"domain\": [0.575, 0.7124999999999999], \"showticklabels\": true, \"title\": \"Declination offset [arcsec]\", \"color\": \"rgb(0,0,0)\", \"ticks\": \"outside\", \"showgrid\": true, \"range\": [], \"titlefont\": {\"size\": 17}, \"showline\": false, \"zeroline\": false, \"tickcolor\": \"rgb(51,153,225)\", \"gridcolor\": \"rgb(255,255,255)\", \"anchor\": \"x4\"}, \"yaxis5\": {\"tickfont\": {\"color\": \"rgb(0,0,0)\", \"size\": 14}, \"domain\": [0.2875, 0.425], \"showticklabels\": true, \"title\": \"Delta position [arcsec]\", \"color\": \"rgb(0,0,0)\", \"ticks\": \"outside\", \"showgrid\": true, \"range\": [], \"titlefont\": {\"size\": 15}, \"showline\": false, \"zeroline\": false, \"tickcolor\": \"rgb(51,153,225)\", \"gridcolor\": \"rgb(255,255,255)\", \"anchor\": \"x5\"}, \"yaxis6\": {\"tickfont\": {\"color\": \"rgb(0,0,0)\", \"size\": 10}, \"domain\": [0.2875, 0.425], \"showticklabels\": true, \"title\": \"Declination offset [arcsec]\", \"color\": \"rgb(0,0,0)\", \"ticks\": \"outside\", \"showgrid\": true, \"range\": [], \"titlefont\": {\"size\": 17}, \"showline\": false, \"zeroline\": false, \"tickcolor\": \"rgb(51,153,225)\", \"gridcolor\": \"rgb(255,255,255)\", \"anchor\": \"x6\"}, \"yaxis7\": {\"tickfont\": {\"color\": \"rgb(0,0,0)\", \"size\": 14}, \"domain\": [0.0, 0.1375], \"showticklabels\": true, \"title\": \"Delta position [arcsec]\", \"color\": \"rgb(0,0,0)\", \"ticks\": \"outside\", \"showgrid\": true, \"range\": [], \"titlefont\": {\"size\": 15}, \"showline\": false, \"zeroline\": false, \"tickcolor\": \"rgb(51,153,225)\", \"gridcolor\": \"rgb(255,255,255)\", \"anchor\": \"x7\"}, \"yaxis8\": {\"tickfont\": {\"color\": \"rgb(0,0,0)\", \"size\": 10}, \"domain\": [0.0, 0.1375], \"showticklabels\": true, \"title\": \"Declination offset [arcsec]\", \"color\": \"rgb(0,0,0)\", \"ticks\": \"outside\", \"showgrid\": true, \"range\": [], \"titlefont\": {\"size\": 17}, \"showline\": false, \"zeroline\": false, \"tickcolor\": \"rgb(51,153,225)\", \"gridcolor\": \"rgb(255,255,255)\", \"anchor\": \"x8\"}, \"title\": \"\", \"plot_bgcolor\": \"rgb(229,229,229)\", \"width\": 900, \"annotations\": [{\"yanchor\": \"bottom\", \"xref\": \"paper\", \"xanchor\": \"center\", \"yref\": \"paper\", \"text\": \"<b>MEERKATHI-PIPELINE_3-PYBDSM-COMBINED Position</b>\", \"y\": 1.0, \"x\": 0.1875, \"font\": {\"size\": 10}, \"showarrow\": false}, {\"yanchor\": \"bottom\", \"xref\": \"paper\", \"xanchor\": \"center\", \"yref\": \"paper\", \"text\": \"<b>MEERKATHI-PIPELINE_3-PYBDSM-COMBINED Position</b>\", \"y\": 1.0, \"x\": 0.8125, \"font\": {\"size\": 10}, \"showarrow\": false}, {\"yanchor\": \"bottom\", \"xref\": \"paper\", \"xanchor\": \"center\", \"yref\": \"paper\", \"text\": \"<b>MEERKATHI-PIPELINE_2-PYBDSM Position</b>\", \"y\": 0.7124999999999999, \"x\": 0.1875, \"font\": {\"size\": 10}, \"showarrow\": false}, {\"yanchor\": \"bottom\", \"xref\": \"paper\", \"xanchor\": \"center\", \"yref\": \"paper\", \"text\": \"<b>MEERKATHI-PIPELINE_2-PYBDSM Position</b>\", \"y\": 0.7124999999999999, \"x\": 0.8125, \"font\": {\"size\": 10}, \"showarrow\": false}, {\"yanchor\": \"bottom\", \"xref\": \"paper\", \"xanchor\": \"center\", \"yref\": \"paper\", \"text\": \"<b>MEERKATHI-PIPELINE_1-PYBDSM Position</b>\", \"y\": 0.425, \"x\": 0.1875, \"font\": {\"size\": 10}, \"showarrow\": false}, {\"yanchor\": \"bottom\", \"xref\": \"paper\", \"xanchor\": \"center\", \"yref\": \"paper\", \"text\": \"<b>MEERKATHI-PIPELINE_1-PYBDSM Position</b>\", \"y\": 0.425, \"x\": 0.8125, \"font\": {\"size\": 10}, \"showarrow\": false}, {\"yanchor\": \"bottom\", \"xref\": \"paper\", \"xanchor\": \"center\", \"yref\": \"paper\", \"text\": \"<b>MEERKATHI-PIPELINE_4-PYBDSM-COMBINED Position</b>\", \"y\": 0.1375, \"x\": 0.1875, \"font\": {\"size\": 10}, \"showarrow\": false}, {\"yanchor\": \"bottom\", \"xref\": \"paper\", \"xanchor\": \"center\", \"yref\": \"paper\", \"text\": \"<b>MEERKATHI-PIPELINE_4-PYBDSM-COMBINED Position</b>\", \"y\": 0.1375, \"x\": 0.8125, \"font\": {\"size\": 10}, \"showarrow\": false}], \"legend\": {\"y\": 1, \"x\": 1.1, \"xanchor\": true}, \"xaxis8\": {\"domain\": [0.625, 1.0], \"title\": \"Right Ascension offset [arcsec]\", \"range\": [], \"titlefont\": {\"size\": 17}, \"zeroline\": false, \"anchor\": \"y8\"}, \"xaxis7\": {\"domain\": [0.0, 0.375], \"title\": \"Input Flux (Jy)\", \"overlaying\": \"x\", \"titlefont\": {\"size\": 17}, \"zeroline\": false, \"position\": 0.0, \"anchor\": \"y7\"}, \"xaxis6\": {\"domain\": [0.625, 1.0], \"title\": \"Right Ascension offset [arcsec]\", \"range\": [], \"titlefont\": {\"size\": 17}, \"zeroline\": false, \"anchor\": \"y6\"}, \"xaxis5\": {\"domain\": [0.0, 0.375], \"title\": \"Input Flux (Jy)\", \"overlaying\": \"x\", \"titlefont\": {\"size\": 17}, \"zeroline\": false, \"position\": 0.0, \"anchor\": \"y5\"}, \"xaxis4\": {\"domain\": [0.625, 1.0], \"title\": \"Right Ascension offset [arcsec]\", \"range\": [], \"titlefont\": {\"size\": 17}, \"zeroline\": false, \"anchor\": \"y4\"}, \"xaxis3\": {\"domain\": [0.0, 0.375], \"title\": \"Input Flux (Jy)\", \"overlaying\": \"x\", \"titlefont\": {\"size\": 17}, \"zeroline\": false, \"position\": 0.0, \"anchor\": \"y3\"}, \"xaxis2\": {\"domain\": [0.625, 1.0], \"title\": \"Right Ascension offset [arcsec]\", \"range\": [], \"titlefont\": {\"size\": 17}, \"zeroline\": false, \"anchor\": \"y2\"}, \"xaxis1\": {\"domain\": [0.0, 0.375], \"title\": \"Input Flux (Jy)\", \"overlaying\": \"x\", \"titlefont\": {\"size\": 17}, \"zeroline\": false, \"position\": 0.0, \"anchor\": \"y1\"}}, {\"linkText\": \"Export to plot.ly\", \"showLink\": true})});</script>"
      ]
     },
     "metadata": {},
     "output_type": "display_data"
    }
   ],
   "source": [
    "data = []\n",
    "im_titles =[]\n",
    "for input_model, output_model in models_compare.items():\n",
    "    header = output_model[:-9]\n",
    "    im_titles.append('<b>%s Position</b>'%header.upper())\n",
    "    im_titles.append('<b>%s Position</b>'%header.upper())\n",
    "\n",
    "fig = tools.make_subplots(rows=len(models_compare.keys()), cols=2, shared_yaxes=False, print_grid=False,\n",
    "                          horizontal_spacing = 0.25,\n",
    "                          vertical_spacing = 0.15,\n",
    "                          subplot_titles=im_titles)\n",
    "i = -1\n",
    "counter = 0\n",
    "for input_model, output_model in models_compare.items():\n",
    "    i += 1\n",
    "    counter+=1\n",
    "    RA_offset = []\n",
    "    DEC_offset = []\n",
    "    DELTA_PHASE0 = []\n",
    "    source_labels = []\n",
    "    flux_in_data = []\n",
    "    delta_pos_data = []\n",
    "    heading = output_model[:-9]\n",
    "    for n in range(len(results[heading]['flux'])):\n",
    "        delta_pos_data.append(results[heading]['position'][n][0])\n",
    "        RA_offset.append(results[heading]['position'][n][1])\n",
    "        DEC_offset.append(results[heading]['position'][n][2])\n",
    "        DELTA_PHASE0.append(results[heading]['position'][n][3])\n",
    "        flux_in_data.append(results[heading]['position'][n][4])\n",
    "        source_labels.append(results[heading]['position'][n][5])\n",
    "    zipped_props = zip(delta_pos_data, RA_offset, DEC_offset, DELTA_PHASE0, flux_in_data, source_labels)\n",
    "    delta_pos_data, RA_offset, DEC_offset, DELTA_PHASE0, flux_in_data, source_labels = zip(\n",
    "        *sorted(zipped_props, key=lambda x: x[0]))\n",
    "    fig.append_trace(go.Scatter(x=np.array(flux_in_data), y=np.array(delta_pos_data),\n",
    "                                mode = 'markers', showlegend=False,\n",
    "                                text = source_labels, name = '%s flux_ratio' % header,\n",
    "                                marker = dict(color = DELTA_PHASE0, showscale=True,\n",
    "                                              colorscale='Jet', reversescale=True,\n",
    "                                              colorbar = dict(title= 'Distance from phase centre (arcsec)',\n",
    "                                                              titleside ='right', titlefont=dict(size=16), x = 0.4)\n",
    "                                             ) if i == 0 else dict(color = DELTA_PHASE0, colorscale='Jet',\n",
    "                                                                   reversescale=True),\n",
    "                                error_y=dict(type='data', #array=flux_out_err_data,\n",
    "                                             color = 'rgb(158, 63, 221)', visible=True)), i+1, 1)\n",
    "    fig.append_trace(go.Scatter(x=np.array(RA_offset), y=np.array(DEC_offset),\n",
    "                                mode = 'markers', showlegend=False,\n",
    "                                text = source_labels, name = '%s flux_ratio' % heading,\n",
    "                                marker = dict(color = flux_out_data, showscale=True, colorscale='Viridis', reversescale=True,\n",
    "                                              colorbar = dict(title= 'Input Flux (Jy)', titleside ='right',\n",
    "                                                             titlefont=dict(size=16))\n",
    "                                             ) if i == 0 else dict(color = flux_out_data, colorscale='Viridis',\n",
    "                                                                   reversescale=True),\n",
    "                                error_y=dict(type='data',\n",
    "                                             color = 'rgb(158, 63, 221)', visible=True)), i+1, 2)\n",
    "    r1, r2 = np.array(RA_offset).std(), np.array(DEC_offset).std()\n",
    "    theta = np.linspace(0,2*pi,45)\n",
    "    x1 = r1*cos(theta)\n",
    "    y1 = r2*sin(theta)\n",
    "    #print \"%s\\n1 sigma = %s\\n%s\"%(imager, np.sqrt(r1*r2), 25*'=')\n",
    "    fig.append_trace(go.Scatter(x=x1, y=y1,\n",
    "                                mode = 'lines', showlegend=True if i == 0 else False,\n",
    "                                name = '1σ',\n",
    "                                text = '1σ ~ %f' % (np.sqrt(r1*r2)),\n",
    "                                marker = dict(color = 'rgb(0, 0, 255)')), i+1, 2)\n",
    "    fig.append_trace(go.Scatter(x=2*x1, y=2*y1,\n",
    "                                mode = 'lines', showlegend=True if i == 0 else False,\n",
    "                                name = '2σ',\n",
    "                                text = '2σ ~ %f' % (2*np.sqrt(r1*r2)),\n",
    "                                marker = dict(color = 'rgb(255, 0, 0)')), i+1, 2)\n",
    "    fig.append_trace(go.Scatter(x=3*x1, y=3*y1,\n",
    "                                mode = 'lines', showlegend=True if i == 0 else False,\n",
    "                                name = '3σ',\n",
    "                                text = '3σ ~ %f' % (3*np.sqrt(r1*r2)),\n",
    "                                marker = dict(color = 'rgb(255, 255, 0)')), i+1, 2)\n",
    "    fig['layout'].update(title='', height=900, width=900,\n",
    "                         paper_bgcolor='rgb(255,255,255)', plot_bgcolor='rgb(229,229,229)',\n",
    "                         legend=dict(xanchor=True, x=1.1,y=1)\n",
    "                        )\n",
    "    fig['layout'].update(\n",
    "        {'yaxis{}'.format(counter+i):YAxis(title=u'Delta position [arcsec]',gridcolor='rgb(255,255,255)',\n",
    "                                           color='rgb(0,0,0)',\n",
    "                                           range=axis_min_max if _scaley.value else [],\n",
    "        #range=[1,10],\n",
    "        tickfont=dict(size=14, color='rgb(0,0,0)'),\n",
    "        titlefont=dict(size=15),\n",
    "        showgrid=True,\n",
    "        showline=False,\n",
    "        showticklabels=True,\n",
    "        tickcolor='rgb(51,153,225)',\n",
    "        ticks='outside',\n",
    "        zeroline=False)})\n",
    "    fig['layout'].update(\n",
    "        {'yaxis{}'.format(counter+i+1):YAxis(title='Declination offset [arcsec]',gridcolor='rgb(255,255,255)',\n",
    "                                             color='rgb(0,0,0)',\n",
    "                                             range=dec_min_max if _scaley.value else [],\n",
    "        #range=[1,10],\n",
    "        tickfont=dict(size=10, color='rgb(0,0,0)'),\n",
    "        titlefont=dict(size=17),\n",
    "        showgrid=True,\n",
    "        showline=False,\n",
    "        showticklabels=True,\n",
    "        tickcolor='rgb(51,153,225)',\n",
    "        ticks='outside',\n",
    "        zeroline=False)})\n",
    "    fig['layout'].update({'xaxis{}'.format(counter+i):XAxis(title='Input Flux (Jy)',\n",
    "                                                            titlefont=dict(size=17),\n",
    "                                                            zeroline=False, position=0.0, overlaying='x',)})\n",
    "    fig['layout'].update({'xaxis{}'.format(counter+i+1):XAxis(title='Right Ascension offset [arcsec]',\n",
    "                                                              titlefont=dict(size=17),\n",
    "                                                              range=ra_min_max if _scalex.value else [],\n",
    "                                                              zeroline=False)})# domain=[0.505, 0.8])})\n",
    "    fig['layout']['annotations'].update({ 'font':{'size': 10}})\n",
    "py.iplot(fig, filename='make-subplots-multiple-with-titles')"
   ]
  },
  {
   "cell_type": "markdown",
   "metadata": {
    "extensions": {
     "jupyter_dashboards": {
      "version": 1,
      "views": {
       "grid_default": {},
       "report_default": {
        "hidden": false
       }
      }
     }
    }
   },
   "source": [
    "## Morphological Measurements"
   ]
  },
  {
   "cell_type": "code",
   "execution_count": 23,
   "metadata": {
    "extensions": {
     "jupyter_dashboards": {
      "version": 1,
      "views": {
       "grid_default": {},
       "report_default": {
        "hidden": false
       }
      }
     }
    },
    "scrolled": false
   },
   "outputs": [
    {
     "data": {
      "application/vnd.plotly.v1+json": {
       "data": [
        {
         "error_y": {
          "color": "rgb(158, 63, 221)",
          "type": "data",
          "visible": true
         },
         "marker": {
          "color": [
           0.02423550022480019,
           0.09844961544090038,
           0.12543503608464196,
           0.02066874854669746,
           1.1948322140914134,
           0.015333412150137598,
           0.03644764600191469,
           0.05208323598247721,
           0.013094062946046578,
           0.06146949230276085,
           0.015461767418665182,
           0.013801988539849661,
           0.02634083823382786,
           0.05041915094395033,
           0.013171694151879701
          ],
          "colorbar": {
           "title": "",
           "titlefont": {
            "size": 16
           },
           "titleside": "right"
          },
          "colorscale": "Viridis",
          "reversescale": true,
          "showscale": true
         },
         "mode": "markers",
         "name": "meerkathi-pipeline_4-pybdsm-combined flux_ratio",
         "showlegend": false,
         "text": [
          "O305",
          "N315",
          "M304",
          "L053",
          "K182",
          "J344",
          "I014",
          "H002",
          "G013",
          "F131",
          "E122",
          "D282",
          "C331",
          "B033",
          "A030"
         ],
         "type": "scatter",
         "x": [
          0,
          0,
          0,
          0,
          0,
          0,
          0,
          0,
          0,
          0,
          0,
          0,
          0,
          0,
          0
         ],
         "xaxis": "x1",
         "y": [
          0,
          0,
          0,
          0,
          0,
          0,
          0,
          0,
          0,
          0,
          0,
          0,
          0,
          0,
          0
         ],
         "yaxis": "y1"
        },
        {
         "error_y": {
          "color": "rgb(158, 63, 221)",
          "type": "data",
          "visible": true
         },
         "marker": {
          "color": [
           0.02423550022480019,
           0.09844961544090038,
           0.12543503608464196,
           0.02066874854669746,
           1.1948322140914134,
           0.015333412150137598,
           0.03644764600191469,
           0.05208323598247721,
           0.013094062946046578,
           0.06146949230276085,
           0.015461767418665182,
           0.013801988539849661,
           0.02634083823382786,
           0.05041915094395033,
           0.013171694151879701
          ],
          "colorbar": {
           "title": "Distance from phase center",
           "titlefont": {
            "size": 16
           },
           "titleside": "right"
          },
          "colorscale": "Viridis",
          "reversescale": true,
          "showscale": true
         },
         "mode": "markers",
         "name": "meerkathi-pipeline_4-pybdsm-combined flux_ratio",
         "showlegend": false,
         "text": [
          "O305",
          "N315",
          "M304",
          "L053",
          "K182",
          "J344",
          "I014",
          "H002",
          "G013",
          "F131",
          "E122",
          "D282",
          "C331",
          "B033",
          "A030"
         ],
         "type": "scatter",
         "x": [
          0,
          0,
          0,
          0,
          0,
          0,
          0,
          0,
          0,
          0,
          0,
          0,
          0,
          0,
          0
         ],
         "xaxis": "x2",
         "y": [
          0,
          0,
          0,
          0,
          0,
          0,
          0,
          0,
          0,
          0,
          0,
          0,
          0,
          0,
          0
         ],
         "yaxis": "y2"
        },
        {
         "error_y": {
          "color": "rgb(158, 63, 221)",
          "type": "data",
          "visible": true
         },
         "marker": {
          "color": [
           0.02423550022480019,
           0.09844961544090038,
           0.12543503608464196,
           0.02066874854669746,
           1.1948322140914134,
           0.015333412150137598,
           0.03644764600191469,
           0.05208323598247721,
           0.013094062946046578,
           0.06146949230276085,
           0.015461767418665182,
           0.013801988539849661,
           0.02634083823382786,
           0.05041915094395033,
           0.013171694151879701
          ],
          "colorscale": "Viridis",
          "reversescale": true
         },
         "mode": "markers",
         "name": "meerkathi-pipeline_4-pybdsm-combined flux_ratio",
         "showlegend": false,
         "text": [
          "O305",
          "N315",
          "M304",
          "L053",
          "K182",
          "J344",
          "I014",
          "H002",
          "G013",
          "F131",
          "E122",
          "D282",
          "C331",
          "B033",
          "A030"
         ],
         "type": "scatter",
         "x": [
          0,
          0,
          0,
          0,
          0,
          0,
          0,
          0,
          0,
          0,
          0,
          0,
          0,
          0,
          0
         ],
         "xaxis": "x3",
         "y": [
          0,
          0,
          0,
          0,
          0,
          0,
          0,
          0,
          0,
          0,
          0,
          0,
          0,
          0,
          0
         ],
         "yaxis": "y3"
        },
        {
         "error_y": {
          "color": "rgb(158, 63, 221)",
          "type": "data",
          "visible": true
         },
         "marker": {
          "color": [
           2897.725329546359,
           1024.453877025326,
           2041.204377053077,
           2882.0580143118127,
           393.3460849083838,
           1818.152075742431,
           2263.968656509504,
           1588.101150578869,
           3221.22110161112,
           1201.3983112535664,
           1340.6754496697713,
           2459.1599968024816,
           1505.082124013398,
           641.8333586067981,
           3443.888522462859
          ],
          "colorscale": "Viridis",
          "reversescale": true
         },
         "mode": "markers",
         "name": "meerkathi-pipeline_4-pybdsm-combined flux_ratio",
         "showlegend": false,
         "text": [
          "O305",
          "N315",
          "M304",
          "L053",
          "K182",
          "J344",
          "I014",
          "H002",
          "G013",
          "F131",
          "E122",
          "D282",
          "C331",
          "B033",
          "A030"
         ],
         "type": "scatter",
         "x": [
          0,
          0,
          0,
          0,
          0,
          0,
          0,
          0,
          0,
          0,
          0,
          0,
          0,
          0,
          0
         ],
         "xaxis": "x4",
         "y": [
          0,
          0,
          0,
          0,
          0,
          0,
          0,
          0,
          0,
          0,
          0,
          0,
          0,
          0,
          0
         ],
         "yaxis": "y4"
        },
        {
         "error_y": {
          "color": "rgb(158, 63, 221)",
          "type": "data",
          "visible": true
         },
         "marker": {
          "color": [
           0.02423550022480019,
           0.09844961544090038,
           0.12543503608464196,
           0.02066874854669746,
           1.1948322140914134,
           0.015333412150137598,
           0.03644764600191469,
           0.05208323598247721,
           0.013094062946046578,
           0.06146949230276085,
           0.015461767418665182,
           0.013801988539849661,
           0.02634083823382786,
           0.05041915094395033,
           0.013171694151879701
          ],
          "colorscale": "Viridis",
          "reversescale": true
         },
         "mode": "markers",
         "name": "meerkathi-pipeline_4-pybdsm-combined flux_ratio",
         "showlegend": false,
         "text": [
          "O305",
          "N315",
          "M304",
          "L053",
          "K182",
          "J344",
          "I014",
          "H002",
          "G013",
          "F131",
          "E122",
          "D282",
          "C331",
          "B033",
          "A030"
         ],
         "type": "scatter",
         "x": [
          0,
          0,
          0,
          0,
          0,
          0,
          0,
          0,
          0,
          0,
          0,
          0,
          0,
          0,
          0
         ],
         "xaxis": "x5",
         "y": [
          0,
          0,
          0,
          0,
          0,
          0,
          0,
          0,
          0,
          0,
          0,
          0,
          0,
          0,
          0
         ],
         "yaxis": "y5"
        },
        {
         "error_y": {
          "color": "rgb(158, 63, 221)",
          "type": "data",
          "visible": true
         },
         "marker": {
          "color": [
           2897.725329546359,
           1024.453877025326,
           2041.204377053077,
           2882.0580143118127,
           393.3460849083838,
           1818.152075742431,
           2263.968656509504,
           1588.101150578869,
           3221.22110161112,
           1201.3983112535664,
           1340.6754496697713,
           2459.1599968024816,
           1505.082124013398,
           641.8333586067981,
           3443.888522462859
          ],
          "colorscale": "Viridis",
          "reversescale": true
         },
         "mode": "markers",
         "name": "meerkathi-pipeline_4-pybdsm-combined flux_ratio",
         "showlegend": false,
         "text": [
          "O305",
          "N315",
          "M304",
          "L053",
          "K182",
          "J344",
          "I014",
          "H002",
          "G013",
          "F131",
          "E122",
          "D282",
          "C331",
          "B033",
          "A030"
         ],
         "type": "scatter",
         "x": [
          0,
          0,
          0,
          0,
          0,
          0,
          0,
          0,
          0,
          0,
          0,
          0,
          0,
          0,
          0
         ],
         "xaxis": "x6",
         "y": [
          0,
          0,
          0,
          0,
          0,
          0,
          0,
          0,
          0,
          0,
          0,
          0,
          0,
          0,
          0
         ],
         "yaxis": "y6"
        },
        {
         "error_y": {
          "color": "rgb(158, 63, 221)",
          "type": "data",
          "visible": true
         },
         "marker": {
          "color": [
           0.02423550022480019,
           0.09844961544090038,
           0.12543503608464196,
           0.02066874854669746,
           1.1948322140914134,
           0.015333412150137598,
           0.03644764600191469,
           0.05208323598247721,
           0.013094062946046578,
           0.06146949230276085,
           0.015461767418665182,
           0.013801988539849661,
           0.02634083823382786,
           0.05041915094395033,
           0.013171694151879701
          ],
          "colorscale": "Viridis",
          "reversescale": true
         },
         "mode": "markers",
         "name": "meerkathi-pipeline_4-pybdsm-combined flux_ratio",
         "showlegend": false,
         "text": [
          "O305",
          "N315",
          "M304",
          "L053",
          "K182",
          "J344",
          "I014",
          "H002",
          "G013",
          "F131",
          "E122",
          "D282",
          "C331",
          "B033",
          "A030"
         ],
         "type": "scatter",
         "x": [
          0,
          0,
          0,
          0,
          0,
          0,
          0,
          0,
          0,
          0,
          0,
          0,
          0,
          0,
          0
         ],
         "xaxis": "x7",
         "y": [
          0,
          0,
          0,
          0,
          0,
          0,
          0,
          0,
          0,
          0,
          0,
          0,
          0,
          0,
          0
         ],
         "yaxis": "y7"
        },
        {
         "error_y": {
          "color": "rgb(158, 63, 221)",
          "type": "data",
          "visible": true
         },
         "marker": {
          "color": [
           2897.725329546359,
           1024.453877025326,
           2041.204377053077,
           2882.0580143118127,
           393.3460849083838,
           1818.152075742431,
           2263.968656509504,
           1588.101150578869,
           3221.22110161112,
           1201.3983112535664,
           1340.6754496697713,
           2459.1599968024816,
           1505.082124013398,
           641.8333586067981,
           3443.888522462859
          ],
          "colorscale": "Viridis",
          "reversescale": true
         },
         "mode": "markers",
         "name": "meerkathi-pipeline_4-pybdsm-combined flux_ratio",
         "showlegend": false,
         "text": [
          "O305",
          "N315",
          "M304",
          "L053",
          "K182",
          "J344",
          "I014",
          "H002",
          "G013",
          "F131",
          "E122",
          "D282",
          "C331",
          "B033",
          "A030"
         ],
         "type": "scatter",
         "x": [
          0,
          0,
          0,
          0,
          0,
          0,
          0,
          0,
          0,
          0,
          0,
          0,
          0,
          0,
          0
         ],
         "xaxis": "x8",
         "y": [
          0,
          0,
          0,
          0,
          0,
          0,
          0,
          0,
          0,
          0,
          0,
          0,
          0,
          0,
          0
         ],
         "yaxis": "y8"
        }
       ],
       "layout": {
        "annotations": [
         {
          "font": {
           "size": 12
          },
          "showarrow": false,
          "text": "<b>MEERKATHI-PIPELINE_3-PYBDSM-COMBINED Source shape</b>",
          "x": 0.225,
          "xanchor": "center",
          "xref": "paper",
          "y": 1,
          "yanchor": "bottom",
          "yref": "paper"
         },
         {
          "font": {
           "size": 12
          },
          "showarrow": false,
          "text": "<b>MEERKATHI-PIPELINE_3-PYBDSM-COMBINED Source shape</b>",
          "x": 0.775,
          "xanchor": "center",
          "xref": "paper",
          "y": 1,
          "yanchor": "bottom",
          "yref": "paper"
         },
         {
          "font": {
           "size": 12
          },
          "showarrow": false,
          "text": "<b>MEERKATHI-PIPELINE_2-PYBDSM Source shape</b>",
          "x": 0.225,
          "xanchor": "center",
          "xref": "paper",
          "y": 0.7124999999999999,
          "yanchor": "bottom",
          "yref": "paper"
         },
         {
          "font": {
           "size": 12
          },
          "showarrow": false,
          "text": "<b>MEERKATHI-PIPELINE_2-PYBDSM Source shape</b>",
          "x": 0.775,
          "xanchor": "center",
          "xref": "paper",
          "y": 0.7124999999999999,
          "yanchor": "bottom",
          "yref": "paper"
         },
         {
          "font": {
           "size": 12
          },
          "showarrow": false,
          "text": "<b>MEERKATHI-PIPELINE_1-PYBDSM Source shape</b>",
          "x": 0.225,
          "xanchor": "center",
          "xref": "paper",
          "y": 0.425,
          "yanchor": "bottom",
          "yref": "paper"
         },
         {
          "font": {
           "size": 12
          },
          "showarrow": false,
          "text": "<b>MEERKATHI-PIPELINE_1-PYBDSM Source shape</b>",
          "x": 0.775,
          "xanchor": "center",
          "xref": "paper",
          "y": 0.425,
          "yanchor": "bottom",
          "yref": "paper"
         },
         {
          "font": {
           "size": 12
          },
          "showarrow": false,
          "text": "<b>MEERKATHI-PIPELINE_4-PYBDSM-COMBINED Source shape</b>",
          "x": 0.225,
          "xanchor": "center",
          "xref": "paper",
          "y": 0.1375,
          "yanchor": "bottom",
          "yref": "paper"
         },
         {
          "font": {
           "size": 12
          },
          "showarrow": false,
          "text": "<b>MEERKATHI-PIPELINE_4-PYBDSM-COMBINED Source shape</b>",
          "x": 0.775,
          "xanchor": "center",
          "xref": "paper",
          "y": 0.1375,
          "yanchor": "bottom",
          "yref": "paper"
         }
        ],
        "height": 900,
        "legend": {
         "xanchor": true
        },
        "paper_bgcolor": "rgb(255,255,255)",
        "plot_bgcolor": "rgb(229,229,229)",
        "title": "",
        "width": 900,
        "xaxis1": {
         "anchor": "y1",
         "domain": [
          0,
          0.45
         ],
         "overlaying": "x",
         "position": 0,
         "title": "Input major axis[arcsec]",
         "titlefont": {
          "size": 14
         },
         "zeroline": false
        },
        "xaxis2": {
         "anchor": "y2",
         "domain": [
          0.55,
          1
         ],
         "title": "Input minor axis[arcsec]",
         "titlefont": {
          "size": 14
         },
         "zeroline": false
        },
        "xaxis3": {
         "anchor": "y3",
         "domain": [
          0,
          0.45
         ],
         "overlaying": "x",
         "position": 0,
         "title": "Input major axis[arcsec]",
         "titlefont": {
          "size": 14
         },
         "zeroline": false
        },
        "xaxis4": {
         "anchor": "y4",
         "domain": [
          0.55,
          1
         ],
         "title": "Input minor axis[arcsec]",
         "titlefont": {
          "size": 14
         },
         "zeroline": false
        },
        "xaxis5": {
         "anchor": "y5",
         "domain": [
          0,
          0.45
         ],
         "overlaying": "x",
         "position": 0,
         "title": "Input major axis[arcsec]",
         "titlefont": {
          "size": 14
         },
         "zeroline": false
        },
        "xaxis6": {
         "anchor": "y6",
         "domain": [
          0.55,
          1
         ],
         "title": "Input minor axis[arcsec]",
         "titlefont": {
          "size": 14
         },
         "zeroline": false
        },
        "xaxis7": {
         "anchor": "y7",
         "domain": [
          0,
          0.45
         ],
         "overlaying": "x",
         "position": 0,
         "title": "Input major axis[arcsec]",
         "titlefont": {
          "size": 14
         },
         "zeroline": false
        },
        "xaxis8": {
         "anchor": "y8",
         "domain": [
          0.55,
          1
         ],
         "title": "Input minor axis[arcsec]",
         "titlefont": {
          "size": 14
         },
         "zeroline": false
        },
        "yaxis1": {
         "anchor": "x1",
         "color": "rgb(0,0,0)",
         "domain": [
          0.8625,
          1
         ],
         "gridcolor": "rgb(255,255,255)",
         "showgrid": true,
         "showline": false,
         "showticklabels": true,
         "tickcolor": "rgb(51,153,225)",
         "tickfont": {
          "color": "rgb(0,0,0)",
          "size": 10
         },
         "ticks": "outside",
         "title": "Output major axis[arcsec]",
         "titlefont": {
          "size": 14
         },
         "zeroline": false
        },
        "yaxis2": {
         "anchor": "x2",
         "color": "rgb(0,0,0)",
         "domain": [
          0.8625,
          1
         ],
         "gridcolor": "rgb(255,255,255)",
         "showgrid": true,
         "showline": false,
         "showticklabels": true,
         "tickcolor": "rgb(51,153,225)",
         "tickfont": {
          "color": "rgb(0,0,0)",
          "size": 10
         },
         "ticks": "outside",
         "title": "Ouput minor axis[arcsec]",
         "titlefont": {
          "size": 14
         },
         "zeroline": false
        },
        "yaxis3": {
         "anchor": "x3",
         "color": "rgb(0,0,0)",
         "domain": [
          0.575,
          0.7124999999999999
         ],
         "gridcolor": "rgb(255,255,255)",
         "showgrid": true,
         "showline": false,
         "showticklabels": true,
         "tickcolor": "rgb(51,153,225)",
         "tickfont": {
          "color": "rgb(0,0,0)",
          "size": 10
         },
         "ticks": "outside",
         "title": "Output major axis[arcsec]",
         "titlefont": {
          "size": 14
         },
         "zeroline": false
        },
        "yaxis4": {
         "anchor": "x4",
         "color": "rgb(0,0,0)",
         "domain": [
          0.575,
          0.7124999999999999
         ],
         "gridcolor": "rgb(255,255,255)",
         "showgrid": true,
         "showline": false,
         "showticklabels": true,
         "tickcolor": "rgb(51,153,225)",
         "tickfont": {
          "color": "rgb(0,0,0)",
          "size": 10
         },
         "ticks": "outside",
         "title": "Ouput minor axis[arcsec]",
         "titlefont": {
          "size": 14
         },
         "zeroline": false
        },
        "yaxis5": {
         "anchor": "x5",
         "color": "rgb(0,0,0)",
         "domain": [
          0.2875,
          0.425
         ],
         "gridcolor": "rgb(255,255,255)",
         "showgrid": true,
         "showline": false,
         "showticklabels": true,
         "tickcolor": "rgb(51,153,225)",
         "tickfont": {
          "color": "rgb(0,0,0)",
          "size": 10
         },
         "ticks": "outside",
         "title": "Output major axis[arcsec]",
         "titlefont": {
          "size": 14
         },
         "zeroline": false
        },
        "yaxis6": {
         "anchor": "x6",
         "color": "rgb(0,0,0)",
         "domain": [
          0.2875,
          0.425
         ],
         "gridcolor": "rgb(255,255,255)",
         "showgrid": true,
         "showline": false,
         "showticklabels": true,
         "tickcolor": "rgb(51,153,225)",
         "tickfont": {
          "color": "rgb(0,0,0)",
          "size": 10
         },
         "ticks": "outside",
         "title": "Ouput minor axis[arcsec]",
         "titlefont": {
          "size": 14
         },
         "zeroline": false
        },
        "yaxis7": {
         "anchor": "x7",
         "color": "rgb(0,0,0)",
         "domain": [
          0,
          0.1375
         ],
         "gridcolor": "rgb(255,255,255)",
         "showgrid": true,
         "showline": false,
         "showticklabels": true,
         "tickcolor": "rgb(51,153,225)",
         "tickfont": {
          "color": "rgb(0,0,0)",
          "size": 10
         },
         "ticks": "outside",
         "title": "Output major axis[arcsec]",
         "titlefont": {
          "size": 14
         },
         "zeroline": false
        },
        "yaxis8": {
         "anchor": "x8",
         "color": "rgb(0,0,0)",
         "domain": [
          0,
          0.1375
         ],
         "gridcolor": "rgb(255,255,255)",
         "showgrid": true,
         "showline": false,
         "showticklabels": true,
         "tickcolor": "rgb(51,153,225)",
         "tickfont": {
          "color": "rgb(0,0,0)",
          "size": 10
         },
         "ticks": "outside",
         "title": "Ouput minor axis[arcsec]",
         "titlefont": {
          "size": 14
         },
         "zeroline": false
        }
       }
      },
      "text/html": [
       "<div id=\"af8f935a-4f1d-4721-846d-e40f842ee440\" style=\"height: 900px; width: 900px;\" class=\"plotly-graph-div\"></div><script type=\"text/javascript\">require([\"plotly\"], function(Plotly) { window.PLOTLYENV=window.PLOTLYENV || {};window.PLOTLYENV.BASE_URL=\"https://plot.ly\";Plotly.newPlot(\"af8f935a-4f1d-4721-846d-e40f842ee440\", [{\"showlegend\": false, \"error_y\": {\"color\": \"rgb(158, 63, 221)\", \"visible\": true, \"type\": \"data\"}, \"yaxis\": \"y1\", \"text\": [\"O305\", \"N315\", \"M304\", \"L053\", \"K182\", \"J344\", \"I014\", \"H002\", \"G013\", \"F131\", \"E122\", \"D282\", \"C331\", \"B033\", \"A030\"], \"marker\": {\"colorbar\": {\"titlefont\": {\"size\": 16}, \"titleside\": \"right\", \"title\": \"\"}, \"reversescale\": true, \"color\": [0.02423550022480019, 0.09844961544090038, 0.12543503608464196, 0.02066874854669746, 1.1948322140914134, 0.015333412150137598, 0.03644764600191469, 0.05208323598247721, 0.013094062946046578, 0.06146949230276085, 0.015461767418665182, 0.013801988539849661, 0.02634083823382786, 0.05041915094395033, 0.013171694151879701], \"showscale\": true, \"colorscale\": \"Viridis\"}, \"mode\": \"markers\", \"xaxis\": \"x1\", \"y\": [0, 0, 0, 0, 0, 0, 0, 0, 0, 0, 0, 0, 0, 0, 0], \"x\": [0, 0, 0, 0, 0, 0, 0, 0, 0, 0, 0, 0, 0, 0, 0], \"type\": \"scatter\", \"name\": \"meerkathi-pipeline_4-pybdsm-combined flux_ratio\"}, {\"showlegend\": false, \"error_y\": {\"color\": \"rgb(158, 63, 221)\", \"visible\": true, \"type\": \"data\"}, \"yaxis\": \"y2\", \"text\": [\"O305\", \"N315\", \"M304\", \"L053\", \"K182\", \"J344\", \"I014\", \"H002\", \"G013\", \"F131\", \"E122\", \"D282\", \"C331\", \"B033\", \"A030\"], \"marker\": {\"colorbar\": {\"titlefont\": {\"size\": 16}, \"titleside\": \"right\", \"title\": \"Distance from phase center\"}, \"reversescale\": true, \"color\": [0.02423550022480019, 0.09844961544090038, 0.12543503608464196, 0.02066874854669746, 1.1948322140914134, 0.015333412150137598, 0.03644764600191469, 0.05208323598247721, 0.013094062946046578, 0.06146949230276085, 0.015461767418665182, 0.013801988539849661, 0.02634083823382786, 0.05041915094395033, 0.013171694151879701], \"showscale\": true, \"colorscale\": \"Viridis\"}, \"mode\": \"markers\", \"xaxis\": \"x2\", \"y\": [0, 0, 0, 0, 0, 0, 0, 0, 0, 0, 0, 0, 0, 0, 0], \"x\": [0, 0, 0, 0, 0, 0, 0, 0, 0, 0, 0, 0, 0, 0, 0], \"type\": \"scatter\", \"name\": \"meerkathi-pipeline_4-pybdsm-combined flux_ratio\"}, {\"showlegend\": false, \"error_y\": {\"color\": \"rgb(158, 63, 221)\", \"visible\": true, \"type\": \"data\"}, \"yaxis\": \"y3\", \"text\": [\"O305\", \"N315\", \"M304\", \"L053\", \"K182\", \"J344\", \"I014\", \"H002\", \"G013\", \"F131\", \"E122\", \"D282\", \"C331\", \"B033\", \"A030\"], \"marker\": {\"reversescale\": true, \"color\": [0.02423550022480019, 0.09844961544090038, 0.12543503608464196, 0.02066874854669746, 1.1948322140914134, 0.015333412150137598, 0.03644764600191469, 0.05208323598247721, 0.013094062946046578, 0.06146949230276085, 0.015461767418665182, 0.013801988539849661, 0.02634083823382786, 0.05041915094395033, 0.013171694151879701], \"colorscale\": \"Viridis\"}, \"mode\": \"markers\", \"xaxis\": \"x3\", \"y\": [0, 0, 0, 0, 0, 0, 0, 0, 0, 0, 0, 0, 0, 0, 0], \"x\": [0, 0, 0, 0, 0, 0, 0, 0, 0, 0, 0, 0, 0, 0, 0], \"type\": \"scatter\", \"name\": \"meerkathi-pipeline_4-pybdsm-combined flux_ratio\"}, {\"showlegend\": false, \"error_y\": {\"color\": \"rgb(158, 63, 221)\", \"visible\": true, \"type\": \"data\"}, \"yaxis\": \"y4\", \"text\": [\"O305\", \"N315\", \"M304\", \"L053\", \"K182\", \"J344\", \"I014\", \"H002\", \"G013\", \"F131\", \"E122\", \"D282\", \"C331\", \"B033\", \"A030\"], \"marker\": {\"reversescale\": true, \"color\": [2897.725329546359, 1024.453877025326, 2041.204377053077, 2882.0580143118127, 393.3460849083838, 1818.152075742431, 2263.968656509504, 1588.101150578869, 3221.22110161112, 1201.3983112535664, 1340.6754496697713, 2459.1599968024816, 1505.082124013398, 641.8333586067981, 3443.888522462859], \"colorscale\": \"Viridis\"}, \"mode\": \"markers\", \"xaxis\": \"x4\", \"y\": [0, 0, 0, 0, 0, 0, 0, 0, 0, 0, 0, 0, 0, 0, 0], \"x\": [0, 0, 0, 0, 0, 0, 0, 0, 0, 0, 0, 0, 0, 0, 0], \"type\": \"scatter\", \"name\": \"meerkathi-pipeline_4-pybdsm-combined flux_ratio\"}, {\"showlegend\": false, \"error_y\": {\"color\": \"rgb(158, 63, 221)\", \"visible\": true, \"type\": \"data\"}, \"yaxis\": \"y5\", \"text\": [\"O305\", \"N315\", \"M304\", \"L053\", \"K182\", \"J344\", \"I014\", \"H002\", \"G013\", \"F131\", \"E122\", \"D282\", \"C331\", \"B033\", \"A030\"], \"marker\": {\"reversescale\": true, \"color\": [0.02423550022480019, 0.09844961544090038, 0.12543503608464196, 0.02066874854669746, 1.1948322140914134, 0.015333412150137598, 0.03644764600191469, 0.05208323598247721, 0.013094062946046578, 0.06146949230276085, 0.015461767418665182, 0.013801988539849661, 0.02634083823382786, 0.05041915094395033, 0.013171694151879701], \"colorscale\": \"Viridis\"}, \"mode\": \"markers\", \"xaxis\": \"x5\", \"y\": [0, 0, 0, 0, 0, 0, 0, 0, 0, 0, 0, 0, 0, 0, 0], \"x\": [0, 0, 0, 0, 0, 0, 0, 0, 0, 0, 0, 0, 0, 0, 0], \"type\": \"scatter\", \"name\": \"meerkathi-pipeline_4-pybdsm-combined flux_ratio\"}, {\"showlegend\": false, \"error_y\": {\"color\": \"rgb(158, 63, 221)\", \"visible\": true, \"type\": \"data\"}, \"yaxis\": \"y6\", \"text\": [\"O305\", \"N315\", \"M304\", \"L053\", \"K182\", \"J344\", \"I014\", \"H002\", \"G013\", \"F131\", \"E122\", \"D282\", \"C331\", \"B033\", \"A030\"], \"marker\": {\"reversescale\": true, \"color\": [2897.725329546359, 1024.453877025326, 2041.204377053077, 2882.0580143118127, 393.3460849083838, 1818.152075742431, 2263.968656509504, 1588.101150578869, 3221.22110161112, 1201.3983112535664, 1340.6754496697713, 2459.1599968024816, 1505.082124013398, 641.8333586067981, 3443.888522462859], \"colorscale\": \"Viridis\"}, \"mode\": \"markers\", \"xaxis\": \"x6\", \"y\": [0, 0, 0, 0, 0, 0, 0, 0, 0, 0, 0, 0, 0, 0, 0], \"x\": [0, 0, 0, 0, 0, 0, 0, 0, 0, 0, 0, 0, 0, 0, 0], \"type\": \"scatter\", \"name\": \"meerkathi-pipeline_4-pybdsm-combined flux_ratio\"}, {\"showlegend\": false, \"error_y\": {\"color\": \"rgb(158, 63, 221)\", \"visible\": true, \"type\": \"data\"}, \"yaxis\": \"y7\", \"text\": [\"O305\", \"N315\", \"M304\", \"L053\", \"K182\", \"J344\", \"I014\", \"H002\", \"G013\", \"F131\", \"E122\", \"D282\", \"C331\", \"B033\", \"A030\"], \"marker\": {\"reversescale\": true, \"color\": [0.02423550022480019, 0.09844961544090038, 0.12543503608464196, 0.02066874854669746, 1.1948322140914134, 0.015333412150137598, 0.03644764600191469, 0.05208323598247721, 0.013094062946046578, 0.06146949230276085, 0.015461767418665182, 0.013801988539849661, 0.02634083823382786, 0.05041915094395033, 0.013171694151879701], \"colorscale\": \"Viridis\"}, \"mode\": \"markers\", \"xaxis\": \"x7\", \"y\": [0, 0, 0, 0, 0, 0, 0, 0, 0, 0, 0, 0, 0, 0, 0], \"x\": [0, 0, 0, 0, 0, 0, 0, 0, 0, 0, 0, 0, 0, 0, 0], \"type\": \"scatter\", \"name\": \"meerkathi-pipeline_4-pybdsm-combined flux_ratio\"}, {\"showlegend\": false, \"error_y\": {\"color\": \"rgb(158, 63, 221)\", \"visible\": true, \"type\": \"data\"}, \"yaxis\": \"y8\", \"text\": [\"O305\", \"N315\", \"M304\", \"L053\", \"K182\", \"J344\", \"I014\", \"H002\", \"G013\", \"F131\", \"E122\", \"D282\", \"C331\", \"B033\", \"A030\"], \"marker\": {\"reversescale\": true, \"color\": [2897.725329546359, 1024.453877025326, 2041.204377053077, 2882.0580143118127, 393.3460849083838, 1818.152075742431, 2263.968656509504, 1588.101150578869, 3221.22110161112, 1201.3983112535664, 1340.6754496697713, 2459.1599968024816, 1505.082124013398, 641.8333586067981, 3443.888522462859], \"colorscale\": \"Viridis\"}, \"mode\": \"markers\", \"xaxis\": \"x8\", \"y\": [0, 0, 0, 0, 0, 0, 0, 0, 0, 0, 0, 0, 0, 0, 0], \"x\": [0, 0, 0, 0, 0, 0, 0, 0, 0, 0, 0, 0, 0, 0, 0], \"type\": \"scatter\", \"name\": \"meerkathi-pipeline_4-pybdsm-combined flux_ratio\"}], {\"paper_bgcolor\": \"rgb(255,255,255)\", \"height\": 900, \"yaxis1\": {\"tickfont\": {\"color\": \"rgb(0,0,0)\", \"size\": 10}, \"domain\": [0.8625, 1.0], \"showticklabels\": true, \"title\": \"Output major axis[arcsec]\", \"color\": \"rgb(0,0,0)\", \"ticks\": \"outside\", \"showgrid\": true, \"titlefont\": {\"size\": 14}, \"showline\": false, \"zeroline\": false, \"tickcolor\": \"rgb(51,153,225)\", \"gridcolor\": \"rgb(255,255,255)\", \"anchor\": \"x1\"}, \"yaxis2\": {\"tickfont\": {\"color\": \"rgb(0,0,0)\", \"size\": 10}, \"domain\": [0.8625, 1.0], \"showticklabels\": true, \"title\": \"Ouput minor axis[arcsec]\", \"color\": \"rgb(0,0,0)\", \"ticks\": \"outside\", \"showgrid\": true, \"titlefont\": {\"size\": 14}, \"showline\": false, \"zeroline\": false, \"tickcolor\": \"rgb(51,153,225)\", \"gridcolor\": \"rgb(255,255,255)\", \"anchor\": \"x2\"}, \"yaxis3\": {\"tickfont\": {\"color\": \"rgb(0,0,0)\", \"size\": 10}, \"domain\": [0.575, 0.7124999999999999], \"showticklabels\": true, \"title\": \"Output major axis[arcsec]\", \"color\": \"rgb(0,0,0)\", \"ticks\": \"outside\", \"showgrid\": true, \"titlefont\": {\"size\": 14}, \"showline\": false, \"zeroline\": false, \"tickcolor\": \"rgb(51,153,225)\", \"gridcolor\": \"rgb(255,255,255)\", \"anchor\": \"x3\"}, \"yaxis4\": {\"tickfont\": {\"color\": \"rgb(0,0,0)\", \"size\": 10}, \"domain\": [0.575, 0.7124999999999999], \"showticklabels\": true, \"title\": \"Ouput minor axis[arcsec]\", \"color\": \"rgb(0,0,0)\", \"ticks\": \"outside\", \"showgrid\": true, \"titlefont\": {\"size\": 14}, \"showline\": false, \"zeroline\": false, \"tickcolor\": \"rgb(51,153,225)\", \"gridcolor\": \"rgb(255,255,255)\", \"anchor\": \"x4\"}, \"yaxis5\": {\"tickfont\": {\"color\": \"rgb(0,0,0)\", \"size\": 10}, \"domain\": [0.2875, 0.425], \"showticklabels\": true, \"title\": \"Output major axis[arcsec]\", \"color\": \"rgb(0,0,0)\", \"ticks\": \"outside\", \"showgrid\": true, \"titlefont\": {\"size\": 14}, \"showline\": false, \"zeroline\": false, \"tickcolor\": \"rgb(51,153,225)\", \"gridcolor\": \"rgb(255,255,255)\", \"anchor\": \"x5\"}, \"yaxis6\": {\"tickfont\": {\"color\": \"rgb(0,0,0)\", \"size\": 10}, \"domain\": [0.2875, 0.425], \"showticklabels\": true, \"title\": \"Ouput minor axis[arcsec]\", \"color\": \"rgb(0,0,0)\", \"ticks\": \"outside\", \"showgrid\": true, \"titlefont\": {\"size\": 14}, \"showline\": false, \"zeroline\": false, \"tickcolor\": \"rgb(51,153,225)\", \"gridcolor\": \"rgb(255,255,255)\", \"anchor\": \"x6\"}, \"yaxis7\": {\"tickfont\": {\"color\": \"rgb(0,0,0)\", \"size\": 10}, \"domain\": [0.0, 0.1375], \"showticklabels\": true, \"title\": \"Output major axis[arcsec]\", \"color\": \"rgb(0,0,0)\", \"ticks\": \"outside\", \"showgrid\": true, \"titlefont\": {\"size\": 14}, \"showline\": false, \"zeroline\": false, \"tickcolor\": \"rgb(51,153,225)\", \"gridcolor\": \"rgb(255,255,255)\", \"anchor\": \"x7\"}, \"yaxis8\": {\"tickfont\": {\"color\": \"rgb(0,0,0)\", \"size\": 10}, \"domain\": [0.0, 0.1375], \"showticklabels\": true, \"title\": \"Ouput minor axis[arcsec]\", \"color\": \"rgb(0,0,0)\", \"ticks\": \"outside\", \"showgrid\": true, \"titlefont\": {\"size\": 14}, \"showline\": false, \"zeroline\": false, \"tickcolor\": \"rgb(51,153,225)\", \"gridcolor\": \"rgb(255,255,255)\", \"anchor\": \"x8\"}, \"title\": \"\", \"plot_bgcolor\": \"rgb(229,229,229)\", \"width\": 900, \"annotations\": [{\"yanchor\": \"bottom\", \"xref\": \"paper\", \"xanchor\": \"center\", \"yref\": \"paper\", \"text\": \"<b>MEERKATHI-PIPELINE_3-PYBDSM-COMBINED Source shape</b>\", \"y\": 1.0, \"x\": 0.225, \"font\": {\"size\": 12}, \"showarrow\": false}, {\"yanchor\": \"bottom\", \"xref\": \"paper\", \"xanchor\": \"center\", \"yref\": \"paper\", \"text\": \"<b>MEERKATHI-PIPELINE_3-PYBDSM-COMBINED Source shape</b>\", \"y\": 1.0, \"x\": 0.775, \"font\": {\"size\": 12}, \"showarrow\": false}, {\"yanchor\": \"bottom\", \"xref\": \"paper\", \"xanchor\": \"center\", \"yref\": \"paper\", \"text\": \"<b>MEERKATHI-PIPELINE_2-PYBDSM Source shape</b>\", \"y\": 0.7124999999999999, \"x\": 0.225, \"font\": {\"size\": 12}, \"showarrow\": false}, {\"yanchor\": \"bottom\", \"xref\": \"paper\", \"xanchor\": \"center\", \"yref\": \"paper\", \"text\": \"<b>MEERKATHI-PIPELINE_2-PYBDSM Source shape</b>\", \"y\": 0.7124999999999999, \"x\": 0.775, \"font\": {\"size\": 12}, \"showarrow\": false}, {\"yanchor\": \"bottom\", \"xref\": \"paper\", \"xanchor\": \"center\", \"yref\": \"paper\", \"text\": \"<b>MEERKATHI-PIPELINE_1-PYBDSM Source shape</b>\", \"y\": 0.425, \"x\": 0.225, \"font\": {\"size\": 12}, \"showarrow\": false}, {\"yanchor\": \"bottom\", \"xref\": \"paper\", \"xanchor\": \"center\", \"yref\": \"paper\", \"text\": \"<b>MEERKATHI-PIPELINE_1-PYBDSM Source shape</b>\", \"y\": 0.425, \"x\": 0.775, \"font\": {\"size\": 12}, \"showarrow\": false}, {\"yanchor\": \"bottom\", \"xref\": \"paper\", \"xanchor\": \"center\", \"yref\": \"paper\", \"text\": \"<b>MEERKATHI-PIPELINE_4-PYBDSM-COMBINED Source shape</b>\", \"y\": 0.1375, \"x\": 0.225, \"font\": {\"size\": 12}, \"showarrow\": false}, {\"yanchor\": \"bottom\", \"xref\": \"paper\", \"xanchor\": \"center\", \"yref\": \"paper\", \"text\": \"<b>MEERKATHI-PIPELINE_4-PYBDSM-COMBINED Source shape</b>\", \"y\": 0.1375, \"x\": 0.775, \"font\": {\"size\": 12}, \"showarrow\": false}], \"legend\": {\"xanchor\": true}, \"xaxis8\": {\"zeroline\": false, \"domain\": [0.55, 1.0], \"titlefont\": {\"size\": 14}, \"anchor\": \"y8\", \"title\": \"Input minor axis[arcsec]\"}, \"xaxis7\": {\"domain\": [0.0, 0.45], \"title\": \"Input major axis[arcsec]\", \"overlaying\": \"x\", \"titlefont\": {\"size\": 14}, \"zeroline\": false, \"position\": 0.0, \"anchor\": \"y7\"}, \"xaxis6\": {\"zeroline\": false, \"domain\": [0.55, 1.0], \"titlefont\": {\"size\": 14}, \"anchor\": \"y6\", \"title\": \"Input minor axis[arcsec]\"}, \"xaxis5\": {\"domain\": [0.0, 0.45], \"title\": \"Input major axis[arcsec]\", \"overlaying\": \"x\", \"titlefont\": {\"size\": 14}, \"zeroline\": false, \"position\": 0.0, \"anchor\": \"y5\"}, \"xaxis4\": {\"zeroline\": false, \"domain\": [0.55, 1.0], \"titlefont\": {\"size\": 14}, \"anchor\": \"y4\", \"title\": \"Input minor axis[arcsec]\"}, \"xaxis3\": {\"domain\": [0.0, 0.45], \"title\": \"Input major axis[arcsec]\", \"overlaying\": \"x\", \"titlefont\": {\"size\": 14}, \"zeroline\": false, \"position\": 0.0, \"anchor\": \"y3\"}, \"xaxis2\": {\"zeroline\": false, \"domain\": [0.55, 1.0], \"titlefont\": {\"size\": 14}, \"anchor\": \"y2\", \"title\": \"Input minor axis[arcsec]\"}, \"xaxis1\": {\"domain\": [0.0, 0.45], \"title\": \"Input major axis[arcsec]\", \"overlaying\": \"x\", \"titlefont\": {\"size\": 14}, \"zeroline\": false, \"position\": 0.0, \"anchor\": \"y1\"}}, {\"linkText\": \"Export to plot.ly\", \"showLink\": true})});</script>"
      ],
      "text/vnd.plotly.v1+html": [
       "<div id=\"af8f935a-4f1d-4721-846d-e40f842ee440\" style=\"height: 900px; width: 900px;\" class=\"plotly-graph-div\"></div><script type=\"text/javascript\">require([\"plotly\"], function(Plotly) { window.PLOTLYENV=window.PLOTLYENV || {};window.PLOTLYENV.BASE_URL=\"https://plot.ly\";Plotly.newPlot(\"af8f935a-4f1d-4721-846d-e40f842ee440\", [{\"showlegend\": false, \"error_y\": {\"color\": \"rgb(158, 63, 221)\", \"visible\": true, \"type\": \"data\"}, \"yaxis\": \"y1\", \"text\": [\"O305\", \"N315\", \"M304\", \"L053\", \"K182\", \"J344\", \"I014\", \"H002\", \"G013\", \"F131\", \"E122\", \"D282\", \"C331\", \"B033\", \"A030\"], \"marker\": {\"colorbar\": {\"titlefont\": {\"size\": 16}, \"titleside\": \"right\", \"title\": \"\"}, \"reversescale\": true, \"color\": [0.02423550022480019, 0.09844961544090038, 0.12543503608464196, 0.02066874854669746, 1.1948322140914134, 0.015333412150137598, 0.03644764600191469, 0.05208323598247721, 0.013094062946046578, 0.06146949230276085, 0.015461767418665182, 0.013801988539849661, 0.02634083823382786, 0.05041915094395033, 0.013171694151879701], \"showscale\": true, \"colorscale\": \"Viridis\"}, \"mode\": \"markers\", \"xaxis\": \"x1\", \"y\": [0, 0, 0, 0, 0, 0, 0, 0, 0, 0, 0, 0, 0, 0, 0], \"x\": [0, 0, 0, 0, 0, 0, 0, 0, 0, 0, 0, 0, 0, 0, 0], \"type\": \"scatter\", \"name\": \"meerkathi-pipeline_4-pybdsm-combined flux_ratio\"}, {\"showlegend\": false, \"error_y\": {\"color\": \"rgb(158, 63, 221)\", \"visible\": true, \"type\": \"data\"}, \"yaxis\": \"y2\", \"text\": [\"O305\", \"N315\", \"M304\", \"L053\", \"K182\", \"J344\", \"I014\", \"H002\", \"G013\", \"F131\", \"E122\", \"D282\", \"C331\", \"B033\", \"A030\"], \"marker\": {\"colorbar\": {\"titlefont\": {\"size\": 16}, \"titleside\": \"right\", \"title\": \"Distance from phase center\"}, \"reversescale\": true, \"color\": [0.02423550022480019, 0.09844961544090038, 0.12543503608464196, 0.02066874854669746, 1.1948322140914134, 0.015333412150137598, 0.03644764600191469, 0.05208323598247721, 0.013094062946046578, 0.06146949230276085, 0.015461767418665182, 0.013801988539849661, 0.02634083823382786, 0.05041915094395033, 0.013171694151879701], \"showscale\": true, \"colorscale\": \"Viridis\"}, \"mode\": \"markers\", \"xaxis\": \"x2\", \"y\": [0, 0, 0, 0, 0, 0, 0, 0, 0, 0, 0, 0, 0, 0, 0], \"x\": [0, 0, 0, 0, 0, 0, 0, 0, 0, 0, 0, 0, 0, 0, 0], \"type\": \"scatter\", \"name\": \"meerkathi-pipeline_4-pybdsm-combined flux_ratio\"}, {\"showlegend\": false, \"error_y\": {\"color\": \"rgb(158, 63, 221)\", \"visible\": true, \"type\": \"data\"}, \"yaxis\": \"y3\", \"text\": [\"O305\", \"N315\", \"M304\", \"L053\", \"K182\", \"J344\", \"I014\", \"H002\", \"G013\", \"F131\", \"E122\", \"D282\", \"C331\", \"B033\", \"A030\"], \"marker\": {\"reversescale\": true, \"color\": [0.02423550022480019, 0.09844961544090038, 0.12543503608464196, 0.02066874854669746, 1.1948322140914134, 0.015333412150137598, 0.03644764600191469, 0.05208323598247721, 0.013094062946046578, 0.06146949230276085, 0.015461767418665182, 0.013801988539849661, 0.02634083823382786, 0.05041915094395033, 0.013171694151879701], \"colorscale\": \"Viridis\"}, \"mode\": \"markers\", \"xaxis\": \"x3\", \"y\": [0, 0, 0, 0, 0, 0, 0, 0, 0, 0, 0, 0, 0, 0, 0], \"x\": [0, 0, 0, 0, 0, 0, 0, 0, 0, 0, 0, 0, 0, 0, 0], \"type\": \"scatter\", \"name\": \"meerkathi-pipeline_4-pybdsm-combined flux_ratio\"}, {\"showlegend\": false, \"error_y\": {\"color\": \"rgb(158, 63, 221)\", \"visible\": true, \"type\": \"data\"}, \"yaxis\": \"y4\", \"text\": [\"O305\", \"N315\", \"M304\", \"L053\", \"K182\", \"J344\", \"I014\", \"H002\", \"G013\", \"F131\", \"E122\", \"D282\", \"C331\", \"B033\", \"A030\"], \"marker\": {\"reversescale\": true, \"color\": [2897.725329546359, 1024.453877025326, 2041.204377053077, 2882.0580143118127, 393.3460849083838, 1818.152075742431, 2263.968656509504, 1588.101150578869, 3221.22110161112, 1201.3983112535664, 1340.6754496697713, 2459.1599968024816, 1505.082124013398, 641.8333586067981, 3443.888522462859], \"colorscale\": \"Viridis\"}, \"mode\": \"markers\", \"xaxis\": \"x4\", \"y\": [0, 0, 0, 0, 0, 0, 0, 0, 0, 0, 0, 0, 0, 0, 0], \"x\": [0, 0, 0, 0, 0, 0, 0, 0, 0, 0, 0, 0, 0, 0, 0], \"type\": \"scatter\", \"name\": \"meerkathi-pipeline_4-pybdsm-combined flux_ratio\"}, {\"showlegend\": false, \"error_y\": {\"color\": \"rgb(158, 63, 221)\", \"visible\": true, \"type\": \"data\"}, \"yaxis\": \"y5\", \"text\": [\"O305\", \"N315\", \"M304\", \"L053\", \"K182\", \"J344\", \"I014\", \"H002\", \"G013\", \"F131\", \"E122\", \"D282\", \"C331\", \"B033\", \"A030\"], \"marker\": {\"reversescale\": true, \"color\": [0.02423550022480019, 0.09844961544090038, 0.12543503608464196, 0.02066874854669746, 1.1948322140914134, 0.015333412150137598, 0.03644764600191469, 0.05208323598247721, 0.013094062946046578, 0.06146949230276085, 0.015461767418665182, 0.013801988539849661, 0.02634083823382786, 0.05041915094395033, 0.013171694151879701], \"colorscale\": \"Viridis\"}, \"mode\": \"markers\", \"xaxis\": \"x5\", \"y\": [0, 0, 0, 0, 0, 0, 0, 0, 0, 0, 0, 0, 0, 0, 0], \"x\": [0, 0, 0, 0, 0, 0, 0, 0, 0, 0, 0, 0, 0, 0, 0], \"type\": \"scatter\", \"name\": \"meerkathi-pipeline_4-pybdsm-combined flux_ratio\"}, {\"showlegend\": false, \"error_y\": {\"color\": \"rgb(158, 63, 221)\", \"visible\": true, \"type\": \"data\"}, \"yaxis\": \"y6\", \"text\": [\"O305\", \"N315\", \"M304\", \"L053\", \"K182\", \"J344\", \"I014\", \"H002\", \"G013\", \"F131\", \"E122\", \"D282\", \"C331\", \"B033\", \"A030\"], \"marker\": {\"reversescale\": true, \"color\": [2897.725329546359, 1024.453877025326, 2041.204377053077, 2882.0580143118127, 393.3460849083838, 1818.152075742431, 2263.968656509504, 1588.101150578869, 3221.22110161112, 1201.3983112535664, 1340.6754496697713, 2459.1599968024816, 1505.082124013398, 641.8333586067981, 3443.888522462859], \"colorscale\": \"Viridis\"}, \"mode\": \"markers\", \"xaxis\": \"x6\", \"y\": [0, 0, 0, 0, 0, 0, 0, 0, 0, 0, 0, 0, 0, 0, 0], \"x\": [0, 0, 0, 0, 0, 0, 0, 0, 0, 0, 0, 0, 0, 0, 0], \"type\": \"scatter\", \"name\": \"meerkathi-pipeline_4-pybdsm-combined flux_ratio\"}, {\"showlegend\": false, \"error_y\": {\"color\": \"rgb(158, 63, 221)\", \"visible\": true, \"type\": \"data\"}, \"yaxis\": \"y7\", \"text\": [\"O305\", \"N315\", \"M304\", \"L053\", \"K182\", \"J344\", \"I014\", \"H002\", \"G013\", \"F131\", \"E122\", \"D282\", \"C331\", \"B033\", \"A030\"], \"marker\": {\"reversescale\": true, \"color\": [0.02423550022480019, 0.09844961544090038, 0.12543503608464196, 0.02066874854669746, 1.1948322140914134, 0.015333412150137598, 0.03644764600191469, 0.05208323598247721, 0.013094062946046578, 0.06146949230276085, 0.015461767418665182, 0.013801988539849661, 0.02634083823382786, 0.05041915094395033, 0.013171694151879701], \"colorscale\": \"Viridis\"}, \"mode\": \"markers\", \"xaxis\": \"x7\", \"y\": [0, 0, 0, 0, 0, 0, 0, 0, 0, 0, 0, 0, 0, 0, 0], \"x\": [0, 0, 0, 0, 0, 0, 0, 0, 0, 0, 0, 0, 0, 0, 0], \"type\": \"scatter\", \"name\": \"meerkathi-pipeline_4-pybdsm-combined flux_ratio\"}, {\"showlegend\": false, \"error_y\": {\"color\": \"rgb(158, 63, 221)\", \"visible\": true, \"type\": \"data\"}, \"yaxis\": \"y8\", \"text\": [\"O305\", \"N315\", \"M304\", \"L053\", \"K182\", \"J344\", \"I014\", \"H002\", \"G013\", \"F131\", \"E122\", \"D282\", \"C331\", \"B033\", \"A030\"], \"marker\": {\"reversescale\": true, \"color\": [2897.725329546359, 1024.453877025326, 2041.204377053077, 2882.0580143118127, 393.3460849083838, 1818.152075742431, 2263.968656509504, 1588.101150578869, 3221.22110161112, 1201.3983112535664, 1340.6754496697713, 2459.1599968024816, 1505.082124013398, 641.8333586067981, 3443.888522462859], \"colorscale\": \"Viridis\"}, \"mode\": \"markers\", \"xaxis\": \"x8\", \"y\": [0, 0, 0, 0, 0, 0, 0, 0, 0, 0, 0, 0, 0, 0, 0], \"x\": [0, 0, 0, 0, 0, 0, 0, 0, 0, 0, 0, 0, 0, 0, 0], \"type\": \"scatter\", \"name\": \"meerkathi-pipeline_4-pybdsm-combined flux_ratio\"}], {\"paper_bgcolor\": \"rgb(255,255,255)\", \"height\": 900, \"yaxis1\": {\"tickfont\": {\"color\": \"rgb(0,0,0)\", \"size\": 10}, \"domain\": [0.8625, 1.0], \"showticklabels\": true, \"title\": \"Output major axis[arcsec]\", \"color\": \"rgb(0,0,0)\", \"ticks\": \"outside\", \"showgrid\": true, \"titlefont\": {\"size\": 14}, \"showline\": false, \"zeroline\": false, \"tickcolor\": \"rgb(51,153,225)\", \"gridcolor\": \"rgb(255,255,255)\", \"anchor\": \"x1\"}, \"yaxis2\": {\"tickfont\": {\"color\": \"rgb(0,0,0)\", \"size\": 10}, \"domain\": [0.8625, 1.0], \"showticklabels\": true, \"title\": \"Ouput minor axis[arcsec]\", \"color\": \"rgb(0,0,0)\", \"ticks\": \"outside\", \"showgrid\": true, \"titlefont\": {\"size\": 14}, \"showline\": false, \"zeroline\": false, \"tickcolor\": \"rgb(51,153,225)\", \"gridcolor\": \"rgb(255,255,255)\", \"anchor\": \"x2\"}, \"yaxis3\": {\"tickfont\": {\"color\": \"rgb(0,0,0)\", \"size\": 10}, \"domain\": [0.575, 0.7124999999999999], \"showticklabels\": true, \"title\": \"Output major axis[arcsec]\", \"color\": \"rgb(0,0,0)\", \"ticks\": \"outside\", \"showgrid\": true, \"titlefont\": {\"size\": 14}, \"showline\": false, \"zeroline\": false, \"tickcolor\": \"rgb(51,153,225)\", \"gridcolor\": \"rgb(255,255,255)\", \"anchor\": \"x3\"}, \"yaxis4\": {\"tickfont\": {\"color\": \"rgb(0,0,0)\", \"size\": 10}, \"domain\": [0.575, 0.7124999999999999], \"showticklabels\": true, \"title\": \"Ouput minor axis[arcsec]\", \"color\": \"rgb(0,0,0)\", \"ticks\": \"outside\", \"showgrid\": true, \"titlefont\": {\"size\": 14}, \"showline\": false, \"zeroline\": false, \"tickcolor\": \"rgb(51,153,225)\", \"gridcolor\": \"rgb(255,255,255)\", \"anchor\": \"x4\"}, \"yaxis5\": {\"tickfont\": {\"color\": \"rgb(0,0,0)\", \"size\": 10}, \"domain\": [0.2875, 0.425], \"showticklabels\": true, \"title\": \"Output major axis[arcsec]\", \"color\": \"rgb(0,0,0)\", \"ticks\": \"outside\", \"showgrid\": true, \"titlefont\": {\"size\": 14}, \"showline\": false, \"zeroline\": false, \"tickcolor\": \"rgb(51,153,225)\", \"gridcolor\": \"rgb(255,255,255)\", \"anchor\": \"x5\"}, \"yaxis6\": {\"tickfont\": {\"color\": \"rgb(0,0,0)\", \"size\": 10}, \"domain\": [0.2875, 0.425], \"showticklabels\": true, \"title\": \"Ouput minor axis[arcsec]\", \"color\": \"rgb(0,0,0)\", \"ticks\": \"outside\", \"showgrid\": true, \"titlefont\": {\"size\": 14}, \"showline\": false, \"zeroline\": false, \"tickcolor\": \"rgb(51,153,225)\", \"gridcolor\": \"rgb(255,255,255)\", \"anchor\": \"x6\"}, \"yaxis7\": {\"tickfont\": {\"color\": \"rgb(0,0,0)\", \"size\": 10}, \"domain\": [0.0, 0.1375], \"showticklabels\": true, \"title\": \"Output major axis[arcsec]\", \"color\": \"rgb(0,0,0)\", \"ticks\": \"outside\", \"showgrid\": true, \"titlefont\": {\"size\": 14}, \"showline\": false, \"zeroline\": false, \"tickcolor\": \"rgb(51,153,225)\", \"gridcolor\": \"rgb(255,255,255)\", \"anchor\": \"x7\"}, \"yaxis8\": {\"tickfont\": {\"color\": \"rgb(0,0,0)\", \"size\": 10}, \"domain\": [0.0, 0.1375], \"showticklabels\": true, \"title\": \"Ouput minor axis[arcsec]\", \"color\": \"rgb(0,0,0)\", \"ticks\": \"outside\", \"showgrid\": true, \"titlefont\": {\"size\": 14}, \"showline\": false, \"zeroline\": false, \"tickcolor\": \"rgb(51,153,225)\", \"gridcolor\": \"rgb(255,255,255)\", \"anchor\": \"x8\"}, \"title\": \"\", \"plot_bgcolor\": \"rgb(229,229,229)\", \"width\": 900, \"annotations\": [{\"yanchor\": \"bottom\", \"xref\": \"paper\", \"xanchor\": \"center\", \"yref\": \"paper\", \"text\": \"<b>MEERKATHI-PIPELINE_3-PYBDSM-COMBINED Source shape</b>\", \"y\": 1.0, \"x\": 0.225, \"font\": {\"size\": 12}, \"showarrow\": false}, {\"yanchor\": \"bottom\", \"xref\": \"paper\", \"xanchor\": \"center\", \"yref\": \"paper\", \"text\": \"<b>MEERKATHI-PIPELINE_3-PYBDSM-COMBINED Source shape</b>\", \"y\": 1.0, \"x\": 0.775, \"font\": {\"size\": 12}, \"showarrow\": false}, {\"yanchor\": \"bottom\", \"xref\": \"paper\", \"xanchor\": \"center\", \"yref\": \"paper\", \"text\": \"<b>MEERKATHI-PIPELINE_2-PYBDSM Source shape</b>\", \"y\": 0.7124999999999999, \"x\": 0.225, \"font\": {\"size\": 12}, \"showarrow\": false}, {\"yanchor\": \"bottom\", \"xref\": \"paper\", \"xanchor\": \"center\", \"yref\": \"paper\", \"text\": \"<b>MEERKATHI-PIPELINE_2-PYBDSM Source shape</b>\", \"y\": 0.7124999999999999, \"x\": 0.775, \"font\": {\"size\": 12}, \"showarrow\": false}, {\"yanchor\": \"bottom\", \"xref\": \"paper\", \"xanchor\": \"center\", \"yref\": \"paper\", \"text\": \"<b>MEERKATHI-PIPELINE_1-PYBDSM Source shape</b>\", \"y\": 0.425, \"x\": 0.225, \"font\": {\"size\": 12}, \"showarrow\": false}, {\"yanchor\": \"bottom\", \"xref\": \"paper\", \"xanchor\": \"center\", \"yref\": \"paper\", \"text\": \"<b>MEERKATHI-PIPELINE_1-PYBDSM Source shape</b>\", \"y\": 0.425, \"x\": 0.775, \"font\": {\"size\": 12}, \"showarrow\": false}, {\"yanchor\": \"bottom\", \"xref\": \"paper\", \"xanchor\": \"center\", \"yref\": \"paper\", \"text\": \"<b>MEERKATHI-PIPELINE_4-PYBDSM-COMBINED Source shape</b>\", \"y\": 0.1375, \"x\": 0.225, \"font\": {\"size\": 12}, \"showarrow\": false}, {\"yanchor\": \"bottom\", \"xref\": \"paper\", \"xanchor\": \"center\", \"yref\": \"paper\", \"text\": \"<b>MEERKATHI-PIPELINE_4-PYBDSM-COMBINED Source shape</b>\", \"y\": 0.1375, \"x\": 0.775, \"font\": {\"size\": 12}, \"showarrow\": false}], \"legend\": {\"xanchor\": true}, \"xaxis8\": {\"zeroline\": false, \"domain\": [0.55, 1.0], \"titlefont\": {\"size\": 14}, \"anchor\": \"y8\", \"title\": \"Input minor axis[arcsec]\"}, \"xaxis7\": {\"domain\": [0.0, 0.45], \"title\": \"Input major axis[arcsec]\", \"overlaying\": \"x\", \"titlefont\": {\"size\": 14}, \"zeroline\": false, \"position\": 0.0, \"anchor\": \"y7\"}, \"xaxis6\": {\"zeroline\": false, \"domain\": [0.55, 1.0], \"titlefont\": {\"size\": 14}, \"anchor\": \"y6\", \"title\": \"Input minor axis[arcsec]\"}, \"xaxis5\": {\"domain\": [0.0, 0.45], \"title\": \"Input major axis[arcsec]\", \"overlaying\": \"x\", \"titlefont\": {\"size\": 14}, \"zeroline\": false, \"position\": 0.0, \"anchor\": \"y5\"}, \"xaxis4\": {\"zeroline\": false, \"domain\": [0.55, 1.0], \"titlefont\": {\"size\": 14}, \"anchor\": \"y4\", \"title\": \"Input minor axis[arcsec]\"}, \"xaxis3\": {\"domain\": [0.0, 0.45], \"title\": \"Input major axis[arcsec]\", \"overlaying\": \"x\", \"titlefont\": {\"size\": 14}, \"zeroline\": false, \"position\": 0.0, \"anchor\": \"y3\"}, \"xaxis2\": {\"zeroline\": false, \"domain\": [0.55, 1.0], \"titlefont\": {\"size\": 14}, \"anchor\": \"y2\", \"title\": \"Input minor axis[arcsec]\"}, \"xaxis1\": {\"domain\": [0.0, 0.45], \"title\": \"Input major axis[arcsec]\", \"overlaying\": \"x\", \"titlefont\": {\"size\": 14}, \"zeroline\": false, \"position\": 0.0, \"anchor\": \"y1\"}}, {\"linkText\": \"Export to plot.ly\", \"showLink\": true})});</script>"
      ]
     },
     "metadata": {},
     "output_type": "display_data"
    }
   ],
   "source": [
    "data = []\n",
    "im_titles =[]\n",
    "for input_model, output_model in models_compare.items():\n",
    "    header = output_model[:-9]\n",
    "    im_titles.append('<b>%s Source shape</b>'%header.upper())\n",
    "    im_titles.append('<b>%s Source shape</b>'%header.upper())\n",
    "\n",
    "fig = tools.make_subplots(rows=len(models_compare.keys()), cols=2, shared_yaxes=False, print_grid=False,\n",
    "                          horizontal_spacing = 0.1,\n",
    "                          vertical_spacing = 0.15,\n",
    "                          subplot_titles=im_titles)\n",
    "i = -1\n",
    "counter = 0\n",
    "for input_model, output_model in models_compare.items():\n",
    "    i += 1\n",
    "    counter+=1\n",
    "    SCALE = []\n",
    "    SCALE_ERR = []\n",
    "    flux_in_data = []\n",
    "    DELTA_PHASE0 = []\n",
    "    source_labels = []\n",
    "    MAJ_MIN_angle_in = []\n",
    "    MAJ_MIN_angle_out = []\n",
    "    heading = output_model[:-9]\n",
    "    for n in range(len(results[header]['flux'])):\n",
    "        MAJ_MIN_angle_out.append(results[header]['shape'][n][0])\n",
    "        MAJ_MIN_angle_in.append(results[header]['shape'][n][2])\n",
    "        SCALE.append(results[header]['shape'][n][3])\n",
    "        SCALE_ERR.append(results[header]['shape'][n][4])\n",
    "        flux_in_data.append(results[header]['shape'][n][5])\n",
    "        source_labels.append(results[header]['shape'][n][6])\n",
    "        DELTA_PHASE0.append(results[header]['position'][n][3])  \n",
    "    zipped_props = zip(MAJ_MIN_angle_out, MAJ_MIN_angle_in, DELTA_PHASE0, SCALE, SCALE_ERR)\n",
    "    MAJ_MIN_angle_out, MAJ_MIN_angle_in, DELTA_PHASE0, SCALE, SCALE_ERR = zip(\n",
    "        *sorted(zipped_props, key=lambda x: x[0]))\n",
    "    maj_in = [maj_min_angle_in[0] for maj_min_angle_in in MAJ_MIN_angle_in]\n",
    "    maj_out = [maj_min_angle_out[0] for maj_min_angle_out in MAJ_MIN_angle_out]\n",
    "    min_in = [maj_min_angle_in[1] for maj_min_angle_in in MAJ_MIN_angle_in]\n",
    "    min_out = [maj_min_angle_out[1] for maj_min_angle_out in MAJ_MIN_angle_out]\n",
    "    angle_offset = [(maj_min_angle_out[2] - maj_min_angle_in[2]) for maj_min_angle_out, maj_min_angle_in in zip(\n",
    "        MAJ_MIN_angle_out, MAJ_MIN_angle_in)]\n",
    "    fig.append_trace(go.Scatter(x=maj_in, y=maj_out, mode = 'markers', showlegend=False,\n",
    "                                text = name_labels, name = '%s flux_ratio' % header,\n",
    "                                marker = dict(color = flux_in_data, showscale=True, colorscale='Viridis', reversescale=True,\n",
    "                                              colorbar = dict(title= '', titleside ='right',\n",
    "                                                             titlefont=dict(size=16))\n",
    "                                             ) if i == 0 else dict(color = flux_in_data, colorscale='Viridis',\n",
    "                                                                   reversescale=True),\n",
    "                                error_y=dict(type='data',\n",
    "                                             color = 'rgb(158, 63, 221)', visible=True)), i+1, 1)\n",
    "    fig.append_trace(go.Scatter(x=min_in, y=min_out,\n",
    "                                mode = 'markers', showlegend=False,\n",
    "                                text = name_labels, name = '%s flux_ratio' % header,\n",
    "                                marker = dict(color = flux_in_data, showscale=True,\n",
    "                                              colorscale='Viridis', reversescale=True,\n",
    "                                              colorbar = dict(title= 'Distance from phase center', titleside ='right',\n",
    "                                                             titlefont=dict(size=16))\n",
    "                                             ) if i == 0 else dict(color = DELTA_PHASE0, colorscale='Viridis',\n",
    "                                                                   reversescale=True),\n",
    "                                error_y=dict(type='data',\n",
    "                                             color = 'rgb(158, 63, 221)', visible=True)), i+1, 2)\n",
    "    pi,sin,cos = np.pi,np.sin,np.cos\n",
    "    fig['layout'].update(title='', height=900, width=900,\n",
    "                         paper_bgcolor='rgb(255,255,255)', plot_bgcolor='rgb(229,229,229)',\n",
    "                         legend=dict(xanchor=True)\n",
    "                        )\n",
    "    fig['layout'].update(\n",
    "        {'yaxis{}'.format(counter+i):YAxis(title=u'Output major axis[arcsec]',gridcolor='rgb(255,255,255)',\n",
    "                                           color='rgb(0,0,0)',\n",
    "        #range=[1,10],\n",
    "        tickfont=dict(size=10, color='rgb(0,0,0)'),\n",
    "        titlefont=dict(size=14),\n",
    "        showgrid=True,\n",
    "        showline=False,\n",
    "        showticklabels=True,\n",
    "        tickcolor='rgb(51,153,225)',\n",
    "        ticks='outside',\n",
    "        zeroline=False)})\n",
    "    fig['layout'].update(\n",
    "        {'yaxis{}'.format(counter+i+1):YAxis(title='Ouput minor axis[arcsec]',gridcolor='rgb(255,255,255)',\n",
    "                                             color='rgb(0,0,0)',\n",
    "        #range=[1,10],\n",
    "        tickfont=dict(size=10, color='rgb(0,0,0)'),\n",
    "        titlefont=dict(size=14),\n",
    "        showgrid=True,\n",
    "        showline=False,\n",
    "        showticklabels=True,\n",
    "        tickcolor='rgb(51,153,225)',\n",
    "        ticks='outside',\n",
    "        zeroline=False)})\n",
    "    fig['layout'].update({'xaxis{}'.format(counter+i):XAxis(title='Input major axis[arcsec]',\n",
    "                                                            titlefont=dict(size=14),\n",
    "                                                            zeroline=False, position=0.0, overlaying='x',)})\n",
    "    fig['layout'].update({'xaxis{}'.format(counter+i+1):XAxis(title='Input minor axis[arcsec]',\n",
    "                                                              titlefont=dict(size=14),\n",
    "                                                              zeroline=False)})# domain=[0.505, 0.8])}\n",
    "    fig['layout']['annotations'].update({'font':{'size': 12}})\n",
    "py.iplot(fig, filename='make-subplots-multiple-with-titles')"
   ]
  },
  {
   "cell_type": "markdown",
   "metadata": {
    "extensions": {
     "jupyter_dashboards": {
      "version": 1,
      "views": {
       "grid_default": {},
       "report_default": {
        "hidden": false
       }
      }
     }
    }
   },
   "source": [
    "## Dynamic Ranges"
   ]
  },
  {
   "cell_type": "code",
   "execution_count": 33,
   "metadata": {
    "extensions": {
     "jupyter_dashboards": {
      "version": 1,
      "views": {
       "grid_default": {},
       "report_default": {
        "hidden": false
       }
      }
     }
    },
    "scrolled": false
   },
   "outputs": [
    {
     "name": "stdout",
     "output_type": "stream",
     "text": [
      "Loading input/meerkathi-pipeline_4-pybdsm-combined.lsm.html: Tigger sky model\n",
      "Loading input/meerkathi-pipeline_3-pybdsm-combined.lsm.html: Tigger sky model\n",
      "Loading input/meerkathi-pipeline_2-pybdsm.lsm.html: Tigger sky model\n",
      "Loading input/meerkathi-pipeline_1-pybdsm.lsm.html: Tigger sky model\n",
      "Loading input/meerkathi-pipeline_final-pybdsm.lsm.html: Tigger sky model\n"
     ]
    },
    {
     "data": {
      "application/vnd.plotly.v1+json": {
       "data": [
        {
         "mode": "marker",
         "showlegend": false,
         "type": "scatter",
         "x": [
          "meerkathi-pipeline_5",
          "meerkathi-pipeline_4",
          "meerkathi-pipeline_3",
          "meerkathi-pipeline_2"
         ],
         "xaxis": "x1",
         "y": [
          905.6206076812018,
          594.5153202703767,
          305.5324917427372,
          119.14631311757121
         ],
         "yaxis": "y1"
        }
       ],
       "layout": {
        "height": 900,
        "legend": {
         "x": 0.8,
         "y": 1
        },
        "paper_bgcolor": "rgb(255,255,255)",
        "plot_bgcolor": "rgb(229,229,229)",
        "title": "<b>SNR with self-cal iterations</b>",
        "titlefont": {
         "size": 20
        },
        "width": 900,
        "xaxis1": {
         "anchor": "y1",
         "autorange": "reversed",
         "domain": [
          0,
          1
         ],
         "overlaying": "x",
         "position": 0,
         "title": "iterations",
         "titlefont": {
          "size": 17
         }
        },
        "yaxis1": {
         "anchor": "x1",
         "domain": [
          0,
          1
         ],
         "gridcolor": "rgb(255,255,255)",
         "showgrid": true,
         "showline": false,
         "showticklabels": true,
         "tickcolor": "rgb(51,153,225)",
         "tickfont": {
          "size": 15
         },
         "ticks": "outside",
         "title": "SNR",
         "titlefont": {
          "size": 17
         },
         "zeroline": false
        }
       }
      },
      "text/html": [
       "<div id=\"c14d48ef-da17-42ab-a4f0-294913652d6e\" style=\"height: 900px; width: 900px;\" class=\"plotly-graph-div\"></div><script type=\"text/javascript\">require([\"plotly\"], function(Plotly) { window.PLOTLYENV=window.PLOTLYENV || {};window.PLOTLYENV.BASE_URL=\"https://plot.ly\";Plotly.newPlot(\"c14d48ef-da17-42ab-a4f0-294913652d6e\", [{\"showlegend\": false, \"yaxis\": \"y1\", \"mode\": \"marker\", \"xaxis\": \"x1\", \"y\": [905.6206076812018, 594.5153202703767, 305.5324917427372, 119.14631311757121], \"x\": [\"meerkathi-pipeline_5\", \"meerkathi-pipeline_4\", \"meerkathi-pipeline_3\", \"meerkathi-pipeline_2\"], \"type\": \"scatter\"}], {\"title\": \"<b>SNR with self-cal iterations</b>\", \"paper_bgcolor\": \"rgb(255,255,255)\", \"plot_bgcolor\": \"rgb(229,229,229)\", \"xaxis1\": {\"domain\": [0.0, 1.0], \"title\": \"iterations\", \"anchor\": \"y1\", \"overlaying\": \"x\", \"titlefont\": {\"size\": 17}, \"position\": 0.0, \"autorange\": \"reversed\"}, \"height\": 900, \"yaxis1\": {\"tickfont\": {\"size\": 15}, \"domain\": [0.0, 1.0], \"showticklabels\": true, \"title\": \"SNR\", \"ticks\": \"outside\", \"showgrid\": true, \"titlefont\": {\"size\": 17}, \"showline\": false, \"zeroline\": false, \"tickcolor\": \"rgb(51,153,225)\", \"gridcolor\": \"rgb(255,255,255)\", \"anchor\": \"x1\"}, \"width\": 900, \"titlefont\": {\"size\": 20}, \"legend\": {\"y\": 1.0, \"x\": 0.8}}, {\"linkText\": \"Export to plot.ly\", \"showLink\": true})});</script>"
      ],
      "text/vnd.plotly.v1+html": [
       "<div id=\"c14d48ef-da17-42ab-a4f0-294913652d6e\" style=\"height: 900px; width: 900px;\" class=\"plotly-graph-div\"></div><script type=\"text/javascript\">require([\"plotly\"], function(Plotly) { window.PLOTLYENV=window.PLOTLYENV || {};window.PLOTLYENV.BASE_URL=\"https://plot.ly\";Plotly.newPlot(\"c14d48ef-da17-42ab-a4f0-294913652d6e\", [{\"showlegend\": false, \"yaxis\": \"y1\", \"mode\": \"marker\", \"xaxis\": \"x1\", \"y\": [905.6206076812018, 594.5153202703767, 305.5324917427372, 119.14631311757121], \"x\": [\"meerkathi-pipeline_5\", \"meerkathi-pipeline_4\", \"meerkathi-pipeline_3\", \"meerkathi-pipeline_2\"], \"type\": \"scatter\"}], {\"title\": \"<b>SNR with self-cal iterations</b>\", \"paper_bgcolor\": \"rgb(255,255,255)\", \"plot_bgcolor\": \"rgb(229,229,229)\", \"xaxis1\": {\"domain\": [0.0, 1.0], \"title\": \"iterations\", \"anchor\": \"y1\", \"overlaying\": \"x\", \"titlefont\": {\"size\": 17}, \"position\": 0.0, \"autorange\": \"reversed\"}, \"height\": 900, \"yaxis1\": {\"tickfont\": {\"size\": 15}, \"domain\": [0.0, 1.0], \"showticklabels\": true, \"title\": \"SNR\", \"ticks\": \"outside\", \"showgrid\": true, \"titlefont\": {\"size\": 17}, \"showline\": false, \"zeroline\": false, \"tickcolor\": \"rgb(51,153,225)\", \"gridcolor\": \"rgb(255,255,255)\", \"anchor\": \"x1\"}, \"width\": 900, \"titlefont\": {\"size\": 20}, \"legend\": {\"y\": 1.0, \"x\": 0.8}}, {\"linkText\": \"Export to plot.ly\", \"showLink\": true})});</script>"
      ]
     },
     "metadata": {},
     "output_type": "display_data"
    }
   ],
   "source": [
    "DRs = OrderedDict()\n",
    "im_titles = []\n",
    "dir = 'input'\n",
    "#last_image = 'meerkathi-pipeline.fullrest.fits'\n",
    "#DRs[last_image[:20]] = image_dynamic_range('%s/%s' % (dir, last_image))\n",
    "for m, r in dict(sorted(models_dr.items(), key=lambda x: x[1])).items():\n",
    "    DRs[r[:20]] = model_dynamic_range('%s/%s' % (dir, m),'%s/%s' % (dir, r))\n",
    "#first_image = 'meerkathi-pipeline_1-MFS-image.fits'\n",
    "#DRs[first_image[:20]] = image_dynamic_range('%s/%s' % (dir, first_image))\n",
    "    \n",
    "for input_model, dr in DRs.items():\n",
    "    header = input_model[:-9]\n",
    "#    im_titles.append('<b>%s flux density</b>'%header.upper())\n",
    "\n",
    "fig = tools.make_subplots(rows=1, cols=1, shared_yaxes=False, print_grid=False,\n",
    "                          horizontal_spacing = 0.005, vertical_spacing = 0.15)\n",
    "fig.append_trace(go.Scatter(x=DRs.keys(), showlegend=False,\n",
    "                            y=np.array(DRs.values()), mode = 'marker'), 1, 1)\n",
    "fig['layout'].update(title='<b>SNR with self-cal iterations</b>', height=900, width=900,\n",
    "                     paper_bgcolor='rgb(255,255,255)', plot_bgcolor='rgb(229,229,229)',\n",
    "                     legend=dict(x=0.8,y=1.0))\n",
    "fig['layout'].update(\n",
    "    {'yaxis{}'.format(1):YAxis(title=u'SNR',gridcolor='rgb(255,255,255)',\n",
    "        tickfont=dict(size=15),\n",
    "        titlefont=dict(size=17),\n",
    "        showgrid=True,\n",
    "        showline=False,\n",
    "        showticklabels=True,\n",
    "        tickcolor='rgb(51,153,225)',\n",
    "        ticks='outside',\n",
    "        zeroline=False)})\n",
    "fig['layout'].update({'xaxis{}'.format(1):XAxis(title='iterations', position=0.0,\n",
    "                                                        titlefont=dict(size=17),\n",
    "                                                        overlaying='x', autorange='reversed')})\n",
    "fig['layout']['titlefont'].update({'size':20})\n",
    "py.iplot(fig, filename='make-subplots-multiple-with-titles')"
   ]
  },
  {
   "cell_type": "markdown",
   "metadata": {
    "extensions": {
     "jupyter_dashboards": {
      "version": 1,
      "views": {
       "grid_default": {},
       "report_default": {
        "hidden": false
       }
      }
     }
    }
   },
   "source": [
    "## Residual Statistics"
   ]
  },
  {
   "cell_type": "code",
   "execution_count": 25,
   "metadata": {
    "extensions": {
     "jupyter_dashboards": {
      "version": 1,
      "views": {
       "grid_default": {},
       "report_default": {
        "hidden": false
       }
      }
     }
    }
   },
   "outputs": [
    {
     "data": {
      "application/vnd.plotly.v1+json": {
       "data": [
        {
         "mode": "marker",
         "showlegend": false,
         "type": "scatter",
         "x": [
          "meerkathi-pipeline_1-MFS",
          "meerkathi-pipeline_2-MFS",
          "meerkathi-pipeline_3-MFS",
          "meerkathi-pipeline_4-MFS",
          "meerkathi-pipeline_5-MFS"
         ],
         "xaxis": "x1",
         "y": [
          4.115e-07,
          1.4062e-06,
          3.4659e-06,
          1.704e-06,
          1.3695e-06
         ],
         "yaxis": "y1"
        },
        {
         "mode": "marker",
         "showlegend": false,
         "type": "scatter",
         "x": [
          "meerkathi-pipeline_1-MFS",
          "meerkathi-pipeline_2-MFS",
          "meerkathi-pipeline_3-MFS",
          "meerkathi-pipeline_4-MFS",
          "meerkathi-pipeline_5-MFS"
         ],
         "xaxis": "x2",
         "y": [
          0.003192,
          0.003139,
          0.001134,
          0.00082,
          0.000572
         ],
         "yaxis": "y2"
        },
        {
         "mode": "marker",
         "showlegend": false,
         "type": "scatter",
         "x": [
          "meerkathi-pipeline_1-MFS",
          "meerkathi-pipeline_2-MFS",
          "meerkathi-pipeline_3-MFS",
          "meerkathi-pipeline_4-MFS",
          "meerkathi-pipeline_5-MFS"
         ],
         "xaxis": "x3",
         "y": [
          3.086973,
          3.316836,
          0.383026,
          0.149095,
          0.016727
         ],
         "yaxis": "y3"
        },
        {
         "mode": "marker",
         "showlegend": false,
         "type": "scatter",
         "x": [
          "meerkathi-pipeline_1-MFS",
          "meerkathi-pipeline_2-MFS",
          "meerkathi-pipeline_3-MFS",
          "meerkathi-pipeline_4-MFS",
          "meerkathi-pipeline_5-MFS"
         ],
         "xaxis": "x4",
         "y": [
          70.696255,
          79.706737,
          6.067878,
          3.561252,
          2.96209
         ],
         "yaxis": "y4"
        }
       ],
       "layout": {
        "annotations": [
         {
          "font": {
           "size": 16
          },
          "showarrow": false,
          "text": "MEAN",
          "x": 0.5,
          "xanchor": "center",
          "xref": "paper",
          "y": 1,
          "yanchor": "bottom",
          "yref": "paper"
         },
         {
          "font": {
           "size": 16
          },
          "showarrow": false,
          "text": "STANDARD DEVIATION",
          "x": 0.5,
          "xanchor": "center",
          "xref": "paper",
          "y": 0.7124999999999999,
          "yanchor": "bottom",
          "yref": "paper"
         },
         {
          "font": {
           "size": 16
          },
          "showarrow": false,
          "text": "SKEWNESS",
          "x": 0.5,
          "xanchor": "center",
          "xref": "paper",
          "y": 0.425,
          "yanchor": "bottom",
          "yref": "paper"
         },
         {
          "font": {
           "size": 16
          },
          "showarrow": false,
          "text": "KURTOSIS",
          "x": 0.5,
          "xanchor": "center",
          "xref": "paper",
          "y": 0.1375,
          "yanchor": "bottom",
          "yref": "paper"
         }
        ],
        "height": 900,
        "legend": {
         "x": 0.8,
         "y": 1
        },
        "paper_bgcolor": "rgb(255,255,255)",
        "plot_bgcolor": "rgb(229,229,229)",
        "title": "",
        "width": 900,
        "xaxis1": {
         "anchor": "y1",
         "domain": [
          0,
          1
         ],
         "overlaying": "x",
         "position": 0,
         "title": "iterations",
         "titlefont": {
          "size": 17
         }
        },
        "xaxis2": {
         "anchor": "y2",
         "domain": [
          0,
          1
         ],
         "overlaying": "x",
         "position": 0,
         "title": "iterations",
         "titlefont": {
          "size": 17
         }
        },
        "xaxis3": {
         "anchor": "y3",
         "domain": [
          0,
          1
         ],
         "overlaying": "x",
         "position": 0,
         "title": "iterations",
         "titlefont": {
          "size": 17
         }
        },
        "xaxis4": {
         "anchor": "y4",
         "domain": [
          0,
          1
         ],
         "overlaying": "x",
         "position": 0,
         "title": "iterations",
         "titlefont": {
          "size": 17
         }
        },
        "yaxis1": {
         "anchor": "x1",
         "domain": [
          0.8625,
          1
         ],
         "gridcolor": "rgb(255,255,255)",
         "showgrid": true,
         "showline": false,
         "showticklabels": true,
         "tickcolor": "rgb(51,153,225)",
         "tickfont": {
          "size": 15
         },
         "ticks": "outside",
         "title": "Residual mean (Jy)",
         "titlefont": {
          "size": 17
         },
         "zeroline": false
        },
        "yaxis2": {
         "anchor": "x2",
         "domain": [
          0.575,
          0.7124999999999999
         ],
         "gridcolor": "rgb(255,255,255)",
         "showgrid": true,
         "showline": false,
         "showticklabels": true,
         "tickcolor": "rgb(51,153,225)",
         "tickfont": {
          "size": 15
         },
         "ticks": "outside",
         "title": "Residual sigma (Jy)",
         "titlefont": {
          "size": 17
         },
         "zeroline": false
        },
        "yaxis3": {
         "anchor": "x3",
         "domain": [
          0.2875,
          0.425
         ],
         "gridcolor": "rgb(255,255,255)",
         "showgrid": true,
         "showline": false,
         "showticklabels": true,
         "tickcolor": "rgb(51,153,225)",
         "tickfont": {
          "size": 15
         },
         "ticks": "outside",
         "title": "Residual skewness (Jy)",
         "titlefont": {
          "size": 17
         },
         "zeroline": false
        },
        "yaxis4": {
         "anchor": "x4",
         "domain": [
          0,
          0.1375
         ],
         "gridcolor": "rgb(255,255,255)",
         "showgrid": true,
         "showline": false,
         "showticklabels": true,
         "tickcolor": "rgb(51,153,225)",
         "tickfont": {
          "size": 15
         },
         "ticks": "outside",
         "title": "Residual kurtosis",
         "titlefont": {
          "size": 17
         },
         "zeroline": false
        }
       }
      },
      "text/html": [
       "<div id=\"2f8dbeeb-ab72-43e6-bc68-4031cf9a1fac\" style=\"height: 900px; width: 900px;\" class=\"plotly-graph-div\"></div><script type=\"text/javascript\">require([\"plotly\"], function(Plotly) { window.PLOTLYENV=window.PLOTLYENV || {};window.PLOTLYENV.BASE_URL=\"https://plot.ly\";Plotly.newPlot(\"2f8dbeeb-ab72-43e6-bc68-4031cf9a1fac\", [{\"showlegend\": false, \"yaxis\": \"y1\", \"mode\": \"marker\", \"xaxis\": \"x1\", \"y\": [4.115e-07, 1.4062e-06, 3.4659e-06, 1.704e-06, 1.3695e-06], \"x\": [\"meerkathi-pipeline_1-MFS\", \"meerkathi-pipeline_2-MFS\", \"meerkathi-pipeline_3-MFS\", \"meerkathi-pipeline_4-MFS\", \"meerkathi-pipeline_5-MFS\"], \"type\": \"scatter\"}, {\"showlegend\": false, \"yaxis\": \"y2\", \"mode\": \"marker\", \"xaxis\": \"x2\", \"y\": [0.003192, 0.003139, 0.001134, 0.00082, 0.000572], \"x\": [\"meerkathi-pipeline_1-MFS\", \"meerkathi-pipeline_2-MFS\", \"meerkathi-pipeline_3-MFS\", \"meerkathi-pipeline_4-MFS\", \"meerkathi-pipeline_5-MFS\"], \"type\": \"scatter\"}, {\"showlegend\": false, \"yaxis\": \"y3\", \"mode\": \"marker\", \"xaxis\": \"x3\", \"y\": [3.086973, 3.316836, 0.383026, 0.149095, 0.016727], \"x\": [\"meerkathi-pipeline_1-MFS\", \"meerkathi-pipeline_2-MFS\", \"meerkathi-pipeline_3-MFS\", \"meerkathi-pipeline_4-MFS\", \"meerkathi-pipeline_5-MFS\"], \"type\": \"scatter\"}, {\"showlegend\": false, \"yaxis\": \"y4\", \"mode\": \"marker\", \"xaxis\": \"x4\", \"y\": [70.696255, 79.706737, 6.067878, 3.561252, 2.96209], \"x\": [\"meerkathi-pipeline_1-MFS\", \"meerkathi-pipeline_2-MFS\", \"meerkathi-pipeline_3-MFS\", \"meerkathi-pipeline_4-MFS\", \"meerkathi-pipeline_5-MFS\"], \"type\": \"scatter\"}], {\"title\": \"\", \"paper_bgcolor\": \"rgb(255,255,255)\", \"plot_bgcolor\": \"rgb(229,229,229)\", \"xaxis4\": {\"domain\": [0.0, 1.0], \"title\": \"iterations\", \"overlaying\": \"x\", \"titlefont\": {\"size\": 17}, \"position\": 0.0, \"anchor\": \"y4\"}, \"xaxis3\": {\"domain\": [0.0, 1.0], \"title\": \"iterations\", \"overlaying\": \"x\", \"titlefont\": {\"size\": 17}, \"position\": 0.0, \"anchor\": \"y3\"}, \"xaxis2\": {\"domain\": [0.0, 1.0], \"title\": \"iterations\", \"overlaying\": \"x\", \"titlefont\": {\"size\": 17}, \"position\": 0.0, \"anchor\": \"y2\"}, \"xaxis1\": {\"domain\": [0.0, 1.0], \"title\": \"iterations\", \"overlaying\": \"x\", \"titlefont\": {\"size\": 17}, \"position\": 0.0, \"anchor\": \"y1\"}, \"height\": 900, \"yaxis1\": {\"tickfont\": {\"size\": 15}, \"domain\": [0.8625, 1.0], \"showticklabels\": true, \"title\": \"Residual mean (Jy)\", \"ticks\": \"outside\", \"showgrid\": true, \"titlefont\": {\"size\": 17}, \"showline\": false, \"zeroline\": false, \"tickcolor\": \"rgb(51,153,225)\", \"gridcolor\": \"rgb(255,255,255)\", \"anchor\": \"x1\"}, \"yaxis2\": {\"tickfont\": {\"size\": 15}, \"domain\": [0.575, 0.7124999999999999], \"showticklabels\": true, \"title\": \"Residual sigma (Jy)\", \"ticks\": \"outside\", \"showgrid\": true, \"titlefont\": {\"size\": 17}, \"showline\": false, \"zeroline\": false, \"tickcolor\": \"rgb(51,153,225)\", \"gridcolor\": \"rgb(255,255,255)\", \"anchor\": \"x2\"}, \"yaxis3\": {\"tickfont\": {\"size\": 15}, \"domain\": [0.2875, 0.425], \"showticklabels\": true, \"title\": \"Residual skewness (Jy)\", \"ticks\": \"outside\", \"showgrid\": true, \"titlefont\": {\"size\": 17}, \"showline\": false, \"zeroline\": false, \"tickcolor\": \"rgb(51,153,225)\", \"gridcolor\": \"rgb(255,255,255)\", \"anchor\": \"x3\"}, \"yaxis4\": {\"tickfont\": {\"size\": 15}, \"domain\": [0.0, 0.1375], \"showticklabels\": true, \"title\": \"Residual kurtosis\", \"ticks\": \"outside\", \"showgrid\": true, \"titlefont\": {\"size\": 17}, \"showline\": false, \"zeroline\": false, \"tickcolor\": \"rgb(51,153,225)\", \"gridcolor\": \"rgb(255,255,255)\", \"anchor\": \"x4\"}, \"annotations\": [{\"yanchor\": \"bottom\", \"xref\": \"paper\", \"xanchor\": \"center\", \"yref\": \"paper\", \"text\": \"MEAN\", \"y\": 1.0, \"x\": 0.5, \"font\": {\"size\": 16}, \"showarrow\": false}, {\"yanchor\": \"bottom\", \"xref\": \"paper\", \"xanchor\": \"center\", \"yref\": \"paper\", \"text\": \"STANDARD DEVIATION\", \"y\": 0.7124999999999999, \"x\": 0.5, \"font\": {\"size\": 16}, \"showarrow\": false}, {\"yanchor\": \"bottom\", \"xref\": \"paper\", \"xanchor\": \"center\", \"yref\": \"paper\", \"text\": \"SKEWNESS\", \"y\": 0.425, \"x\": 0.5, \"font\": {\"size\": 16}, \"showarrow\": false}, {\"yanchor\": \"bottom\", \"xref\": \"paper\", \"xanchor\": \"center\", \"yref\": \"paper\", \"text\": \"KURTOSIS\", \"y\": 0.1375, \"x\": 0.5, \"font\": {\"size\": 16}, \"showarrow\": false}], \"width\": 900, \"legend\": {\"y\": 1.0, \"x\": 0.8}}, {\"linkText\": \"Export to plot.ly\", \"showLink\": true})});</script>"
      ],
      "text/vnd.plotly.v1+html": [
       "<div id=\"2f8dbeeb-ab72-43e6-bc68-4031cf9a1fac\" style=\"height: 900px; width: 900px;\" class=\"plotly-graph-div\"></div><script type=\"text/javascript\">require([\"plotly\"], function(Plotly) { window.PLOTLYENV=window.PLOTLYENV || {};window.PLOTLYENV.BASE_URL=\"https://plot.ly\";Plotly.newPlot(\"2f8dbeeb-ab72-43e6-bc68-4031cf9a1fac\", [{\"showlegend\": false, \"yaxis\": \"y1\", \"mode\": \"marker\", \"xaxis\": \"x1\", \"y\": [4.115e-07, 1.4062e-06, 3.4659e-06, 1.704e-06, 1.3695e-06], \"x\": [\"meerkathi-pipeline_1-MFS\", \"meerkathi-pipeline_2-MFS\", \"meerkathi-pipeline_3-MFS\", \"meerkathi-pipeline_4-MFS\", \"meerkathi-pipeline_5-MFS\"], \"type\": \"scatter\"}, {\"showlegend\": false, \"yaxis\": \"y2\", \"mode\": \"marker\", \"xaxis\": \"x2\", \"y\": [0.003192, 0.003139, 0.001134, 0.00082, 0.000572], \"x\": [\"meerkathi-pipeline_1-MFS\", \"meerkathi-pipeline_2-MFS\", \"meerkathi-pipeline_3-MFS\", \"meerkathi-pipeline_4-MFS\", \"meerkathi-pipeline_5-MFS\"], \"type\": \"scatter\"}, {\"showlegend\": false, \"yaxis\": \"y3\", \"mode\": \"marker\", \"xaxis\": \"x3\", \"y\": [3.086973, 3.316836, 0.383026, 0.149095, 0.016727], \"x\": [\"meerkathi-pipeline_1-MFS\", \"meerkathi-pipeline_2-MFS\", \"meerkathi-pipeline_3-MFS\", \"meerkathi-pipeline_4-MFS\", \"meerkathi-pipeline_5-MFS\"], \"type\": \"scatter\"}, {\"showlegend\": false, \"yaxis\": \"y4\", \"mode\": \"marker\", \"xaxis\": \"x4\", \"y\": [70.696255, 79.706737, 6.067878, 3.561252, 2.96209], \"x\": [\"meerkathi-pipeline_1-MFS\", \"meerkathi-pipeline_2-MFS\", \"meerkathi-pipeline_3-MFS\", \"meerkathi-pipeline_4-MFS\", \"meerkathi-pipeline_5-MFS\"], \"type\": \"scatter\"}], {\"title\": \"\", \"paper_bgcolor\": \"rgb(255,255,255)\", \"plot_bgcolor\": \"rgb(229,229,229)\", \"xaxis4\": {\"domain\": [0.0, 1.0], \"title\": \"iterations\", \"overlaying\": \"x\", \"titlefont\": {\"size\": 17}, \"position\": 0.0, \"anchor\": \"y4\"}, \"xaxis3\": {\"domain\": [0.0, 1.0], \"title\": \"iterations\", \"overlaying\": \"x\", \"titlefont\": {\"size\": 17}, \"position\": 0.0, \"anchor\": \"y3\"}, \"xaxis2\": {\"domain\": [0.0, 1.0], \"title\": \"iterations\", \"overlaying\": \"x\", \"titlefont\": {\"size\": 17}, \"position\": 0.0, \"anchor\": \"y2\"}, \"xaxis1\": {\"domain\": [0.0, 1.0], \"title\": \"iterations\", \"overlaying\": \"x\", \"titlefont\": {\"size\": 17}, \"position\": 0.0, \"anchor\": \"y1\"}, \"height\": 900, \"yaxis1\": {\"tickfont\": {\"size\": 15}, \"domain\": [0.8625, 1.0], \"showticklabels\": true, \"title\": \"Residual mean (Jy)\", \"ticks\": \"outside\", \"showgrid\": true, \"titlefont\": {\"size\": 17}, \"showline\": false, \"zeroline\": false, \"tickcolor\": \"rgb(51,153,225)\", \"gridcolor\": \"rgb(255,255,255)\", \"anchor\": \"x1\"}, \"yaxis2\": {\"tickfont\": {\"size\": 15}, \"domain\": [0.575, 0.7124999999999999], \"showticklabels\": true, \"title\": \"Residual sigma (Jy)\", \"ticks\": \"outside\", \"showgrid\": true, \"titlefont\": {\"size\": 17}, \"showline\": false, \"zeroline\": false, \"tickcolor\": \"rgb(51,153,225)\", \"gridcolor\": \"rgb(255,255,255)\", \"anchor\": \"x2\"}, \"yaxis3\": {\"tickfont\": {\"size\": 15}, \"domain\": [0.2875, 0.425], \"showticklabels\": true, \"title\": \"Residual skewness (Jy)\", \"ticks\": \"outside\", \"showgrid\": true, \"titlefont\": {\"size\": 17}, \"showline\": false, \"zeroline\": false, \"tickcolor\": \"rgb(51,153,225)\", \"gridcolor\": \"rgb(255,255,255)\", \"anchor\": \"x3\"}, \"yaxis4\": {\"tickfont\": {\"size\": 15}, \"domain\": [0.0, 0.1375], \"showticklabels\": true, \"title\": \"Residual kurtosis\", \"ticks\": \"outside\", \"showgrid\": true, \"titlefont\": {\"size\": 17}, \"showline\": false, \"zeroline\": false, \"tickcolor\": \"rgb(51,153,225)\", \"gridcolor\": \"rgb(255,255,255)\", \"anchor\": \"x4\"}, \"annotations\": [{\"yanchor\": \"bottom\", \"xref\": \"paper\", \"xanchor\": \"center\", \"yref\": \"paper\", \"text\": \"MEAN\", \"y\": 1.0, \"x\": 0.5, \"font\": {\"size\": 16}, \"showarrow\": false}, {\"yanchor\": \"bottom\", \"xref\": \"paper\", \"xanchor\": \"center\", \"yref\": \"paper\", \"text\": \"STANDARD DEVIATION\", \"y\": 0.7124999999999999, \"x\": 0.5, \"font\": {\"size\": 16}, \"showarrow\": false}, {\"yanchor\": \"bottom\", \"xref\": \"paper\", \"xanchor\": \"center\", \"yref\": \"paper\", \"text\": \"SKEWNESS\", \"y\": 0.425, \"x\": 0.5, \"font\": {\"size\": 16}, \"showarrow\": false}, {\"yanchor\": \"bottom\", \"xref\": \"paper\", \"xanchor\": \"center\", \"yref\": \"paper\", \"text\": \"KURTOSIS\", \"y\": 0.1375, \"x\": 0.5, \"font\": {\"size\": 16}, \"showarrow\": false}], \"width\": 900, \"legend\": {\"y\": 1.0, \"x\": 0.8}}, {\"linkText\": \"Export to plot.ly\", \"showLink\": true})});</script>"
      ]
     },
     "metadata": {},
     "output_type": "display_data"
    }
   ],
   "source": [
    "Res = OrderedDict()\n",
    "for res in residuals1:\n",
    "    Res[res] = residual_image_stats('input/%s' % res)\n",
    "\n",
    "im_titles = [\n",
    "               'MEAN',\n",
    "               'STANDARD DEVIATION',\n",
    "               'SKEWNESS',\n",
    "               'KURTOSIS'\n",
    "               \n",
    "           ]\n",
    "    \n",
    "fig = tools.make_subplots(rows=4, cols=1, shared_yaxes=False, print_grid=False,\n",
    "                          horizontal_spacing = 0.005, vertical_spacing = 0.15,\n",
    "                          subplot_titles=im_titles)\n",
    "    \n",
    "names = []\n",
    "mean = []\n",
    "std = []\n",
    "skew = []\n",
    "kurt = []\n",
    "for name, stats in Res.items():\n",
    "    names.append(name[:-14])\n",
    "    mean.append(stats['MEAN'])\n",
    "    std.append(stats['STDDev'])\n",
    "    skew.append(stats['SKEW'])\n",
    "    kurt.append(stats['KURT'])\n",
    "zipped_props = zip(names, mean, std)\n",
    "names, mean, std = zip(*sorted(zipped_props, key=lambda x: x[0]))\n",
    "    \n",
    "fig.append_trace(go.Scatter(x=names, showlegend=False,\n",
    "                            y=np.array(mean), mode = 'marker'), 1, 1)\n",
    "fig['layout'].update(title='', height=900, width=900,\n",
    "                     paper_bgcolor='rgb(255,255,255)', plot_bgcolor='rgb(229,229,229)',\n",
    "                         legend=dict(x=0.8,y=1.0),)\n",
    "fig['layout'].update(\n",
    "    {'yaxis{}'.format(1):YAxis(title=u'Residual mean (Jy)',gridcolor='rgb(255,255,255)',\n",
    "            tickfont=dict(size=15),\n",
    "            titlefont=dict(size=17),\n",
    "            showgrid=True,\n",
    "            showline=False,\n",
    "            showticklabels=True,\n",
    "            tickcolor='rgb(51,153,225)',\n",
    "            ticks='outside',\n",
    "            zeroline=False)})\n",
    "fig['layout'].update({'xaxis{}'.format(1):XAxis(title='iterations', position=0.0,\n",
    "                                                titlefont=dict(size=17),\n",
    "                                                overlaying='x')})\n",
    "fig.append_trace(go.Scatter(x=names, showlegend=False,\n",
    "                            y=np.array(std), mode = 'marker'), 2, 1)\n",
    "fig['layout'].update(\n",
    "    {'yaxis{}'.format(2):YAxis(title=u'Residual sigma (Jy)',gridcolor='rgb(255,255,255)',\n",
    "            tickfont=dict(size=15),\n",
    "            titlefont=dict(size=17),\n",
    "            showgrid=True,\n",
    "            showline=False,\n",
    "            showticklabels=True,\n",
    "            tickcolor='rgb(51,153,225)',\n",
    "            ticks='outside',\n",
    "            zeroline=False)})\n",
    "fig['layout'].update({'xaxis{}'.format(2):XAxis(title='iterations', position=0.0,\n",
    "                                                titlefont=dict(size=17),\n",
    "                                                overlaying='x')})\n",
    "fig.append_trace(go.Scatter(x=names, showlegend=False,\n",
    "                            y=np.array(skew), mode = 'marker'), 3, 1)\n",
    "fig['layout'].update(\n",
    "    {'yaxis{}'.format(3):YAxis(title=u'Residual skewness (Jy)',gridcolor='rgb(255,255,255)',\n",
    "            tickfont=dict(size=15),\n",
    "            titlefont=dict(size=17),\n",
    "            showgrid=True,\n",
    "            showline=False,\n",
    "            showticklabels=True,\n",
    "            tickcolor='rgb(51,153,225)',\n",
    "            ticks='outside',\n",
    "            zeroline=False)})\n",
    "fig['layout'].update({'xaxis{}'.format(3):XAxis(title='iterations', position=0.0,\n",
    "                                                titlefont=dict(size=17),\n",
    "                                                overlaying='x')})\n",
    "fig.append_trace(go.Scatter(x=names, showlegend=False,\n",
    "                            y=np.array(kurt), mode = 'marker'), 4, 1)\n",
    "fig['layout'].update(\n",
    "    {'yaxis{}'.format(4):YAxis(title=u'Residual kurtosis',gridcolor='rgb(255,255,255)',\n",
    "            tickfont=dict(size=15),\n",
    "            titlefont=dict(size=17),\n",
    "            showgrid=True,\n",
    "            showline=False,\n",
    "            showticklabels=True,\n",
    "            tickcolor='rgb(51,153,225)',\n",
    "            ticks='outside',\n",
    "            zeroline=False)})\n",
    "fig['layout'].update({'xaxis{}'.format(4):XAxis(title='iterations', position=0.0,\n",
    "                                                titlefont=dict(size=17),\n",
    "                                                overlaying='x')})\n",
    "py.iplot(fig, filename='make-subplots-multiple-with-titles')"
   ]
  },
  {
   "cell_type": "markdown",
   "metadata": {
    "extensions": {
     "jupyter_dashboards": {
      "version": 1,
      "views": {
       "grid_default": {},
       "report_default": {
        "hidden": false
       }
      }
     }
    }
   },
   "source": [
    "## Source meta-data"
   ]
  },
  {
   "cell_type": "code",
   "execution_count": 26,
   "metadata": {
    "extensions": {
     "jupyter_dashboards": {
      "version": 1,
      "views": {
       "grid_default": {},
       "report_default": {
        "hidden": false
       }
      }
     }
    }
   },
   "outputs": [
    {
     "data": {
      "application/vnd.jupyter.widget-view+json": {
       "model_id": "cea04bdc67614415b9bcc7d2b31e2e70",
       "version_major": 2,
       "version_minor": 0
      },
      "text/html": [
       "<p>Failed to display Jupyter Widget of type <code>Text</code>.</p>\n",
       "<p>\n",
       "  If you're reading this message in the Jupyter Notebook or JupyterLab Notebook, it may mean\n",
       "  that the widgets JavaScript is still loading. If this message persists, it\n",
       "  likely means that the widgets JavaScript library is either not installed or\n",
       "  not enabled. See the <a href=\"https://ipywidgets.readthedocs.io/en/stable/user_install.html\">Jupyter\n",
       "  Widgets Documentation</a> for setup instructions.\n",
       "</p>\n",
       "<p>\n",
       "  If you're reading this message in another frontend (for example, a static\n",
       "  rendering on GitHub or <a href=\"https://nbviewer.jupyter.org/\">NBViewer</a>),\n",
       "  it may mean that your frontend doesn't currently support widgets.\n",
       "</p>\n"
      ],
      "text/plain": [
       "Text(value=u'', description=u'Source Name:', placeholder=u'ay040')"
      ]
     },
     "metadata": {},
     "output_type": "display_data"
    }
   ],
   "source": [
    "src_nm = widgets.Text(\n",
    "    value='',\n",
    "    placeholder='ay040',\n",
    "    description='Source Name:',\n",
    "    disabled=False\n",
    ")\n",
    "display(src_nm)"
   ]
  },
  {
   "cell_type": "code",
   "execution_count": 27,
   "metadata": {
    "extensions": {
     "jupyter_dashboards": {
      "version": 1,
      "views": {
       "grid_default": {},
       "report_default": {
        "hidden": false
       }
      }
     }
    }
   },
   "outputs": [
    {
     "data": {
      "application/vnd.jupyter.widget-view+json": {
       "model_id": "52d807aa76a14df38418af761b4f880d",
       "version_major": 2,
       "version_minor": 0
      },
      "text/html": [
       "<p>Failed to display Jupyter Widget of type <code>Button</code>.</p>\n",
       "<p>\n",
       "  If you're reading this message in the Jupyter Notebook or JupyterLab Notebook, it may mean\n",
       "  that the widgets JavaScript is still loading. If this message persists, it\n",
       "  likely means that the widgets JavaScript library is either not installed or\n",
       "  not enabled. See the <a href=\"https://ipywidgets.readthedocs.io/en/stable/user_install.html\">Jupyter\n",
       "  Widgets Documentation</a> for setup instructions.\n",
       "</p>\n",
       "<p>\n",
       "  If you're reading this message in another frontend (for example, a static\n",
       "  rendering on GitHub or <a href=\"https://nbviewer.jupyter.org/\">NBViewer</a>),\n",
       "  it may mean that your frontend doesn't currently support widgets.\n",
       "</p>\n"
      ],
      "text/plain": [
       "Button(description=u'Search', style=ButtonStyle())"
      ]
     },
     "metadata": {},
     "output_type": "display_data"
    }
   ],
   "source": [
    "def run_all(ev):\n",
    "    # Runn all cells\n",
    "    #display(Javascript('IPython.notebook.execute_cells_below()'))\n",
    "    display(Javascript('IPython.notebook.execute_cell_range(IPython.notebook.get_selected_index()+1,'\n",
    "                       'IPython.notebook.get_selected_index()+2)'))\n",
    "\n",
    "button = widgets.Button(description=\"Search\")\n",
    "button.on_click(run_all)\n",
    "display(button)"
   ]
  },
  {
   "cell_type": "code",
   "execution_count": 28,
   "metadata": {
    "extensions": {
     "jupyter_dashboards": {
      "version": 1,
      "views": {
       "grid_default": {},
       "report_default": {
        "hidden": false
       }
      }
     }
    }
   },
   "outputs": [],
   "source": [
    "src_target = src_nm.value\n",
    "for k,v in sorted(results.items()):\n",
    "    for i, src in enumerate(results[k]['flux']):\n",
    "        #import IPython; IPython.embed()\n",
    "        if src_target == src[-1]:\n",
    "            #pos_in = results[k]['position'][i][1]\n",
    "            #pos_out = results[k]['position'][i][2]\n",
    "            #print k\n",
    "            print ('============')\n",
    "            print (\"Source info:\\nname = %s\"\n",
    "                   \"\\nIn_flux = %s Jy\\nOut_flux = %s Jy\"\n",
    "                   \"\\nOut_flux_err = %s Jy\"\n",
    "                   \"\\nModel_file = %s\"\n",
    "                   % (src[3], round(src[2], 6), round(src[0], 6), round(src[1], 6), k))\n",
    "            print ('============')\n",
    "            #print (\"Source info:\\nname = %s\\nIn_RA = %s deg\\nIn_DEC = %s deg\"\n",
    "            #       \"\\nOut_RA = %s deg\\nOut_DEC = %s deg\"\n",
    "            #       \"\\nIn_flux = %s Jy\\nOut_flux = %s Jy\\nIn_Out_flux_ratio = %s\"\n",
    "            #       \"\\nSNR = %s\"\n",
    "            #       \"\\nOut_flux_err = %s Jy\\nI_peak = %s Jy\\nI_peak_err = %s Jy\"\n",
    "            #       \"\\nRestored_image = %s \\nMSdir = %s\"\n",
    "            #       % (src[-4], pos_in[0], pos_in[1], pos_out[0], pos_out[1],\n",
    "            #       round(src[2], 6), round(src[0], 6), round(src[-3], 6), round(src[4], 6),\n",
    "            #       round(src[1], 6), round(src[-2], 6), round(src[-1], 6),\n",
    "            #       results[k]['restored_image'], results[k]['msfile']))\n",
    "            print '\\n'"
   ]
  }
 ],
 "metadata": {
  "celltoolbar": "Slideshow",
  "extensions": {
   "jupyter_dashboards": {
    "activeView": "report_default",
    "version": 1,
    "views": {
     "grid_default": {
      "name": "grid",
      "type": "grid"
     },
     "report_default": {
      "name": "report",
      "type": "report"
     }
    }
   }
  },
  "kernelspec": {
   "display_name": "drastic",
   "language": "python",
   "name": "drastic"
  },
  "language_info": {
   "codemirror_mode": {
    "name": "ipython",
    "version": 2
   },
   "file_extension": ".py",
   "mimetype": "text/x-python",
   "name": "python",
   "nbconvert_exporter": "python",
   "pygments_lexer": "ipython2",
   "version": "2.7.6"
  }
 },
 "nbformat": 4,
 "nbformat_minor": 2
}
